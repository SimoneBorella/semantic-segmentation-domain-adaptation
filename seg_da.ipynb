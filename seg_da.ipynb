{
  "cells": [
    {
      "cell_type": "markdown",
      "id": "0K9H8Nk-N_Tf",
      "metadata": {
        "id": "0K9H8Nk-N_Tf"
      },
      "source": [
        "# Real-time Domain Adaptation in Semantic Segmentation"
      ]
    },
    {
      "cell_type": "markdown",
      "id": "f722511a",
      "metadata": {
        "id": "f722511a"
      },
      "source": [
        "## Mount drive"
      ]
    },
    {
      "cell_type": "code",
      "execution_count": null,
      "id": "vVcmrIe_TGGA",
      "metadata": {
        "colab": {
          "base_uri": "https://localhost:8080/"
        },
        "id": "vVcmrIe_TGGA",
        "outputId": "7a103f2a-7c7f-4931-f329-1a099058bbe9"
      },
      "outputs": [],
      "source": [
        "from google.colab import drive\n",
        "drive.mount('/content/drive')"
      ]
    },
    {
      "cell_type": "markdown",
      "id": "be24ecf1",
      "metadata": {
        "id": "be24ecf1"
      },
      "source": [
        "## Import code"
      ]
    },
    {
      "cell_type": "code",
      "execution_count": null,
      "id": "GrQxrFD9QBIi",
      "metadata": {
        "colab": {
          "base_uri": "https://localhost:8080/"
        },
        "id": "GrQxrFD9QBIi",
        "outputId": "4a63ba1e-c04c-40e7-a513-48cd7416426a"
      },
      "outputs": [],
      "source": [
        "!git clone https://github.com/SimoneBorella/semantic-segmentation-domain-adaptation.git\n",
        "\n",
        "!cp -r ./semantic-segmentation-domain-adaptation/datasets .\n",
        "!cp -r ./semantic-segmentation-domain-adaptation/models .\n",
        "!cp -r ./semantic-segmentation-domain-adaptation/criteria .\n",
        "!cp -r ./semantic-segmentation-domain-adaptation/utils .\n",
        "!cp ./semantic-segmentation-domain-adaptation/get_dataset.bash .\n",
        "!cp ./semantic-segmentation-domain-adaptation/get_weights_pretrained.bash .\n",
        "!cp ./semantic-segmentation-domain-adaptation/main.py .\n",
        "\n",
        "!rm -r ./semantic-segmentation-domain-adaptation\n",
        "!rm -r sample_data"
      ]
    },
    {
      "cell_type": "markdown",
      "id": "d0e497ec",
      "metadata": {
        "id": "d0e497ec"
      },
      "source": [
        "## Packages installation"
      ]
    },
    {
      "cell_type": "code",
      "execution_count": null,
      "id": "5q3A_omGNpCf",
      "metadata": {
        "colab": {
          "base_uri": "https://localhost:8080/"
        },
        "id": "5q3A_omGNpCf",
        "outputId": "04a46f78-9be8-49e0-db41-8f3dcf33d069"
      },
      "outputs": [],
      "source": [
        "!pip3 install torch torchvision torchaudio gdown fvcore"
      ]
    },
    {
      "cell_type": "markdown",
      "id": "0302d761",
      "metadata": {
        "id": "0302d761"
      },
      "source": [
        "## Download LoveDA dataset"
      ]
    },
    {
      "cell_type": "code",
      "execution_count": null,
      "id": "5a2f0959",
      "metadata": {
        "colab": {
          "base_uri": "https://localhost:8080/"
        },
        "id": "5a2f0959",
        "outputId": "cbcaf67f-58dc-47e1-ac2c-6e0f26398534"
      },
      "outputs": [],
      "source": [
        "!bash get_dataset.bash"
      ]
    },
    {
      "cell_type": "markdown",
      "id": "b39ac3ab",
      "metadata": {
        "id": "b39ac3ab"
      },
      "source": [
        "# Download weights pretrained"
      ]
    },
    {
      "cell_type": "code",
      "execution_count": null,
      "id": "ba683512",
      "metadata": {
        "colab": {
          "base_uri": "https://localhost:8080/"
        },
        "id": "ba683512",
        "outputId": "fe51ad08-8185-4f2f-fd57-6b66e0ab7f5b"
      },
      "outputs": [],
      "source": [
        "!bash get_weights_pretrained.bash"
      ]
    },
    {
      "cell_type": "markdown",
      "id": "065eb67f",
      "metadata": {
        "id": "065eb67f"
      },
      "source": [
        "## DeepLabV2_ResNet101"
      ]
    },
    {
      "cell_type": "code",
      "execution_count": null,
      "id": "38b64585",
      "metadata": {
        "id": "38b64585"
      },
      "outputs": [],
      "source": [
        "# DeepLabV2_ResNet101_0\n",
        "\n",
        "# Train\n",
        "# !python3 main.py \\\n",
        "#     --train \\\n",
        "#     --model_name DeepLabV2_ResNet101 \\\n",
        "#     --version 0 \\\n",
        "#     --source_domain Rural \\\n",
        "#     --batch_size 6 \\\n",
        "#     --criterion CrossEntropyLoss \\\n",
        "#     --optimizer SGD \\\n",
        "#     --scheduler PolynomialLR \\\n",
        "#     --epochs 20 \\\n",
        "#     --store drive\n",
        "\n",
        "# Test\n",
        "# !python3 main.py \\\n",
        "#     --test \\\n",
        "#     --model_name DeepLabV2_ResNet101 \\\n",
        "#     --version 0 \\\n",
        "#     --model_file last_0.pt \\\n",
        "#     --target_domain Rural \\\n",
        "#     --batch_size 6 \\\n",
        "#     --store drive\n",
        "\n",
        "# !python3 main.py \\\n",
        "#     --test \\\n",
        "#     --model_name DeepLabV2_ResNet101 \\\n",
        "#     --version 0 \\\n",
        "#     --model_file best_0.pt \\\n",
        "#     --target_domain Rural \\\n",
        "#     --batch_size 6 \\\n",
        "#     --store drive\n",
        "\n",
        "# !python3 main.py \\\n",
        "#     --test \\\n",
        "#     --model_name DeepLabV2_ResNet101 \\\n",
        "#     --version 0 \\\n",
        "#     --model_file last_0.pt \\\n",
        "#     --target_domain Urban \\\n",
        "#     --batch_size 6 \\\n",
        "#     --store drive\n",
        "\n",
        "# !python3 main.py \\\n",
        "#     --test \\\n",
        "#     --model_name DeepLabV2_ResNet101 \\\n",
        "#     --version 0 \\\n",
        "#     --model_file best_0.pt \\\n",
        "#     --target_domain Urban \\\n",
        "#     --batch_size 6 \\\n",
        "#     --store drive"
      ]
    },
    {
      "cell_type": "markdown",
      "id": "u1oHe3-oPUWw",
      "metadata": {
        "id": "u1oHe3-oPUWw"
      },
      "source": [
        "## PIDNet"
      ]
    },
    {
      "cell_type": "code",
      "execution_count": null,
      "id": "1781uEUIQsIL",
      "metadata": {
        "id": "1781uEUIQsIL"
      },
      "outputs": [],
      "source": [
        "# PIDNet_S_0\n",
        "\n",
        "# Train\n",
        "# !python3 main.py \\\n",
        "#     --train \\\n",
        "#     --model_name PIDNet_S \\\n",
        "#     --version 0 \\\n",
        "#     --source_domain Rural \\\n",
        "#     --batch_size 6 \\\n",
        "#     --criterion CrossEntropyLoss \\\n",
        "#     --optimizer SGD \\\n",
        "#     --scheduler PolynomialLR \\\n",
        "#     --epochs 20 \\\n",
        "#     --store drive\n",
        "\n",
        "# Test\n",
        "# !python3 main.py \\\n",
        "#     --test \\\n",
        "#     --model_name PIDNet_S \\\n",
        "#     --version 0 \\\n",
        "#     --model_file last_0.pt \\\n",
        "#     --target_domain Urban \\\n",
        "#     --batch_size 6 \\\n",
        "#     --store drive\n",
        "\n",
        "# !python3 main.py \\\n",
        "#     --test \\\n",
        "#     --model_name PIDNet_S \\\n",
        "#     --version 0 \\\n",
        "#     --model_file best_0.pt \\\n",
        "#     --target_domain Urban \\\n",
        "#     --batch_size 6 \\\n",
        "#     --store drive\n",
        "\n",
        "# !python3 main.py \\\n",
        "#     --test \\\n",
        "#     --model_name PIDNet_S \\\n",
        "#     --version 0 \\\n",
        "#     --model_file last_0.pt \\\n",
        "#     --target_domain Rural \\\n",
        "#     --batch_size 6 \\\n",
        "#     --store drive\n",
        "\n",
        "# !python3 main.py \\\n",
        "#     --test \\\n",
        "#     --model_name PIDNet_S \\\n",
        "#     --version 0 \\\n",
        "#     --model_file best_0.pt \\\n",
        "#     --target_domain Rural \\\n",
        "#     --batch_size 6 \\\n",
        "#     --store drive"
      ]
    },
    {
      "cell_type": "code",
      "execution_count": null,
      "id": "38A8C3CsQZth",
      "metadata": {
        "id": "38A8C3CsQZth"
      },
      "outputs": [],
      "source": [
        "# PIDNet_S_1\n",
        "\n",
        "# Train\n",
        "# !python3 main.py \\\n",
        "#     --train \\\n",
        "#     --model_name PIDNet_S \\\n",
        "#     --version 1 \\\n",
        "#     --source_domain Urban \\\n",
        "#     --batch_size 6 \\\n",
        "#     --criterion CrossEntropyLoss \\\n",
        "#     --optimizer SGD \\\n",
        "#     --scheduler PolynomialLR \\\n",
        "#     --epochs 20 \\\n",
        "#     --store drive\n",
        "\n",
        "# Test\n",
        "# !python3 main.py \\\n",
        "#     --test \\\n",
        "#     --model_name PIDNet_S \\\n",
        "#     --version 1 \\\n",
        "#     --model_file last_0.pt \\\n",
        "#     --target_domain Urban \\\n",
        "#     --batch_size 6 \\\n",
        "#     --store drive\n",
        "\n",
        "# !python3 main.py \\\n",
        "#     --test \\\n",
        "#     --model_name PIDNet_S \\\n",
        "#     --version 1 \\\n",
        "#     --model_file best_0.pt \\\n",
        "#     --target_domain Urban \\\n",
        "#     --batch_size 6 \\\n",
        "#     --store drive\n",
        "\n",
        "# !python3 main.py \\\n",
        "#     --test \\\n",
        "#     --model_name PIDNet_S \\\n",
        "#     --version 1 \\\n",
        "#     --model_file last_0.pt \\\n",
        "#     --target_domain Rural \\\n",
        "#     --batch_size 6 \\\n",
        "#     --store drive\n",
        "\n",
        "# !python3 main.py \\\n",
        "#     --test \\\n",
        "#     --model_name PIDNet_S \\\n",
        "#     --version 1 \\\n",
        "#     --model_file best_0.pt \\\n",
        "#     --target_domain Rural \\\n",
        "#     --batch_size 6 \\\n",
        "#     --store drive"
      ]
    },
    {
      "cell_type": "code",
      "execution_count": null,
      "id": "3ff93b1b",
      "metadata": {
        "id": "3ff93b1b"
      },
      "outputs": [],
      "source": [
        "# PIDNet_S_2\n",
        "\n",
        "# Train\n",
        "# !python3 main.py \\\n",
        "#     --train \\\n",
        "#     --model_name PIDNet_S \\\n",
        "#     --version 2 \\\n",
        "#     --source_domain Urban \\\n",
        "#     --horizontal_flip_augmentation \\\n",
        "#     --shift_scale_rotate_augmentation \\\n",
        "#     --batch_size 6 \\\n",
        "#     --criterion CrossEntropyLoss \\\n",
        "#     --optimizer SGD \\\n",
        "#     --scheduler PolynomialLR \\\n",
        "#     --epochs 30 \\\n",
        "#     --store drive\n",
        "\n",
        "# Test\n",
        "# !python3 main.py \\\n",
        "#     --test \\\n",
        "#     --model_name PIDNet_S \\\n",
        "#     --version 2 \\\n",
        "#     --model_file last_0.pt \\\n",
        "#     --target_domain Urban \\\n",
        "#     --batch_size 6 \\\n",
        "#     --store drive\n",
        "\n",
        "# !python3 main.py \\\n",
        "#     --test \\\n",
        "#     --model_name PIDNet_S \\\n",
        "#     --version 2 \\\n",
        "#     --model_file best_0.pt \\\n",
        "#     --target_domain Urban \\\n",
        "#     --batch_size 6 \\\n",
        "#     --store drive\n",
        "\n",
        "# !python3 main.py \\\n",
        "#     --test \\\n",
        "#     --model_name PIDNet_S \\\n",
        "#     --version 2 \\\n",
        "#     --model_file last_0.pt \\\n",
        "#     --target_domain Rural \\\n",
        "#     --batch_size 6 \\\n",
        "#     --store drive\n",
        "\n",
        "# !python3 main.py \\\n",
        "#     --test \\\n",
        "#     --model_name PIDNet_S \\\n",
        "#     --version 2 \\\n",
        "#     --model_file best_0.pt \\\n",
        "#     --target_domain Rural \\\n",
        "#     --batch_size 6 \\\n",
        "#     --store drive"
      ]
    },
    {
      "cell_type": "code",
      "execution_count": null,
      "id": "ab0637c4",
      "metadata": {
        "id": "ab0637c4"
      },
      "outputs": [],
      "source": [
        "# PIDNet_S_3\n",
        "\n",
        "# Train\n",
        "# !python3 main.py \\\n",
        "#     --train \\\n",
        "#     --model_name PIDNet_S \\\n",
        "#     --version 3 \\\n",
        "#     --source_domain Urban \\\n",
        "#     --brightness_contrast_augmentation \\\n",
        "#     --coarse_dropout_augmentation \\\n",
        "#     --batch_size 6 \\\n",
        "#     --criterion CrossEntropyLoss \\\n",
        "#     --optimizer SGD \\\n",
        "#     --scheduler PolynomialLR \\\n",
        "#     --epochs 30 \\\n",
        "#     --store drive\n",
        "\n",
        "# Test\n",
        "# !python3 main.py \\\n",
        "#     --test \\\n",
        "#     --model_name PIDNet_S \\\n",
        "#     --version 3 \\\n",
        "#     --model_file last_0.pt \\\n",
        "#     --target_domain Urban \\\n",
        "#     --batch_size 6 \\\n",
        "#     --store drive\n",
        "\n",
        "# !python3 main.py \\\n",
        "#     --test \\\n",
        "#     --model_name PIDNet_S \\\n",
        "#     --version 3 \\\n",
        "#     --model_file best_0.pt \\\n",
        "#     --target_domain Urban \\\n",
        "#     --batch_size 6 \\\n",
        "#     --store drive\n",
        "\n",
        "# !python3 main.py \\\n",
        "#     --test \\\n",
        "#     --model_name PIDNet_S \\\n",
        "#     --version 3 \\\n",
        "#     --model_file last_0.pt \\\n",
        "#     --target_domain Rural \\\n",
        "#     --batch_size 6 \\\n",
        "#     --store drive\n",
        "\n",
        "# !python3 main.py \\\n",
        "#     --test \\\n",
        "#     --model_name PIDNet_S \\\n",
        "#     --version 3 \\\n",
        "#     --model_file best_0.pt \\\n",
        "#     --target_domain Rural \\\n",
        "#     --batch_size 6 \\\n",
        "#     --store drive\n"
      ]
    },
    {
      "cell_type": "code",
      "execution_count": null,
      "id": "dPcqlLulPLc-",
      "metadata": {
        "id": "dPcqlLulPLc-"
      },
      "outputs": [],
      "source": [
        "# PIDNet_S_4\n",
        "\n",
        "# Train\n",
        "!python3 main.py \\\n",
        "    --train \\\n",
        "    --model_name PIDNet_S \\\n",
        "    --version 4 \\\n",
        "    --source_domain Urban \\\n",
        "    --horizontal_flip_augmentation \\\n",
        "    --shift_scale_rotate_augmentation \\\n",
        "    --brightness_contrast_augmentation \\\n",
        "    --coarse_dropout_augmentation \\\n",
        "    --batch_size 6 \\\n",
        "    --criterion CrossEntropyLoss \\\n",
        "    --optimizer SGD \\\n",
        "    --scheduler PolynomialLR \\\n",
        "    --epochs 30 \\\n",
        "    --store drive\n",
        "\n",
        "# Test\n",
        "!python3 main.py \\\n",
        "    --test \\\n",
        "    --model_name PIDNet_S \\\n",
        "    --version 4 \\\n",
        "    --model_file last_0.pt \\\n",
        "    --target_domain Urban \\\n",
        "    --batch_size 6 \\\n",
        "    --store drive\n",
        "\n",
        "!python3 main.py \\\n",
        "    --test \\\n",
        "    --model_name PIDNet_S \\\n",
        "    --version 4 \\\n",
        "    --model_file best_0.pt \\\n",
        "    --target_domain Urban \\\n",
        "    --batch_size 6 \\\n",
        "    --store drive\n",
        "\n",
        "!python3 main.py \\\n",
        "    --test \\\n",
        "    --model_name PIDNet_S \\\n",
        "    --version 4 \\\n",
        "    --model_file last_0.pt \\\n",
        "    --target_domain Rural \\\n",
        "    --batch_size 6 \\\n",
        "    --store drive\n",
        "\n",
        "!python3 main.py \\\n",
        "    --test \\\n",
        "    --model_name PIDNet_S \\\n",
        "    --version 4 \\\n",
        "    --model_file best_0.pt \\\n",
        "    --target_domain Rural \\\n",
        "    --batch_size 6 \\\n",
        "    --store drive"
      ]
    }
  ],
  "metadata": {
    "accelerator": "GPU",
    "colab": {
      "gpuType": "T4",
      "provenance": []
    },
    "kernelspec": {
      "display_name": "base",
      "language": "python",
      "name": "python3"
    },
    "language_info": {
      "codemirror_mode": {
        "name": "ipython",
        "version": 3
      },
      "file_extension": ".py",
      "mimetype": "text/x-python",
      "name": "python",
      "nbconvert_exporter": "python",
      "pygments_lexer": "ipython3",
      "version": "3.12.7"
    }
  },
  "nbformat": 4,
  "nbformat_minor": 5
}
