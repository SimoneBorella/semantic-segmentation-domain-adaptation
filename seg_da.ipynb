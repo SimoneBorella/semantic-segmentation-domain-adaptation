{
  "cells": [
    {
      "cell_type": "markdown",
      "id": "0K9H8Nk-N_Tf",
      "metadata": {
        "id": "0K9H8Nk-N_Tf"
      },
      "source": [
        "# Real-time Domain Adaptation in Semantic Segmentation"
      ]
    },
    {
      "cell_type": "markdown",
      "id": "be24ecf1",
      "metadata": {},
      "source": [
        "## Import code"
      ]
    },
    {
      "cell_type": "code",
      "execution_count": null,
      "id": "GrQxrFD9QBIi",
      "metadata": {
        "colab": {
          "base_uri": "https://localhost:8080/"
        },
        "id": "GrQxrFD9QBIi",
        "outputId": "7ff45564-6cac-4adc-a23e-a16a51621b12"
      },
      "outputs": [],
      "source": [
        "!git clone https://github.com/SimoneBorella/semantic-segmentation-domain-adaptation.git\n",
        "\n",
        "!cp -r ./domain-adaptation/models .\n",
        "!cp -r ./domain-adaptation/datasets .\n",
        "\n",
        "!rm -r ./semantic-segmentation-domain-adaptation\n",
        "!rm -r sample_data"
      ]
    },
    {
      "cell_type": "markdown",
      "id": "0302d761",
      "metadata": {},
      "source": [
        "## Download LoveDA dataset"
      ]
    },
    {
      "cell_type": "code",
      "execution_count": null,
      "id": "c816f1e0",
      "metadata": {},
      "outputs": [
        {
          "name": "stdout",
          "output_type": "stream",
          "text": [
            "Archive:  files-archive\n",
            " extracting: Train.zip               \n",
            " extracting: Datasheet.pdf           \n",
            " extracting: Val.zip                 \n",
            " extracting: Test.zip                \n"
          ]
        }
      ],
      "source": [
        "! mkdir -p data\n",
        "# !wget https://zenodo.org/api/records/5706578/files-archive\n",
        "!unzip files-archive"
      ]
    },
    {
      "cell_type": "markdown",
      "id": "d0e497ec",
      "metadata": {},
      "source": [
        "## Packages installation"
      ]
    },
    {
      "cell_type": "code",
      "execution_count": null,
      "id": "5q3A_omGNpCf",
      "metadata": {
        "colab": {
          "base_uri": "https://localhost:8080/"
        },
        "id": "5q3A_omGNpCf",
        "outputId": "ddfb9906-dcb2-49cc-f6f6-c8b3847a2238"
      },
      "outputs": [],
      "source": [
        "!pip3 install torch torchvision torchaudio"
      ]
    },
    {
      "cell_type": "markdown",
      "id": "f722511a",
      "metadata": {},
      "source": [
        "## Results permanent directory"
      ]
    },
    {
      "cell_type": "code",
      "execution_count": 2,
      "id": "vVcmrIe_TGGA",
      "metadata": {
        "colab": {
          "base_uri": "https://localhost:8080/"
        },
        "id": "vVcmrIe_TGGA",
        "outputId": "8e7ca6eb-d4c4-44dd-8dd1-62281de5d028"
      },
      "outputs": [],
      "source": [
        "# Google colab\n",
        "from google.colab import drive\n",
        "drive.mount('/content/drive')\n",
        "! mkdir -p /content/drive/MyDrive/seg_da\n",
        "res_dir = \"/content/drive/MyDrive/seg_da\"\n",
        "\n",
        "\n",
        "# Local\n",
        "# res_dir = \".\""
      ]
    },
    {
      "cell_type": "markdown",
      "id": "976d2d5e",
      "metadata": {},
      "source": [
        "## Import packages"
      ]
    },
    {
      "cell_type": "code",
      "execution_count": 3,
      "id": "46c3fbc9-679c-46a3-ae6a-d2ce96d21d43",
      "metadata": {
        "id": "46c3fbc9-679c-46a3-ae6a-d2ce96d21d43"
      },
      "outputs": [],
      "source": [
        "import os\n",
        "import re\n",
        "import time\n",
        "\n",
        "import torch\n",
        "import torch.nn as nn\n",
        "import torch.optim as optim\n",
        "from torch.utils.data import Dataset\n",
        "from PIL import Image\n",
        "\n",
        "from torch.utils.data import DataLoader\n",
        "from torch.backends import cudnn\n",
        "import torchvision.transforms as T\n",
        "from torchvision.models import AlexNet_Weights\n",
        "import torch.nn.functional as F\n",
        "from torchmetrics import Accuracy\n",
        "\n",
        "import matplotlib.pyplot as plt\n",
        "import numpy as np\n",
        "\n",
        "# from models.alexnet import AlexNet\n",
        "# from utils.monitor import Monitor"
      ]
    },
    {
      "cell_type": "markdown",
      "metadata": {},
      "source": [
        "## Device"
      ]
    },
    {
      "cell_type": "code",
      "execution_count": 4,
      "id": "2u596HRYSws5",
      "metadata": {
        "id": "2u596HRYSws5"
      },
      "outputs": [],
      "source": [
        "def get_device():\n",
        "    if torch.cuda.is_available():\n",
        "        print(\"CUDA available\")\n",
        "        print(f\"Number of devices: {torch.cuda.device_count()}\")\n",
        "        for dev in range(torch.cuda.device_count()):\n",
        "            print(f\"Device {dev}:\")\n",
        "            print(f\"\\tName: {torch.cuda.get_device_name(dev)}\")\n",
        "    else:\n",
        "        print(\"CUDA not available\")\n",
        "\n",
        "    device = torch.device(\"cuda\" if torch.cuda.is_available() else \"cpu\")\n",
        "    print(f\"Device: {device}\")\n",
        "\n",
        "    return device"
      ]
    },
    {
      "cell_type": "code",
      "execution_count": 5,
      "id": "mL9dN-DzSyLS",
      "metadata": {
        "colab": {
          "base_uri": "https://localhost:8080/"
        },
        "id": "mL9dN-DzSyLS",
        "outputId": "93182341-22db-4ebe-8061-e077e282d9f9"
      },
      "outputs": [
        {
          "name": "stdout",
          "output_type": "stream",
          "text": [
            "CUDA not available\n",
            "Device: cpu\n"
          ]
        }
      ],
      "source": [
        "device = get_device()"
      ]
    },
    {
      "cell_type": "markdown",
      "id": "HUPEvN-ROSOw",
      "metadata": {
        "id": "HUPEvN-ROSOw"
      },
      "source": [
        "## Parameters"
      ]
    },
    {
      "cell_type": "code",
      "execution_count": 35,
      "id": "m_igi2pfOTvD",
      "metadata": {
        "colab": {
          "base_uri": "https://localhost:8080/"
        },
        "id": "m_igi2pfOTvD",
        "outputId": "63909502-c005-4dd6-cbc7-c613c560e5d5"
      },
      "outputs": [
        {
          "data": {
            "text/plain": [
              "<torch._C.Generator at 0x7d3d441eba50>"
            ]
          },
          "execution_count": 35,
          "metadata": {},
          "output_type": "execute_result"
        }
      ],
      "source": [
        "SEED = 17\n",
        "\n",
        "VERSION = 0\n",
        "\n",
        "NUM_CLASSES = 7\n",
        "BATCH_SIZE = 256\n",
        "LR = 0.1             # The initial Learning Rate\n",
        "MOMENTUM = 0.9       # Hyperparameter for SGD, keep this at 0.9 when using SGD\n",
        "WEIGHT_DECAY = 5e-5  # Regularization, you can keep this at the default\n",
        "EPOCHS = 80          # Total number of training epochs (iterations over dataset)\n",
        "STEP_SIZE = 35       # How many epochs before decreasing learning rate (if using a step-down policy)\n",
        "GAMMA = 0.1          # Multiplicative factor for learning rate step-down\n",
        "\n",
        "LAMBDA = 1/1e5\n",
        "\n",
        "torch.manual_seed(SEED)"
      ]
    },
    {
      "cell_type": "markdown",
      "id": "68dc5e59",
      "metadata": {
        "id": "68dc5e59"
      },
      "source": [
        "## Dataset"
      ]
    },
    {
      "cell_type": "markdown",
      "id": "d1768e79",
      "metadata": {
        "id": "d1768e79"
      },
      "source": [
        "## Dataset preprocessing"
      ]
    },
    {
      "cell_type": "markdown",
      "id": "4c0efb1c",
      "metadata": {
        "id": "4c0efb1c"
      },
      "source": [
        "## Model definition"
      ]
    },
    {
      "cell_type": "markdown",
      "id": "683ceefb",
      "metadata": {
        "id": "683ceefb"
      },
      "source": [
        "## Loss function definition"
      ]
    },
    {
      "cell_type": "markdown",
      "id": "c0f5a5ca",
      "metadata": {
        "id": "c0f5a5ca"
      },
      "source": [
        "## Optimizer definition"
      ]
    },
    {
      "cell_type": "markdown",
      "id": "c94cede0",
      "metadata": {
        "id": "c94cede0"
      },
      "source": [
        "## Scheduler definition"
      ]
    },
    {
      "cell_type": "markdown",
      "id": "b8b50990",
      "metadata": {
        "id": "b8b50990"
      },
      "source": [
        "## Plot"
      ]
    },
    {
      "cell_type": "markdown",
      "id": "6b760999",
      "metadata": {
        "id": "6b760999"
      },
      "source": [
        "## Training"
      ]
    },
    {
      "cell_type": "markdown",
      "id": "7790a8ce",
      "metadata": {
        "id": "7790a8ce"
      },
      "source": [
        "## Testing"
      ]
    }
  ],
  "metadata": {
    "accelerator": "GPU",
    "colab": {
      "gpuType": "T4",
      "provenance": []
    },
    "kernelspec": {
      "display_name": "base",
      "language": "python",
      "name": "python3"
    },
    "language_info": {
      "codemirror_mode": {
        "name": "ipython",
        "version": 3
      },
      "file_extension": ".py",
      "mimetype": "text/x-python",
      "name": "python",
      "nbconvert_exporter": "python",
      "pygments_lexer": "ipython3",
      "version": "3.12.7"
    }
  },
  "nbformat": 4,
  "nbformat_minor": 5
}
