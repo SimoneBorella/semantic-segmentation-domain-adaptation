{
  "cells": [
    {
      "cell_type": "markdown",
      "id": "0K9H8Nk-N_Tf",
      "metadata": {
        "id": "0K9H8Nk-N_Tf"
      },
      "source": [
        "# Real-time Domain Adaptation in Semantic Segmentation"
      ]
    },
    {
      "cell_type": "markdown",
      "id": "f722511a",
      "metadata": {
        "id": "f722511a"
      },
      "source": [
        "## Mount drive"
      ]
    },
    {
      "cell_type": "code",
      "execution_count": null,
      "id": "vVcmrIe_TGGA",
      "metadata": {
        "id": "vVcmrIe_TGGA"
      },
      "outputs": [],
      "source": [
        "from google.colab import drive\n",
        "drive.mount('/content/drive')"
      ]
    },
    {
      "cell_type": "markdown",
      "id": "be24ecf1",
      "metadata": {
        "id": "be24ecf1"
      },
      "source": [
        "## Import code"
      ]
    },
    {
      "cell_type": "code",
      "execution_count": 8,
      "id": "GrQxrFD9QBIi",
      "metadata": {
        "id": "GrQxrFD9QBIi",
        "colab": {
          "base_uri": "https://localhost:8080/"
        },
        "outputId": "ee705aec-6e98-472c-ab93-b95f09e0d271"
      },
      "outputs": [
        {
          "output_type": "stream",
          "name": "stdout",
          "text": [
            "Cloning into 'semantic-segmentation-domain-adaptation'...\n",
            "remote: Enumerating objects: 489, done.\u001b[K\n",
            "remote: Counting objects: 100% (182/182), done.\u001b[K\n",
            "remote: Compressing objects: 100% (129/129), done.\u001b[K\n",
            "remote: Total 489 (delta 114), reused 111 (delta 53), pack-reused 307 (from 1)\u001b[K\n",
            "Receiving objects: 100% (489/489), 150.87 KiB | 4.19 MiB/s, done.\n",
            "Resolving deltas: 100% (289/289), done.\n",
            "rm: cannot remove 'sample_data': No such file or directory\n"
          ]
        }
      ],
      "source": [
        "!git clone https://github.com/SimoneBorella/semantic-segmentation-domain-adaptation.git\n",
        "\n",
        "!cp -r ./semantic-segmentation-domain-adaptation/datasets .\n",
        "!cp -r ./semantic-segmentation-domain-adaptation/models .\n",
        "!cp -r ./semantic-segmentation-domain-adaptation/criteria .\n",
        "!cp -r ./semantic-segmentation-domain-adaptation/utils .\n",
        "!cp ./semantic-segmentation-domain-adaptation/get_dataset.bash .\n",
        "!cp ./semantic-segmentation-domain-adaptation/get_weights_pretrained.bash .\n",
        "!cp ./semantic-segmentation-domain-adaptation/main.py .\n",
        "\n",
        "!rm -r ./semantic-segmentation-domain-adaptation\n",
        "!rm -r sample_data"
      ]
    },
    {
      "cell_type": "markdown",
      "id": "d0e497ec",
      "metadata": {
        "id": "d0e497ec"
      },
      "source": [
        "## Packages installation"
      ]
    },
    {
      "cell_type": "code",
      "execution_count": null,
      "id": "5q3A_omGNpCf",
      "metadata": {
        "id": "5q3A_omGNpCf"
      },
      "outputs": [],
      "source": [
        "!pip3 install torch torchvision torchaudio gdown fvcore"
      ]
    },
    {
      "cell_type": "markdown",
      "id": "0302d761",
      "metadata": {
        "id": "0302d761"
      },
      "source": [
        "## Download LoveDA dataset"
      ]
    },
    {
      "cell_type": "code",
      "execution_count": null,
      "id": "5a2f0959",
      "metadata": {
        "id": "5a2f0959"
      },
      "outputs": [],
      "source": [
        "!bash get_dataset.bash"
      ]
    },
    {
      "cell_type": "markdown",
      "id": "b39ac3ab",
      "metadata": {
        "id": "b39ac3ab"
      },
      "source": [
        "# Download weights pretrained"
      ]
    },
    {
      "cell_type": "code",
      "execution_count": null,
      "id": "ba683512",
      "metadata": {
        "id": "ba683512"
      },
      "outputs": [],
      "source": [
        "!bash get_weights_pretrained.bash"
      ]
    },
    {
      "cell_type": "markdown",
      "id": "065eb67f",
      "metadata": {
        "id": "065eb67f"
      },
      "source": [
        "## DeepLabV2_ResNet101"
      ]
    },
    {
      "cell_type": "code",
      "execution_count": null,
      "id": "38b64585",
      "metadata": {
        "id": "38b64585"
      },
      "outputs": [],
      "source": [
        "# DeepLabV2_ResNet101_0\n",
        "\n",
        "# Train\n",
        "!python3 main.py \\\n",
        "    --train \\\n",
        "    --model_name DeepLabV2_ResNet101 \\\n",
        "    --version 0 \\\n",
        "    --source_domain Rural \\\n",
        "    --batch_size 6 \\\n",
        "    --criterion CrossEntropyLoss \\\n",
        "    --optimizer SGD \\\n",
        "    --scheduler PolynomialLR \\\n",
        "    --epochs 20 \\\n",
        "    --store drive\n",
        "\n",
        "# Test\n",
        "!python3 main.py \\\n",
        "    --test \\\n",
        "    --model_name DeepLabV2_ResNet101 \\\n",
        "    --version 0 \\\n",
        "    --model_file last_0.pt \\\n",
        "    --target_domain Rural \\\n",
        "    --batch_size 6 \\\n",
        "    --store drive\n",
        "\n",
        "!python3 main.py \\\n",
        "    --test \\\n",
        "    --model_name DeepLabV2_ResNet101 \\\n",
        "    --version 0 \\\n",
        "    --model_file best_0.pt \\\n",
        "    --target_domain Rural \\\n",
        "    --batch_size 6 \\\n",
        "    --store drive\n",
        "\n",
        "!python3 main.py \\\n",
        "    --test \\\n",
        "    --model_name DeepLabV2_ResNet101 \\\n",
        "    --version 0 \\\n",
        "    --model_file last_0.pt \\\n",
        "    --target_domain Urban \\\n",
        "    --batch_size 6 \\\n",
        "    --store drive\n",
        "\n",
        "!python3 main.py \\\n",
        "    --test \\\n",
        "    --model_name DeepLabV2_ResNet101 \\\n",
        "    --version 0 \\\n",
        "    --model_file best_0.pt \\\n",
        "    --target_domain Urban \\\n",
        "    --batch_size 6 \\\n",
        "    --store drive"
      ]
    },
    {
      "cell_type": "markdown",
      "source": [
        "## PIDNet"
      ],
      "metadata": {
        "id": "u1oHe3-oPUWw"
      },
      "id": "u1oHe3-oPUWw"
    },
    {
      "cell_type": "code",
      "source": [
        "# PIDNet_S_0\n",
        "\n",
        "# Train\n",
        "!python3 main.py \\\n",
        "    --train \\\n",
        "    --model_name PIDNet_S \\\n",
        "    --version 0 \\\n",
        "    --source_domain Rural \\\n",
        "    --batch_size 6 \\\n",
        "    --criterion CrossEntropyLoss \\\n",
        "    --optimizer SGD \\\n",
        "    --scheduler PolynomialLR \\\n",
        "    --epochs 20 \\\n",
        "    --store drive\n",
        "\n",
        "# Test\n",
        "!python3 main.py \\\n",
        "    --test \\\n",
        "    --model_name PIDNet_S \\\n",
        "    --version 0 \\\n",
        "    --model_file last_0.pt \\\n",
        "    --target_domain Urban \\\n",
        "    --batch_size 6 \\\n",
        "    --store drive\n",
        "\n",
        "!python3 main.py \\\n",
        "    --test \\\n",
        "    --model_name PIDNet_S \\\n",
        "    --version 0 \\\n",
        "    --model_file best_0.pt \\\n",
        "    --target_domain Urban \\\n",
        "    --batch_size 6 \\\n",
        "    --store drive\n",
        "\n",
        "!python3 main.py \\\n",
        "    --test \\\n",
        "    --model_name PIDNet_S \\\n",
        "    --version 0 \\\n",
        "    --model_file last_0.pt \\\n",
        "    --target_domain Rural \\\n",
        "    --batch_size 6 \\\n",
        "    --store drive\n",
        "\n",
        "!python3 main.py \\\n",
        "    --test \\\n",
        "    --model_name PIDNet_S \\\n",
        "    --version 0 \\\n",
        "    --model_file best_0.pt \\\n",
        "    --target_domain Rural \\\n",
        "    --batch_size 6 \\\n",
        "    --store drive"
      ],
      "metadata": {
        "id": "1781uEUIQsIL"
      },
      "id": "1781uEUIQsIL",
      "execution_count": null,
      "outputs": []
    },
    {
      "cell_type": "code",
      "source": [
        "# PIDNet_S_1\n",
        "\n",
        "# Train\n",
        "!python3 main.py \\\n",
        "    --train \\\n",
        "    --model_name PIDNet_S \\\n",
        "    --version 1 \\\n",
        "    --source_domain Urban \\\n",
        "    --batch_size 6 \\\n",
        "    --criterion CrossEntropyLoss \\\n",
        "    --optimizer SGD \\\n",
        "    --scheduler PolynomialLR \\\n",
        "    --epochs 20 \\\n",
        "    --store drive\n",
        "\n",
        "# Test\n",
        "!python3 main.py \\\n",
        "    --test \\\n",
        "    --model_name PIDNet_S \\\n",
        "    --version 1 \\\n",
        "    --model_file last_0.pt \\\n",
        "    --target_domain Urban \\\n",
        "    --batch_size 6 \\\n",
        "    --store drive\n",
        "\n",
        "!python3 main.py \\\n",
        "    --test \\\n",
        "    --model_name PIDNet_S \\\n",
        "    --version 1 \\\n",
        "    --model_file best_0.pt \\\n",
        "    --target_domain Urban \\\n",
        "    --batch_size 6 \\\n",
        "    --store drive\n",
        "\n",
        "!python3 main.py \\\n",
        "    --test \\\n",
        "    --model_name PIDNet_S \\\n",
        "    --version 1 \\\n",
        "    --model_file last_0.pt \\\n",
        "    --target_domain Rural \\\n",
        "    --batch_size 6 \\\n",
        "    --store drive\n",
        "\n",
        "!python3 main.py \\\n",
        "    --test \\\n",
        "    --model_name PIDNet_S \\\n",
        "    --version 1 \\\n",
        "    --model_file best_0.pt \\\n",
        "    --target_domain Rural \\\n",
        "    --batch_size 6 \\\n",
        "    --store drive"
      ],
      "metadata": {
        "id": "38A8C3CsQZth"
      },
      "id": "38A8C3CsQZth",
      "execution_count": null,
      "outputs": []
    },
    {
      "cell_type": "code",
      "execution_count": null,
      "id": "3ff93b1b",
      "metadata": {
        "id": "3ff93b1b"
      },
      "outputs": [],
      "source": [
        "# PIDNet_S_2\n",
        "\n",
        "# Train\n",
        "!python3 main.py \\\n",
        "    --train \\\n",
        "    --model_name PIDNet_S \\\n",
        "    --version 2 \\\n",
        "    --source_domain Urban \\\n",
        "    --horizontal_flip_augmentation \\\n",
        "    --shift_scale_rotate_augmentation \\\n",
        "    --batch_size 6 \\\n",
        "    --criterion CrossEntropyLoss \\\n",
        "    --optimizer SGD \\\n",
        "    --scheduler PolynomialLR \\\n",
        "    --epochs 20 \\\n",
        "    --store drive\n",
        "\n",
        "# Test\n",
        "!python3 main.py \\\n",
        "    --test \\\n",
        "    --model_name PIDNet_S \\\n",
        "    --version 2 \\\n",
        "    --model_file last_0.pt \\\n",
        "    --target_domain Urban \\\n",
        "    --batch_size 6 \\\n",
        "    --store drive\n",
        "\n",
        "!python3 main.py \\\n",
        "    --test \\\n",
        "    --model_name PIDNet_S \\\n",
        "    --version 2 \\\n",
        "    --model_file best_0.pt \\\n",
        "    --target_domain Urban \\\n",
        "    --batch_size 6 \\\n",
        "    --store drive\n",
        "\n",
        "!python3 main.py \\\n",
        "    --test \\\n",
        "    --model_name PIDNet_S \\\n",
        "    --version 2 \\\n",
        "    --model_file last_0.pt \\\n",
        "    --target_domain Rural \\\n",
        "    --batch_size 6 \\\n",
        "    --store drive\n",
        "\n",
        "!python3 main.py \\\n",
        "    --test \\\n",
        "    --model_name PIDNet_S \\\n",
        "    --version 2 \\\n",
        "    --model_file best_0.pt \\\n",
        "    --target_domain Rural \\\n",
        "    --batch_size 6 \\\n",
        "    --store drive"
      ]
    },
    {
      "cell_type": "code",
      "execution_count": null,
      "id": "ab0637c4",
      "metadata": {
        "id": "ab0637c4"
      },
      "outputs": [],
      "source": [
        "# PIDNet_S_3\n",
        "\n",
        "# Train\n",
        "!python3 main.py \\\n",
        "    --train \\\n",
        "    --model_name PIDNet_S \\\n",
        "    --version 3 \\\n",
        "    --source_domain Urban \\\n",
        "    --brightness_contrast_augmentation \\\n",
        "    --coarse_dropout_augmentation \\\n",
        "    --batch_size 6 \\\n",
        "    --criterion CrossEntropyLoss \\\n",
        "    --optimizer SGD \\\n",
        "    --scheduler PolynomialLR \\\n",
        "    --epochs 20 \\\n",
        "    --store drive\n",
        "\n",
        "# Test\n",
        "!python3 main.py \\\n",
        "    --test \\\n",
        "    --model_name PIDNet_S \\\n",
        "    --version 3 \\\n",
        "    --model_file last_0.pt \\\n",
        "    --target_domain Urban \\\n",
        "    --batch_size 6 \\\n",
        "    --store drive\n",
        "\n",
        "!python3 main.py \\\n",
        "    --test \\\n",
        "    --model_name PIDNet_S \\\n",
        "    --version 3 \\\n",
        "    --model_file best_0.pt \\\n",
        "    --target_domain Urban \\\n",
        "    --batch_size 6 \\\n",
        "    --store drive\n",
        "\n",
        "!python3 main.py \\\n",
        "    --test \\\n",
        "    --model_name PIDNet_S \\\n",
        "    --version 3 \\\n",
        "    --model_file last_0.pt \\\n",
        "    --target_domain Rural \\\n",
        "    --batch_size 6 \\\n",
        "    --store drive\n",
        "\n",
        "!python3 main.py \\\n",
        "    --test \\\n",
        "    --model_name PIDNet_S \\\n",
        "    --version 3 \\\n",
        "    --model_file best_0.pt \\\n",
        "    --target_domain Rural \\\n",
        "    --batch_size 6 \\\n",
        "    --store drive\n"
      ]
    },
    {
      "cell_type": "code",
      "source": [
        "# PIDNet_S_4\n",
        "\n",
        "# Train\n",
        "!python3 main.py \\\n",
        "    --train \\\n",
        "    --model_name PIDNet_S \\\n",
        "    --version 4 \\\n",
        "    --source_domain Urban \\\n",
        "    --horizontal_flip_augmentation \\\n",
        "    --shift_scale_rotate_augmentation \\\n",
        "    --brightness_contrast_augmentation \\\n",
        "    --coarse_dropout_augmentation \\\n",
        "    --batch_size 6 \\\n",
        "    --criterion CrossEntropyLoss \\\n",
        "    --optimizer SGD \\\n",
        "    --scheduler PolynomialLR \\\n",
        "    --epochs 20 \\\n",
        "    --store drive\n",
        "\n",
        "# Test\n",
        "!python3 main.py \\\n",
        "    --test \\\n",
        "    --model_name PIDNet_S \\\n",
        "    --version 4 \\\n",
        "    --model_file last_0.pt \\\n",
        "    --target_domain Urban \\\n",
        "    --batch_size 6 \\\n",
        "    --store drive\n",
        "\n",
        "!python3 main.py \\\n",
        "    --test \\\n",
        "    --model_name PIDNet_S \\\n",
        "    --version 4 \\\n",
        "    --model_file best_0.pt \\\n",
        "    --target_domain Urban \\\n",
        "    --batch_size 6 \\\n",
        "    --store drive\n",
        "\n",
        "!python3 main.py \\\n",
        "    --test \\\n",
        "    --model_name PIDNet_S \\\n",
        "    --version 4 \\\n",
        "    --model_file last_0.pt \\\n",
        "    --target_domain Rural \\\n",
        "    --batch_size 6 \\\n",
        "    --store drive\n",
        "\n",
        "!python3 main.py \\\n",
        "    --test \\\n",
        "    --model_name PIDNet_S \\\n",
        "    --version 4 \\\n",
        "    --model_file best_0.pt \\\n",
        "    --target_domain Rural \\\n",
        "    --batch_size 6 \\\n",
        "    --store drive"
      ],
      "metadata": {
        "id": "dPcqlLulPLc-"
      },
      "id": "dPcqlLulPLc-",
      "execution_count": null,
      "outputs": []
    }
  ],
  "metadata": {
    "accelerator": "GPU",
    "colab": {
      "gpuType": "T4",
      "provenance": []
    },
    "kernelspec": {
      "display_name": "base",
      "language": "python",
      "name": "python3"
    },
    "language_info": {
      "codemirror_mode": {
        "name": "ipython",
        "version": 3
      },
      "file_extension": ".py",
      "mimetype": "text/x-python",
      "name": "python",
      "nbconvert_exporter": "python",
      "pygments_lexer": "ipython3",
      "version": "3.12.7"
    }
  },
  "nbformat": 4,
  "nbformat_minor": 5
}