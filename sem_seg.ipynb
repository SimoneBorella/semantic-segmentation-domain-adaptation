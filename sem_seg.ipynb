{
  "cells": [
    {
      "cell_type": "markdown",
      "id": "0K9H8Nk-N_Tf",
      "metadata": {
        "id": "0K9H8Nk-N_Tf"
      },
      "source": [
        "# Real-time Domain Adaptation in Semantic Segmentation"
      ]
    },
    {
      "cell_type": "markdown",
      "id": "f722511a",
      "metadata": {
        "id": "f722511a"
      },
      "source": [
        "## Mount drive"
      ]
    },
    {
      "cell_type": "code",
      "execution_count": null,
      "id": "vVcmrIe_TGGA",
      "metadata": {
        "id": "vVcmrIe_TGGA"
      },
      "outputs": [],
      "source": [
        "from google.colab import drive\n",
        "drive.mount('/content/drive')"
      ]
    },
    {
      "cell_type": "markdown",
      "id": "be24ecf1",
      "metadata": {
        "id": "be24ecf1"
      },
      "source": [
        "## Import code"
      ]
    },
    {
      "cell_type": "code",
      "execution_count": null,
      "id": "GrQxrFD9QBIi",
      "metadata": {
        "id": "GrQxrFD9QBIi"
      },
      "outputs": [],
      "source": [
        "!git clone https://github.com/SimoneBorella/semantic-segmentation-domain-adaptation.git\n",
        "\n",
        "!cp -r ./semantic-segmentation-domain-adaptation/datasets .\n",
        "!cp -r ./semantic-segmentation-domain-adaptation/models .\n",
        "!cp -r ./semantic-segmentation-domain-adaptation/criteria .\n",
        "!cp -r ./semantic-segmentation-domain-adaptation/utils .\n",
        "!cp ./semantic-segmentation-domain-adaptation/get_dataset.bash .\n",
        "!cp ./semantic-segmentation-domain-adaptation/get_weights_pretrained.bash .\n",
        "!cp ./semantic-segmentation-domain-adaptation/sem_seg.py .\n",
        "!cp ./semantic-segmentation-domain-adaptation/sem_seg_da_adv.py .\n",
        "!cp ./semantic-segmentation-domain-adaptation/sem_seg_dacs.py .\n",
        "\n",
        "!rm -r ./semantic-segmentation-domain-adaptation\n",
        "!rm -r sample_data"
      ]
    },
    {
      "cell_type": "markdown",
      "id": "d0e497ec",
      "metadata": {
        "id": "d0e497ec"
      },
      "source": [
        "## Packages installation"
      ]
    },
    {
      "cell_type": "code",
      "execution_count": null,
      "id": "5q3A_omGNpCf",
      "metadata": {
        "id": "5q3A_omGNpCf"
      },
      "outputs": [],
      "source": [
        "!pip3 install torch torchvision torchaudio gdown fvcore kornia"
      ]
    },
    {
      "cell_type": "markdown",
      "id": "0302d761",
      "metadata": {
        "id": "0302d761"
      },
      "source": [
        "## Download LoveDA dataset"
      ]
    },
    {
      "cell_type": "code",
      "execution_count": null,
      "id": "5a2f0959",
      "metadata": {
        "id": "5a2f0959"
      },
      "outputs": [],
      "source": [
        "!bash get_dataset.bash"
      ]
    },
    {
      "cell_type": "markdown",
      "id": "b39ac3ab",
      "metadata": {
        "id": "b39ac3ab"
      },
      "source": [
        "# Download weights pretrained"
      ]
    },
    {
      "cell_type": "code",
      "execution_count": null,
      "id": "ba683512",
      "metadata": {
        "id": "ba683512"
      },
      "outputs": [],
      "source": [
        "!bash get_weights_pretrained.bash"
      ]
    },
    {
      "cell_type": "markdown",
      "id": "065eb67f",
      "metadata": {
        "id": "065eb67f"
      },
      "source": [
        "## DeepLabV2_ResNet101"
      ]
    },
    {
      "cell_type": "code",
      "execution_count": null,
      "id": "38b64585",
      "metadata": {
        "id": "38b64585"
      },
      "outputs": [],
      "source": [
        "# DeepLabV2_ResNet101_0\n",
        "\n",
        "# Train\n",
        "# !python3 sem_seg.py \\\n",
        "#     --train \\\n",
        "#     --model_name DeepLabV2_ResNet101 \\\n",
        "#     --version 0 \\\n",
        "#     --source_domain Rural \\\n",
        "#     --batch_size 6 \\\n",
        "#     --criterion CrossEntropyLoss \\\n",
        "#     --optimizer SGD \\\n",
        "#     --scheduler PolynomialLR \\\n",
        "#     --epochs 20 \\\n",
        "#     --store drive\n",
        "\n",
        "# Test\n",
        "# !python3 sem_seg.py \\\n",
        "#     --test \\\n",
        "#     --model_name DeepLabV2_ResNet101 \\\n",
        "#     --version 0 \\\n",
        "#     --model_file last_0.pt \\\n",
        "#     --target_domain Rural \\\n",
        "#     --store drive\n",
        "\n",
        "# !python3 sem_seg.py \\\n",
        "#     --test \\\n",
        "#     --model_name DeepLabV2_ResNet101 \\\n",
        "#     --version 0 \\\n",
        "#     --model_file best_0.pt \\\n",
        "#     --target_domain Rural \\\n",
        "#     --store drive\n",
        "\n",
        "# !python3 sem_seg.py \\\n",
        "#     --test \\\n",
        "#     --model_name DeepLabV2_ResNet101 \\\n",
        "#     --version 0 \\\n",
        "#     --model_file last_0.pt \\\n",
        "#     --target_domain Urban \\\n",
        "#     --store drive\n",
        "\n",
        "# !python3 sem_seg.py \\\n",
        "#     --test \\\n",
        "#     --model_name DeepLabV2_ResNet101 \\\n",
        "#     --version 0 \\\n",
        "#     --model_file best_0.pt \\\n",
        "#     --target_domain Urban \\\n",
        "#     --store drive"
      ]
    },
    {
      "cell_type": "markdown",
      "id": "u1oHe3-oPUWw",
      "metadata": {
        "id": "u1oHe3-oPUWw"
      },
      "source": [
        "## PIDNet"
      ]
    },
    {
      "cell_type": "code",
      "execution_count": null,
      "id": "1781uEUIQsIL",
      "metadata": {
        "id": "1781uEUIQsIL"
      },
      "outputs": [],
      "source": [
        "# PIDNet_S_0\n",
        "\n",
        "# Train\n",
        "# !python3 sem_seg.py \\\n",
        "#     --train \\\n",
        "#     --model_name PIDNet_S \\\n",
        "#     --version 0 \\\n",
        "#     --source_domain Rural \\\n",
        "#     --batch_size 6 \\\n",
        "#     --criterion CrossEntropyLoss \\\n",
        "#     --optimizer SGD \\\n",
        "#     --scheduler PolynomialLR \\\n",
        "#     --epochs 20 \\\n",
        "#     --store drive\n",
        "\n",
        "# Test\n",
        "# !python3 sem_seg.py \\\n",
        "#     --test \\\n",
        "#     --model_name PIDNet_S \\\n",
        "#     --version 0 \\\n",
        "#     --model_file last_0.pt \\\n",
        "#     --target_domain Urban \\\n",
        "#     --store drive\n",
        "\n",
        "# !python3 sem_seg.py \\\n",
        "#     --test \\\n",
        "#     --model_name PIDNet_S \\\n",
        "#     --version 0 \\\n",
        "#     --model_file best_0.pt \\\n",
        "#     --target_domain Urban \\\n",
        "#     --store drive\n",
        "\n",
        "# !python3 sem_seg.py \\\n",
        "#     --test \\\n",
        "#     --model_name PIDNet_S \\\n",
        "#     --version 0 \\\n",
        "#     --model_file last_0.pt \\\n",
        "#     --target_domain Rural \\\n",
        "#     --store drive\n",
        "\n",
        "# !python3 sem_seg.py \\\n",
        "#     --test \\\n",
        "#     --model_name PIDNet_S \\\n",
        "#     --version 0 \\\n",
        "#     --model_file best_0.pt \\\n",
        "#     --target_domain Rural \\\n",
        "#     --store drive"
      ]
    },
    {
      "cell_type": "code",
      "execution_count": null,
      "id": "38A8C3CsQZth",
      "metadata": {
        "id": "38A8C3CsQZth"
      },
      "outputs": [],
      "source": [
        "# PIDNet_S_1\n",
        "\n",
        "# Train\n",
        "# !python3 sem_seg.py \\\n",
        "#     --train \\\n",
        "#     --model_name PIDNet_S \\\n",
        "#     --version 1 \\\n",
        "#     --source_domain Urban \\\n",
        "#     --batch_size 6 \\\n",
        "#     --criterion CrossEntropyLoss \\\n",
        "#     --optimizer SGD \\\n",
        "#     --scheduler PolynomialLR \\\n",
        "#     --epochs 20 \\\n",
        "#     --store drive\n",
        "\n",
        "# Test\n",
        "# !python3 sem_seg.py \\\n",
        "#     --test \\\n",
        "#     --model_name PIDNet_S \\\n",
        "#     --version 1 \\\n",
        "#     --model_file last_0.pt \\\n",
        "#     --target_domain Urban \\\n",
        "#     --store drive\n",
        "\n",
        "# !python3 sem_seg.py \\\n",
        "#     --test \\\n",
        "#     --model_name PIDNet_S \\\n",
        "#     --version 1 \\\n",
        "#     --model_file best_0.pt \\\n",
        "#     --target_domain Urban \\\n",
        "#     --store drive\n",
        "\n",
        "# !python3 sem_seg.py \\\n",
        "#     --test \\\n",
        "#     --model_name PIDNet_S \\\n",
        "#     --version 1 \\\n",
        "#     --model_file last_0.pt \\\n",
        "#     --target_domain Rural \\\n",
        "#     --store drive\n",
        "\n",
        "# !python3 sem_seg.py \\\n",
        "#     --test \\\n",
        "#     --model_name PIDNet_S \\\n",
        "#     --version 1 \\\n",
        "#     --model_file best_0.pt \\\n",
        "#     --target_domain Rural \\\n",
        "#     --store drive"
      ]
    },
    {
      "cell_type": "code",
      "execution_count": null,
      "id": "3ff93b1b",
      "metadata": {
        "id": "3ff93b1b"
      },
      "outputs": [],
      "source": [
        "# PIDNet_S_2\n",
        "\n",
        "# Train\n",
        "# !python3 sem_seg.py \\\n",
        "#     --train \\\n",
        "#     --model_name PIDNet_S \\\n",
        "#     --version 2 \\\n",
        "#     --source_domain Urban \\\n",
        "#     --horizontal_flip_augmentation \\\n",
        "#     --shift_scale_rotate_augmentation \\\n",
        "#     --batch_size 6 \\\n",
        "#     --criterion CrossEntropyLoss \\\n",
        "#     --optimizer SGD \\\n",
        "#     --scheduler PolynomialLR \\\n",
        "#     --epochs 30 \\\n",
        "#     --store drive\n",
        "\n",
        "# Test\n",
        "# !python3 sem_seg.py \\\n",
        "#     --test \\\n",
        "#     --model_name PIDNet_S \\\n",
        "#     --version 2 \\\n",
        "#     --model_file last_0.pt \\\n",
        "#     --target_domain Urban \\\n",
        "#     --store drive\n",
        "\n",
        "# !python3 sem_seg.py \\\n",
        "#     --test \\\n",
        "#     --model_name PIDNet_S \\\n",
        "#     --version 2 \\\n",
        "#     --model_file best_0.pt \\\n",
        "#     --target_domain Urban \\\n",
        "#     --store drive\n",
        "\n",
        "# !python3 sem_seg.py \\\n",
        "#     --test \\\n",
        "#     --model_name PIDNet_S \\\n",
        "#     --version 2 \\\n",
        "#     --model_file last_0.pt \\\n",
        "#     --target_domain Rural \\\n",
        "#     --store drive\n",
        "\n",
        "# !python3 sem_seg.py \\\n",
        "#     --test \\\n",
        "#     --model_name PIDNet_S \\\n",
        "#     --version 2 \\\n",
        "#     --model_file best_0.pt \\\n",
        "#     --target_domain Rural \\\n",
        "#     --store drive"
      ]
    },
    {
      "cell_type": "code",
      "execution_count": null,
      "id": "ab0637c4",
      "metadata": {
        "id": "ab0637c4"
      },
      "outputs": [],
      "source": [
        "# PIDNet_S_3\n",
        "\n",
        "# Train\n",
        "# !python3 sem_seg.py \\\n",
        "#     --train \\\n",
        "#     --model_name PIDNet_S \\\n",
        "#     --version 3 \\\n",
        "#     --source_domain Urban \\\n",
        "#     --brightness_contrast_augmentation \\\n",
        "#     --coarse_dropout_augmentation \\\n",
        "#     --batch_size 6 \\\n",
        "#     --criterion CrossEntropyLoss \\\n",
        "#     --optimizer SGD \\\n",
        "#     --scheduler PolynomialLR \\\n",
        "#     --epochs 30 \\\n",
        "#     --store drive\n",
        "\n",
        "# Test\n",
        "# !python3 sem_seg.py \\\n",
        "#     --test \\\n",
        "#     --model_name PIDNet_S \\\n",
        "#     --version 3 \\\n",
        "#     --model_file last_0.pt \\\n",
        "#     --target_domain Urban \\\n",
        "#     --store drive\n",
        "\n",
        "# !python3 sem_seg.py \\\n",
        "#     --test \\\n",
        "#     --model_name PIDNet_S \\\n",
        "#     --version 3 \\\n",
        "#     --model_file best_0.pt \\\n",
        "#     --target_domain Urban \\\n",
        "#     --store drive\n",
        "\n",
        "# !python3 sem_seg.py \\\n",
        "#     --test \\\n",
        "#     --model_name PIDNet_S \\\n",
        "#     --version 3 \\\n",
        "#     --model_file last_0.pt \\\n",
        "#     --target_domain Rural \\\n",
        "#     --store drive\n",
        "\n",
        "# !python3 sem_seg.py \\\n",
        "#     --test \\\n",
        "#     --model_name PIDNet_S \\\n",
        "#     --version 3 \\\n",
        "#     --model_file best_0.pt \\\n",
        "#     --target_domain Rural \\\n",
        "#     --store drive\n"
      ]
    },
    {
      "cell_type": "code",
      "execution_count": null,
      "id": "dPcqlLulPLc-",
      "metadata": {
        "id": "dPcqlLulPLc-"
      },
      "outputs": [],
      "source": [
        "# PIDNet_S_4\n",
        "\n",
        "# Train\n",
        "# !python3 sem_seg.py \\\n",
        "#     --train \\\n",
        "#     --model_name PIDNet_S \\\n",
        "#     --version 4 \\\n",
        "#     --source_domain Urban \\\n",
        "#     --horizontal_flip_augmentation \\\n",
        "#     --shift_scale_rotate_augmentation \\\n",
        "#     --brightness_contrast_augmentation \\\n",
        "#     --coarse_dropout_augmentation \\\n",
        "#     --batch_size 6 \\\n",
        "#     --criterion CrossEntropyLoss \\\n",
        "#     --optimizer SGD \\\n",
        "#     --scheduler PolynomialLR \\\n",
        "#     --epochs 30 \\\n",
        "#     --store drive\n",
        "\n",
        "# Test\n",
        "# !python3 sem_seg.py \\\n",
        "#     --test \\\n",
        "#     --model_name PIDNet_S \\\n",
        "#     --version 4 \\\n",
        "#     --model_file last_0.pt \\\n",
        "#     --target_domain Urban \\\n",
        "#     --store drive\n",
        "\n",
        "# !python3 sem_seg.py \\\n",
        "#     --test \\\n",
        "#     --model_name PIDNet_S \\\n",
        "#     --version 4 \\\n",
        "#     --model_file best_0.pt \\\n",
        "#     --target_domain Urban \\\n",
        "#     --store drive\n",
        "\n",
        "# !python3 sem_seg.py \\\n",
        "#     --test \\\n",
        "#     --model_name PIDNet_S \\\n",
        "#     --version 4 \\\n",
        "#     --model_file last_0.pt \\\n",
        "#     --target_domain Rural \\\n",
        "#     --store drive\n",
        "\n",
        "# !python3 sem_seg.py \\\n",
        "#     --test \\\n",
        "#     --model_name PIDNet_S \\\n",
        "#     --version 4 \\\n",
        "#     --model_file best_0.pt \\\n",
        "#     --target_domain Rural \\\n",
        "#     --store drive"
      ]
    },
    {
      "cell_type": "code",
      "execution_count": null,
      "id": "bOn4BVBKbS3a",
      "metadata": {
        "id": "bOn4BVBKbS3a"
      },
      "outputs": [],
      "source": [
        "# PIDNet_S_5\n",
        "\n",
        "# Train\n",
        "# !python3 sem_seg.py \\\n",
        "#     --train \\\n",
        "#     --model_name PIDNet_S \\\n",
        "#     --version 5 \\\n",
        "#     --source_domain Urban \\\n",
        "#     --horizontal_flip_augmentation \\\n",
        "#     --shift_scale_rotate_augmentation \\\n",
        "#     --grid_distortion_augmentation \\\n",
        "#     --batch_size 6 \\\n",
        "#     --criterion CrossEntropyLoss \\\n",
        "#     --optimizer SGD \\\n",
        "#     --scheduler PolynomialLR \\\n",
        "#     --epochs 30 \\\n",
        "#     --store drive\n",
        "\n",
        "# Test\n",
        "# !python3 sem_seg.py \\\n",
        "#     --test \\\n",
        "#     --model_name PIDNet_S \\\n",
        "#     --version 5 \\\n",
        "#     --model_file last_0.pt \\\n",
        "#     --target_domain Urban \\\n",
        "#     --store drive\n",
        "\n",
        "# !python3 sem_seg.py \\\n",
        "#     --test \\\n",
        "#     --model_name PIDNet_S \\\n",
        "#     --version 5 \\\n",
        "#     --model_file best_0.pt \\\n",
        "#     --target_domain Urban \\\n",
        "#     --store drive\n",
        "\n",
        "# !python3 sem_seg.py \\\n",
        "#     --test \\\n",
        "#     --model_name PIDNet_S \\\n",
        "#     --version 5 \\\n",
        "#     --model_file last_0.pt \\\n",
        "#     --target_domain Rural \\\n",
        "#     --store drive\n",
        "\n",
        "# !python3 sem_seg.py \\\n",
        "#     --test \\\n",
        "#     --model_name PIDNet_S \\\n",
        "#     --version 5 \\\n",
        "#     --model_file best_0.pt \\\n",
        "#     --target_domain Rural \\\n",
        "#     --store drive"
      ]
    },
    {
      "cell_type": "markdown",
      "id": "f59fbbc1",
      "metadata": {
        "id": "f59fbbc1"
      },
      "source": [
        "## PIDNet Adversarial"
      ]
    },
    {
      "cell_type": "code",
      "execution_count": null,
      "id": "1322eb83",
      "metadata": {
        "id": "1322eb83"
      },
      "outputs": [],
      "source": [
        "# PIDNet_S_Adversarial_0\n",
        "\n",
        "# Train\n",
        "# !python3 sem_seg_da_adv.py \\\n",
        "#     --train \\\n",
        "#     --mode single_level \\\n",
        "#     --model_name PIDNet_S \\\n",
        "#     --version 0 \\\n",
        "#     --horizontal_flip_augmentation \\\n",
        "#     --shift_scale_rotate_augmentation \\\n",
        "#     --grid_distortion_augmentation \\\n",
        "#     --batch_size 6 \\\n",
        "#     --epochs 30 \\\n",
        "#     --store drive"
      ]
    },
    {
      "cell_type": "code",
      "execution_count": null,
      "id": "txbtK1tZivhb",
      "metadata": {
        "id": "txbtK1tZivhb"
      },
      "outputs": [],
      "source": [
        "# Test\n",
        "# !python3 sem_seg_da_adv.py \\\n",
        "#     --test \\\n",
        "#     --model_name PIDNet_S \\\n",
        "#     --version 0 \\\n",
        "#     --model_file last_0.pt \\\n",
        "#     --target_domain Urban \\\n",
        "#     --store drive\n",
        "\n",
        "# !python3 sem_seg_da_adv.py \\\n",
        "#     --test \\\n",
        "#     --model_name PIDNet_S \\\n",
        "#     --version 0 \\\n",
        "#     --model_file best_0.pt \\\n",
        "#     --target_domain Urban \\\n",
        "#     --store drive\n",
        "\n",
        "# !python3 sem_seg_da_adv.py \\\n",
        "#     --test \\\n",
        "#     --model_name PIDNet_S \\\n",
        "#     --version 0 \\\n",
        "#     --model_file last_0.pt \\\n",
        "#     --target_domain Rural \\\n",
        "#     --store drive\n",
        "\n",
        "# !python3 sem_seg_da_adv.py \\\n",
        "#     --test \\\n",
        "#     --model_name PIDNet_S \\\n",
        "#     --version 0 \\\n",
        "#     --model_file best_0.pt \\\n",
        "#     --target_domain Rural \\\n",
        "#     --store drive"
      ]
    },
    {
      "cell_type": "code",
      "execution_count": null,
      "id": "f1994c0a",
      "metadata": {
        "id": "f1994c0a"
      },
      "outputs": [],
      "source": [
        "# PIDNet_S_Adversarial_1\n",
        "\n",
        "# Train\n",
        "# !python3 sem_seg_da_adv.py \\\n",
        "#     --train \\\n",
        "#     --mode multi_level \\\n",
        "#     --model_name PIDNet_S \\\n",
        "#     --version 1 \\\n",
        "#     --horizontal_flip_augmentation \\\n",
        "#     --shift_scale_rotate_augmentation \\\n",
        "#     --grid_distortion_augmentation \\\n",
        "#     --batch_size 6 \\\n",
        "#     --epochs 30 \\\n",
        "#     --store drive"
      ]
    },
    {
      "cell_type": "code",
      "execution_count": null,
      "id": "asMhV3kYi3_Q",
      "metadata": {
        "id": "asMhV3kYi3_Q"
      },
      "outputs": [],
      "source": [
        "# Test\n",
        "# !python3 sem_seg_da_adv.py \\\n",
        "#     --test \\\n",
        "#     --model_name PIDNet_S \\\n",
        "#     --version 1 \\\n",
        "#     --model_file last_0.pt \\\n",
        "#     --target_domain Urban \\\n",
        "#     --store drive\n",
        "\n",
        "# !python3 sem_seg_da_adv.py \\\n",
        "#     --test \\\n",
        "#     --model_name PIDNet_S \\\n",
        "#     --version 1 \\\n",
        "#     --model_file best_0.pt \\\n",
        "#     --target_domain Urban \\\n",
        "#     --store drive\n",
        "\n",
        "# !python3 sem_seg_da_adv.py \\\n",
        "#     --test \\\n",
        "#     --model_name PIDNet_S \\\n",
        "#     --version 1 \\\n",
        "#     --model_file last_0.pt \\\n",
        "#     --target_domain Rural \\\n",
        "#     --store drive\n",
        "\n",
        "# !python3 sem_seg_da_adv.py \\\n",
        "#     --test \\\n",
        "#     --model_name PIDNet_S \\\n",
        "#     --version 1 \\\n",
        "#     --model_file best_0.pt \\\n",
        "#     --target_domain Rural \\\n",
        "#     --store drive"
      ]
    },
    {
      "cell_type": "markdown",
      "id": "186dd27f",
      "metadata": {
        "id": "186dd27f"
      },
      "source": [
        "## PIDNet DACS"
      ]
    },
    {
      "cell_type": "code",
      "execution_count": null,
      "id": "a395bb96",
      "metadata": {
        "id": "a395bb96"
      },
      "outputs": [],
      "source": [
        "# Train\n",
        "# !python3 sem_seg_dacs.py \\\n",
        "#     --train \\\n",
        "#     --model_name PIDNet_S \\\n",
        "#     --version 0 \\\n",
        "#     --batch_size 6 \\\n",
        "#     --epochs 30 \\\n",
        "#     --store drive"
      ]
    },
    {
      "cell_type": "code",
      "execution_count": null,
      "id": "5360fe14",
      "metadata": {
        "id": "5360fe14"
      },
      "outputs": [],
      "source": [
        "# Test\n",
        "# !python3 sem_seg_dacs.py \\\n",
        "#     --test \\\n",
        "#     --model_name PIDNet_S \\\n",
        "#     --version 0 \\\n",
        "#     --model_file last_0.pt \\\n",
        "#     --target_domain Urban \\\n",
        "#     --store drive\n",
        "\n",
        "# !python3 sem_seg_dacs.py \\\n",
        "#     --test \\\n",
        "#     --model_name PIDNet_S \\\n",
        "#     --version 0 \\\n",
        "#     --model_file best_0.pt \\\n",
        "#     --target_domain Urban \\\n",
        "#     --store drive\n",
        "\n",
        "# !python3 sem_seg_dacs.py \\\n",
        "#     --test \\\n",
        "#     --model_name PIDNet_S \\\n",
        "#     --version 0 \\\n",
        "#     --model_file last_0.pt \\\n",
        "#     --target_domain Rural \\\n",
        "#     --store drive\n",
        "\n",
        "# !python3 sem_seg_dacs.py \\\n",
        "#     --test \\\n",
        "#     --model_name PIDNet_S \\\n",
        "#     --version 0 \\\n",
        "#     --model_file best_0.pt \\\n",
        "#     --target_domain Rural \\\n",
        "#     --store drive"
      ]
    },
    {
      "cell_type": "code",
      "source": [
        "# Train\n",
        "!python3 sem_seg_dacs.py \\\n",
        "    --train \\\n",
        "    --model_name PIDNet_S \\\n",
        "    --version 1 \\\n",
        "    --color_jitter_augmentation \\\n",
        "    --gaussian_blur_augmentation \\\n",
        "    --batch_size 6 \\\n",
        "    --epochs 30 \\\n",
        "    --store drive"
      ],
      "metadata": {
        "id": "AicJhKmIRca_"
      },
      "id": "AicJhKmIRca_",
      "execution_count": null,
      "outputs": []
    },
    {
      "cell_type": "code",
      "source": [
        "# Test\n",
        "!python3 sem_seg_dacs.py \\\n",
        "    --test \\\n",
        "    --model_name PIDNet_S \\\n",
        "    --version 1 \\\n",
        "    --model_file last_0.pt \\\n",
        "    --target_domain Urban \\\n",
        "    --store drive\n",
        "\n",
        "!python3 sem_seg_dacs.py \\\n",
        "    --test \\\n",
        "    --model_name PIDNet_S \\\n",
        "    --version 1 \\\n",
        "    --model_file best_0.pt \\\n",
        "    --target_domain Urban \\\n",
        "    --store drive\n",
        "\n",
        "!python3 sem_seg_dacs.py \\\n",
        "    --test \\\n",
        "    --model_name PIDNet_S \\\n",
        "    --version 1 \\\n",
        "    --model_file last_0.pt \\\n",
        "    --target_domain Rural \\\n",
        "    --store drive\n",
        "\n",
        "!python3 sem_seg_dacs.py \\\n",
        "    --test \\\n",
        "    --model_name PIDNet_S \\\n",
        "    --version 1 \\\n",
        "    --model_file best_0.pt \\\n",
        "    --target_domain Rural \\\n",
        "    --store drive"
      ],
      "metadata": {
        "id": "0EKqCafFRdMT"
      },
      "id": "0EKqCafFRdMT",
      "execution_count": null,
      "outputs": []
    },
    {
      "cell_type": "code",
      "source": [
        "# Train\n",
        "# !python3 sem_seg_dacs.py \\\n",
        "#     --train \\\n",
        "#     --model_name PIDNet_S \\\n",
        "#     --version 2 \\\n",
        "#     --color_jitter_augmentation \\\n",
        "#     --gaussian_blur_augmentation \\\n",
        "#     --batch_size 2 \\\n",
        "#     --epochs 30 \\\n",
        "#     --store drive"
      ],
      "metadata": {
        "id": "SM5IAPiZr6-Z"
      },
      "id": "SM5IAPiZr6-Z",
      "execution_count": null,
      "outputs": []
    },
    {
      "cell_type": "code",
      "source": [
        "# Test\n",
        "# !python3 sem_seg_dacs.py \\\n",
        "#     --test \\\n",
        "#     --model_name PIDNet_S \\\n",
        "#     --version 2 \\\n",
        "#     --model_file last_0.pt \\\n",
        "#     --target_domain Urban \\\n",
        "#     --store drive\n",
        "\n",
        "# !python3 sem_seg_dacs.py \\\n",
        "#     --test \\\n",
        "#     --model_name PIDNet_S \\\n",
        "#     --version 2 \\\n",
        "#     --model_file best_0.pt \\\n",
        "#     --target_domain Urban \\\n",
        "#     --store drive\n",
        "\n",
        "# !python3 sem_seg_dacs.py \\\n",
        "#     --test \\\n",
        "#     --model_name PIDNet_S \\\n",
        "#     --version 2 \\\n",
        "#     --model_file last_0.pt \\\n",
        "#     --target_domain Rural \\\n",
        "#     --store drive\n",
        "\n",
        "# !python3 sem_seg_dacs.py \\\n",
        "#     --test \\\n",
        "#     --model_name PIDNet_S \\\n",
        "#     --version 2 \\\n",
        "#     --model_file best_0.pt \\\n",
        "#     --target_domain Rural \\\n",
        "#     --store drive"
      ],
      "metadata": {
        "id": "j7Lug3fAsBMM"
      },
      "id": "j7Lug3fAsBMM",
      "execution_count": null,
      "outputs": []
    },
    {
      "cell_type": "markdown",
      "source": [
        "## Test DACS"
      ],
      "metadata": {
        "id": "eP28obX5r0H5"
      },
      "id": "eP28obX5r0H5"
    },
    {
      "cell_type": "code",
      "source": [
        "# Train\n",
        "# !python3 sem_seg_dacs.py \\\n",
        "#     --train \\\n",
        "#     --model_name PIDNet_S \\\n",
        "#     --version 0T \\\n",
        "#     --batch_size 6 \\\n",
        "#     --epochs 45 \\\n",
        "#     --store drive"
      ],
      "metadata": {
        "id": "pFbI1T1L7PMQ"
      },
      "id": "pFbI1T1L7PMQ",
      "execution_count": null,
      "outputs": []
    },
    {
      "cell_type": "code",
      "source": [
        "# Test\n",
        "# !python3 sem_seg_dacs.py \\\n",
        "#     --test \\\n",
        "#     --model_name PIDNet_S \\\n",
        "#     --version 0T \\\n",
        "#     --model_file last_0.pt \\\n",
        "#     --target_domain Urban \\\n",
        "#     --store drive\n",
        "\n",
        "# !python3 sem_seg_dacs.py \\\n",
        "#     --test \\\n",
        "#     --model_name PIDNet_S \\\n",
        "#     --version 0T \\\n",
        "#     --model_file best_0.pt \\\n",
        "#     --target_domain Urban \\\n",
        "#     --store drive\n",
        "\n",
        "# !python3 sem_seg_dacs.py \\\n",
        "#     --test \\\n",
        "#     --model_name PIDNet_S \\\n",
        "#     --version 0T \\\n",
        "#     --model_file last_0.pt \\\n",
        "#     --target_domain Rural \\\n",
        "#     --store drive\n",
        "\n",
        "# !python3 sem_seg_dacs.py \\\n",
        "#     --test \\\n",
        "#     --model_name PIDNet_S \\\n",
        "#     --version 0T \\\n",
        "#     --model_file best_0.pt \\\n",
        "#     --target_domain Rural \\\n",
        "#     --store drive"
      ],
      "metadata": {
        "id": "SlJV87Ik7R5A"
      },
      "id": "SlJV87Ik7R5A",
      "execution_count": null,
      "outputs": []
    }
  ],
  "metadata": {
    "accelerator": "GPU",
    "colab": {
      "gpuType": "T4",
      "provenance": []
    },
    "kernelspec": {
      "display_name": "base",
      "language": "python",
      "name": "python3"
    },
    "language_info": {
      "codemirror_mode": {
        "name": "ipython",
        "version": 3
      },
      "file_extension": ".py",
      "mimetype": "text/x-python",
      "name": "python",
      "nbconvert_exporter": "python",
      "pygments_lexer": "ipython3",
      "version": "3.12.7"
    }
  },
  "nbformat": 4,
  "nbformat_minor": 5
}