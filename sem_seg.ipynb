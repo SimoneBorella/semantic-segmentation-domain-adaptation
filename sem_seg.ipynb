{
  "cells": [
    {
      "cell_type": "markdown",
      "id": "0K9H8Nk-N_Tf",
      "metadata": {
        "id": "0K9H8Nk-N_Tf"
      },
      "source": [
        "# Real-time Domain Adaptation in Semantic Segmentation"
      ]
    },
    {
      "cell_type": "markdown",
      "id": "f722511a",
      "metadata": {
        "id": "f722511a"
      },
      "source": [
        "## Mount drive"
      ]
    },
    {
      "cell_type": "code",
      "execution_count": null,
      "id": "vVcmrIe_TGGA",
      "metadata": {
        "id": "vVcmrIe_TGGA"
      },
      "outputs": [],
      "source": [
        "from google.colab import drive\n",
        "drive.mount('/content/drive')"
      ]
    },
    {
      "cell_type": "markdown",
      "id": "be24ecf1",
      "metadata": {
        "id": "be24ecf1"
      },
      "source": [
        "## Import code"
      ]
    },
    {
      "cell_type": "code",
      "execution_count": null,
      "id": "GrQxrFD9QBIi",
      "metadata": {
        "id": "GrQxrFD9QBIi"
      },
      "outputs": [],
      "source": [
        "!git clone https://github.com/SimoneBorella/semantic-segmentation-domain-adaptation.git\n",
        "\n",
        "!cp -r ./semantic-segmentation-domain-adaptation/datasets .\n",
        "!cp -r ./semantic-segmentation-domain-adaptation/models .\n",
        "!cp -r ./semantic-segmentation-domain-adaptation/criteria .\n",
        "!cp -r ./semantic-segmentation-domain-adaptation/utils .\n",
        "!cp ./semantic-segmentation-domain-adaptation/get_dataset.bash .\n",
        "!cp ./semantic-segmentation-domain-adaptation/get_weights_pretrained.bash .\n",
        "!cp ./semantic-segmentation-domain-adaptation/sem_seg.py .\n",
        "!cp ./semantic-segmentation-domain-adaptation/sem_seg_da_adv.py .\n",
        "!cp ./semantic-segmentation-domain-adaptation/sem_seg_dacs.py .\n",
        "\n",
        "!rm -r ./semantic-segmentation-domain-adaptation\n",
        "!rm -r sample_data"
      ]
    },
    {
      "cell_type": "markdown",
      "id": "d0e497ec",
      "metadata": {
        "id": "d0e497ec"
      },
      "source": [
        "## Packages installation"
      ]
    },
    {
      "cell_type": "code",
      "execution_count": null,
      "id": "5q3A_omGNpCf",
      "metadata": {
        "id": "5q3A_omGNpCf"
      },
      "outputs": [],
      "source": [
        "!pip3 install torch torchvision torchaudio gdown fvcore kornia"
      ]
    },
    {
      "cell_type": "markdown",
      "id": "0302d761",
      "metadata": {
        "id": "0302d761"
      },
      "source": [
        "## Download LoveDA dataset"
      ]
    },
    {
      "cell_type": "code",
      "execution_count": null,
      "id": "5a2f0959",
      "metadata": {
        "id": "5a2f0959"
      },
      "outputs": [],
      "source": [
        "!bash get_dataset.bash"
      ]
    },
    {
      "cell_type": "markdown",
      "id": "b39ac3ab",
      "metadata": {
        "id": "b39ac3ab"
      },
      "source": [
        "# Download weights pretrained"
      ]
    },
    {
      "cell_type": "code",
      "execution_count": null,
      "id": "ba683512",
      "metadata": {
        "id": "ba683512"
      },
      "outputs": [],
      "source": [
        "!bash get_weights_pretrained.bash"
      ]
    },
    {
      "cell_type": "markdown",
      "id": "065eb67f",
      "metadata": {
        "id": "065eb67f"
      },
      "source": [
        "## DeepLabV2_ResNet101"
      ]
    },
    {
      "cell_type": "markdown",
      "source": [
        "### Version 0"
      ],
      "metadata": {
        "id": "7nuYgig-CZrD"
      },
      "id": "7nuYgig-CZrD"
    },
    {
      "cell_type": "code",
      "execution_count": null,
      "id": "38b64585",
      "metadata": {
        "id": "38b64585"
      },
      "outputs": [],
      "source": [
        "# Train\n",
        "# !python3 sem_seg.py \\\n",
        "#     --train \\\n",
        "#     --model_name DeepLabV2_ResNet101 \\\n",
        "#     --version 0 \\\n",
        "#     --source_domain Rural \\\n",
        "#     --batch_size 6 \\\n",
        "#     --criterion CrossEntropyLoss \\\n",
        "#     --optimizer SGD \\\n",
        "#     --scheduler PolynomialLR \\\n",
        "#     --lr 0.01 \\\n",
        "#     --epochs 20 \\\n",
        "#     --store drive"
      ]
    },
    {
      "cell_type": "code",
      "source": [
        "# Test\n",
        "# !python3 sem_seg.py \\\n",
        "#     --test \\\n",
        "#     --model_name DeepLabV2_ResNet101 \\\n",
        "#     --version 0 \\\n",
        "#     --model_file last_0.pt \\\n",
        "#     --target_domain Rural \\\n",
        "#     --store drive\n",
        "\n",
        "# !python3 sem_seg.py \\\n",
        "#     --test \\\n",
        "#     --model_name DeepLabV2_ResNet101 \\\n",
        "#     --version 0 \\\n",
        "#     --model_file best_0.pt \\\n",
        "#     --target_domain Rural \\\n",
        "#     --store drive\n",
        "\n",
        "# !python3 sem_seg.py \\\n",
        "#     --test \\\n",
        "#     --model_name DeepLabV2_ResNet101 \\\n",
        "#     --version 0 \\\n",
        "#     --model_file last_0.pt \\\n",
        "#     --target_domain Urban \\\n",
        "#     --store drive\n",
        "\n",
        "# !python3 sem_seg.py \\\n",
        "#     --test \\\n",
        "#     --model_name DeepLabV2_ResNet101 \\\n",
        "#     --version 0 \\\n",
        "#     --model_file best_0.pt \\\n",
        "#     --target_domain Urban \\\n",
        "#     --store drive"
      ],
      "metadata": {
        "id": "_2B91EQ1peh3"
      },
      "id": "_2B91EQ1peh3",
      "execution_count": null,
      "outputs": []
    },
    {
      "cell_type": "markdown",
      "source": [
        "### Version 1"
      ],
      "metadata": {
        "id": "CmFVsxnQn-GS"
      },
      "id": "CmFVsxnQn-GS"
    },
    {
      "cell_type": "code",
      "source": [
        "# Train\n",
        "# !python3 sem_seg.py \\\n",
        "#     --train \\\n",
        "#     --model_name DeepLabV2_ResNet101 \\\n",
        "#     --version 1 \\\n",
        "#     --source_domain Rural \\\n",
        "#     --batch_size 6 \\\n",
        "#     --criterion CrossEntropyLoss \\\n",
        "#     --optimizer SGD \\\n",
        "#     --scheduler PolynomialLR \\\n",
        "#     --lr 0.001 \\\n",
        "#     --epochs 20 \\\n",
        "#     --store drive"
      ],
      "metadata": {
        "id": "79H1QUMnoACQ"
      },
      "id": "79H1QUMnoACQ",
      "execution_count": null,
      "outputs": []
    },
    {
      "cell_type": "code",
      "source": [
        "# Test\n",
        "# !python3 sem_seg.py \\\n",
        "#     --test \\\n",
        "#     --model_name DeepLabV2_ResNet101 \\\n",
        "#     --version 1 \\\n",
        "#     --model_file last_0.pt \\\n",
        "#     --target_domain Rural \\\n",
        "#     --store drive\n",
        "\n",
        "# !python3 sem_seg.py \\\n",
        "#     --test \\\n",
        "#     --model_name DeepLabV2_ResNet101 \\\n",
        "#     --version 1 \\\n",
        "#     --model_file best_0.pt \\\n",
        "#     --target_domain Rural \\\n",
        "#     --store drive\n",
        "\n",
        "# !python3 sem_seg.py \\\n",
        "#     --test \\\n",
        "#     --model_name DeepLabV2_ResNet101 \\\n",
        "#     --version 1 \\\n",
        "#     --model_file last_0.pt \\\n",
        "#     --target_domain Urban \\\n",
        "#     --store drive\n",
        "\n",
        "# !python3 sem_seg.py \\\n",
        "#     --test \\\n",
        "#     --model_name DeepLabV2_ResNet101 \\\n",
        "#     --version 1 \\\n",
        "#     --model_file best_0.pt \\\n",
        "#     --target_domain Urban \\\n",
        "#     --store drive"
      ],
      "metadata": {
        "id": "PE22jigUoG_1"
      },
      "id": "PE22jigUoG_1",
      "execution_count": null,
      "outputs": []
    },
    {
      "cell_type": "markdown",
      "id": "u1oHe3-oPUWw",
      "metadata": {
        "id": "u1oHe3-oPUWw"
      },
      "source": [
        "## PIDNet"
      ]
    },
    {
      "cell_type": "markdown",
      "source": [
        "### Version 0"
      ],
      "metadata": {
        "id": "mJ1D-4inCc95"
      },
      "id": "mJ1D-4inCc95"
    },
    {
      "cell_type": "code",
      "execution_count": null,
      "id": "1781uEUIQsIL",
      "metadata": {
        "id": "1781uEUIQsIL"
      },
      "outputs": [],
      "source": [
        "# Train\n",
        "# !python3 sem_seg.py \\\n",
        "#     --train \\\n",
        "#     --model_name PIDNet_S \\\n",
        "#     --version 0 \\\n",
        "#     --source_domain Rural \\\n",
        "#     --batch_size 6 \\\n",
        "#     --criterion OhemCrossEntropyLoss \\\n",
        "#     --optimizer SGD \\\n",
        "#     --scheduler PolynomialLR \\\n",
        "#     --lr 0.01 \\\n",
        "#     --epochs 20 \\\n",
        "#     --store drive"
      ]
    },
    {
      "cell_type": "code",
      "source": [
        "# Test\n",
        "# !python3 sem_seg.py \\\n",
        "#     --test \\\n",
        "#     --model_name PIDNet_S \\\n",
        "#     --version 0 \\\n",
        "#     --model_file last_0.pt \\\n",
        "#     --target_domain Urban \\\n",
        "#     --store drive\n",
        "\n",
        "# !python3 sem_seg.py \\\n",
        "#     --test \\\n",
        "#     --model_name PIDNet_S \\\n",
        "#     --version 0 \\\n",
        "#     --model_file best_0.pt \\\n",
        "#     --target_domain Urban \\\n",
        "#     --store drive\n",
        "\n",
        "# !python3 sem_seg.py \\\n",
        "#     --test \\\n",
        "#     --model_name PIDNet_S \\\n",
        "#     --version 0 \\\n",
        "#     --model_file last_0.pt \\\n",
        "#     --target_domain Rural \\\n",
        "#     --store drive\n",
        "\n",
        "# !python3 sem_seg.py \\\n",
        "#     --test \\\n",
        "#     --model_name PIDNet_S \\\n",
        "#     --version 0 \\\n",
        "#     --model_file best_0.pt \\\n",
        "#     --target_domain Rural \\\n",
        "#     --store drive"
      ],
      "metadata": {
        "id": "YoW7heiovwH-"
      },
      "id": "YoW7heiovwH-",
      "execution_count": null,
      "outputs": []
    },
    {
      "cell_type": "markdown",
      "source": [
        "### Version 1"
      ],
      "metadata": {
        "id": "YXYwhR3wCerq"
      },
      "id": "YXYwhR3wCerq"
    },
    {
      "cell_type": "code",
      "source": [
        "# Train\n",
        "# !python3 sem_seg.py \\\n",
        "#     --train \\\n",
        "#     --model_name PIDNet_S \\\n",
        "#     --version 1 \\\n",
        "#     --source_domain Urban \\\n",
        "#     --batch_size 6 \\\n",
        "#     --criterion OhemCrossEntropyLoss \\\n",
        "#     --optimizer SGD \\\n",
        "#     --scheduler PolynomialLR \\\n",
        "#     --lr 0.01 \\\n",
        "#     --epochs 20 \\\n",
        "#     --store drive"
      ],
      "metadata": {
        "id": "cRB86IA033Fj"
      },
      "id": "cRB86IA033Fj",
      "execution_count": null,
      "outputs": []
    },
    {
      "cell_type": "code",
      "source": [
        "# Test\n",
        "# !python3 sem_seg.py \\\n",
        "#     --test \\\n",
        "#     --model_name PIDNet_S \\\n",
        "#     --version 1 \\\n",
        "#     --model_file last_0.pt \\\n",
        "#     --target_domain Urban \\\n",
        "#     --store drive\n",
        "\n",
        "# !python3 sem_seg.py \\\n",
        "#     --test \\\n",
        "#     --model_name PIDNet_S \\\n",
        "#     --version 1 \\\n",
        "#     --model_file best_0.pt \\\n",
        "#     --target_domain Urban \\\n",
        "#     --store drive\n",
        "\n",
        "# !python3 sem_seg.py \\\n",
        "#     --test \\\n",
        "#     --model_name PIDNet_S \\\n",
        "#     --version 1 \\\n",
        "#     --model_file last_0.pt \\\n",
        "#     --target_domain Rural \\\n",
        "#     --store drive\n",
        "\n",
        "# !python3 sem_seg.py \\\n",
        "#     --test \\\n",
        "#     --model_name PIDNet_S \\\n",
        "#     --version 1 \\\n",
        "#     --model_file best_0.pt \\\n",
        "#     --target_domain Rural \\\n",
        "#     --store drive"
      ],
      "metadata": {
        "id": "hd8vzW6L4CNX"
      },
      "id": "hd8vzW6L4CNX",
      "execution_count": null,
      "outputs": []
    },
    {
      "cell_type": "markdown",
      "source": [
        "### Version 2"
      ],
      "metadata": {
        "id": "L9Jw_5xfP7rl"
      },
      "id": "L9Jw_5xfP7rl"
    },
    {
      "cell_type": "code",
      "source": [
        "# Train\n",
        "# !python3 sem_seg.py \\\n",
        "#     --train \\\n",
        "#     --model_name PIDNet_S \\\n",
        "#     --version 2 \\\n",
        "#     --source_domain Rural \\\n",
        "#     --batch_size 6 \\\n",
        "#     --criterion OhemCrossEntropyLoss \\\n",
        "#     --optimizer SGD \\\n",
        "#     --scheduler PolynomialLR \\\n",
        "#     --lr 0.001 \\\n",
        "#     --epochs 20 \\\n",
        "#     --store drive"
      ],
      "metadata": {
        "id": "grG7HbW3P9m9"
      },
      "id": "grG7HbW3P9m9",
      "execution_count": null,
      "outputs": []
    },
    {
      "cell_type": "code",
      "source": [
        "# Test\n",
        "# !python3 sem_seg.py \\\n",
        "#     --test \\\n",
        "#     --model_name PIDNet_S \\\n",
        "#     --version 2 \\\n",
        "#     --model_file last_0.pt \\\n",
        "#     --target_domain Urban \\\n",
        "#     --store drive\n",
        "\n",
        "# !python3 sem_seg.py \\\n",
        "#     --test \\\n",
        "#     --model_name PIDNet_S \\\n",
        "#     --version 2 \\\n",
        "#     --model_file best_0.pt \\\n",
        "#     --target_domain Urban \\\n",
        "#     --store drive\n",
        "\n",
        "# !python3 sem_seg.py \\\n",
        "#     --test \\\n",
        "#     --model_name PIDNet_S \\\n",
        "#     --version 2 \\\n",
        "#     --model_file last_0.pt \\\n",
        "#     --target_domain Rural \\\n",
        "#     --store drive\n",
        "\n",
        "# !python3 sem_seg.py \\\n",
        "#     --test \\\n",
        "#     --model_name PIDNet_S \\\n",
        "#     --version 2 \\\n",
        "#     --model_file best_0.pt \\\n",
        "#     --target_domain Rural \\\n",
        "#     --store drive"
      ],
      "metadata": {
        "id": "3PmiChAUP-ci"
      },
      "id": "3PmiChAUP-ci",
      "execution_count": null,
      "outputs": []
    },
    {
      "cell_type": "markdown",
      "source": [
        "### Version 3"
      ],
      "metadata": {
        "id": "1znNDkpmLms8"
      },
      "id": "1znNDkpmLms8"
    },
    {
      "cell_type": "code",
      "source": [
        "# Train\n",
        "# !python3 sem_seg.py \\\n",
        "#     --train \\\n",
        "#     --model_name PIDNet_S \\\n",
        "#     --version 3 \\\n",
        "#     --source_domain Urban \\\n",
        "#     --batch_size 6 \\\n",
        "#     --criterion OhemCrossEntropyLoss \\\n",
        "#     --optimizer SGD \\\n",
        "#     --scheduler PolynomialLR \\\n",
        "#     --lr 0.001 \\\n",
        "#     --epochs 20 \\\n",
        "#     --store drive"
      ],
      "metadata": {
        "id": "P2XlPTekLops"
      },
      "id": "P2XlPTekLops",
      "execution_count": null,
      "outputs": []
    },
    {
      "cell_type": "code",
      "source": [
        "# Test\n",
        "# !python3 sem_seg.py \\\n",
        "#     --test \\\n",
        "#     --model_name PIDNet_S \\\n",
        "#     --version 3 \\\n",
        "#     --model_file last_0.pt \\\n",
        "#     --target_domain Urban \\\n",
        "#     --store drive\n",
        "\n",
        "# !python3 sem_seg.py \\\n",
        "#     --test \\\n",
        "#     --model_name PIDNet_S \\\n",
        "#     --version 3 \\\n",
        "#     --model_file best_0.pt \\\n",
        "#     --target_domain Urban \\\n",
        "#     --store drive\n",
        "\n",
        "# !python3 sem_seg.py \\\n",
        "#     --test \\\n",
        "#     --model_name PIDNet_S \\\n",
        "#     --version 3 \\\n",
        "#     --model_file last_0.pt \\\n",
        "#     --target_domain Rural \\\n",
        "#     --store drive\n",
        "\n",
        "# !python3 sem_seg.py \\\n",
        "#     --test \\\n",
        "#     --model_name PIDNet_S \\\n",
        "#     --version 3 \\\n",
        "#     --model_file best_0.pt \\\n",
        "#     --target_domain Rural \\\n",
        "#     --store drive"
      ],
      "metadata": {
        "id": "Cj2mRgD5_6E4"
      },
      "id": "Cj2mRgD5_6E4",
      "execution_count": null,
      "outputs": []
    },
    {
      "cell_type": "markdown",
      "source": [
        "### Version 4"
      ],
      "metadata": {
        "id": "Mfs8oz9pQ4d8"
      },
      "id": "Mfs8oz9pQ4d8"
    },
    {
      "cell_type": "code",
      "source": [
        "# Train\n",
        "!python3 sem_seg.py \\\n",
        "    --train \\\n",
        "    --model_name PIDNet_S \\\n",
        "    --version 4 \\\n",
        "    --source_domain Urban \\\n",
        "    --horizontal_flip_augmentation \\\n",
        "    --shift_scale_rotate_augmentation \\\n",
        "    --batch_size 6 \\\n",
        "    --criterion OhemCrossEntropyLoss \\\n",
        "    --optimizer SGD \\\n",
        "    --scheduler PolynomialLR \\\n",
        "    --lr 0.001 \\\n",
        "    --epochs 20 \\\n",
        "    --store drive"
      ],
      "metadata": {
        "id": "ZO4nUoQFQ6bO"
      },
      "id": "ZO4nUoQFQ6bO",
      "execution_count": null,
      "outputs": []
    },
    {
      "cell_type": "code",
      "source": [
        "# Test\n",
        "!python3 sem_seg.py \\\n",
        "    --test \\\n",
        "    --model_name PIDNet_S \\\n",
        "    --version 4 \\\n",
        "    --model_file last_0.pt \\\n",
        "    --target_domain Urban \\\n",
        "    --store drive\n",
        "\n",
        "!python3 sem_seg.py \\\n",
        "    --test \\\n",
        "    --model_name PIDNet_S \\\n",
        "    --version 4 \\\n",
        "    --model_file best_0.pt \\\n",
        "    --target_domain Urban \\\n",
        "    --store drive\n",
        "\n",
        "!python3 sem_seg.py \\\n",
        "    --test \\\n",
        "    --model_name PIDNet_S \\\n",
        "    --version 4 \\\n",
        "    --model_file last_0.pt \\\n",
        "    --target_domain Rural \\\n",
        "    --store drive\n",
        "\n",
        "!python3 sem_seg.py \\\n",
        "    --test \\\n",
        "    --model_name PIDNet_S \\\n",
        "    --version 4 \\\n",
        "    --model_file best_0.pt \\\n",
        "    --target_domain Rural \\\n",
        "    --store drive"
      ],
      "metadata": {
        "id": "shkIo1zlQ-5v"
      },
      "id": "shkIo1zlQ-5v",
      "execution_count": null,
      "outputs": []
    },
    {
      "cell_type": "markdown",
      "source": [
        "### Version 5"
      ],
      "metadata": {
        "id": "5wSUEGPHRDTR"
      },
      "id": "5wSUEGPHRDTR"
    },
    {
      "cell_type": "code",
      "source": [
        "# Train\n",
        "!python3 sem_seg.py \\\n",
        "    --train \\\n",
        "    --model_name PIDNet_S \\\n",
        "    --version 5 \\\n",
        "    --source_domain Urban \\\n",
        "    --horizontal_flip_augmentation \\\n",
        "    --shift_scale_rotate_augmentation \\\n",
        "    --grid_distortion_augmentation \\\n",
        "    --batch_size 6 \\\n",
        "    --criterion OhemCrossEntropyLoss \\\n",
        "    --optimizer SGD \\\n",
        "    --scheduler PolynomialLR \\\n",
        "    --lr 0.001 \\\n",
        "    --epochs 20 \\\n",
        "    --store drive"
      ],
      "metadata": {
        "id": "jDj7Viy0RC_A"
      },
      "id": "jDj7Viy0RC_A",
      "execution_count": null,
      "outputs": []
    },
    {
      "cell_type": "code",
      "source": [
        "# Test\n",
        "!python3 sem_seg.py \\\n",
        "    --test \\\n",
        "    --model_name PIDNet_S \\\n",
        "    --version 5 \\\n",
        "    --model_file last_0.pt \\\n",
        "    --target_domain Urban \\\n",
        "    --store drive\n",
        "\n",
        "!python3 sem_seg.py \\\n",
        "    --test \\\n",
        "    --model_name PIDNet_S \\\n",
        "    --version 5 \\\n",
        "    --model_file best_0.pt \\\n",
        "    --target_domain Urban \\\n",
        "    --store drive\n",
        "\n",
        "!python3 sem_seg.py \\\n",
        "    --test \\\n",
        "    --model_name PIDNet_S \\\n",
        "    --version 5 \\\n",
        "    --model_file last_0.pt \\\n",
        "    --target_domain Rural \\\n",
        "    --store drive\n",
        "\n",
        "!python3 sem_seg.py \\\n",
        "    --test \\\n",
        "    --model_name PIDNet_S \\\n",
        "    --version 5 \\\n",
        "    --model_file best_0.pt \\\n",
        "    --target_domain Rural \\\n",
        "    --store drive"
      ],
      "metadata": {
        "id": "aXiEITm_RHFd"
      },
      "id": "aXiEITm_RHFd",
      "execution_count": null,
      "outputs": []
    },
    {
      "cell_type": "markdown",
      "source": [
        "### Version 6"
      ],
      "metadata": {
        "id": "VNvoI0647uJx"
      },
      "id": "VNvoI0647uJx"
    },
    {
      "cell_type": "code",
      "source": [
        "# Train\n",
        "!python3 sem_seg.py \\\n",
        "    --train \\\n",
        "    --model_name PIDNet_S \\\n",
        "    --version 6 \\\n",
        "    --source_domain Urban \\\n",
        "    --shift_scale_rotate_augmentation \\\n",
        "    --random_crop_augmentation \\\n",
        "    --batch_size 6 \\\n",
        "    --criterion OhemCrossEntropyLoss \\\n",
        "    --optimizer SGD \\\n",
        "    --scheduler PolynomialLR \\\n",
        "    --lr 0.001 \\\n",
        "    --epochs 20 \\\n",
        "    --store drive"
      ],
      "metadata": {
        "id": "6pokdWxV7wDc"
      },
      "id": "6pokdWxV7wDc",
      "execution_count": null,
      "outputs": []
    },
    {
      "cell_type": "code",
      "source": [
        "# Test\n",
        "!python3 sem_seg.py \\\n",
        "    --test \\\n",
        "    --model_name PIDNet_S \\\n",
        "    --version 6 \\\n",
        "    --model_file last_0.pt \\\n",
        "    --target_domain Urban \\\n",
        "    --store drive\n",
        "\n",
        "!python3 sem_seg.py \\\n",
        "    --test \\\n",
        "    --model_name PIDNet_S \\\n",
        "    --version 6 \\\n",
        "    --model_file best_0.pt \\\n",
        "    --target_domain Urban \\\n",
        "    --store drive\n",
        "\n",
        "!python3 sem_seg.py \\\n",
        "    --test \\\n",
        "    --model_name PIDNet_S \\\n",
        "    --version 6 \\\n",
        "    --model_file last_0.pt \\\n",
        "    --target_domain Rural \\\n",
        "    --store drive\n",
        "\n",
        "!python3 sem_seg.py \\\n",
        "    --test \\\n",
        "    --model_name PIDNet_S \\\n",
        "    --version 6 \\\n",
        "    --model_file best_0.pt \\\n",
        "    --target_domain Rural \\\n",
        "    --store drive"
      ],
      "metadata": {
        "id": "iQXuVpB6RnVy"
      },
      "id": "iQXuVpB6RnVy",
      "execution_count": null,
      "outputs": []
    },
    {
      "cell_type": "markdown",
      "source": [
        "### Version 7"
      ],
      "metadata": {
        "id": "AKC-Ag3TKmD-"
      },
      "id": "AKC-Ag3TKmD-"
    },
    {
      "cell_type": "code",
      "source": [
        "# Train\n",
        "!python3 sem_seg.py \\\n",
        "    --train \\\n",
        "    --model_name PIDNet_S \\\n",
        "    --version 7 \\\n",
        "    --source_domain Urban \\\n",
        "    --shift_scale_rotate_augmentation \\\n",
        "    --coarse_dropout_augmentation \\\n",
        "    --batch_size 6 \\\n",
        "    --criterion OhemCrossEntropyLoss \\\n",
        "    --optimizer SGD \\\n",
        "    --scheduler PolynomialLR \\\n",
        "    --lr 0.001 \\\n",
        "    --epochs 20 \\\n",
        "    --store drive"
      ],
      "metadata": {
        "id": "OdxivdnvKory"
      },
      "id": "OdxivdnvKory",
      "execution_count": null,
      "outputs": []
    },
    {
      "cell_type": "code",
      "source": [
        "# Test\n",
        "!python3 sem_seg.py \\\n",
        "    --test \\\n",
        "    --model_name PIDNet_S \\\n",
        "    --version 7 \\\n",
        "    --model_file last_0.pt \\\n",
        "    --target_domain Urban \\\n",
        "    --store drive\n",
        "\n",
        "!python3 sem_seg.py \\\n",
        "    --test \\\n",
        "    --model_name PIDNet_S \\\n",
        "    --version 7 \\\n",
        "    --model_file best_0.pt \\\n",
        "    --target_domain Urban \\\n",
        "    --store drive\n",
        "\n",
        "!python3 sem_seg.py \\\n",
        "    --test \\\n",
        "    --model_name PIDNet_S \\\n",
        "    --version 7 \\\n",
        "    --model_file last_0.pt \\\n",
        "    --target_domain Rural \\\n",
        "    --store drive\n",
        "\n",
        "!python3 sem_seg.py \\\n",
        "    --test \\\n",
        "    --model_name PIDNet_S \\\n",
        "    --version 7 \\\n",
        "    --model_file best_0.pt \\\n",
        "    --target_domain Rural \\\n",
        "    --store drive"
      ],
      "metadata": {
        "id": "Gee8T9VcKqOr"
      },
      "id": "Gee8T9VcKqOr",
      "execution_count": null,
      "outputs": []
    },
    {
      "cell_type": "markdown",
      "source": [
        "### Version 8"
      ],
      "metadata": {
        "id": "5z4Yf_e7LHBm"
      },
      "id": "5z4Yf_e7LHBm"
    },
    {
      "cell_type": "code",
      "source": [
        "# Train\n",
        "!python3 sem_seg.py \\\n",
        "    --train \\\n",
        "    --model_name PIDNet_S \\\n",
        "    --version 8 \\\n",
        "    --source_domain Urban \\\n",
        "    --random_crop_augmentation \\\n",
        "    --coarse_dropout_augmentation \\\n",
        "    --batch_size 6 \\\n",
        "    --criterion OhemCrossEntropyLoss \\\n",
        "    --optimizer SGD \\\n",
        "    --scheduler PolynomialLR \\\n",
        "    --lr 0.001 \\\n",
        "    --epochs 20 \\\n",
        "    --store drive"
      ],
      "metadata": {
        "id": "_U266rfpLHVv"
      },
      "id": "_U266rfpLHVv",
      "execution_count": null,
      "outputs": []
    },
    {
      "cell_type": "code",
      "source": [
        "# Test\n",
        "!python3 sem_seg.py \\\n",
        "    --test \\\n",
        "    --model_name PIDNet_S \\\n",
        "    --version 8 \\\n",
        "    --model_file last_0.pt \\\n",
        "    --target_domain Urban \\\n",
        "    --store drive\n",
        "\n",
        "!python3 sem_seg.py \\\n",
        "    --test \\\n",
        "    --model_name PIDNet_S \\\n",
        "    --version 8 \\\n",
        "    --model_file best_0.pt \\\n",
        "    --target_domain Urban \\\n",
        "    --store drive\n",
        "\n",
        "!python3 sem_seg.py \\\n",
        "    --test \\\n",
        "    --model_name PIDNet_S \\\n",
        "    --version 8 \\\n",
        "    --model_file last_0.pt \\\n",
        "    --target_domain Rural \\\n",
        "    --store drive\n",
        "\n",
        "!python3 sem_seg.py \\\n",
        "    --test \\\n",
        "    --model_name PIDNet_S \\\n",
        "    --version 8 \\\n",
        "    --model_file best_0.pt \\\n",
        "    --target_domain Rural \\\n",
        "    --store drive"
      ],
      "metadata": {
        "id": "adeO5RhlLGxJ"
      },
      "id": "adeO5RhlLGxJ",
      "execution_count": null,
      "outputs": []
    },
    {
      "cell_type": "markdown",
      "source": [
        "## PIDNet DACS"
      ],
      "metadata": {
        "id": "cZyo34KeoLxQ"
      },
      "id": "cZyo34KeoLxQ"
    },
    {
      "cell_type": "markdown",
      "source": [
        "### Version 0"
      ],
      "metadata": {
        "id": "VzOOjl14paoW"
      },
      "id": "VzOOjl14paoW"
    },
    {
      "cell_type": "code",
      "source": [
        "# Train\n",
        "!python3 sem_seg_dacs.py \\\n",
        "    --train \\\n",
        "    --model_name PIDNet_S \\\n",
        "    --version 0 \\\n",
        "    --batch_size 6 \\\n",
        "    --lr 0.001 \\\n",
        "    --epochs 20 \\\n",
        "    --store drive"
      ],
      "metadata": {
        "id": "EnednNDQoMKM"
      },
      "id": "EnednNDQoMKM",
      "execution_count": null,
      "outputs": []
    },
    {
      "cell_type": "code",
      "source": [
        "# Test\n",
        "!python3 sem_seg_dacs.py \\\n",
        "    --test \\\n",
        "    --model_name PIDNet_S \\\n",
        "    --version 0 \\\n",
        "    --model_file last_0.pt \\\n",
        "    --target_domain Urban \\\n",
        "    --store drive\n",
        "\n",
        "!python3 sem_seg_dacs.py \\\n",
        "    --test \\\n",
        "    --model_name PIDNet_S \\\n",
        "    --version 0 \\\n",
        "    --model_file best_0.pt \\\n",
        "    --target_domain Urban \\\n",
        "    --store drive\n",
        "\n",
        "!python3 sem_seg_dacs.py \\\n",
        "    --test \\\n",
        "    --model_name PIDNet_S \\\n",
        "    --version 0 \\\n",
        "    --model_file last_0.pt \\\n",
        "    --target_domain Rural \\\n",
        "    --store drive\n",
        "\n",
        "!python3 sem_seg_dacs.py \\\n",
        "    --test \\\n",
        "    --model_name PIDNet_S \\\n",
        "    --version 0 \\\n",
        "    --model_file best_0.pt \\\n",
        "    --target_domain Rural \\\n",
        "    --store drive"
      ],
      "metadata": {
        "id": "CeBe55ZNoLMS"
      },
      "id": "CeBe55ZNoLMS",
      "execution_count": null,
      "outputs": []
    },
    {
      "cell_type": "markdown",
      "source": [
        "### Version 1"
      ],
      "metadata": {
        "id": "yJAoqZbzpcdR"
      },
      "id": "yJAoqZbzpcdR"
    },
    {
      "cell_type": "code",
      "source": [
        "# Train\n",
        "!python3 sem_seg_dacs.py \\\n",
        "    --train \\\n",
        "    --model_name PIDNet_S \\\n",
        "    --version 1 \\\n",
        "    --batch_size 6 \\\n",
        "    --color_jitter_augmentation \\\n",
        "    --gaussian_blur_augmentation \\\n",
        "    --lr 0.001 \\\n",
        "    --epochs 20 \\\n",
        "    --store drive"
      ],
      "metadata": {
        "id": "D7WdvhK_peDX"
      },
      "id": "D7WdvhK_peDX",
      "execution_count": null,
      "outputs": []
    },
    {
      "cell_type": "code",
      "source": [
        "# Test\n",
        "!python3 sem_seg_dacs.py \\\n",
        "    --test \\\n",
        "    --model_name PIDNet_S \\\n",
        "    --version 1 \\\n",
        "    --model_file last_0.pt \\\n",
        "    --target_domain Urban \\\n",
        "    --store drive\n",
        "\n",
        "!python3 sem_seg_dacs.py \\\n",
        "    --test \\\n",
        "    --model_name PIDNet_S \\\n",
        "    --version 1 \\\n",
        "    --model_file best_0.pt \\\n",
        "    --target_domain Urban \\\n",
        "    --store drive\n",
        "\n",
        "!python3 sem_seg_dacs.py \\\n",
        "    --test \\\n",
        "    --model_name PIDNet_S \\\n",
        "    --version 1 \\\n",
        "    --model_file last_0.pt \\\n",
        "    --target_domain Rural \\\n",
        "    --store drive\n",
        "\n",
        "!python3 sem_seg_dacs.py \\\n",
        "    --test \\\n",
        "    --model_name PIDNet_S \\\n",
        "    --version 1 \\\n",
        "    --model_file best_0.pt \\\n",
        "    --target_domain Rural \\\n",
        "    --store drive"
      ],
      "metadata": {
        "id": "uWl5DSfUpjpD"
      },
      "id": "uWl5DSfUpjpD",
      "execution_count": null,
      "outputs": []
    },
    {
      "cell_type": "markdown",
      "source": [
        "### Version 2"
      ],
      "metadata": {
        "id": "08psIDuOw7Ns"
      },
      "id": "08psIDuOw7Ns"
    },
    {
      "cell_type": "code",
      "source": [
        "# Train\n",
        "!python3 sem_seg_dacs.py \\\n",
        "    --train \\\n",
        "    --model_name PIDNet_S \\\n",
        "    --version 2 \\\n",
        "    --batch_size 6 \\\n",
        "    --horizontal_flip_augmentation \\\n",
        "    --shift_scale_rotate_augmentation \\\n",
        "    --lr 0.001 \\\n",
        "    --epochs 20 \\\n",
        "    --store drive"
      ],
      "metadata": {
        "colab": {
          "base_uri": "https://localhost:8080/"
        },
        "id": "YVqoA7JldBwI",
        "outputId": "56778941-d7a6-4397-a3e7-9af28f28f8d2"
      },
      "id": "YVqoA7JldBwI",
      "execution_count": null,
      "outputs": [
        {
          "output_type": "stream",
          "name": "stdout",
          "text": [
            "/usr/local/lib/python3.11/dist-packages/albumentations/__init__.py:24: UserWarning: A new version of Albumentations is available: 2.0.0 (you have 1.4.20). Upgrade using: pip install -U albumentations. To disable automatic update checks, set the environment variable NO_ALBUMENTATIONS_UPDATE to 1.\n",
            "  check_for_updates()\n",
            "CUDA available\n",
            "Number of devices: 1\n",
            "Device 0:\n",
            "\tName: Tesla T4\n",
            "Device: cuda\n",
            "/content/sem_seg_dacs.py:419: UserWarning: Argument 'fill' is not valid and will be ignored.\n",
            "  transform_list.append(ShiftScaleRotate(shift_limit=0.1, scale_limit=0.25, rotate_limit=15, fill=(0, 0, 0), fill_mask=255, p=0.5))\n",
            "/content/sem_seg_dacs.py:419: UserWarning: Argument 'fill_mask' is not valid and will be ignored.\n",
            "  transform_list.append(ShiftScaleRotate(shift_limit=0.1, scale_limit=0.25, rotate_limit=15, fill=(0, 0, 0), fill_mask=255, p=0.5))\n",
            "/content/models/pidnet/pidnet.py:188: FutureWarning: You are using `torch.load` with `weights_only=False` (the current default value), which uses the default pickle module implicitly. It is possible to construct malicious pickle data which will execute arbitrary code during unpickling (See https://github.com/pytorch/pytorch/blob/main/SECURITY.md#untrusted-models for more details). In a future release, the default value for `weights_only` will be flipped to `True`. This limits the functions that could be executed during unpickling. Arbitrary objects will no longer be allowed to be loaded via this mode unless they are explicitly allowlisted by the user via `torch.serialization.add_safe_globals`. We recommend you start setting `weights_only=True` for any use case where you don't have full control of the loaded file. Please open an issue on GitHub for any issues related to this experimental feature.\n",
            "  pretrained_state = torch.load(pretrain_model_path, map_location='cpu')['state_dict']\n",
            "Loaded 302 parameters.\n",
            "Model: PIDNet_S DACS\n",
            "Device: cuda\n",
            "Cuda device name: Tesla T4\n",
            "Dataset source domain: Urban\n",
            "Dataset target domain: Rural\n",
            "Data augmentation: True\n",
            "- HorizontalFlip(p=0.5)\n",
            "- ShiftScaleRotate(shift_limit=0.1, scale_limit=0.25, rotate_limit=15, fill=(0, 0, 0), fill_mask=255, p=0.5)\n",
            "Batch size: 6\n",
            "\n",
            "Criterion: OhemCrossEntropyLoss\n",
            "\n",
            "Optimizer:\n",
            "SGD (\n",
            "    lr: 0.001\n",
            "    momentum: 0.9\n",
            "    weight_decay: 0.0005\n",
            ")\n",
            "\n",
            "Scheduler:\n",
            "PolynomialLR (\n",
            "    lr: 0.001\n",
            "    power: 0.9\n",
            ")\n",
            "\n",
            "Epoch 1/20:\n",
            "Progress: |----------|   1% \tTime: 00:00:16 s \tLearning rate: 0.00100 \tTrain loss: 23.5394 \tTrain loss labeled: 14.3766 \tTrain loss unlabeled: 9.1629 \tTrain miou: 0.0493 \n",
            "Progress: |----------|   1% \tTime: 00:00:18 s \tLearning rate: 0.00100 \tTrain loss: 22.4043 \tTrain loss labeled: 13.3312 \tTrain loss unlabeled: 9.0732 \tTrain miou: 0.0531 \n",
            "Progress: |----------|   2% \tTime: 00:00:22 s \tLearning rate: 0.00100 \tTrain loss: 21.2955 \tTrain loss labeled: 12.7446 \tTrain loss unlabeled: 8.5509 \tTrain miou: 0.0571 \n",
            "Progress: |----------|   2% \tTime: 00:00:24 s \tLearning rate: 0.00100 \tTrain loss: 21.2795 \tTrain loss labeled: 12.6409 \tTrain loss unlabeled: 8.6387 \tTrain miou: 0.0594 \n",
            "Progress: |----------|   3% \tTime: 00:00:27 s \tLearning rate: 0.00100 \tTrain loss: 20.5237 \tTrain loss labeled: 12.1955 \tTrain loss unlabeled: 8.3282 \tTrain miou: 0.0620 \n",
            "Progress: |----------|   3% \tTime: 00:00:29 s \tLearning rate: 0.00100 \tTrain loss: 20.7125 \tTrain loss labeled: 12.3132 \tTrain loss unlabeled: 8.3993 \tTrain miou: 0.0629 \n",
            "Progress: |----------|   4% \tTime: 00:00:32 s \tLearning rate: 0.00100 \tTrain loss: 20.0781 \tTrain loss labeled: 11.9444 \tTrain loss unlabeled: 8.1337 \tTrain miou: 0.0670 \n",
            "Progress: |----------|   4% \tTime: 00:00:35 s \tLearning rate: 0.00100 \tTrain loss: 19.6355 \tTrain loss labeled: 11.5921 \tTrain loss unlabeled: 8.0434 \tTrain miou: 0.0705 \n",
            "Progress: |----------|   5% \tTime: 00:00:38 s \tLearning rate: 0.00100 \tTrain loss: 19.3633 \tTrain loss labeled: 11.4105 \tTrain loss unlabeled: 7.9529 \tTrain miou: 0.0756 \n",
            "Progress: |----------|   5% \tTime: 00:00:40 s \tLearning rate: 0.00100 \tTrain loss: 18.8656 \tTrain loss labeled: 11.0550 \tTrain loss unlabeled: 7.8106 \tTrain miou: 0.0836 \n",
            "Progress: |----------|   6% \tTime: 00:00:43 s \tLearning rate: 0.00100 \tTrain loss: 18.4284 \tTrain loss labeled: 10.7623 \tTrain loss unlabeled: 7.6661 \tTrain miou: 0.0853 \n",
            "Progress: |----------|   6% \tTime: 00:00:45 s \tLearning rate: 0.00100 \tTrain loss: 18.0945 \tTrain loss labeled: 10.5057 \tTrain loss unlabeled: 7.5888 \tTrain miou: 0.0872 \n",
            "Progress: |----------|   7% \tTime: 00:00:47 s \tLearning rate: 0.00100 \tTrain loss: 17.8723 \tTrain loss labeled: 10.3518 \tTrain loss unlabeled: 7.5205 \tTrain miou: 0.0892 \n",
            "Progress: |----------|   7% \tTime: 00:00:51 s \tLearning rate: 0.00100 \tTrain loss: 17.6322 \tTrain loss labeled: 10.2115 \tTrain loss unlabeled: 7.4207 \tTrain miou: 0.0912 \n",
            "Progress: |----------|   8% \tTime: 00:00:54 s \tLearning rate: 0.00100 \tTrain loss: 17.2735 \tTrain loss labeled: 10.0160 \tTrain loss unlabeled: 7.2575 \tTrain miou: 0.0931 \n",
            "Progress: |----------|   8% \tTime: 00:00:56 s \tLearning rate: 0.00100 \tTrain loss: 16.9532 \tTrain loss labeled: 9.8462 \tTrain loss unlabeled: 7.1070 \tTrain miou: 0.0938 \n",
            "Progress: |----------|   9% \tTime: 00:00:59 s \tLearning rate: 0.00100 \tTrain loss: 16.6755 \tTrain loss labeled: 9.6764 \tTrain loss unlabeled: 6.9991 \tTrain miou: 0.0976 \n",
            "Progress: |----------|   9% \tTime: 00:01:01 s \tLearning rate: 0.00100 \tTrain loss: 16.3582 \tTrain loss labeled: 9.4950 \tTrain loss unlabeled: 6.8632 \tTrain miou: 0.0991 \n",
            "Progress: |----------|  10% \tTime: 00:01:04 s \tLearning rate: 0.00100 \tTrain loss: 16.1615 \tTrain loss labeled: 9.3596 \tTrain loss unlabeled: 6.8019 \tTrain miou: 0.1001 \n",
            "Progress: |█---------|  10% \tTime: 00:01:07 s \tLearning rate: 0.00100 \tTrain loss: 15.9083 \tTrain loss labeled: 9.2134 \tTrain loss unlabeled: 6.6949 \tTrain miou: 0.1015 \n",
            "Progress: |█---------|  11% \tTime: 00:01:10 s \tLearning rate: 0.00100 \tTrain loss: 15.6886 \tTrain loss labeled: 9.0625 \tTrain loss unlabeled: 6.6260 \tTrain miou: 0.1041 \n",
            "Progress: |█---------|  11% \tTime: 00:01:12 s \tLearning rate: 0.00100 \tTrain loss: 15.5035 \tTrain loss labeled: 8.9391 \tTrain loss unlabeled: 6.5644 \tTrain miou: 0.1047 \n",
            "Progress: |█---------|  12% \tTime: 00:01:15 s \tLearning rate: 0.00100 \tTrain loss: 15.3604 \tTrain loss labeled: 8.8372 \tTrain loss unlabeled: 6.5233 \tTrain miou: 0.1059 \n",
            "Progress: |█---------|  12% \tTime: 00:01:17 s \tLearning rate: 0.00100 \tTrain loss: 15.1875 \tTrain loss labeled: 8.7122 \tTrain loss unlabeled: 6.4753 \tTrain miou: 0.1083 \n",
            "Progress: |█---------|  13% \tTime: 00:01:20 s \tLearning rate: 0.00100 \tTrain loss: 15.0045 \tTrain loss labeled: 8.5925 \tTrain loss unlabeled: 6.4120 \tTrain miou: 0.1099 \n",
            "Progress: |█---------|  14% \tTime: 00:01:23 s \tLearning rate: 0.00100 \tTrain loss: 14.7866 \tTrain loss labeled: 8.4531 \tTrain loss unlabeled: 6.3335 \tTrain miou: 0.1111 \n",
            "Progress: |█---------|  14% \tTime: 00:01:26 s \tLearning rate: 0.00100 \tTrain loss: 14.6065 \tTrain loss labeled: 8.3329 \tTrain loss unlabeled: 6.2735 \tTrain miou: 0.1131 \n",
            "Progress: |█---------|  15% \tTime: 00:01:28 s \tLearning rate: 0.00100 \tTrain loss: 14.4452 \tTrain loss labeled: 8.2359 \tTrain loss unlabeled: 6.2093 \tTrain miou: 0.1155 \n",
            "Progress: |█---------|  15% \tTime: 00:01:31 s \tLearning rate: 0.00100 \tTrain loss: 14.3032 \tTrain loss labeled: 8.1382 \tTrain loss unlabeled: 6.1650 \tTrain miou: 0.1174 \n",
            "Progress: |█---------|  16% \tTime: 00:01:33 s \tLearning rate: 0.00100 \tTrain loss: 14.2170 \tTrain loss labeled: 8.0919 \tTrain loss unlabeled: 6.1251 \tTrain miou: 0.1190 \n",
            "Progress: |█---------|  16% \tTime: 00:01:36 s \tLearning rate: 0.00100 \tTrain loss: 14.1118 \tTrain loss labeled: 8.0181 \tTrain loss unlabeled: 6.0938 \tTrain miou: 0.1195 \n",
            "Progress: |█---------|  17% \tTime: 00:01:39 s \tLearning rate: 0.00100 \tTrain loss: 13.9569 \tTrain loss labeled: 7.9207 \tTrain loss unlabeled: 6.0362 \tTrain miou: 0.1205 \n",
            "Progress: |█---------|  17% \tTime: 00:01:42 s \tLearning rate: 0.00100 \tTrain loss: 13.7828 \tTrain loss labeled: 7.8127 \tTrain loss unlabeled: 5.9701 \tTrain miou: 0.1230 \n",
            "Progress: |█---------|  18% \tTime: 00:01:44 s \tLearning rate: 0.00100 \tTrain loss: 13.6448 \tTrain loss labeled: 7.7298 \tTrain loss unlabeled: 5.9150 \tTrain miou: 0.1241 \n",
            "Progress: |█---------|  18% \tTime: 00:01:46 s \tLearning rate: 0.00100 \tTrain loss: 13.5195 \tTrain loss labeled: 7.6624 \tTrain loss unlabeled: 5.8571 \tTrain miou: 0.1237 \n",
            "Progress: |█---------|  19% \tTime: 00:01:49 s \tLearning rate: 0.00100 \tTrain loss: 13.3684 \tTrain loss labeled: 7.5713 \tTrain loss unlabeled: 5.7971 \tTrain miou: 0.1243 \n",
            "Progress: |█---------|  19% \tTime: 00:01:53 s \tLearning rate: 0.00100 \tTrain loss: 13.2844 \tTrain loss labeled: 7.5288 \tTrain loss unlabeled: 5.7556 \tTrain miou: 0.1244 \n",
            "Progress: |█---------|  20% \tTime: 00:01:55 s \tLearning rate: 0.00100 \tTrain loss: 13.1811 \tTrain loss labeled: 7.4698 \tTrain loss unlabeled: 5.7112 \tTrain miou: 0.1245 \n",
            "Progress: |██--------|  20% \tTime: 00:01:58 s \tLearning rate: 0.00100 \tTrain loss: 13.0684 \tTrain loss labeled: 7.4041 \tTrain loss unlabeled: 5.6643 \tTrain miou: 0.1253 \n",
            "Progress: |██--------|  21% \tTime: 00:02:00 s \tLearning rate: 0.00100 \tTrain loss: 12.9758 \tTrain loss labeled: 7.3475 \tTrain loss unlabeled: 5.6283 \tTrain miou: 0.1258 \n",
            "Progress: |██--------|  21% \tTime: 00:02:03 s \tLearning rate: 0.00100 \tTrain loss: 12.8299 \tTrain loss labeled: 7.2617 \tTrain loss unlabeled: 5.5682 \tTrain miou: 0.1267 \n",
            "Progress: |██--------|  22% \tTime: 00:02:06 s \tLearning rate: 0.00100 \tTrain loss: 12.7425 \tTrain loss labeled: 7.2147 \tTrain loss unlabeled: 5.5278 \tTrain miou: 0.1274 \n",
            "Progress: |██--------|  22% \tTime: 00:02:09 s \tLearning rate: 0.00100 \tTrain loss: 12.6429 \tTrain loss labeled: 7.1580 \tTrain loss unlabeled: 5.4848 \tTrain miou: 0.1278 \n",
            "Progress: |██--------|  23% \tTime: 00:02:11 s \tLearning rate: 0.00100 \tTrain loss: 12.5275 \tTrain loss labeled: 7.0917 \tTrain loss unlabeled: 5.4357 \tTrain miou: 0.1284 \n",
            "Progress: |██--------|  23% \tTime: 00:02:13 s \tLearning rate: 0.00100 \tTrain loss: 12.4252 \tTrain loss labeled: 7.0408 \tTrain loss unlabeled: 5.3844 \tTrain miou: 0.1283 \n",
            "Progress: |██--------|  24% \tTime: 00:02:16 s \tLearning rate: 0.00100 \tTrain loss: 12.3000 \tTrain loss labeled: 6.9628 \tTrain loss unlabeled: 5.3372 \tTrain miou: 0.1297 \n",
            "Progress: |██--------|  24% \tTime: 00:02:19 s \tLearning rate: 0.00100 \tTrain loss: 12.1966 \tTrain loss labeled: 6.9067 \tTrain loss unlabeled: 5.2899 \tTrain miou: 0.1299 \n",
            "Progress: |██--------|  25% \tTime: 00:02:22 s \tLearning rate: 0.00100 \tTrain loss: 12.0731 \tTrain loss labeled: 6.8267 \tTrain loss unlabeled: 5.2465 \tTrain miou: 0.1318 \n",
            "Progress: |██--------|  26% \tTime: 00:02:24 s \tLearning rate: 0.00100 \tTrain loss: 11.9565 \tTrain loss labeled: 6.7548 \tTrain loss unlabeled: 5.2017 \tTrain miou: 0.1317 \n",
            "Progress: |██--------|  26% \tTime: 00:02:27 s \tLearning rate: 0.00100 \tTrain loss: 11.8990 \tTrain loss labeled: 6.7207 \tTrain loss unlabeled: 5.1783 \tTrain miou: 0.1326 \n",
            "Progress: |██--------|  27% \tTime: 00:02:29 s \tLearning rate: 0.00100 \tTrain loss: 11.7987 \tTrain loss labeled: 6.6531 \tTrain loss unlabeled: 5.1456 \tTrain miou: 0.1334 \n",
            "Progress: |██--------|  27% \tTime: 00:02:32 s \tLearning rate: 0.00100 \tTrain loss: 11.7237 \tTrain loss labeled: 6.6046 \tTrain loss unlabeled: 5.1191 \tTrain miou: 0.1337 \n",
            "Progress: |██--------|  28% \tTime: 00:02:35 s \tLearning rate: 0.00100 \tTrain loss: 11.6440 \tTrain loss labeled: 6.5547 \tTrain loss unlabeled: 5.0893 \tTrain miou: 0.1355 \n",
            "Progress: |██--------|  28% \tTime: 00:02:38 s \tLearning rate: 0.00100 \tTrain loss: 11.5687 \tTrain loss labeled: 6.5026 \tTrain loss unlabeled: 5.0661 \tTrain miou: 0.1365 \n",
            "Progress: |██--------|  29% \tTime: 00:02:41 s \tLearning rate: 0.00100 \tTrain loss: 11.4936 \tTrain loss labeled: 6.4619 \tTrain loss unlabeled: 5.0318 \tTrain miou: 0.1378 \n",
            "Progress: |██--------|  29% \tTime: 00:02:43 s \tLearning rate: 0.00100 \tTrain loss: 11.4157 \tTrain loss labeled: 6.4157 \tTrain loss unlabeled: 5.0000 \tTrain miou: 0.1397 \n",
            "Progress: |██--------|  30% \tTime: 00:02:45 s \tLearning rate: 0.00100 \tTrain loss: 11.3161 \tTrain loss labeled: 6.3566 \tTrain loss unlabeled: 4.9596 \tTrain miou: 0.1412 \n",
            "Progress: |███-------|  30% \tTime: 00:02:48 s \tLearning rate: 0.00100 \tTrain loss: 11.2276 \tTrain loss labeled: 6.3019 \tTrain loss unlabeled: 4.9257 \tTrain miou: 0.1417 \n",
            "Progress: |███-------|  31% \tTime: 00:02:51 s \tLearning rate: 0.00100 \tTrain loss: 11.1518 \tTrain loss labeled: 6.2533 \tTrain loss unlabeled: 4.8986 \tTrain miou: 0.1422 \n",
            "Progress: |███-------|  31% \tTime: 00:02:54 s \tLearning rate: 0.00100 \tTrain loss: 11.1215 \tTrain loss labeled: 6.2296 \tTrain loss unlabeled: 4.8918 \tTrain miou: 0.1428 \n",
            "Progress: |███-------|  32% \tTime: 00:02:56 s \tLearning rate: 0.00100 \tTrain loss: 11.0343 \tTrain loss labeled: 6.1810 \tTrain loss unlabeled: 4.8534 \tTrain miou: 0.1448 \n",
            "Progress: |███-------|  32% \tTime: 00:02:59 s \tLearning rate: 0.00100 \tTrain loss: 10.9682 \tTrain loss labeled: 6.1326 \tTrain loss unlabeled: 4.8356 \tTrain miou: 0.1455 \n",
            "Progress: |███-------|  33% \tTime: 00:03:01 s \tLearning rate: 0.00100 \tTrain loss: 10.8960 \tTrain loss labeled: 6.0908 \tTrain loss unlabeled: 4.8052 \tTrain miou: 0.1458 \n",
            "Progress: |███-------|  33% \tTime: 00:03:05 s \tLearning rate: 0.00100 \tTrain loss: 10.8302 \tTrain loss labeled: 6.0567 \tTrain loss unlabeled: 4.7734 \tTrain miou: 0.1455 \n",
            "Progress: |███-------|  34% \tTime: 00:03:08 s \tLearning rate: 0.00100 \tTrain loss: 10.7505 \tTrain loss labeled: 6.0108 \tTrain loss unlabeled: 4.7396 \tTrain miou: 0.1462 \n",
            "Progress: |███-------|  34% \tTime: 00:03:10 s \tLearning rate: 0.00100 \tTrain loss: 10.6983 \tTrain loss labeled: 5.9828 \tTrain loss unlabeled: 4.7155 \tTrain miou: 0.1476 \n",
            "Progress: |███-------|  35% \tTime: 00:03:13 s \tLearning rate: 0.00100 \tTrain loss: 10.6209 \tTrain loss labeled: 5.9392 \tTrain loss unlabeled: 4.6818 \tTrain miou: 0.1481 \n",
            "Progress: |███-------|  35% \tTime: 00:03:15 s \tLearning rate: 0.00100 \tTrain loss: 10.5633 \tTrain loss labeled: 5.9053 \tTrain loss unlabeled: 4.6580 \tTrain miou: 0.1497 \n",
            "Progress: |███-------|  36% \tTime: 00:03:18 s \tLearning rate: 0.00100 \tTrain loss: 10.5001 \tTrain loss labeled: 5.8687 \tTrain loss unlabeled: 4.6315 \tTrain miou: 0.1500 \n",
            "Progress: |███-------|  36% \tTime: 00:03:21 s \tLearning rate: 0.00100 \tTrain loss: 10.4552 \tTrain loss labeled: 5.8439 \tTrain loss unlabeled: 4.6113 \tTrain miou: 0.1510 \n",
            "Progress: |███-------|  37% \tTime: 00:03:24 s \tLearning rate: 0.00100 \tTrain loss: 10.3871 \tTrain loss labeled: 5.8067 \tTrain loss unlabeled: 4.5804 \tTrain miou: 0.1510 \n",
            "Progress: |███-------|  38% \tTime: 00:03:26 s \tLearning rate: 0.00100 \tTrain loss: 10.3362 \tTrain loss labeled: 5.7773 \tTrain loss unlabeled: 4.5589 \tTrain miou: 0.1517 \n",
            "Progress: |███-------|  38% \tTime: 00:03:29 s \tLearning rate: 0.00100 \tTrain loss: 10.2684 \tTrain loss labeled: 5.7387 \tTrain loss unlabeled: 4.5297 \tTrain miou: 0.1520 \n",
            "Progress: |███-------|  39% \tTime: 00:03:32 s \tLearning rate: 0.00100 \tTrain loss: 10.2226 \tTrain loss labeled: 5.7190 \tTrain loss unlabeled: 4.5036 \tTrain miou: 0.1528 \n",
            "Progress: |███-------|  39% \tTime: 00:03:35 s \tLearning rate: 0.00100 \tTrain loss: 10.1740 \tTrain loss labeled: 5.6889 \tTrain loss unlabeled: 4.4851 \tTrain miou: 0.1533 \n",
            "Progress: |███-------|  40% \tTime: 00:03:38 s \tLearning rate: 0.00100 \tTrain loss: 10.1152 \tTrain loss labeled: 5.6533 \tTrain loss unlabeled: 4.4619 \tTrain miou: 0.1537 \n"
          ]
        }
      ]
    },
    {
      "cell_type": "code",
      "source": [
        "# Test\n",
        "!python3 sem_seg_dacs.py \\\n",
        "    --test \\\n",
        "    --model_name PIDNet_S \\\n",
        "    --version 2 \\\n",
        "    --model_file last_0.pt \\\n",
        "    --target_domain Urban \\\n",
        "    --store drive\n",
        "\n",
        "!python3 sem_seg_dacs.py \\\n",
        "    --test \\\n",
        "    --model_name PIDNet_S \\\n",
        "    --version 2 \\\n",
        "    --model_file best_0.pt \\\n",
        "    --target_domain Urban \\\n",
        "    --store drive\n",
        "\n",
        "!python3 sem_seg_dacs.py \\\n",
        "    --test \\\n",
        "    --model_name PIDNet_S \\\n",
        "    --version 2 \\\n",
        "    --model_file last_0.pt \\\n",
        "    --target_domain Rural \\\n",
        "    --store drive\n",
        "\n",
        "!python3 sem_seg_dacs.py \\\n",
        "    --test \\\n",
        "    --model_name PIDNet_S \\\n",
        "    --version 2 \\\n",
        "    --model_file best_0.pt \\\n",
        "    --target_domain Rural \\\n",
        "    --store drive"
      ],
      "metadata": {
        "id": "wpE6wPDgxROE"
      },
      "id": "wpE6wPDgxROE",
      "execution_count": null,
      "outputs": []
    },
    {
      "cell_type": "markdown",
      "source": [
        "### Version 3"
      ],
      "metadata": {
        "id": "1HTCcM-HyVok"
      },
      "id": "1HTCcM-HyVok"
    },
    {
      "cell_type": "code",
      "source": [
        "# Train\n",
        "!python3 sem_seg_dacs.py \\\n",
        "    --train \\\n",
        "    --model_name PIDNet_S \\\n",
        "    --version 3 \\\n",
        "    --batch_size 6 \\\n",
        "    --horizontal_flip_augmentation \\\n",
        "    --shift_scale_rotate_augmentation \\\n",
        "    --random_crop_augmentation \\\n",
        "    --lr 0.001 \\\n",
        "    --epochs 20 \\\n",
        "    --store drive"
      ],
      "metadata": {
        "id": "R5JpwPSmyXEt"
      },
      "id": "R5JpwPSmyXEt",
      "execution_count": null,
      "outputs": []
    },
    {
      "cell_type": "code",
      "source": [
        "# Test\n",
        "!python3 sem_seg_dacs.py \\\n",
        "    --test \\\n",
        "    --model_name PIDNet_S \\\n",
        "    --version 3 \\\n",
        "    --model_file last_0.pt \\\n",
        "    --target_domain Urban \\\n",
        "    --store drive\n",
        "\n",
        "!python3 sem_seg_dacs.py \\\n",
        "    --test \\\n",
        "    --model_name PIDNet_S \\\n",
        "    --version 3 \\\n",
        "    --model_file best_0.pt \\\n",
        "    --target_domain Urban \\\n",
        "    --store drive\n",
        "\n",
        "!python3 sem_seg_dacs.py \\\n",
        "    --test \\\n",
        "    --model_name PIDNet_S \\\n",
        "    --version 3 \\\n",
        "    --model_file last_0.pt \\\n",
        "    --target_domain Rural \\\n",
        "    --store drive\n",
        "\n",
        "!python3 sem_seg_dacs.py \\\n",
        "    --test \\\n",
        "    --model_name PIDNet_S \\\n",
        "    --version 3 \\\n",
        "    --model_file best_0.pt \\\n",
        "    --target_domain Rural \\\n",
        "    --store drive"
      ],
      "metadata": {
        "id": "1Mu03OH7ycrC"
      },
      "id": "1Mu03OH7ycrC",
      "execution_count": null,
      "outputs": []
    }
  ],
  "metadata": {
    "accelerator": "GPU",
    "colab": {
      "gpuType": "T4",
      "provenance": []
    },
    "kernelspec": {
      "display_name": "base",
      "language": "python",
      "name": "python3"
    },
    "language_info": {
      "codemirror_mode": {
        "name": "ipython",
        "version": 3
      },
      "file_extension": ".py",
      "mimetype": "text/x-python",
      "name": "python",
      "nbconvert_exporter": "python",
      "pygments_lexer": "ipython3",
      "version": "3.12.7"
    }
  },
  "nbformat": 4,
  "nbformat_minor": 5
}