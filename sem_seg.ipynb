{
  "cells": [
    {
      "cell_type": "markdown",
      "id": "0K9H8Nk-N_Tf",
      "metadata": {
        "id": "0K9H8Nk-N_Tf"
      },
      "source": [
        "# Real-time Domain Adaptation in Semantic Segmentation"
      ]
    },
    {
      "cell_type": "markdown",
      "id": "f722511a",
      "metadata": {
        "id": "f722511a"
      },
      "source": [
        "## Mount drive"
      ]
    },
    {
      "cell_type": "code",
      "execution_count": null,
      "id": "vVcmrIe_TGGA",
      "metadata": {
        "id": "vVcmrIe_TGGA"
      },
      "outputs": [],
      "source": [
        "from google.colab import drive\n",
        "drive.mount('/content/drive')"
      ]
    },
    {
      "cell_type": "markdown",
      "id": "be24ecf1",
      "metadata": {
        "id": "be24ecf1"
      },
      "source": [
        "## Import code"
      ]
    },
    {
      "cell_type": "code",
      "execution_count": null,
      "id": "GrQxrFD9QBIi",
      "metadata": {
        "id": "GrQxrFD9QBIi"
      },
      "outputs": [],
      "source": [
        "!git clone https://github.com/SimoneBorella/semantic-segmentation-domain-adaptation.git\n",
        "\n",
        "!cp -r ./semantic-segmentation-domain-adaptation/datasets .\n",
        "!cp -r ./semantic-segmentation-domain-adaptation/models .\n",
        "!cp -r ./semantic-segmentation-domain-adaptation/criteria .\n",
        "!cp -r ./semantic-segmentation-domain-adaptation/utils .\n",
        "!cp ./semantic-segmentation-domain-adaptation/get_dataset.bash .\n",
        "!cp ./semantic-segmentation-domain-adaptation/get_weights_pretrained.bash .\n",
        "!cp ./semantic-segmentation-domain-adaptation/sem_seg.py .\n",
        "!cp ./semantic-segmentation-domain-adaptation/sem_seg_da_adv.py .\n",
        "!cp ./semantic-segmentation-domain-adaptation/sem_seg_dacs.py .\n",
        "\n",
        "!rm -r ./semantic-segmentation-domain-adaptation\n",
        "!rm -r sample_data"
      ]
    },
    {
      "cell_type": "markdown",
      "id": "d0e497ec",
      "metadata": {
        "id": "d0e497ec"
      },
      "source": [
        "## Packages installation"
      ]
    },
    {
      "cell_type": "code",
      "execution_count": null,
      "id": "5q3A_omGNpCf",
      "metadata": {
        "id": "5q3A_omGNpCf"
      },
      "outputs": [],
      "source": [
        "!pip3 install torch torchvision torchaudio gdown fvcore kornia"
      ]
    },
    {
      "cell_type": "markdown",
      "id": "0302d761",
      "metadata": {
        "id": "0302d761"
      },
      "source": [
        "## Download LoveDA dataset"
      ]
    },
    {
      "cell_type": "code",
      "execution_count": null,
      "id": "5a2f0959",
      "metadata": {
        "id": "5a2f0959"
      },
      "outputs": [],
      "source": [
        "!bash get_dataset.bash"
      ]
    },
    {
      "cell_type": "markdown",
      "id": "b39ac3ab",
      "metadata": {
        "id": "b39ac3ab"
      },
      "source": [
        "# Download weights pretrained"
      ]
    },
    {
      "cell_type": "code",
      "execution_count": null,
      "id": "ba683512",
      "metadata": {
        "id": "ba683512"
      },
      "outputs": [],
      "source": [
        "!bash get_weights_pretrained.bash"
      ]
    },
    {
      "cell_type": "markdown",
      "id": "065eb67f",
      "metadata": {
        "id": "065eb67f"
      },
      "source": [
        "## DeepLabV2_ResNet101"
      ]
    },
    {
      "cell_type": "markdown",
      "source": [
        "### Version 0"
      ],
      "metadata": {
        "id": "7nuYgig-CZrD"
      },
      "id": "7nuYgig-CZrD"
    },
    {
      "cell_type": "code",
      "execution_count": null,
      "id": "38b64585",
      "metadata": {
        "id": "38b64585"
      },
      "outputs": [],
      "source": [
        "# Train\n",
        "# !python3 sem_seg.py \\\n",
        "#     --train \\\n",
        "#     --model_name DeepLabV2_ResNet101 \\\n",
        "#     --version 0 \\\n",
        "#     --source_domain Rural \\\n",
        "#     --batch_size 6 \\\n",
        "#     --criterion CrossEntropyLoss \\\n",
        "#     --optimizer SGD \\\n",
        "#     --scheduler PolynomialLR \\\n",
        "#     --lr 0.01 \\\n",
        "#     --epochs 20 \\\n",
        "#     --store drive"
      ]
    },
    {
      "cell_type": "code",
      "source": [
        "# Test\n",
        "# !python3 sem_seg.py \\\n",
        "#     --test \\\n",
        "#     --model_name DeepLabV2_ResNet101 \\\n",
        "#     --version 0 \\\n",
        "#     --model_file last_0.pt \\\n",
        "#     --target_domain Rural \\\n",
        "#     --store drive\n",
        "\n",
        "# !python3 sem_seg.py \\\n",
        "#     --test \\\n",
        "#     --model_name DeepLabV2_ResNet101 \\\n",
        "#     --version 0 \\\n",
        "#     --model_file best_0.pt \\\n",
        "#     --target_domain Rural \\\n",
        "#     --store drive\n",
        "\n",
        "# !python3 sem_seg.py \\\n",
        "#     --test \\\n",
        "#     --model_name DeepLabV2_ResNet101 \\\n",
        "#     --version 0 \\\n",
        "#     --model_file last_0.pt \\\n",
        "#     --target_domain Urban \\\n",
        "#     --store drive\n",
        "\n",
        "# !python3 sem_seg.py \\\n",
        "#     --test \\\n",
        "#     --model_name DeepLabV2_ResNet101 \\\n",
        "#     --version 0 \\\n",
        "#     --model_file best_0.pt \\\n",
        "#     --target_domain Urban \\\n",
        "#     --store drive"
      ],
      "metadata": {
        "id": "_2B91EQ1peh3"
      },
      "id": "_2B91EQ1peh3",
      "execution_count": null,
      "outputs": []
    },
    {
      "cell_type": "markdown",
      "source": [
        "### Version 1"
      ],
      "metadata": {
        "id": "CmFVsxnQn-GS"
      },
      "id": "CmFVsxnQn-GS"
    },
    {
      "cell_type": "code",
      "source": [
        "# Train\n",
        "# !python3 sem_seg.py \\\n",
        "#     --train \\\n",
        "#     --model_name DeepLabV2_ResNet101 \\\n",
        "#     --version 1 \\\n",
        "#     --source_domain Rural \\\n",
        "#     --batch_size 6 \\\n",
        "#     --criterion CrossEntropyLoss \\\n",
        "#     --optimizer SGD \\\n",
        "#     --scheduler PolynomialLR \\\n",
        "#     --lr 0.001 \\\n",
        "#     --epochs 20 \\\n",
        "#     --store drive"
      ],
      "metadata": {
        "id": "79H1QUMnoACQ"
      },
      "id": "79H1QUMnoACQ",
      "execution_count": null,
      "outputs": []
    },
    {
      "cell_type": "code",
      "source": [
        "# Test\n",
        "# !python3 sem_seg.py \\\n",
        "#     --test \\\n",
        "#     --model_name DeepLabV2_ResNet101 \\\n",
        "#     --version 1 \\\n",
        "#     --model_file last_0.pt \\\n",
        "#     --target_domain Rural \\\n",
        "#     --store drive\n",
        "\n",
        "# !python3 sem_seg.py \\\n",
        "#     --test \\\n",
        "#     --model_name DeepLabV2_ResNet101 \\\n",
        "#     --version 1 \\\n",
        "#     --model_file best_0.pt \\\n",
        "#     --target_domain Rural \\\n",
        "#     --store drive\n",
        "\n",
        "# !python3 sem_seg.py \\\n",
        "#     --test \\\n",
        "#     --model_name DeepLabV2_ResNet101 \\\n",
        "#     --version 1 \\\n",
        "#     --model_file last_0.pt \\\n",
        "#     --target_domain Urban \\\n",
        "#     --store drive\n",
        "\n",
        "# !python3 sem_seg.py \\\n",
        "#     --test \\\n",
        "#     --model_name DeepLabV2_ResNet101 \\\n",
        "#     --version 1 \\\n",
        "#     --model_file best_0.pt \\\n",
        "#     --target_domain Urban \\\n",
        "#     --store drive"
      ],
      "metadata": {
        "id": "PE22jigUoG_1"
      },
      "id": "PE22jigUoG_1",
      "execution_count": null,
      "outputs": []
    },
    {
      "cell_type": "markdown",
      "id": "u1oHe3-oPUWw",
      "metadata": {
        "id": "u1oHe3-oPUWw"
      },
      "source": [
        "## PIDNet"
      ]
    },
    {
      "cell_type": "markdown",
      "source": [
        "### Version 0"
      ],
      "metadata": {
        "id": "mJ1D-4inCc95"
      },
      "id": "mJ1D-4inCc95"
    },
    {
      "cell_type": "code",
      "execution_count": null,
      "id": "1781uEUIQsIL",
      "metadata": {
        "id": "1781uEUIQsIL"
      },
      "outputs": [],
      "source": [
        "# Train\n",
        "# !python3 sem_seg.py \\\n",
        "#     --train \\\n",
        "#     --model_name PIDNet_S \\\n",
        "#     --version 0 \\\n",
        "#     --source_domain Rural \\\n",
        "#     --batch_size 6 \\\n",
        "#     --criterion OhemCrossEntropyLoss \\\n",
        "#     --optimizer SGD \\\n",
        "#     --scheduler PolynomialLR \\\n",
        "#     --lr 0.01 \\\n",
        "#     --epochs 20 \\\n",
        "#     --store drive"
      ]
    },
    {
      "cell_type": "code",
      "source": [
        "# Test\n",
        "# !python3 sem_seg.py \\\n",
        "#     --test \\\n",
        "#     --model_name PIDNet_S \\\n",
        "#     --version 0 \\\n",
        "#     --model_file last_0.pt \\\n",
        "#     --target_domain Urban \\\n",
        "#     --store drive\n",
        "\n",
        "# !python3 sem_seg.py \\\n",
        "#     --test \\\n",
        "#     --model_name PIDNet_S \\\n",
        "#     --version 0 \\\n",
        "#     --model_file best_0.pt \\\n",
        "#     --target_domain Urban \\\n",
        "#     --store drive\n",
        "\n",
        "# !python3 sem_seg.py \\\n",
        "#     --test \\\n",
        "#     --model_name PIDNet_S \\\n",
        "#     --version 0 \\\n",
        "#     --model_file last_0.pt \\\n",
        "#     --target_domain Rural \\\n",
        "#     --store drive\n",
        "\n",
        "# !python3 sem_seg.py \\\n",
        "#     --test \\\n",
        "#     --model_name PIDNet_S \\\n",
        "#     --version 0 \\\n",
        "#     --model_file best_0.pt \\\n",
        "#     --target_domain Rural \\\n",
        "#     --store drive"
      ],
      "metadata": {
        "id": "YoW7heiovwH-"
      },
      "id": "YoW7heiovwH-",
      "execution_count": null,
      "outputs": []
    },
    {
      "cell_type": "markdown",
      "source": [
        "### Version 1"
      ],
      "metadata": {
        "id": "YXYwhR3wCerq"
      },
      "id": "YXYwhR3wCerq"
    },
    {
      "cell_type": "code",
      "source": [
        "# Train\n",
        "# !python3 sem_seg.py \\\n",
        "#     --train \\\n",
        "#     --model_name PIDNet_S \\\n",
        "#     --version 1 \\\n",
        "#     --source_domain Urban \\\n",
        "#     --batch_size 6 \\\n",
        "#     --criterion OhemCrossEntropyLoss \\\n",
        "#     --optimizer SGD \\\n",
        "#     --scheduler PolynomialLR \\\n",
        "#     --lr 0.01 \\\n",
        "#     --epochs 20 \\\n",
        "#     --store drive"
      ],
      "metadata": {
        "id": "cRB86IA033Fj"
      },
      "id": "cRB86IA033Fj",
      "execution_count": null,
      "outputs": []
    },
    {
      "cell_type": "code",
      "source": [
        "# Test\n",
        "# !python3 sem_seg.py \\\n",
        "#     --test \\\n",
        "#     --model_name PIDNet_S \\\n",
        "#     --version 1 \\\n",
        "#     --model_file last_0.pt \\\n",
        "#     --target_domain Urban \\\n",
        "#     --store drive\n",
        "\n",
        "# !python3 sem_seg.py \\\n",
        "#     --test \\\n",
        "#     --model_name PIDNet_S \\\n",
        "#     --version 1 \\\n",
        "#     --model_file best_0.pt \\\n",
        "#     --target_domain Urban \\\n",
        "#     --store drive\n",
        "\n",
        "# !python3 sem_seg.py \\\n",
        "#     --test \\\n",
        "#     --model_name PIDNet_S \\\n",
        "#     --version 1 \\\n",
        "#     --model_file last_0.pt \\\n",
        "#     --target_domain Rural \\\n",
        "#     --store drive\n",
        "\n",
        "# !python3 sem_seg.py \\\n",
        "#     --test \\\n",
        "#     --model_name PIDNet_S \\\n",
        "#     --version 1 \\\n",
        "#     --model_file best_0.pt \\\n",
        "#     --target_domain Rural \\\n",
        "#     --store drive"
      ],
      "metadata": {
        "id": "hd8vzW6L4CNX"
      },
      "id": "hd8vzW6L4CNX",
      "execution_count": null,
      "outputs": []
    },
    {
      "cell_type": "markdown",
      "source": [
        "### Version 2"
      ],
      "metadata": {
        "id": "L9Jw_5xfP7rl"
      },
      "id": "L9Jw_5xfP7rl"
    },
    {
      "cell_type": "code",
      "source": [
        "# Train\n",
        "# !python3 sem_seg.py \\\n",
        "#     --train \\\n",
        "#     --model_name PIDNet_S \\\n",
        "#     --version 2 \\\n",
        "#     --source_domain Rural \\\n",
        "#     --batch_size 6 \\\n",
        "#     --criterion OhemCrossEntropyLoss \\\n",
        "#     --optimizer SGD \\\n",
        "#     --scheduler PolynomialLR \\\n",
        "#     --lr 0.001 \\\n",
        "#     --epochs 20 \\\n",
        "#     --store drive"
      ],
      "metadata": {
        "id": "grG7HbW3P9m9"
      },
      "id": "grG7HbW3P9m9",
      "execution_count": null,
      "outputs": []
    },
    {
      "cell_type": "code",
      "source": [
        "# Test\n",
        "# !python3 sem_seg.py \\\n",
        "#     --test \\\n",
        "#     --model_name PIDNet_S \\\n",
        "#     --version 2 \\\n",
        "#     --model_file last_0.pt \\\n",
        "#     --target_domain Urban \\\n",
        "#     --store drive\n",
        "\n",
        "# !python3 sem_seg.py \\\n",
        "#     --test \\\n",
        "#     --model_name PIDNet_S \\\n",
        "#     --version 2 \\\n",
        "#     --model_file best_0.pt \\\n",
        "#     --target_domain Urban \\\n",
        "#     --store drive\n",
        "\n",
        "# !python3 sem_seg.py \\\n",
        "#     --test \\\n",
        "#     --model_name PIDNet_S \\\n",
        "#     --version 2 \\\n",
        "#     --model_file last_0.pt \\\n",
        "#     --target_domain Rural \\\n",
        "#     --store drive\n",
        "\n",
        "# !python3 sem_seg.py \\\n",
        "#     --test \\\n",
        "#     --model_name PIDNet_S \\\n",
        "#     --version 2 \\\n",
        "#     --model_file best_0.pt \\\n",
        "#     --target_domain Rural \\\n",
        "#     --store drive"
      ],
      "metadata": {
        "id": "3PmiChAUP-ci"
      },
      "id": "3PmiChAUP-ci",
      "execution_count": null,
      "outputs": []
    },
    {
      "cell_type": "markdown",
      "source": [
        "### Version 3"
      ],
      "metadata": {
        "id": "1znNDkpmLms8"
      },
      "id": "1znNDkpmLms8"
    },
    {
      "cell_type": "code",
      "source": [
        "# Train\n",
        "# !python3 sem_seg.py \\\n",
        "#     --train \\\n",
        "#     --model_name PIDNet_S \\\n",
        "#     --version 3 \\\n",
        "#     --source_domain Urban \\\n",
        "#     --batch_size 6 \\\n",
        "#     --criterion OhemCrossEntropyLoss \\\n",
        "#     --optimizer SGD \\\n",
        "#     --scheduler PolynomialLR \\\n",
        "#     --lr 0.001 \\\n",
        "#     --epochs 20 \\\n",
        "#     --store drive"
      ],
      "metadata": {
        "id": "P2XlPTekLops"
      },
      "id": "P2XlPTekLops",
      "execution_count": null,
      "outputs": []
    },
    {
      "cell_type": "code",
      "source": [
        "# Test\n",
        "# !python3 sem_seg.py \\\n",
        "#     --test \\\n",
        "#     --model_name PIDNet_S \\\n",
        "#     --version 3 \\\n",
        "#     --model_file last_0.pt \\\n",
        "#     --target_domain Urban \\\n",
        "#     --store drive\n",
        "\n",
        "# !python3 sem_seg.py \\\n",
        "#     --test \\\n",
        "#     --model_name PIDNet_S \\\n",
        "#     --version 3 \\\n",
        "#     --model_file best_0.pt \\\n",
        "#     --target_domain Urban \\\n",
        "#     --store drive\n",
        "\n",
        "# !python3 sem_seg.py \\\n",
        "#     --test \\\n",
        "#     --model_name PIDNet_S \\\n",
        "#     --version 3 \\\n",
        "#     --model_file last_0.pt \\\n",
        "#     --target_domain Rural \\\n",
        "#     --store drive\n",
        "\n",
        "# !python3 sem_seg.py \\\n",
        "#     --test \\\n",
        "#     --model_name PIDNet_S \\\n",
        "#     --version 3 \\\n",
        "#     --model_file best_0.pt \\\n",
        "#     --target_domain Rural \\\n",
        "#     --store drive"
      ],
      "metadata": {
        "id": "Cj2mRgD5_6E4"
      },
      "id": "Cj2mRgD5_6E4",
      "execution_count": null,
      "outputs": []
    },
    {
      "cell_type": "markdown",
      "source": [
        "### Version 4"
      ],
      "metadata": {
        "id": "Mfs8oz9pQ4d8"
      },
      "id": "Mfs8oz9pQ4d8"
    },
    {
      "cell_type": "code",
      "source": [
        "# Train\n",
        "!python3 sem_seg.py \\\n",
        "    --train \\\n",
        "    --model_name PIDNet_S \\\n",
        "    --version 4 \\\n",
        "    --source_domain Urban \\\n",
        "    --horizontal_flip_augmentation \\\n",
        "    --shift_scale_rotate_augmentation \\\n",
        "    --batch_size 6 \\\n",
        "    --criterion OhemCrossEntropyLoss \\\n",
        "    --optimizer SGD \\\n",
        "    --scheduler PolynomialLR \\\n",
        "    --lr 0.001 \\\n",
        "    --epochs 20 \\\n",
        "    --store drive"
      ],
      "metadata": {
        "id": "ZO4nUoQFQ6bO"
      },
      "id": "ZO4nUoQFQ6bO",
      "execution_count": null,
      "outputs": []
    },
    {
      "cell_type": "code",
      "source": [
        "# Test\n",
        "!python3 sem_seg.py \\\n",
        "    --test \\\n",
        "    --model_name PIDNet_S \\\n",
        "    --version 4 \\\n",
        "    --model_file last_0.pt \\\n",
        "    --target_domain Urban \\\n",
        "    --store drive\n",
        "\n",
        "!python3 sem_seg.py \\\n",
        "    --test \\\n",
        "    --model_name PIDNet_S \\\n",
        "    --version 4 \\\n",
        "    --model_file best_0.pt \\\n",
        "    --target_domain Urban \\\n",
        "    --store drive\n",
        "\n",
        "!python3 sem_seg.py \\\n",
        "    --test \\\n",
        "    --model_name PIDNet_S \\\n",
        "    --version 4 \\\n",
        "    --model_file last_0.pt \\\n",
        "    --target_domain Rural \\\n",
        "    --store drive\n",
        "\n",
        "!python3 sem_seg.py \\\n",
        "    --test \\\n",
        "    --model_name PIDNet_S \\\n",
        "    --version 4 \\\n",
        "    --model_file best_0.pt \\\n",
        "    --target_domain Rural \\\n",
        "    --store drive"
      ],
      "metadata": {
        "id": "shkIo1zlQ-5v"
      },
      "id": "shkIo1zlQ-5v",
      "execution_count": null,
      "outputs": []
    },
    {
      "cell_type": "markdown",
      "source": [
        "### Version 5"
      ],
      "metadata": {
        "id": "5wSUEGPHRDTR"
      },
      "id": "5wSUEGPHRDTR"
    },
    {
      "cell_type": "code",
      "source": [
        "# Train\n",
        "!python3 sem_seg.py \\\n",
        "    --train \\\n",
        "    --model_name PIDNet_S \\\n",
        "    --version 5 \\\n",
        "    --source_domain Urban \\\n",
        "    --horizontal_flip_augmentation \\\n",
        "    --shift_scale_rotate_augmentation \\\n",
        "    --grid_distortion_augmentation \\\n",
        "    --batch_size 6 \\\n",
        "    --criterion OhemCrossEntropyLoss \\\n",
        "    --optimizer SGD \\\n",
        "    --scheduler PolynomialLR \\\n",
        "    --lr 0.001 \\\n",
        "    --epochs 20 \\\n",
        "    --store drive"
      ],
      "metadata": {
        "id": "jDj7Viy0RC_A"
      },
      "id": "jDj7Viy0RC_A",
      "execution_count": null,
      "outputs": []
    },
    {
      "cell_type": "code",
      "source": [
        "# Test\n",
        "!python3 sem_seg.py \\\n",
        "    --test \\\n",
        "    --model_name PIDNet_S \\\n",
        "    --version 5 \\\n",
        "    --model_file last_0.pt \\\n",
        "    --target_domain Urban \\\n",
        "    --store drive\n",
        "\n",
        "!python3 sem_seg.py \\\n",
        "    --test \\\n",
        "    --model_name PIDNet_S \\\n",
        "    --version 5 \\\n",
        "    --model_file best_0.pt \\\n",
        "    --target_domain Urban \\\n",
        "    --store drive\n",
        "\n",
        "!python3 sem_seg.py \\\n",
        "    --test \\\n",
        "    --model_name PIDNet_S \\\n",
        "    --version 5 \\\n",
        "    --model_file last_0.pt \\\n",
        "    --target_domain Rural \\\n",
        "    --store drive\n",
        "\n",
        "!python3 sem_seg.py \\\n",
        "    --test \\\n",
        "    --model_name PIDNet_S \\\n",
        "    --version 5 \\\n",
        "    --model_file best_0.pt \\\n",
        "    --target_domain Rural \\\n",
        "    --store drive"
      ],
      "metadata": {
        "id": "aXiEITm_RHFd"
      },
      "id": "aXiEITm_RHFd",
      "execution_count": null,
      "outputs": []
    },
    {
      "cell_type": "markdown",
      "source": [
        "### Version 6"
      ],
      "metadata": {
        "id": "VNvoI0647uJx"
      },
      "id": "VNvoI0647uJx"
    },
    {
      "cell_type": "code",
      "source": [
        "# Train\n",
        "!python3 sem_seg.py \\\n",
        "    --train \\\n",
        "    --model_name PIDNet_S \\\n",
        "    --version 6 \\\n",
        "    --source_domain Urban \\\n",
        "    --shift_scale_rotate_augmentation \\\n",
        "    --random_crop_augmentation \\\n",
        "    --batch_size 6 \\\n",
        "    --criterion OhemCrossEntropyLoss \\\n",
        "    --optimizer SGD \\\n",
        "    --scheduler PolynomialLR \\\n",
        "    --lr 0.001 \\\n",
        "    --epochs 20 \\\n",
        "    --store drive"
      ],
      "metadata": {
        "id": "6pokdWxV7wDc"
      },
      "id": "6pokdWxV7wDc",
      "execution_count": null,
      "outputs": []
    },
    {
      "cell_type": "code",
      "source": [
        "# Test\n",
        "!python3 sem_seg.py \\\n",
        "    --test \\\n",
        "    --model_name PIDNet_S \\\n",
        "    --version 6 \\\n",
        "    --model_file last_0.pt \\\n",
        "    --target_domain Urban \\\n",
        "    --store drive\n",
        "\n",
        "!python3 sem_seg.py \\\n",
        "    --test \\\n",
        "    --model_name PIDNet_S \\\n",
        "    --version 6 \\\n",
        "    --model_file best_0.pt \\\n",
        "    --target_domain Urban \\\n",
        "    --store drive\n",
        "\n",
        "!python3 sem_seg.py \\\n",
        "    --test \\\n",
        "    --model_name PIDNet_S \\\n",
        "    --version 6 \\\n",
        "    --model_file last_0.pt \\\n",
        "    --target_domain Rural \\\n",
        "    --store drive\n",
        "\n",
        "!python3 sem_seg.py \\\n",
        "    --test \\\n",
        "    --model_name PIDNet_S \\\n",
        "    --version 6 \\\n",
        "    --model_file best_0.pt \\\n",
        "    --target_domain Rural \\\n",
        "    --store drive"
      ],
      "metadata": {
        "id": "iQXuVpB6RnVy"
      },
      "id": "iQXuVpB6RnVy",
      "execution_count": null,
      "outputs": []
    },
    {
      "cell_type": "markdown",
      "source": [
        "### Version 7"
      ],
      "metadata": {
        "id": "AKC-Ag3TKmD-"
      },
      "id": "AKC-Ag3TKmD-"
    },
    {
      "cell_type": "code",
      "source": [
        "# Train\n",
        "!python3 sem_seg.py \\\n",
        "    --train \\\n",
        "    --model_name PIDNet_S \\\n",
        "    --version 7 \\\n",
        "    --source_domain Urban \\\n",
        "    --shift_scale_rotate_augmentation \\\n",
        "    --coarse_dropout_augmentation \\\n",
        "    --batch_size 6 \\\n",
        "    --criterion OhemCrossEntropyLoss \\\n",
        "    --optimizer SGD \\\n",
        "    --scheduler PolynomialLR \\\n",
        "    --lr 0.001 \\\n",
        "    --epochs 20 \\\n",
        "    --store drive"
      ],
      "metadata": {
        "id": "OdxivdnvKory"
      },
      "id": "OdxivdnvKory",
      "execution_count": null,
      "outputs": []
    },
    {
      "cell_type": "code",
      "source": [
        "# Test\n",
        "!python3 sem_seg.py \\\n",
        "    --test \\\n",
        "    --model_name PIDNet_S \\\n",
        "    --version 7 \\\n",
        "    --model_file last_0.pt \\\n",
        "    --target_domain Urban \\\n",
        "    --store drive\n",
        "\n",
        "!python3 sem_seg.py \\\n",
        "    --test \\\n",
        "    --model_name PIDNet_S \\\n",
        "    --version 7 \\\n",
        "    --model_file best_0.pt \\\n",
        "    --target_domain Urban \\\n",
        "    --store drive\n",
        "\n",
        "!python3 sem_seg.py \\\n",
        "    --test \\\n",
        "    --model_name PIDNet_S \\\n",
        "    --version 7 \\\n",
        "    --model_file last_0.pt \\\n",
        "    --target_domain Rural \\\n",
        "    --store drive\n",
        "\n",
        "!python3 sem_seg.py \\\n",
        "    --test \\\n",
        "    --model_name PIDNet_S \\\n",
        "    --version 7 \\\n",
        "    --model_file best_0.pt \\\n",
        "    --target_domain Rural \\\n",
        "    --store drive"
      ],
      "metadata": {
        "id": "Gee8T9VcKqOr"
      },
      "id": "Gee8T9VcKqOr",
      "execution_count": null,
      "outputs": []
    },
    {
      "cell_type": "markdown",
      "source": [
        "### Version 8"
      ],
      "metadata": {
        "id": "5z4Yf_e7LHBm"
      },
      "id": "5z4Yf_e7LHBm"
    },
    {
      "cell_type": "code",
      "source": [
        "# Train\n",
        "!python3 sem_seg.py \\\n",
        "    --train \\\n",
        "    --model_name PIDNet_S \\\n",
        "    --version 8 \\\n",
        "    --source_domain Urban \\\n",
        "    --random_crop_augmentation \\\n",
        "    --coarse_dropout_augmentation \\\n",
        "    --batch_size 6 \\\n",
        "    --criterion OhemCrossEntropyLoss \\\n",
        "    --optimizer SGD \\\n",
        "    --scheduler PolynomialLR \\\n",
        "    --lr 0.001 \\\n",
        "    --epochs 20 \\\n",
        "    --store drive"
      ],
      "metadata": {
        "id": "_U266rfpLHVv"
      },
      "id": "_U266rfpLHVv",
      "execution_count": null,
      "outputs": []
    },
    {
      "cell_type": "code",
      "source": [
        "# Test\n",
        "!python3 sem_seg.py \\\n",
        "    --test \\\n",
        "    --model_name PIDNet_S \\\n",
        "    --version 8 \\\n",
        "    --model_file last_0.pt \\\n",
        "    --target_domain Urban \\\n",
        "    --store drive\n",
        "\n",
        "!python3 sem_seg.py \\\n",
        "    --test \\\n",
        "    --model_name PIDNet_S \\\n",
        "    --version 8 \\\n",
        "    --model_file best_0.pt \\\n",
        "    --target_domain Urban \\\n",
        "    --store drive\n",
        "\n",
        "!python3 sem_seg.py \\\n",
        "    --test \\\n",
        "    --model_name PIDNet_S \\\n",
        "    --version 8 \\\n",
        "    --model_file last_0.pt \\\n",
        "    --target_domain Rural \\\n",
        "    --store drive\n",
        "\n",
        "!python3 sem_seg.py \\\n",
        "    --test \\\n",
        "    --model_name PIDNet_S \\\n",
        "    --version 8 \\\n",
        "    --model_file best_0.pt \\\n",
        "    --target_domain Rural \\\n",
        "    --store drive"
      ],
      "metadata": {
        "id": "adeO5RhlLGxJ"
      },
      "id": "adeO5RhlLGxJ",
      "execution_count": null,
      "outputs": []
    },
    {
      "cell_type": "markdown",
      "source": [
        "### Version 9"
      ],
      "metadata": {
        "id": "1herMXx32Xsy"
      },
      "id": "1herMXx32Xsy"
    },
    {
      "cell_type": "code",
      "source": [
        "# Train\n",
        "!python3 sem_seg.py \\\n",
        "    --train \\\n",
        "    --model_name PIDNet_S \\\n",
        "    --version 9 \\\n",
        "    --source_domain Urban \\\n",
        "    --shift_scale_rotate_augmentation \\\n",
        "    --random_crop_augmentation \\\n",
        "    --color_jitter_augmentation \\\n",
        "    --batch_size 6 \\\n",
        "    --criterion OhemCrossEntropyLoss \\\n",
        "    --optimizer SGD \\\n",
        "    --scheduler PolynomialLR \\\n",
        "    --lr 0.001 \\\n",
        "    --epochs 20 \\\n",
        "    --store drive"
      ],
      "metadata": {
        "id": "3Ver_pbF2YGD"
      },
      "id": "3Ver_pbF2YGD",
      "execution_count": null,
      "outputs": []
    },
    {
      "cell_type": "code",
      "source": [
        "# Test\n",
        "!python3 sem_seg.py \\\n",
        "    --test \\\n",
        "    --model_name PIDNet_S \\\n",
        "    --version 9 \\\n",
        "    --model_file last_0.pt \\\n",
        "    --target_domain Urban \\\n",
        "    --store drive\n",
        "\n",
        "!python3 sem_seg.py \\\n",
        "    --test \\\n",
        "    --model_name PIDNet_S \\\n",
        "    --version 9 \\\n",
        "    --model_file best_0.pt \\\n",
        "    --target_domain Urban \\\n",
        "    --store drive\n",
        "\n",
        "!python3 sem_seg.py \\\n",
        "    --test \\\n",
        "    --model_name PIDNet_S \\\n",
        "    --version 9 \\\n",
        "    --model_file last_0.pt \\\n",
        "    --target_domain Rural \\\n",
        "    --store drive\n",
        "\n",
        "!python3 sem_seg.py \\\n",
        "    --test \\\n",
        "    --model_name PIDNet_S \\\n",
        "    --version 9 \\\n",
        "    --model_file best_0.pt \\\n",
        "    --target_domain Rural \\\n",
        "    --store drive"
      ],
      "metadata": {
        "id": "eKK8UGDU2YWv"
      },
      "id": "eKK8UGDU2YWv",
      "execution_count": null,
      "outputs": []
    },
    {
      "cell_type": "markdown",
      "source": [
        "### Version 10"
      ],
      "metadata": {
        "id": "ovbkQSWE2Yv-"
      },
      "id": "ovbkQSWE2Yv-"
    },
    {
      "cell_type": "code",
      "source": [
        "# Train\n",
        "!python3 sem_seg.py \\\n",
        "    --train \\\n",
        "    --model_name PIDNet_S \\\n",
        "    --version 10 \\\n",
        "    --source_domain Urban \\\n",
        "    --shift_scale_rotate_augmentation \\\n",
        "    --random_crop_augmentation \\\n",
        "    --gaussian_blur_augmentation \\\n",
        "    --batch_size 6 \\\n",
        "    --criterion OhemCrossEntropyLoss \\\n",
        "    --optimizer SGD \\\n",
        "    --scheduler PolynomialLR \\\n",
        "    --lr 0.001 \\\n",
        "    --epochs 20 \\\n",
        "    --store drive"
      ],
      "metadata": {
        "id": "qAQDqgIK2ZDe"
      },
      "id": "qAQDqgIK2ZDe",
      "execution_count": null,
      "outputs": []
    },
    {
      "cell_type": "code",
      "source": [
        "# Test\n",
        "!python3 sem_seg.py \\\n",
        "    --test \\\n",
        "    --model_name PIDNet_S \\\n",
        "    --version 10 \\\n",
        "    --model_file last_0.pt \\\n",
        "    --target_domain Urban \\\n",
        "    --store drive\n",
        "\n",
        "!python3 sem_seg.py \\\n",
        "    --test \\\n",
        "    --model_name PIDNet_S \\\n",
        "    --version 10 \\\n",
        "    --model_file best_0.pt \\\n",
        "    --target_domain Urban \\\n",
        "    --store drive\n",
        "\n",
        "!python3 sem_seg.py \\\n",
        "    --test \\\n",
        "    --model_name PIDNet_S \\\n",
        "    --version 10 \\\n",
        "    --model_file last_0.pt \\\n",
        "    --target_domain Rural \\\n",
        "    --store drive\n",
        "\n",
        "!python3 sem_seg.py \\\n",
        "    --test \\\n",
        "    --model_name PIDNet_S \\\n",
        "    --version 10 \\\n",
        "    --model_file best_0.pt \\\n",
        "    --target_domain Rural \\\n",
        "    --store drive"
      ],
      "metadata": {
        "id": "znpavyL52ZQ1"
      },
      "id": "znpavyL52ZQ1",
      "execution_count": null,
      "outputs": []
    },
    {
      "cell_type": "markdown",
      "source": [
        "## PIDNet DACS"
      ],
      "metadata": {
        "id": "cZyo34KeoLxQ"
      },
      "id": "cZyo34KeoLxQ"
    },
    {
      "cell_type": "markdown",
      "source": [
        "### Version 0"
      ],
      "metadata": {
        "id": "VzOOjl14paoW"
      },
      "id": "VzOOjl14paoW"
    },
    {
      "cell_type": "code",
      "source": [
        "# Train\n",
        "!python3 sem_seg_dacs.py \\\n",
        "    --train \\\n",
        "    --model_name PIDNet_S \\\n",
        "    --version 0 \\\n",
        "    --batch_size 6 \\\n",
        "    --lr 0.001 \\\n",
        "    --epochs 20 \\\n",
        "    --store drive"
      ],
      "metadata": {
        "id": "EnednNDQoMKM"
      },
      "id": "EnednNDQoMKM",
      "execution_count": null,
      "outputs": []
    },
    {
      "cell_type": "code",
      "source": [
        "# Test\n",
        "!python3 sem_seg_dacs.py \\\n",
        "    --test \\\n",
        "    --model_name PIDNet_S \\\n",
        "    --version 0 \\\n",
        "    --model_file last_0.pt \\\n",
        "    --target_domain Urban \\\n",
        "    --store drive\n",
        "\n",
        "!python3 sem_seg_dacs.py \\\n",
        "    --test \\\n",
        "    --model_name PIDNet_S \\\n",
        "    --version 0 \\\n",
        "    --model_file best_0.pt \\\n",
        "    --target_domain Urban \\\n",
        "    --store drive\n",
        "\n",
        "!python3 sem_seg_dacs.py \\\n",
        "    --test \\\n",
        "    --model_name PIDNet_S \\\n",
        "    --version 0 \\\n",
        "    --model_file last_0.pt \\\n",
        "    --target_domain Rural \\\n",
        "    --store drive\n",
        "\n",
        "!python3 sem_seg_dacs.py \\\n",
        "    --test \\\n",
        "    --model_name PIDNet_S \\\n",
        "    --version 0 \\\n",
        "    --model_file best_0.pt \\\n",
        "    --target_domain Rural \\\n",
        "    --store drive"
      ],
      "metadata": {
        "id": "CeBe55ZNoLMS"
      },
      "id": "CeBe55ZNoLMS",
      "execution_count": null,
      "outputs": []
    },
    {
      "cell_type": "markdown",
      "source": [
        "### Version 1"
      ],
      "metadata": {
        "id": "yJAoqZbzpcdR"
      },
      "id": "yJAoqZbzpcdR"
    },
    {
      "cell_type": "code",
      "source": [
        "# Train\n",
        "!python3 sem_seg_dacs.py \\\n",
        "    --train \\\n",
        "    --model_name PIDNet_S \\\n",
        "    --version 1 \\\n",
        "    --batch_size 6 \\\n",
        "    --color_jitter_augmentation \\\n",
        "    --gaussian_blur_augmentation \\\n",
        "    --lr 0.001 \\\n",
        "    --epochs 20 \\\n",
        "    --store drive"
      ],
      "metadata": {
        "id": "D7WdvhK_peDX"
      },
      "id": "D7WdvhK_peDX",
      "execution_count": null,
      "outputs": []
    },
    {
      "cell_type": "code",
      "source": [
        "# Test\n",
        "!python3 sem_seg_dacs.py \\\n",
        "    --test \\\n",
        "    --model_name PIDNet_S \\\n",
        "    --version 1 \\\n",
        "    --model_file last_0.pt \\\n",
        "    --target_domain Urban \\\n",
        "    --store drive\n",
        "\n",
        "!python3 sem_seg_dacs.py \\\n",
        "    --test \\\n",
        "    --model_name PIDNet_S \\\n",
        "    --version 1 \\\n",
        "    --model_file best_0.pt \\\n",
        "    --target_domain Urban \\\n",
        "    --store drive\n",
        "\n",
        "!python3 sem_seg_dacs.py \\\n",
        "    --test \\\n",
        "    --model_name PIDNet_S \\\n",
        "    --version 1 \\\n",
        "    --model_file last_0.pt \\\n",
        "    --target_domain Rural \\\n",
        "    --store drive\n",
        "\n",
        "!python3 sem_seg_dacs.py \\\n",
        "    --test \\\n",
        "    --model_name PIDNet_S \\\n",
        "    --version 1 \\\n",
        "    --model_file best_0.pt \\\n",
        "    --target_domain Rural \\\n",
        "    --store drive"
      ],
      "metadata": {
        "id": "uWl5DSfUpjpD"
      },
      "id": "uWl5DSfUpjpD",
      "execution_count": null,
      "outputs": []
    },
    {
      "cell_type": "markdown",
      "source": [
        "### Version 2"
      ],
      "metadata": {
        "id": "08psIDuOw7Ns"
      },
      "id": "08psIDuOw7Ns"
    },
    {
      "cell_type": "code",
      "source": [
        "# Train\n",
        "!python3 sem_seg_dacs.py \\\n",
        "    --train \\\n",
        "    --model_name PIDNet_S \\\n",
        "    --version 2 \\\n",
        "    --batch_size 6 \\\n",
        "    --horizontal_flip_augmentation \\\n",
        "    --shift_scale_rotate_augmentation \\\n",
        "    --lr 0.001 \\\n",
        "    --epochs 20 \\\n",
        "    --store drive"
      ],
      "metadata": {
        "colab": {
          "base_uri": "https://localhost:8080/"
        },
        "id": "YVqoA7JldBwI",
        "outputId": "63d11669-7d42-469f-81bc-eafc2f7da9ee"
      },
      "id": "YVqoA7JldBwI",
      "execution_count": null,
      "outputs": [
        {
          "output_type": "stream",
          "name": "stdout",
          "text": [
            "/usr/local/lib/python3.11/dist-packages/albumentations/__init__.py:24: UserWarning: A new version of Albumentations is available: 2.0.0 (you have 1.4.20). Upgrade using: pip install -U albumentations. To disable automatic update checks, set the environment variable NO_ALBUMENTATIONS_UPDATE to 1.\n",
            "  check_for_updates()\n",
            "CUDA available\n",
            "Number of devices: 1\n",
            "Device 0:\n",
            "\tName: Tesla T4\n",
            "Device: cuda\n",
            "/content/sem_seg_dacs.py:419: UserWarning: Argument 'fill' is not valid and will be ignored.\n",
            "  transform_list.append(ShiftScaleRotate(shift_limit=0.1, scale_limit=0.25, rotate_limit=15, fill=(0, 0, 0), fill_mask=255, p=0.5))\n",
            "/content/sem_seg_dacs.py:419: UserWarning: Argument 'fill_mask' is not valid and will be ignored.\n",
            "  transform_list.append(ShiftScaleRotate(shift_limit=0.1, scale_limit=0.25, rotate_limit=15, fill=(0, 0, 0), fill_mask=255, p=0.5))\n",
            "/content/models/pidnet/pidnet.py:188: FutureWarning: You are using `torch.load` with `weights_only=False` (the current default value), which uses the default pickle module implicitly. It is possible to construct malicious pickle data which will execute arbitrary code during unpickling (See https://github.com/pytorch/pytorch/blob/main/SECURITY.md#untrusted-models for more details). In a future release, the default value for `weights_only` will be flipped to `True`. This limits the functions that could be executed during unpickling. Arbitrary objects will no longer be allowed to be loaded via this mode unless they are explicitly allowlisted by the user via `torch.serialization.add_safe_globals`. We recommend you start setting `weights_only=True` for any use case where you don't have full control of the loaded file. Please open an issue on GitHub for any issues related to this experimental feature.\n",
            "  pretrained_state = torch.load(pretrain_model_path, map_location='cpu')['state_dict']\n",
            "Loaded 302 parameters.\n",
            "Model: PIDNet_S DACS\n",
            "Device: cuda\n",
            "Cuda device name: Tesla T4\n",
            "Dataset source domain: Urban\n",
            "Dataset target domain: Rural\n",
            "Data augmentation: True\n",
            "- HorizontalFlip(p=0.5)\n",
            "- ShiftScaleRotate(shift_limit=0.1, scale_limit=0.25, rotate_limit=15, fill=(0, 0, 0), fill_mask=255, p=0.5)\n",
            "Batch size: 6\n",
            "\n",
            "Criterion: OhemCrossEntropyLoss\n",
            "\n",
            "Optimizer:\n",
            "SGD (\n",
            "    lr: 0.001\n",
            "    momentum: 0.9\n",
            "    weight_decay: 0.0005\n",
            ")\n",
            "\n",
            "Scheduler:\n",
            "PolynomialLR (\n",
            "    lr: 0.001\n",
            "    power: 0.9\n",
            ")\n",
            "\n",
            "Epoch 1/20:\n",
            "Progress: |----------|   1% \tTime: 00:00:15 s \tLearning rate: 0.00100 \tTrain loss: 23.5395 \tTrain loss labeled: 14.3766 \tTrain loss unlabeled: 9.1629 \tTrain miou: 0.0493 \n",
            "Progress: |----------|   1% \tTime: 00:00:17 s \tLearning rate: 0.00100 \tTrain loss: 22.4043 \tTrain loss labeled: 13.3312 \tTrain loss unlabeled: 9.0731 \tTrain miou: 0.0531 \n",
            "Progress: |----------|   2% \tTime: 00:00:20 s \tLearning rate: 0.00100 \tTrain loss: 21.2954 \tTrain loss labeled: 12.7446 \tTrain loss unlabeled: 8.5508 \tTrain miou: 0.0571 \n",
            "Progress: |----------|   2% \tTime: 00:00:23 s \tLearning rate: 0.00100 \tTrain loss: 21.2795 \tTrain loss labeled: 12.6410 \tTrain loss unlabeled: 8.6385 \tTrain miou: 0.0594 \n",
            "Progress: |----------|   3% \tTime: 00:00:25 s \tLearning rate: 0.00100 \tTrain loss: 20.5284 \tTrain loss labeled: 12.2002 \tTrain loss unlabeled: 8.3282 \tTrain miou: 0.0619 \n",
            "Progress: |----------|   3% \tTime: 00:00:28 s \tLearning rate: 0.00100 \tTrain loss: 20.7171 \tTrain loss labeled: 12.3173 \tTrain loss unlabeled: 8.3998 \tTrain miou: 0.0628 \n",
            "Progress: |----------|   4% \tTime: 00:00:30 s \tLearning rate: 0.00100 \tTrain loss: 20.0935 \tTrain loss labeled: 11.9584 \tTrain loss unlabeled: 8.1350 \tTrain miou: 0.0664 \n",
            "Progress: |----------|   4% \tTime: 00:00:33 s \tLearning rate: 0.00100 \tTrain loss: 19.6460 \tTrain loss labeled: 11.6030 \tTrain loss unlabeled: 8.0430 \tTrain miou: 0.0703 \n",
            "Progress: |----------|   5% \tTime: 00:00:35 s \tLearning rate: 0.00100 \tTrain loss: 19.3757 \tTrain loss labeled: 11.4214 \tTrain loss unlabeled: 7.9542 \tTrain miou: 0.0754 \n",
            "Progress: |----------|   5% \tTime: 00:00:39 s \tLearning rate: 0.00100 \tTrain loss: 18.8835 \tTrain loss labeled: 11.0672 \tTrain loss unlabeled: 7.8163 \tTrain miou: 0.0834 \n",
            "Progress: |----------|   6% \tTime: 00:00:41 s \tLearning rate: 0.00100 \tTrain loss: 18.4400 \tTrain loss labeled: 10.7674 \tTrain loss unlabeled: 7.6726 \tTrain miou: 0.0855 \n",
            "Progress: |----------|   6% \tTime: 00:00:43 s \tLearning rate: 0.00100 \tTrain loss: 18.0980 \tTrain loss labeled: 10.5121 \tTrain loss unlabeled: 7.5859 \tTrain miou: 0.0876 \n",
            "Progress: |----------|   7% \tTime: 00:00:46 s \tLearning rate: 0.00100 \tTrain loss: 17.8688 \tTrain loss labeled: 10.3521 \tTrain loss unlabeled: 7.5167 \tTrain miou: 0.0904 \n",
            "Progress: |----------|   7% \tTime: 00:00:48 s \tLearning rate: 0.00100 \tTrain loss: 17.6345 \tTrain loss labeled: 10.2158 \tTrain loss unlabeled: 7.4187 \tTrain miou: 0.0923 \n",
            "Progress: |----------|   8% \tTime: 00:00:51 s \tLearning rate: 0.00100 \tTrain loss: 17.2930 \tTrain loss labeled: 10.0354 \tTrain loss unlabeled: 7.2576 \tTrain miou: 0.0938 \n",
            "Progress: |----------|   8% \tTime: 00:00:54 s \tLearning rate: 0.00100 \tTrain loss: 16.9647 \tTrain loss labeled: 9.8574 \tTrain loss unlabeled: 7.1073 \tTrain miou: 0.0951 \n",
            "Progress: |----------|   9% \tTime: 00:00:57 s \tLearning rate: 0.00100 \tTrain loss: 16.6847 \tTrain loss labeled: 9.6885 \tTrain loss unlabeled: 6.9962 \tTrain miou: 0.0981 \n",
            "Progress: |----------|   9% \tTime: 00:00:59 s \tLearning rate: 0.00100 \tTrain loss: 16.3708 \tTrain loss labeled: 9.5079 \tTrain loss unlabeled: 6.8630 \tTrain miou: 0.0995 \n",
            "Progress: |----------|  10% \tTime: 00:01:01 s \tLearning rate: 0.00100 \tTrain loss: 16.1816 \tTrain loss labeled: 9.3788 \tTrain loss unlabeled: 6.8028 \tTrain miou: 0.1002 \n",
            "Progress: |█---------|  10% \tTime: 00:01:04 s \tLearning rate: 0.00100 \tTrain loss: 15.9335 \tTrain loss labeled: 9.2368 \tTrain loss unlabeled: 6.6967 \tTrain miou: 0.1020 \n",
            "Progress: |█---------|  11% \tTime: 00:01:07 s \tLearning rate: 0.00100 \tTrain loss: 15.7165 \tTrain loss labeled: 9.0857 \tTrain loss unlabeled: 6.6308 \tTrain miou: 0.1045 \n",
            "Progress: |█---------|  11% \tTime: 00:01:10 s \tLearning rate: 0.00100 \tTrain loss: 15.5228 \tTrain loss labeled: 8.9570 \tTrain loss unlabeled: 6.5658 \tTrain miou: 0.1050 \n",
            "Progress: |█---------|  12% \tTime: 00:01:12 s \tLearning rate: 0.00100 \tTrain loss: 15.3751 \tTrain loss labeled: 8.8530 \tTrain loss unlabeled: 6.5221 \tTrain miou: 0.1063 \n",
            "Progress: |█---------|  12% \tTime: 00:01:15 s \tLearning rate: 0.00100 \tTrain loss: 15.1951 \tTrain loss labeled: 8.7223 \tTrain loss unlabeled: 6.4728 \tTrain miou: 0.1089 \n",
            "Progress: |█---------|  13% \tTime: 00:01:17 s \tLearning rate: 0.00100 \tTrain loss: 15.0144 \tTrain loss labeled: 8.6053 \tTrain loss unlabeled: 6.4091 \tTrain miou: 0.1107 \n",
            "Progress: |█---------|  14% \tTime: 00:01:19 s \tLearning rate: 0.00100 \tTrain loss: 14.8086 \tTrain loss labeled: 8.4719 \tTrain loss unlabeled: 6.3368 \tTrain miou: 0.1115 \n",
            "Progress: |█---------|  14% \tTime: 00:01:23 s \tLearning rate: 0.00100 \tTrain loss: 14.6354 \tTrain loss labeled: 8.3542 \tTrain loss unlabeled: 6.2812 \tTrain miou: 0.1137 \n",
            "Progress: |█---------|  15% \tTime: 00:01:25 s \tLearning rate: 0.00100 \tTrain loss: 14.4800 \tTrain loss labeled: 8.2651 \tTrain loss unlabeled: 6.2149 \tTrain miou: 0.1148 \n",
            "Progress: |█---------|  15% \tTime: 00:01:27 s \tLearning rate: 0.00100 \tTrain loss: 14.3411 \tTrain loss labeled: 8.1627 \tTrain loss unlabeled: 6.1784 \tTrain miou: 0.1166 \n",
            "Progress: |█---------|  16% \tTime: 00:01:30 s \tLearning rate: 0.00100 \tTrain loss: 14.2306 \tTrain loss labeled: 8.1084 \tTrain loss unlabeled: 6.1221 \tTrain miou: 0.1180 \n",
            "Progress: |█---------|  16% \tTime: 00:01:32 s \tLearning rate: 0.00100 \tTrain loss: 14.1303 \tTrain loss labeled: 8.0411 \tTrain loss unlabeled: 6.0893 \tTrain miou: 0.1186 \n",
            "Progress: |█---------|  17% \tTime: 00:01:35 s \tLearning rate: 0.00100 \tTrain loss: 13.9780 \tTrain loss labeled: 7.9429 \tTrain loss unlabeled: 6.0352 \tTrain miou: 0.1191 \n",
            "Progress: |█---------|  17% \tTime: 00:01:38 s \tLearning rate: 0.00100 \tTrain loss: 13.7980 \tTrain loss labeled: 7.8344 \tTrain loss unlabeled: 5.9635 \tTrain miou: 0.1214 \n",
            "Progress: |█---------|  18% \tTime: 00:01:40 s \tLearning rate: 0.00100 \tTrain loss: 13.6519 \tTrain loss labeled: 7.7464 \tTrain loss unlabeled: 5.9055 \tTrain miou: 0.1223 \n",
            "Progress: |█---------|  18% \tTime: 00:01:43 s \tLearning rate: 0.00100 \tTrain loss: 13.5191 \tTrain loss labeled: 7.6693 \tTrain loss unlabeled: 5.8498 \tTrain miou: 0.1221 \n",
            "Progress: |█---------|  19% \tTime: 00:01:45 s \tLearning rate: 0.00100 \tTrain loss: 13.3588 \tTrain loss labeled: 7.5743 \tTrain loss unlabeled: 5.7845 \tTrain miou: 0.1232 \n",
            "Progress: |█---------|  19% \tTime: 00:01:47 s \tLearning rate: 0.00100 \tTrain loss: 13.2753 \tTrain loss labeled: 7.5393 \tTrain loss unlabeled: 5.7360 \tTrain miou: 0.1234 \n",
            "Progress: |█---------|  20% \tTime: 00:01:50 s \tLearning rate: 0.00100 \tTrain loss: 13.1778 \tTrain loss labeled: 7.4835 \tTrain loss unlabeled: 5.6943 \tTrain miou: 0.1235 \n",
            "Progress: |██--------|  20% \tTime: 00:01:53 s \tLearning rate: 0.00100 \tTrain loss: 13.0696 \tTrain loss labeled: 7.4228 \tTrain loss unlabeled: 5.6468 \tTrain miou: 0.1245 \n",
            "Progress: |██--------|  21% \tTime: 00:01:55 s \tLearning rate: 0.00100 \tTrain loss: 12.9818 \tTrain loss labeled: 7.3690 \tTrain loss unlabeled: 5.6128 \tTrain miou: 0.1257 \n",
            "Progress: |██--------|  21% \tTime: 00:01:58 s \tLearning rate: 0.00100 \tTrain loss: 12.8379 \tTrain loss labeled: 7.2855 \tTrain loss unlabeled: 5.5524 \tTrain miou: 0.1265 \n",
            "Progress: |██--------|  22% \tTime: 00:02:00 s \tLearning rate: 0.00100 \tTrain loss: 12.7573 \tTrain loss labeled: 7.2402 \tTrain loss unlabeled: 5.5171 \tTrain miou: 0.1266 \n",
            "Progress: |██--------|  22% \tTime: 00:02:02 s \tLearning rate: 0.00100 \tTrain loss: 12.6571 \tTrain loss labeled: 7.1798 \tTrain loss unlabeled: 5.4773 \tTrain miou: 0.1268 \n",
            "Progress: |██--------|  23% \tTime: 00:02:05 s \tLearning rate: 0.00100 \tTrain loss: 12.5469 \tTrain loss labeled: 7.1161 \tTrain loss unlabeled: 5.4308 \tTrain miou: 0.1269 \n",
            "Progress: |██--------|  23% \tTime: 00:02:09 s \tLearning rate: 0.00100 \tTrain loss: 12.4380 \tTrain loss labeled: 7.0642 \tTrain loss unlabeled: 5.3738 \tTrain miou: 0.1269 \n",
            "Progress: |██--------|  24% \tTime: 00:02:11 s \tLearning rate: 0.00100 \tTrain loss: 12.3267 \tTrain loss labeled: 6.9960 \tTrain loss unlabeled: 5.3307 \tTrain miou: 0.1273 \n",
            "Progress: |██--------|  24% \tTime: 00:02:13 s \tLearning rate: 0.00100 \tTrain loss: 12.2230 \tTrain loss labeled: 6.9398 \tTrain loss unlabeled: 5.2832 \tTrain miou: 0.1278 \n",
            "Progress: |██--------|  25% \tTime: 00:02:16 s \tLearning rate: 0.00100 \tTrain loss: 12.1056 \tTrain loss labeled: 6.8636 \tTrain loss unlabeled: 5.2419 \tTrain miou: 0.1295 \n",
            "Progress: |██--------|  26% \tTime: 00:02:18 s \tLearning rate: 0.00100 \tTrain loss: 11.9917 \tTrain loss labeled: 6.7927 \tTrain loss unlabeled: 5.1991 \tTrain miou: 0.1294 \n",
            "Progress: |██--------|  26% \tTime: 00:02:21 s \tLearning rate: 0.00100 \tTrain loss: 11.9358 \tTrain loss labeled: 6.7607 \tTrain loss unlabeled: 5.1751 \tTrain miou: 0.1298 \n",
            "Progress: |██--------|  27% \tTime: 00:02:24 s \tLearning rate: 0.00100 \tTrain loss: 11.8329 \tTrain loss labeled: 6.6926 \tTrain loss unlabeled: 5.1403 \tTrain miou: 0.1303 \n",
            "Progress: |██--------|  27% \tTime: 00:02:27 s \tLearning rate: 0.00100 \tTrain loss: 11.7653 \tTrain loss labeled: 6.6457 \tTrain loss unlabeled: 5.1196 \tTrain miou: 0.1305 \n",
            "Progress: |██--------|  28% \tTime: 00:02:29 s \tLearning rate: 0.00100 \tTrain loss: 11.6934 \tTrain loss labeled: 6.5973 \tTrain loss unlabeled: 5.0961 \tTrain miou: 0.1324 \n",
            "Progress: |██--------|  28% \tTime: 00:02:31 s \tLearning rate: 0.00100 \tTrain loss: 11.6250 \tTrain loss labeled: 6.5508 \tTrain loss unlabeled: 5.0742 \tTrain miou: 0.1328 \n",
            "Progress: |██--------|  29% \tTime: 00:02:34 s \tLearning rate: 0.00100 \tTrain loss: 11.5477 \tTrain loss labeled: 6.5072 \tTrain loss unlabeled: 5.0405 \tTrain miou: 0.1343 \n",
            "Progress: |██--------|  29% \tTime: 00:02:37 s \tLearning rate: 0.00100 \tTrain loss: 11.4763 \tTrain loss labeled: 6.4645 \tTrain loss unlabeled: 5.0118 \tTrain miou: 0.1365 \n",
            "Progress: |██--------|  30% \tTime: 00:02:40 s \tLearning rate: 0.00100 \tTrain loss: 11.3792 \tTrain loss labeled: 6.4074 \tTrain loss unlabeled: 4.9718 \tTrain miou: 0.1380 \n",
            "Progress: |███-------|  30% \tTime: 00:02:42 s \tLearning rate: 0.00100 \tTrain loss: 11.2998 \tTrain loss labeled: 6.3546 \tTrain loss unlabeled: 4.9452 \tTrain miou: 0.1383 \n",
            "Progress: |███-------|  31% \tTime: 00:02:44 s \tLearning rate: 0.00100 \tTrain loss: 11.2234 \tTrain loss labeled: 6.3049 \tTrain loss unlabeled: 4.9185 \tTrain miou: 0.1389 \n",
            "Progress: |███-------|  31% \tTime: 00:02:47 s \tLearning rate: 0.00100 \tTrain loss: 11.1961 \tTrain loss labeled: 6.2820 \tTrain loss unlabeled: 4.9141 \tTrain miou: 0.1397 \n",
            "Progress: |███-------|  32% \tTime: 00:02:49 s \tLearning rate: 0.00100 \tTrain loss: 11.1078 \tTrain loss labeled: 6.2315 \tTrain loss unlabeled: 4.8763 \tTrain miou: 0.1419 \n",
            "Progress: |███-------|  32% \tTime: 00:02:53 s \tLearning rate: 0.00100 \tTrain loss: 11.0396 \tTrain loss labeled: 6.1834 \tTrain loss unlabeled: 4.8562 \tTrain miou: 0.1424 \n",
            "Progress: |███-------|  33% \tTime: 00:02:55 s \tLearning rate: 0.00100 \tTrain loss: 10.9706 \tTrain loss labeled: 6.1424 \tTrain loss unlabeled: 4.8282 \tTrain miou: 0.1424 \n",
            "Progress: |███-------|  33% \tTime: 00:02:57 s \tLearning rate: 0.00100 \tTrain loss: 10.9079 \tTrain loss labeled: 6.1108 \tTrain loss unlabeled: 4.7971 \tTrain miou: 0.1422 \n",
            "Progress: |███-------|  34% \tTime: 00:03:00 s \tLearning rate: 0.00100 \tTrain loss: 10.8268 \tTrain loss labeled: 6.0634 \tTrain loss unlabeled: 4.7634 \tTrain miou: 0.1432 \n",
            "Progress: |███-------|  34% \tTime: 00:03:02 s \tLearning rate: 0.00100 \tTrain loss: 10.7726 \tTrain loss labeled: 6.0339 \tTrain loss unlabeled: 4.7387 \tTrain miou: 0.1443 \n",
            "Progress: |███-------|  35% \tTime: 00:03:05 s \tLearning rate: 0.00100 \tTrain loss: 10.6926 \tTrain loss labeled: 5.9887 \tTrain loss unlabeled: 4.7039 \tTrain miou: 0.1448 \n",
            "Progress: |███-------|  35% \tTime: 00:03:08 s \tLearning rate: 0.00100 \tTrain loss: 10.6356 \tTrain loss labeled: 5.9553 \tTrain loss unlabeled: 4.6803 \tTrain miou: 0.1464 \n",
            "Progress: |███-------|  36% \tTime: 00:03:11 s \tLearning rate: 0.00100 \tTrain loss: 10.5724 \tTrain loss labeled: 5.9199 \tTrain loss unlabeled: 4.6525 \tTrain miou: 0.1466 \n",
            "Progress: |███-------|  36% \tTime: 00:03:13 s \tLearning rate: 0.00100 \tTrain loss: 10.5301 \tTrain loss labeled: 5.8950 \tTrain loss unlabeled: 4.6351 \tTrain miou: 0.1474 \n",
            "Progress: |███-------|  37% \tTime: 00:03:15 s \tLearning rate: 0.00100 \tTrain loss: 10.4626 \tTrain loss labeled: 5.8585 \tTrain loss unlabeled: 4.6041 \tTrain miou: 0.1475 \n",
            "Progress: |███-------|  38% \tTime: 00:03:18 s \tLearning rate: 0.00100 \tTrain loss: 10.4125 \tTrain loss labeled: 5.8264 \tTrain loss unlabeled: 4.5861 \tTrain miou: 0.1479 \n",
            "Progress: |███-------|  38% \tTime: 00:03:21 s \tLearning rate: 0.00100 \tTrain loss: 10.3423 \tTrain loss labeled: 5.7863 \tTrain loss unlabeled: 4.5561 \tTrain miou: 0.1481 \n",
            "Progress: |███-------|  39% \tTime: 00:03:24 s \tLearning rate: 0.00100 \tTrain loss: 10.2973 \tTrain loss labeled: 5.7674 \tTrain loss unlabeled: 4.5299 \tTrain miou: 0.1485 \n",
            "Progress: |███-------|  39% \tTime: 00:03:26 s \tLearning rate: 0.00100 \tTrain loss: 10.2477 \tTrain loss labeled: 5.7360 \tTrain loss unlabeled: 4.5117 \tTrain miou: 0.1490 \n",
            "Progress: |███-------|  40% \tTime: 00:03:29 s \tLearning rate: 0.00100 \tTrain loss: 10.1945 \tTrain loss labeled: 5.7011 \tTrain loss unlabeled: 4.4934 \tTrain miou: 0.1498 \n",
            "Progress: |████------|  40% \tTime: 00:03:31 s \tLearning rate: 0.00100 \tTrain loss: 10.1318 \tTrain loss labeled: 5.6643 \tTrain loss unlabeled: 4.4675 \tTrain miou: 0.1510 \n",
            "Progress: |████------|  41% \tTime: 00:03:34 s \tLearning rate: 0.00100 \tTrain loss: 10.0719 \tTrain loss labeled: 5.6306 \tTrain loss unlabeled: 4.4413 \tTrain miou: 0.1513 \n",
            "Progress: |████------|  41% \tTime: 00:03:37 s \tLearning rate: 0.00100 \tTrain loss: 10.0117 \tTrain loss labeled: 5.6007 \tTrain loss unlabeled: 4.4111 \tTrain miou: 0.1518 \n",
            "Progress: |████------|  42% \tTime: 00:03:40 s \tLearning rate: 0.00100 \tTrain loss: 9.9722 \tTrain loss labeled: 5.5810 \tTrain loss unlabeled: 4.3912 \tTrain miou: 0.1521 \n",
            "Progress: |████------|  42% \tTime: 00:03:42 s \tLearning rate: 0.00100 \tTrain loss: 9.9207 \tTrain loss labeled: 5.5516 \tTrain loss unlabeled: 4.3691 \tTrain miou: 0.1527 \n",
            "Progress: |████------|  43% \tTime: 00:03:44 s \tLearning rate: 0.00100 \tTrain loss: 9.8833 \tTrain loss labeled: 5.5293 \tTrain loss unlabeled: 4.3540 \tTrain miou: 0.1526 \n",
            "Progress: |████------|  43% \tTime: 00:03:47 s \tLearning rate: 0.00100 \tTrain loss: 9.8342 \tTrain loss labeled: 5.4982 \tTrain loss unlabeled: 4.3360 \tTrain miou: 0.1537 \n",
            "Progress: |████------|  44% \tTime: 00:03:49 s \tLearning rate: 0.00100 \tTrain loss: 9.8009 \tTrain loss labeled: 5.4789 \tTrain loss unlabeled: 4.3221 \tTrain miou: 0.1532 \n",
            "Progress: |████------|  44% \tTime: 00:03:52 s \tLearning rate: 0.00100 \tTrain loss: 9.7592 \tTrain loss labeled: 5.4579 \tTrain loss unlabeled: 4.3014 \tTrain miou: 0.1541 \n",
            "Progress: |████------|  45% \tTime: 00:03:55 s \tLearning rate: 0.00100 \tTrain loss: 9.7086 \tTrain loss labeled: 5.4275 \tTrain loss unlabeled: 4.2812 \tTrain miou: 0.1544 \n",
            "Progress: |████------|  45% \tTime: 00:03:57 s \tLearning rate: 0.00100 \tTrain loss: 9.6691 \tTrain loss labeled: 5.4043 \tTrain loss unlabeled: 4.2647 \tTrain miou: 0.1557 \n",
            "Progress: |████------|  46% \tTime: 00:04:00 s \tLearning rate: 0.00100 \tTrain loss: 9.6149 \tTrain loss labeled: 5.3746 \tTrain loss unlabeled: 4.2404 \tTrain miou: 0.1567 \n",
            "Progress: |████------|  46% \tTime: 00:04:02 s \tLearning rate: 0.00100 \tTrain loss: 9.5779 \tTrain loss labeled: 5.3576 \tTrain loss unlabeled: 4.2203 \tTrain miou: 0.1575 \n",
            "Progress: |████------|  47% \tTime: 00:04:05 s \tLearning rate: 0.00100 \tTrain loss: 9.5310 \tTrain loss labeled: 5.3343 \tTrain loss unlabeled: 4.1967 \tTrain miou: 0.1585 \n",
            "Progress: |████------|  47% \tTime: 00:04:08 s \tLearning rate: 0.00100 \tTrain loss: 9.4930 \tTrain loss labeled: 5.3162 \tTrain loss unlabeled: 4.1768 \tTrain miou: 0.1600 \n",
            "Progress: |████------|  48% \tTime: 00:04:11 s \tLearning rate: 0.00100 \tTrain loss: 9.4614 \tTrain loss labeled: 5.2993 \tTrain loss unlabeled: 4.1621 \tTrain miou: 0.1609 \n",
            "Progress: |████------|  48% \tTime: 00:04:13 s \tLearning rate: 0.00100 \tTrain loss: 9.4267 \tTrain loss labeled: 5.2784 \tTrain loss unlabeled: 4.1483 \tTrain miou: 0.1617 \n",
            "Progress: |████------|  49% \tTime: 00:04:16 s \tLearning rate: 0.00100 \tTrain loss: 9.3829 \tTrain loss labeled: 5.2523 \tTrain loss unlabeled: 4.1306 \tTrain miou: 0.1643 \n",
            "Progress: |████------|  49% \tTime: 00:04:18 s \tLearning rate: 0.00100 \tTrain loss: 9.3420 \tTrain loss labeled: 5.2323 \tTrain loss unlabeled: 4.1097 \tTrain miou: 0.1651 \n",
            "Progress: |█████-----|  50% \tTime: 00:04:21 s \tLearning rate: 0.00100 \tTrain loss: 9.2932 \tTrain loss labeled: 5.2040 \tTrain loss unlabeled: 4.0892 \tTrain miou: 0.1668 \n",
            "Progress: |█████-----|  51% \tTime: 00:04:24 s \tLearning rate: 0.00100 \tTrain loss: 9.2497 \tTrain loss labeled: 5.1795 \tTrain loss unlabeled: 4.0701 \tTrain miou: 0.1673 \n",
            "Progress: |█████-----|  51% \tTime: 00:04:26 s \tLearning rate: 0.00100 \tTrain loss: 9.2083 \tTrain loss labeled: 5.1568 \tTrain loss unlabeled: 4.0515 \tTrain miou: 0.1679 \n",
            "Progress: |█████-----|  52% \tTime: 00:04:29 s \tLearning rate: 0.00100 \tTrain loss: 9.1633 \tTrain loss labeled: 5.1311 \tTrain loss unlabeled: 4.0322 \tTrain miou: 0.1692 \n",
            "Progress: |█████-----|  52% \tTime: 00:04:31 s \tLearning rate: 0.00100 \tTrain loss: 9.1238 \tTrain loss labeled: 5.1093 \tTrain loss unlabeled: 4.0145 \tTrain miou: 0.1697 \n",
            "Progress: |█████-----|  53% \tTime: 00:04:34 s \tLearning rate: 0.00100 \tTrain loss: 9.0968 \tTrain loss labeled: 5.0926 \tTrain loss unlabeled: 4.0041 \tTrain miou: 0.1701 \n",
            "Progress: |█████-----|  53% \tTime: 00:04:37 s \tLearning rate: 0.00100 \tTrain loss: 9.0548 \tTrain loss labeled: 5.0685 \tTrain loss unlabeled: 3.9863 \tTrain miou: 0.1705 \n",
            "Progress: |█████-----|  54% \tTime: 00:04:40 s \tLearning rate: 0.00100 \tTrain loss: 9.0177 \tTrain loss labeled: 5.0492 \tTrain loss unlabeled: 3.9685 \tTrain miou: 0.1712 \n",
            "Progress: |█████-----|  54% \tTime: 00:04:42 s \tLearning rate: 0.00100 \tTrain loss: 8.9843 \tTrain loss labeled: 5.0301 \tTrain loss unlabeled: 3.9542 \tTrain miou: 0.1712 \n",
            "Progress: |█████-----|  55% \tTime: 00:04:44 s \tLearning rate: 0.00100 \tTrain loss: 8.9602 \tTrain loss labeled: 5.0126 \tTrain loss unlabeled: 3.9476 \tTrain miou: 0.1713 \n",
            "Progress: |█████-----|  55% \tTime: 00:04:47 s \tLearning rate: 0.00100 \tTrain loss: 8.9292 \tTrain loss labeled: 4.9943 \tTrain loss unlabeled: 3.9350 \tTrain miou: 0.1713 \n",
            "Progress: |█████-----|  56% \tTime: 00:04:50 s \tLearning rate: 0.00100 \tTrain loss: 8.9020 \tTrain loss labeled: 4.9776 \tTrain loss unlabeled: 3.9244 \tTrain miou: 0.1712 \n",
            "Progress: |█████-----|  56% \tTime: 00:04:53 s \tLearning rate: 0.00100 \tTrain loss: 8.8691 \tTrain loss labeled: 4.9628 \tTrain loss unlabeled: 3.9063 \tTrain miou: 0.1710 \n",
            "Progress: |█████-----|  57% \tTime: 00:04:55 s \tLearning rate: 0.00100 \tTrain loss: 8.8316 \tTrain loss labeled: 4.9397 \tTrain loss unlabeled: 3.8919 \tTrain miou: 0.1710 \n",
            "Progress: |█████-----|  57% \tTime: 00:04:57 s \tLearning rate: 0.00100 \tTrain loss: 8.7987 \tTrain loss labeled: 4.9214 \tTrain loss unlabeled: 3.8773 \tTrain miou: 0.1708 \n",
            "Progress: |█████-----|  58% \tTime: 00:05:00 s \tLearning rate: 0.00100 \tTrain loss: 8.7636 \tTrain loss labeled: 4.9021 \tTrain loss unlabeled: 3.8615 \tTrain miou: 0.1711 \n",
            "Progress: |█████-----|  58% \tTime: 00:05:02 s \tLearning rate: 0.00100 \tTrain loss: 8.7259 \tTrain loss labeled: 4.8816 \tTrain loss unlabeled: 3.8443 \tTrain miou: 0.1714 \n",
            "Progress: |█████-----|  59% \tTime: 00:05:05 s \tLearning rate: 0.00100 \tTrain loss: 8.6907 \tTrain loss labeled: 4.8621 \tTrain loss unlabeled: 3.8286 \tTrain miou: 0.1718 \n",
            "Progress: |█████-----|  59% \tTime: 00:05:09 s \tLearning rate: 0.00100 \tTrain loss: 8.6648 \tTrain loss labeled: 4.8471 \tTrain loss unlabeled: 3.8177 \tTrain miou: 0.1724 \n",
            "Progress: |█████-----|  60% \tTime: 00:05:11 s \tLearning rate: 0.00100 \tTrain loss: 8.6357 \tTrain loss labeled: 4.8290 \tTrain loss unlabeled: 3.8067 \tTrain miou: 0.1727 \n",
            "Progress: |██████----|  60% \tTime: 00:05:14 s \tLearning rate: 0.00100 \tTrain loss: 8.6205 \tTrain loss labeled: 4.8235 \tTrain loss unlabeled: 3.7970 \tTrain miou: 0.1729 \n",
            "Progress: |██████----|  61% \tTime: 00:05:16 s \tLearning rate: 0.00100 \tTrain loss: 8.6008 \tTrain loss labeled: 4.8144 \tTrain loss unlabeled: 3.7863 \tTrain miou: 0.1737 \n",
            "Progress: |██████----|  61% \tTime: 00:05:18 s \tLearning rate: 0.00100 \tTrain loss: 8.5788 \tTrain loss labeled: 4.8022 \tTrain loss unlabeled: 3.7766 \tTrain miou: 0.1743 \n",
            "Progress: |██████----|  62% \tTime: 00:05:21 s \tLearning rate: 0.00100 \tTrain loss: 8.5503 \tTrain loss labeled: 4.7849 \tTrain loss unlabeled: 3.7654 \tTrain miou: 0.1746 \n",
            "Progress: |██████----|  62% \tTime: 00:05:24 s \tLearning rate: 0.00100 \tTrain loss: 8.5145 \tTrain loss labeled: 4.7661 \tTrain loss unlabeled: 3.7485 \tTrain miou: 0.1751 \n",
            "Progress: |██████----|  63% \tTime: 00:05:27 s \tLearning rate: 0.00100 \tTrain loss: 8.4923 \tTrain loss labeled: 4.7553 \tTrain loss unlabeled: 3.7371 \tTrain miou: 0.1752 \n",
            "Progress: |██████----|  64% \tTime: 00:05:29 s \tLearning rate: 0.00100 \tTrain loss: 8.4640 \tTrain loss labeled: 4.7396 \tTrain loss unlabeled: 3.7243 \tTrain miou: 0.1763 \n",
            "Progress: |██████----|  64% \tTime: 00:05:31 s \tLearning rate: 0.00100 \tTrain loss: 8.4392 \tTrain loss labeled: 4.7271 \tTrain loss unlabeled: 3.7121 \tTrain miou: 0.1776 \n",
            "Progress: |██████----|  65% \tTime: 00:05:34 s \tLearning rate: 0.00100 \tTrain loss: 8.4101 \tTrain loss labeled: 4.7099 \tTrain loss unlabeled: 3.7002 \tTrain miou: 0.1774 \n",
            "Progress: |██████----|  65% \tTime: 00:05:37 s \tLearning rate: 0.00100 \tTrain loss: 8.3860 \tTrain loss labeled: 4.7005 \tTrain loss unlabeled: 3.6855 \tTrain miou: 0.1776 \n",
            "Progress: |██████----|  66% \tTime: 00:05:40 s \tLearning rate: 0.00100 \tTrain loss: 8.3555 \tTrain loss labeled: 4.6845 \tTrain loss unlabeled: 3.6710 \tTrain miou: 0.1784 \n",
            "Progress: |██████----|  66% \tTime: 00:05:42 s \tLearning rate: 0.00100 \tTrain loss: 8.3339 \tTrain loss labeled: 4.6720 \tTrain loss unlabeled: 3.6619 \tTrain miou: 0.1789 \n",
            "Progress: |██████----|  67% \tTime: 00:05:45 s \tLearning rate: 0.00100 \tTrain loss: 8.3098 \tTrain loss labeled: 4.6593 \tTrain loss unlabeled: 3.6505 \tTrain miou: 0.1796 \n",
            "Progress: |██████----|  67% \tTime: 00:05:47 s \tLearning rate: 0.00100 \tTrain loss: 8.2989 \tTrain loss labeled: 4.6547 \tTrain loss unlabeled: 3.6443 \tTrain miou: 0.1798 \n",
            "Progress: |██████----|  68% \tTime: 00:05:50 s \tLearning rate: 0.00100 \tTrain loss: 8.2726 \tTrain loss labeled: 4.6392 \tTrain loss unlabeled: 3.6333 \tTrain miou: 0.1804 \n",
            "Progress: |██████----|  68% \tTime: 00:05:53 s \tLearning rate: 0.00100 \tTrain loss: 8.2474 \tTrain loss labeled: 4.6266 \tTrain loss unlabeled: 3.6208 \tTrain miou: 0.1814 \n",
            "Progress: |██████----|  69% \tTime: 00:05:56 s \tLearning rate: 0.00100 \tTrain loss: 8.2206 \tTrain loss labeled: 4.6111 \tTrain loss unlabeled: 3.6095 \tTrain miou: 0.1818 \n",
            "Progress: |██████----|  69% \tTime: 00:05:58 s \tLearning rate: 0.00100 \tTrain loss: 8.1940 \tTrain loss labeled: 4.5966 \tTrain loss unlabeled: 3.5974 \tTrain miou: 0.1816 \n",
            "Progress: |██████----|  70% \tTime: 00:06:00 s \tLearning rate: 0.00100 \tTrain loss: 8.1715 \tTrain loss labeled: 4.5851 \tTrain loss unlabeled: 3.5864 \tTrain miou: 0.1815 \n",
            "Progress: |███████---|  70% \tTime: 00:06:03 s \tLearning rate: 0.00100 \tTrain loss: 8.1533 \tTrain loss labeled: 4.5759 \tTrain loss unlabeled: 3.5774 \tTrain miou: 0.1823 \n",
            "Progress: |███████---|  71% \tTime: 00:06:06 s \tLearning rate: 0.00100 \tTrain loss: 8.1326 \tTrain loss labeled: 4.5640 \tTrain loss unlabeled: 3.5686 \tTrain miou: 0.1827 \n",
            "Progress: |███████---|  71% \tTime: 00:06:09 s \tLearning rate: 0.00100 \tTrain loss: 8.1066 \tTrain loss labeled: 4.5498 \tTrain loss unlabeled: 3.5567 \tTrain miou: 0.1841 \n",
            "Progress: |███████---|  72% \tTime: 00:06:11 s \tLearning rate: 0.00100 \tTrain loss: 8.0853 \tTrain loss labeled: 4.5378 \tTrain loss unlabeled: 3.5474 \tTrain miou: 0.1848 \n",
            "Progress: |███████---|  72% \tTime: 00:06:14 s \tLearning rate: 0.00100 \tTrain loss: 8.0589 \tTrain loss labeled: 4.5236 \tTrain loss unlabeled: 3.5353 \tTrain miou: 0.1861 \n",
            "Progress: |███████---|  73% \tTime: 00:06:16 s \tLearning rate: 0.00100 \tTrain loss: 8.0340 \tTrain loss labeled: 4.5101 \tTrain loss unlabeled: 3.5239 \tTrain miou: 0.1867 \n",
            "Progress: |███████---|  73% \tTime: 00:06:19 s \tLearning rate: 0.00100 \tTrain loss: 8.0053 \tTrain loss labeled: 4.4935 \tTrain loss unlabeled: 3.5118 \tTrain miou: 0.1880 \n",
            "Progress: |███████---|  74% \tTime: 00:06:22 s \tLearning rate: 0.00100 \tTrain loss: 7.9860 \tTrain loss labeled: 4.4827 \tTrain loss unlabeled: 3.5033 \tTrain miou: 0.1892 \n",
            "Progress: |███████---|  74% \tTime: 00:06:25 s \tLearning rate: 0.00100 \tTrain loss: 7.9648 \tTrain loss labeled: 4.4720 \tTrain loss unlabeled: 3.4928 \tTrain miou: 0.1891 \n",
            "Progress: |███████---|  75% \tTime: 00:06:27 s \tLearning rate: 0.00100 \tTrain loss: 7.9432 \tTrain loss labeled: 4.4621 \tTrain loss unlabeled: 3.4811 \tTrain miou: 0.1891 \n",
            "Progress: |███████---|  76% \tTime: 00:06:30 s \tLearning rate: 0.00100 \tTrain loss: 7.9189 \tTrain loss labeled: 4.4478 \tTrain loss unlabeled: 3.4711 \tTrain miou: 0.1900 \n",
            "Progress: |███████---|  76% \tTime: 00:06:32 s \tLearning rate: 0.00100 \tTrain loss: 7.8958 \tTrain loss labeled: 4.4353 \tTrain loss unlabeled: 3.4605 \tTrain miou: 0.1904 \n",
            "Progress: |███████---|  77% \tTime: 00:06:35 s \tLearning rate: 0.00100 \tTrain loss: 7.8756 \tTrain loss labeled: 4.4241 \tTrain loss unlabeled: 3.4515 \tTrain miou: 0.1905 \n",
            "Progress: |███████---|  77% \tTime: 00:06:38 s \tLearning rate: 0.00100 \tTrain loss: 7.8540 \tTrain loss labeled: 4.4112 \tTrain loss unlabeled: 3.4428 \tTrain miou: 0.1909 \n",
            "Progress: |███████---|  78% \tTime: 00:06:41 s \tLearning rate: 0.00100 \tTrain loss: 7.8390 \tTrain loss labeled: 4.4028 \tTrain loss unlabeled: 3.4362 \tTrain miou: 0.1908 \n",
            "Progress: |███████---|  78% \tTime: 00:06:43 s \tLearning rate: 0.00100 \tTrain loss: 7.8201 \tTrain loss labeled: 4.3922 \tTrain loss unlabeled: 3.4279 \tTrain miou: 0.1916 \n",
            "Progress: |███████---|  79% \tTime: 00:06:46 s \tLearning rate: 0.00100 \tTrain loss: 7.8006 \tTrain loss labeled: 4.3795 \tTrain loss unlabeled: 3.4211 \tTrain miou: 0.1921 \n",
            "Progress: |███████---|  79% \tTime: 00:06:48 s \tLearning rate: 0.00100 \tTrain loss: 7.7874 \tTrain loss labeled: 4.3733 \tTrain loss unlabeled: 3.4141 \tTrain miou: 0.1921 \n",
            "Progress: |███████---|  80% \tTime: 00:06:51 s \tLearning rate: 0.00100 \tTrain loss: 7.7706 \tTrain loss labeled: 4.3635 \tTrain loss unlabeled: 3.4070 \tTrain miou: 0.1924 \n",
            "Progress: |████████--|  80% \tTime: 00:06:54 s \tLearning rate: 0.00100 \tTrain loss: 7.7479 \tTrain loss labeled: 4.3522 \tTrain loss unlabeled: 3.3957 \tTrain miou: 0.1929 \n",
            "Progress: |████████--|  81% \tTime: 00:06:56 s \tLearning rate: 0.00100 \tTrain loss: 7.7272 \tTrain loss labeled: 4.3399 \tTrain loss unlabeled: 3.3873 \tTrain miou: 0.1934 \n",
            "Progress: |████████--|  81% \tTime: 00:06:59 s \tLearning rate: 0.00100 \tTrain loss: 7.7018 \tTrain loss labeled: 4.3257 \tTrain loss unlabeled: 3.3761 \tTrain miou: 0.1935 \n",
            "Progress: |████████--|  82% \tTime: 00:07:01 s \tLearning rate: 0.00100 \tTrain loss: 7.6877 \tTrain loss labeled: 4.3183 \tTrain loss unlabeled: 3.3694 \tTrain miou: 0.1939 \n",
            "Progress: |████████--|  82% \tTime: 00:07:04 s \tLearning rate: 0.00100 \tTrain loss: 7.6659 \tTrain loss labeled: 4.3058 \tTrain loss unlabeled: 3.3602 \tTrain miou: 0.1943 \n",
            "Progress: |████████--|  83% \tTime: 00:07:07 s \tLearning rate: 0.00100 \tTrain loss: 7.6475 \tTrain loss labeled: 4.2957 \tTrain loss unlabeled: 3.3518 \tTrain miou: 0.1953 \n",
            "Progress: |████████--|  83% \tTime: 00:07:09 s \tLearning rate: 0.00100 \tTrain loss: 7.6294 \tTrain loss labeled: 4.2853 \tTrain loss unlabeled: 3.3441 \tTrain miou: 0.1956 \n",
            "Progress: |████████--|  84% \tTime: 00:07:12 s \tLearning rate: 0.00100 \tTrain loss: 7.6099 \tTrain loss labeled: 4.2765 \tTrain loss unlabeled: 3.3335 \tTrain miou: 0.1957 \n",
            "Progress: |████████--|  84% \tTime: 00:07:14 s \tLearning rate: 0.00100 \tTrain loss: 7.5883 \tTrain loss labeled: 4.2646 \tTrain loss unlabeled: 3.3237 \tTrain miou: 0.1960 \n",
            "Progress: |████████--|  85% \tTime: 00:07:16 s \tLearning rate: 0.00100 \tTrain loss: 7.5711 \tTrain loss labeled: 4.2548 \tTrain loss unlabeled: 3.3164 \tTrain miou: 0.1968 \n",
            "Progress: |████████--|  85% \tTime: 00:07:19 s \tLearning rate: 0.00100 \tTrain loss: 7.5532 \tTrain loss labeled: 4.2460 \tTrain loss unlabeled: 3.3073 \tTrain miou: 0.1978 \n",
            "Progress: |████████--|  86% \tTime: 00:07:23 s \tLearning rate: 0.00100 \tTrain loss: 7.5400 \tTrain loss labeled: 4.2400 \tTrain loss unlabeled: 3.3000 \tTrain miou: 0.1984 \n",
            "Progress: |████████--|  86% \tTime: 00:07:25 s \tLearning rate: 0.00100 \tTrain loss: 7.5242 \tTrain loss labeled: 4.2309 \tTrain loss unlabeled: 3.2933 \tTrain miou: 0.1997 \n",
            "Progress: |████████--|  87% \tTime: 00:07:27 s \tLearning rate: 0.00100 \tTrain loss: 7.5059 \tTrain loss labeled: 4.2202 \tTrain loss unlabeled: 3.2857 \tTrain miou: 0.1993 \n",
            "Progress: |████████--|  88% \tTime: 00:07:30 s \tLearning rate: 0.00100 \tTrain loss: 7.4846 \tTrain loss labeled: 4.2079 \tTrain loss unlabeled: 3.2768 \tTrain miou: 0.2007 \n",
            "Progress: |████████--|  88% \tTime: 00:07:32 s \tLearning rate: 0.00100 \tTrain loss: 7.4729 \tTrain loss labeled: 4.2012 \tTrain loss unlabeled: 3.2717 \tTrain miou: 0.2012 \n",
            "Progress: |████████--|  89% \tTime: 00:07:35 s \tLearning rate: 0.00100 \tTrain loss: 7.4588 \tTrain loss labeled: 4.1930 \tTrain loss unlabeled: 3.2658 \tTrain miou: 0.2016 \n",
            "Progress: |████████--|  89% \tTime: 00:07:38 s \tLearning rate: 0.00100 \tTrain loss: 7.4477 \tTrain loss labeled: 4.1855 \tTrain loss unlabeled: 3.2623 \tTrain miou: 0.2026 \n",
            "Progress: |████████--|  90% \tTime: 00:07:41 s \tLearning rate: 0.00100 \tTrain loss: 7.4302 \tTrain loss labeled: 4.1763 \tTrain loss unlabeled: 3.2539 \tTrain miou: 0.2031 \n",
            "Progress: |█████████-|  90% \tTime: 00:07:43 s \tLearning rate: 0.00100 \tTrain loss: 7.4115 \tTrain loss labeled: 4.1661 \tTrain loss unlabeled: 3.2455 \tTrain miou: 0.2042 \n",
            "Progress: |█████████-|  91% \tTime: 00:07:45 s \tLearning rate: 0.00100 \tTrain loss: 7.3939 \tTrain loss labeled: 4.1562 \tTrain loss unlabeled: 3.2377 \tTrain miou: 0.2048 \n",
            "Progress: |█████████-|  91% \tTime: 00:07:48 s \tLearning rate: 0.00100 \tTrain loss: 7.3774 \tTrain loss labeled: 4.1474 \tTrain loss unlabeled: 3.2300 \tTrain miou: 0.2053 \n",
            "Progress: |█████████-|  92% \tTime: 00:07:51 s \tLearning rate: 0.00100 \tTrain loss: 7.3625 \tTrain loss labeled: 4.1395 \tTrain loss unlabeled: 3.2230 \tTrain miou: 0.2059 \n",
            "Progress: |█████████-|  92% \tTime: 00:07:54 s \tLearning rate: 0.00100 \tTrain loss: 7.3492 \tTrain loss labeled: 4.1316 \tTrain loss unlabeled: 3.2176 \tTrain miou: 0.2064 \n",
            "Progress: |█████████-|  93% \tTime: 00:07:56 s \tLearning rate: 0.00100 \tTrain loss: 7.3359 \tTrain loss labeled: 4.1240 \tTrain loss unlabeled: 3.2119 \tTrain miou: 0.2064 \n",
            "Progress: |█████████-|  93% \tTime: 00:07:59 s \tLearning rate: 0.00100 \tTrain loss: 7.3248 \tTrain loss labeled: 4.1193 \tTrain loss unlabeled: 3.2055 \tTrain miou: 0.2061 \n",
            "Progress: |█████████-|  94% \tTime: 00:08:01 s \tLearning rate: 0.00100 \tTrain loss: 7.3124 \tTrain loss labeled: 4.1116 \tTrain loss unlabeled: 3.2008 \tTrain miou: 0.2063 \n",
            "Progress: |█████████-|  94% \tTime: 00:08:04 s \tLearning rate: 0.00100 \tTrain loss: 7.2976 \tTrain loss labeled: 4.1025 \tTrain loss unlabeled: 3.1952 \tTrain miou: 0.2070 \n",
            "Progress: |█████████-|  95% \tTime: 00:08:08 s \tLearning rate: 0.00100 \tTrain loss: 7.2807 \tTrain loss labeled: 4.0934 \tTrain loss unlabeled: 3.1873 \tTrain miou: 0.2073 \n",
            "Progress: |█████████-|  95% \tTime: 00:08:10 s \tLearning rate: 0.00100 \tTrain loss: 7.2638 \tTrain loss labeled: 4.0842 \tTrain loss unlabeled: 3.1796 \tTrain miou: 0.2079 \n",
            "Progress: |█████████-|  96% \tTime: 00:08:12 s \tLearning rate: 0.00100 \tTrain loss: 7.2482 \tTrain loss labeled: 4.0758 \tTrain loss unlabeled: 3.1724 \tTrain miou: 0.2087 \n",
            "Progress: |█████████-|  96% \tTime: 00:08:15 s \tLearning rate: 0.00100 \tTrain loss: 7.2357 \tTrain loss labeled: 4.0708 \tTrain loss unlabeled: 3.1649 \tTrain miou: 0.2093 \n",
            "Progress: |█████████-|  97% \tTime: 00:08:17 s \tLearning rate: 0.00100 \tTrain loss: 7.2208 \tTrain loss labeled: 4.0627 \tTrain loss unlabeled: 3.1581 \tTrain miou: 0.2098 \n",
            "Progress: |█████████-|  97% \tTime: 00:08:21 s \tLearning rate: 0.00100 \tTrain loss: 7.2107 \tTrain loss labeled: 4.0564 \tTrain loss unlabeled: 3.1543 \tTrain miou: 0.2099 \n",
            "Progress: |█████████-|  98% \tTime: 00:08:23 s \tLearning rate: 0.00100 \tTrain loss: 7.1976 \tTrain loss labeled: 4.0496 \tTrain loss unlabeled: 3.1480 \tTrain miou: 0.2102 \n",
            "Progress: |█████████-|  98% \tTime: 00:08:25 s \tLearning rate: 0.00100 \tTrain loss: 7.1844 \tTrain loss labeled: 4.0424 \tTrain loss unlabeled: 3.1420 \tTrain miou: 0.2103 \n",
            "Progress: |█████████-|  99% \tTime: 00:08:28 s \tLearning rate: 0.00100 \tTrain loss: 7.1700 \tTrain loss labeled: 4.0339 \tTrain loss unlabeled: 3.1361 \tTrain miou: 0.2108 \n",
            "Progress: |█████████-|  99% \tTime: 00:08:30 s \tLearning rate: 0.00100 \tTrain loss: 7.1562 \tTrain loss labeled: 4.0263 \tTrain loss unlabeled: 3.1299 \tTrain miou: 0.2110 \n",
            "Progress: |██████████|  100% \tTime: 00:08:32 s \tLearning rate: 0.00100 \tTrain loss: 7.1422 \tTrain loss labeled: 4.0191 \tTrain loss unlabeled: 3.1231 \tTrain miou: 0.2116 \n",
            "\n",
            "\n",
            "Validation:\n",
            "Progress: |----------|   1% \tTime: 00:00:02 s \tLearning rate: 0.00100 \tVal loss: 4.6823 \tVal miou: 0.2602 \n",
            "Progress: |----------|   2% \tTime: 00:00:02 s \tLearning rate: 0.00100 \tVal loss: 4.6110 \tVal miou: 0.2619 \n",
            "Progress: |----------|   3% \tTime: 00:00:03 s \tLearning rate: 0.00100 \tVal loss: 4.5802 \tVal miou: 0.2241 \n",
            "Progress: |----------|   4% \tTime: 00:00:04 s \tLearning rate: 0.00100 \tVal loss: 4.6028 \tVal miou: 0.2255 \n",
            "Progress: |----------|   4% \tTime: 00:00:04 s \tLearning rate: 0.00100 \tVal loss: 4.5747 \tVal miou: 0.2179 \n",
            "Progress: |----------|   5% \tTime: 00:00:05 s \tLearning rate: 0.00100 \tVal loss: 4.6727 \tVal miou: 0.2209 \n",
            "Progress: |----------|   6% \tTime: 00:00:05 s \tLearning rate: 0.00100 \tVal loss: 4.5967 \tVal miou: 0.2304 \n",
            "Progress: |----------|   7% \tTime: 00:00:06 s \tLearning rate: 0.00100 \tVal loss: 4.4341 \tVal miou: 0.2397 \n",
            "Progress: |----------|   8% \tTime: 00:00:06 s \tLearning rate: 0.00100 \tVal loss: 4.4505 \tVal miou: 0.2420 \n",
            "Progress: |----------|   9% \tTime: 00:00:07 s \tLearning rate: 0.00100 \tVal loss: 4.3588 \tVal miou: 0.2521 \n",
            "Progress: |----------|  10% \tTime: 00:00:07 s \tLearning rate: 0.00100 \tVal loss: 4.3219 \tVal miou: 0.2574 \n",
            "Progress: |█---------|  11% \tTime: 00:00:08 s \tLearning rate: 0.00100 \tVal loss: 4.3349 \tVal miou: 0.2581 \n",
            "Progress: |█---------|  12% \tTime: 00:00:09 s \tLearning rate: 0.00100 \tVal loss: 4.2926 \tVal miou: 0.2664 \n",
            "Progress: |█---------|  12% \tTime: 00:00:09 s \tLearning rate: 0.00100 \tVal loss: 4.3408 \tVal miou: 0.2628 \n",
            "Progress: |█---------|  13% \tTime: 00:00:10 s \tLearning rate: 0.00100 \tVal loss: 4.3574 \tVal miou: 0.2636 \n",
            "Progress: |█---------|  14% \tTime: 00:00:10 s \tLearning rate: 0.00100 \tVal loss: 4.3990 \tVal miou: 0.2617 \n",
            "Progress: |█---------|  15% \tTime: 00:00:11 s \tLearning rate: 0.00100 \tVal loss: 4.3765 \tVal miou: 0.2580 \n",
            "Progress: |█---------|  16% \tTime: 00:00:11 s \tLearning rate: 0.00100 \tVal loss: 4.3586 \tVal miou: 0.2569 \n",
            "Progress: |█---------|  17% \tTime: 00:00:11 s \tLearning rate: 0.00100 \tVal loss: 4.3810 \tVal miou: 0.2590 \n",
            "Progress: |█---------|  18% \tTime: 00:00:12 s \tLearning rate: 0.00100 \tVal loss: 4.4216 \tVal miou: 0.2557 \n",
            "Progress: |█---------|  19% \tTime: 00:00:12 s \tLearning rate: 0.00100 \tVal loss: 4.4259 \tVal miou: 0.2534 \n",
            "Progress: |█---------|  19% \tTime: 00:00:13 s \tLearning rate: 0.00100 \tVal loss: 4.4000 \tVal miou: 0.2550 \n",
            "Progress: |██--------|  20% \tTime: 00:00:13 s \tLearning rate: 0.00100 \tVal loss: 4.3715 \tVal miou: 0.2558 \n",
            "Progress: |██--------|  21% \tTime: 00:00:14 s \tLearning rate: 0.00100 \tVal loss: 4.3731 \tVal miou: 0.2559 \n",
            "Progress: |██--------|  22% \tTime: 00:00:14 s \tLearning rate: 0.00100 \tVal loss: 4.3100 \tVal miou: 0.2609 \n",
            "Progress: |██--------|  23% \tTime: 00:00:15 s \tLearning rate: 0.00100 \tVal loss: 4.3288 \tVal miou: 0.2590 \n",
            "Progress: |██--------|  24% \tTime: 00:00:15 s \tLearning rate: 0.00100 \tVal loss: 4.3217 \tVal miou: 0.2590 \n",
            "Progress: |██--------|  25% \tTime: 00:00:16 s \tLearning rate: 0.00100 \tVal loss: 4.3776 \tVal miou: 0.2577 \n",
            "Progress: |██--------|  26% \tTime: 00:00:17 s \tLearning rate: 0.00100 \tVal loss: 4.4053 \tVal miou: 0.2582 \n",
            "Progress: |██--------|  27% \tTime: 00:00:18 s \tLearning rate: 0.00100 \tVal loss: 4.3950 \tVal miou: 0.2577 \n",
            "Progress: |██--------|  27% \tTime: 00:00:18 s \tLearning rate: 0.00100 \tVal loss: 4.3889 \tVal miou: 0.2578 \n",
            "Progress: |██--------|  28% \tTime: 00:00:19 s \tLearning rate: 0.00100 \tVal loss: 4.3817 \tVal miou: 0.2569 \n",
            "Progress: |██--------|  29% \tTime: 00:00:20 s \tLearning rate: 0.00100 \tVal loss: 4.4011 \tVal miou: 0.2552 \n",
            "Progress: |███-------|  30% \tTime: 00:00:21 s \tLearning rate: 0.00100 \tVal loss: 4.4193 \tVal miou: 0.2532 \n",
            "Progress: |███-------|  31% \tTime: 00:00:21 s \tLearning rate: 0.00100 \tVal loss: 4.4274 \tVal miou: 0.2516 \n",
            "Progress: |███-------|  32% \tTime: 00:00:22 s \tLearning rate: 0.00100 \tVal loss: 4.4142 \tVal miou: 0.2518 \n",
            "Progress: |███-------|  33% \tTime: 00:00:22 s \tLearning rate: 0.00100 \tVal loss: 4.4040 \tVal miou: 0.2525 \n",
            "Progress: |███-------|  34% \tTime: 00:00:23 s \tLearning rate: 0.00100 \tVal loss: 4.3889 \tVal miou: 0.2542 \n",
            "Progress: |███-------|  35% \tTime: 00:00:23 s \tLearning rate: 0.00100 \tVal loss: 4.4206 \tVal miou: 0.2540 \n",
            "Progress: |███-------|  35% \tTime: 00:00:24 s \tLearning rate: 0.00100 \tVal loss: 4.4482 \tVal miou: 0.2526 \n",
            "Progress: |███-------|  36% \tTime: 00:00:24 s \tLearning rate: 0.00100 \tVal loss: 4.4395 \tVal miou: 0.2527 \n",
            "Progress: |███-------|  37% \tTime: 00:00:25 s \tLearning rate: 0.00100 \tVal loss: 4.4541 \tVal miou: 0.2518 \n",
            "Progress: |███-------|  38% \tTime: 00:00:25 s \tLearning rate: 0.00100 \tVal loss: 4.4446 \tVal miou: 0.2515 \n",
            "Progress: |███-------|  39% \tTime: 00:00:26 s \tLearning rate: 0.00100 \tVal loss: 4.4228 \tVal miou: 0.2519 \n",
            "Progress: |███-------|  40% \tTime: 00:00:26 s \tLearning rate: 0.00100 \tVal loss: 4.3978 \tVal miou: 0.2527 \n",
            "Progress: |████------|  41% \tTime: 00:00:27 s \tLearning rate: 0.00100 \tVal loss: 4.4013 \tVal miou: 0.2536 \n",
            "Progress: |████------|  42% \tTime: 00:00:27 s \tLearning rate: 0.00100 \tVal loss: 4.4221 \tVal miou: 0.2532 \n",
            "Progress: |████------|  42% \tTime: 00:00:28 s \tLearning rate: 0.00100 \tVal loss: 4.4138 \tVal miou: 0.2535 \n",
            "Progress: |████------|  43% \tTime: 00:00:28 s \tLearning rate: 0.00100 \tVal loss: 4.4074 \tVal miou: 0.2549 \n",
            "Progress: |████------|  44% \tTime: 00:00:28 s \tLearning rate: 0.00100 \tVal loss: 4.4089 \tVal miou: 0.2544 \n",
            "Progress: |████------|  45% \tTime: 00:00:29 s \tLearning rate: 0.00100 \tVal loss: 4.4243 \tVal miou: 0.2534 \n",
            "Progress: |████------|  46% \tTime: 00:00:29 s \tLearning rate: 0.00100 \tVal loss: 4.4173 \tVal miou: 0.2533 \n",
            "Progress: |████------|  47% \tTime: 00:00:30 s \tLearning rate: 0.00100 \tVal loss: 4.4264 \tVal miou: 0.2525 \n",
            "Progress: |████------|  48% \tTime: 00:00:30 s \tLearning rate: 0.00100 \tVal loss: 4.4210 \tVal miou: 0.2526 \n",
            "Progress: |████------|  49% \tTime: 00:00:31 s \tLearning rate: 0.00100 \tVal loss: 4.3912 \tVal miou: 0.2541 \n",
            "Progress: |████------|  50% \tTime: 00:00:31 s \tLearning rate: 0.00100 \tVal loss: 4.3761 \tVal miou: 0.2540 \n",
            "Progress: |█████-----|  50% \tTime: 00:00:32 s \tLearning rate: 0.00100 \tVal loss: 4.3892 \tVal miou: 0.2530 \n",
            "Progress: |█████-----|  51% \tTime: 00:00:33 s \tLearning rate: 0.00100 \tVal loss: 4.3862 \tVal miou: 0.2534 \n",
            "Progress: |█████-----|  52% \tTime: 00:00:34 s \tLearning rate: 0.00100 \tVal loss: 4.3861 \tVal miou: 0.2533 \n",
            "Progress: |█████-----|  53% \tTime: 00:00:34 s \tLearning rate: 0.00100 \tVal loss: 4.3825 \tVal miou: 0.2524 \n",
            "Progress: |█████-----|  54% \tTime: 00:00:35 s \tLearning rate: 0.00100 \tVal loss: 4.3907 \tVal miou: 0.2515 \n",
            "Progress: |█████-----|  55% \tTime: 00:00:36 s \tLearning rate: 0.00100 \tVal loss: 4.3991 \tVal miou: 0.2505 \n",
            "Progress: |█████-----|  56% \tTime: 00:00:36 s \tLearning rate: 0.00100 \tVal loss: 4.3895 \tVal miou: 0.2494 \n",
            "Progress: |█████-----|  57% \tTime: 00:00:37 s \tLearning rate: 0.00100 \tVal loss: 4.3898 \tVal miou: 0.2503 \n",
            "Progress: |█████-----|  58% \tTime: 00:00:37 s \tLearning rate: 0.00100 \tVal loss: 4.3902 \tVal miou: 0.2509 \n",
            "Progress: |█████-----|  58% \tTime: 00:00:38 s \tLearning rate: 0.00100 \tVal loss: 4.3938 \tVal miou: 0.2508 \n",
            "Progress: |█████-----|  59% \tTime: 00:00:39 s \tLearning rate: 0.00100 \tVal loss: 4.3862 \tVal miou: 0.2510 \n",
            "Progress: |██████----|  60% \tTime: 00:00:39 s \tLearning rate: 0.00100 \tVal loss: 4.3899 \tVal miou: 0.2504 \n",
            "Progress: |██████----|  61% \tTime: 00:00:39 s \tLearning rate: 0.00100 \tVal loss: 4.3866 \tVal miou: 0.2505 \n",
            "Progress: |██████----|  62% \tTime: 00:00:40 s \tLearning rate: 0.00100 \tVal loss: 4.3755 \tVal miou: 0.2515 \n",
            "Progress: |██████----|  63% \tTime: 00:00:41 s \tLearning rate: 0.00100 \tVal loss: 4.3714 \tVal miou: 0.2514 \n",
            "Progress: |██████----|  64% \tTime: 00:00:41 s \tLearning rate: 0.00100 \tVal loss: 4.3664 \tVal miou: 0.2500 \n",
            "Progress: |██████----|  65% \tTime: 00:00:41 s \tLearning rate: 0.00100 \tVal loss: 4.3640 \tVal miou: 0.2501 \n",
            "Progress: |██████----|  65% \tTime: 00:00:42 s \tLearning rate: 0.00100 \tVal loss: 4.3765 \tVal miou: 0.2501 \n",
            "Progress: |██████----|  66% \tTime: 00:00:42 s \tLearning rate: 0.00100 \tVal loss: 4.3744 \tVal miou: 0.2502 \n",
            "Progress: |██████----|  67% \tTime: 00:00:43 s \tLearning rate: 0.00100 \tVal loss: 4.3654 \tVal miou: 0.2496 \n",
            "Progress: |██████----|  68% \tTime: 00:00:43 s \tLearning rate: 0.00100 \tVal loss: 4.3652 \tVal miou: 0.2499 \n",
            "Progress: |██████----|  69% \tTime: 00:00:44 s \tLearning rate: 0.00100 \tVal loss: 4.3529 \tVal miou: 0.2510 \n",
            "Progress: |██████----|  70% \tTime: 00:00:44 s \tLearning rate: 0.00100 \tVal loss: 4.3589 \tVal miou: 0.2504 \n",
            "Progress: |███████---|  71% \tTime: 00:00:45 s \tLearning rate: 0.00100 \tVal loss: 4.3577 \tVal miou: 0.2513 \n",
            "Progress: |███████---|  72% \tTime: 00:00:45 s \tLearning rate: 0.00100 \tVal loss: 4.3537 \tVal miou: 0.2518 \n",
            "Progress: |███████---|  73% \tTime: 00:00:46 s \tLearning rate: 0.00100 \tVal loss: 4.3475 \tVal miou: 0.2528 \n",
            "Progress: |███████---|  73% \tTime: 00:00:46 s \tLearning rate: 0.00100 \tVal loss: 4.3440 \tVal miou: 0.2529 \n",
            "Progress: |███████---|  74% \tTime: 00:00:47 s \tLearning rate: 0.00100 \tVal loss: 4.3498 \tVal miou: 0.2532 \n",
            "Progress: |███████---|  75% \tTime: 00:00:47 s \tLearning rate: 0.00100 \tVal loss: 4.3458 \tVal miou: 0.2532 \n",
            "Progress: |███████---|  76% \tTime: 00:00:48 s \tLearning rate: 0.00100 \tVal loss: 4.3469 \tVal miou: 0.2533 \n",
            "Progress: |███████---|  77% \tTime: 00:00:49 s \tLearning rate: 0.00100 \tVal loss: 4.3534 \tVal miou: 0.2528 \n",
            "Progress: |███████---|  78% \tTime: 00:00:50 s \tLearning rate: 0.00100 \tVal loss: 4.3431 \tVal miou: 0.2529 \n",
            "Progress: |███████---|  79% \tTime: 00:00:50 s \tLearning rate: 0.00100 \tVal loss: 4.3383 \tVal miou: 0.2527 \n",
            "Progress: |███████---|  80% \tTime: 00:00:51 s \tLearning rate: 0.00100 \tVal loss: 4.3372 \tVal miou: 0.2527 \n",
            "Progress: |████████--|  81% \tTime: 00:00:52 s \tLearning rate: 0.00100 \tVal loss: 4.3295 \tVal miou: 0.2524 \n",
            "Progress: |████████--|  81% \tTime: 00:00:52 s \tLearning rate: 0.00100 \tVal loss: 4.3323 \tVal miou: 0.2524 \n",
            "Progress: |████████--|  82% \tTime: 00:00:53 s \tLearning rate: 0.00100 \tVal loss: 4.3390 \tVal miou: 0.2525 \n",
            "Progress: |████████--|  83% \tTime: 00:00:54 s \tLearning rate: 0.00100 \tVal loss: 4.3275 \tVal miou: 0.2536 \n",
            "Progress: |████████--|  84% \tTime: 00:00:54 s \tLearning rate: 0.00100 \tVal loss: 4.3268 \tVal miou: 0.2534 \n",
            "Progress: |████████--|  85% \tTime: 00:00:55 s \tLearning rate: 0.00100 \tVal loss: 4.3344 \tVal miou: 0.2539 \n",
            "Progress: |████████--|  86% \tTime: 00:00:55 s \tLearning rate: 0.00100 \tVal loss: 4.3335 \tVal miou: 0.2539 \n",
            "Progress: |████████--|  87% \tTime: 00:00:55 s \tLearning rate: 0.00100 \tVal loss: 4.3288 \tVal miou: 0.2547 \n",
            "Progress: |████████--|  88% \tTime: 00:00:56 s \tLearning rate: 0.00100 \tVal loss: 4.3422 \tVal miou: 0.2540 \n",
            "Progress: |████████--|  88% \tTime: 00:00:56 s \tLearning rate: 0.00100 \tVal loss: 4.3359 \tVal miou: 0.2535 \n",
            "Progress: |████████--|  89% \tTime: 00:00:57 s \tLearning rate: 0.00100 \tVal loss: 4.3284 \tVal miou: 0.2533 \n",
            "Progress: |█████████-|  90% \tTime: 00:00:57 s \tLearning rate: 0.00100 \tVal loss: 4.3224 \tVal miou: 0.2540 \n",
            "Progress: |█████████-|  91% \tTime: 00:00:58 s \tLearning rate: 0.00100 \tVal loss: 4.3210 \tVal miou: 0.2545 \n",
            "Progress: |█████████-|  92% \tTime: 00:00:58 s \tLearning rate: 0.00100 \tVal loss: 4.3135 \tVal miou: 0.2544 \n",
            "Progress: |█████████-|  93% \tTime: 00:00:59 s \tLearning rate: 0.00100 \tVal loss: 4.3108 \tVal miou: 0.2551 \n",
            "Progress: |█████████-|  94% \tTime: 00:00:59 s \tLearning rate: 0.00100 \tVal loss: 4.3176 \tVal miou: 0.2549 \n",
            "Progress: |█████████-|  95% \tTime: 00:01:00 s \tLearning rate: 0.00100 \tVal loss: 4.3219 \tVal miou: 0.2548 \n",
            "Progress: |█████████-|  96% \tTime: 00:01:00 s \tLearning rate: 0.00100 \tVal loss: 4.3118 \tVal miou: 0.2552 \n",
            "Progress: |█████████-|  96% \tTime: 00:01:01 s \tLearning rate: 0.00100 \tVal loss: 4.3163 \tVal miou: 0.2544 \n",
            "Progress: |█████████-|  97% \tTime: 00:01:01 s \tLearning rate: 0.00100 \tVal loss: 4.3103 \tVal miou: 0.2552 \n",
            "Progress: |█████████-|  98% \tTime: 00:01:02 s \tLearning rate: 0.00100 \tVal loss: 4.3156 \tVal miou: 0.2548 \n",
            "Progress: |█████████-|  99% \tTime: 00:01:02 s \tLearning rate: 0.00100 \tVal loss: 4.3098 \tVal miou: 0.2547 \n",
            "Progress: |██████████|  100% \tTime: 00:01:03 s \tLearning rate: 0.00100 \tVal loss: 4.3148 \tVal miou: 0.2550 \n",
            "\n",
            "\n",
            "Model saved as best_0.pt\n",
            "\n",
            "Epoch 2/20:\n",
            "Progress: |----------|   1% \tTime: 00:00:06 s \tLearning rate: 0.00095 \tTrain loss: 4.5572 \tTrain loss labeled: 2.6882 \tTrain loss unlabeled: 1.8689 \tTrain miou: 0.2830 \n",
            "Progress: |----------|   1% \tTime: 00:00:09 s \tLearning rate: 0.00095 \tTrain loss: 4.4208 \tTrain loss labeled: 2.5208 \tTrain loss unlabeled: 1.9000 \tTrain miou: 0.3069 \n",
            "Progress: |----------|   2% \tTime: 00:00:11 s \tLearning rate: 0.00095 \tTrain loss: 4.2929 \tTrain loss labeled: 2.4185 \tTrain loss unlabeled: 1.8744 \tTrain miou: 0.3022 \n",
            "Progress: |----------|   2% \tTime: 00:00:14 s \tLearning rate: 0.00095 \tTrain loss: 4.3764 \tTrain loss labeled: 2.5141 \tTrain loss unlabeled: 1.8623 \tTrain miou: 0.2921 \n",
            "Progress: |----------|   3% \tTime: 00:00:17 s \tLearning rate: 0.00095 \tTrain loss: 4.3938 \tTrain loss labeled: 2.5319 \tTrain loss unlabeled: 1.8619 \tTrain miou: 0.2794 \n"
          ]
        }
      ]
    },
    {
      "cell_type": "code",
      "source": [
        "# Test\n",
        "!python3 sem_seg_dacs.py \\\n",
        "    --test \\\n",
        "    --model_name PIDNet_S \\\n",
        "    --version 2 \\\n",
        "    --model_file last_0.pt \\\n",
        "    --target_domain Urban \\\n",
        "    --store drive\n",
        "\n",
        "!python3 sem_seg_dacs.py \\\n",
        "    --test \\\n",
        "    --model_name PIDNet_S \\\n",
        "    --version 2 \\\n",
        "    --model_file best_0.pt \\\n",
        "    --target_domain Urban \\\n",
        "    --store drive\n",
        "\n",
        "!python3 sem_seg_dacs.py \\\n",
        "    --test \\\n",
        "    --model_name PIDNet_S \\\n",
        "    --version 2 \\\n",
        "    --model_file last_0.pt \\\n",
        "    --target_domain Rural \\\n",
        "    --store drive\n",
        "\n",
        "!python3 sem_seg_dacs.py \\\n",
        "    --test \\\n",
        "    --model_name PIDNet_S \\\n",
        "    --version 2 \\\n",
        "    --model_file best_0.pt \\\n",
        "    --target_domain Rural \\\n",
        "    --store drive"
      ],
      "metadata": {
        "id": "wpE6wPDgxROE"
      },
      "id": "wpE6wPDgxROE",
      "execution_count": null,
      "outputs": []
    },
    {
      "cell_type": "markdown",
      "source": [
        "### Version 3"
      ],
      "metadata": {
        "id": "1HTCcM-HyVok"
      },
      "id": "1HTCcM-HyVok"
    },
    {
      "cell_type": "code",
      "source": [
        "# Train\n",
        "!python3 sem_seg_dacs.py \\\n",
        "    --train \\\n",
        "    --model_name PIDNet_S \\\n",
        "    --version 3 \\\n",
        "    --batch_size 6 \\\n",
        "    --horizontal_flip_augmentation \\\n",
        "    --shift_scale_rotate_augmentation \\\n",
        "    --random_crop_augmentation \\\n",
        "    --lr 0.001 \\\n",
        "    --epochs 20 \\\n",
        "    --store drive"
      ],
      "metadata": {
        "id": "R5JpwPSmyXEt"
      },
      "id": "R5JpwPSmyXEt",
      "execution_count": null,
      "outputs": []
    },
    {
      "cell_type": "code",
      "source": [
        "# Test\n",
        "!python3 sem_seg_dacs.py \\\n",
        "    --test \\\n",
        "    --model_name PIDNet_S \\\n",
        "    --version 3 \\\n",
        "    --model_file last_0.pt \\\n",
        "    --target_domain Urban \\\n",
        "    --store drive\n",
        "\n",
        "!python3 sem_seg_dacs.py \\\n",
        "    --test \\\n",
        "    --model_name PIDNet_S \\\n",
        "    --version 3 \\\n",
        "    --model_file best_0.pt \\\n",
        "    --target_domain Urban \\\n",
        "    --store drive\n",
        "\n",
        "!python3 sem_seg_dacs.py \\\n",
        "    --test \\\n",
        "    --model_name PIDNet_S \\\n",
        "    --version 3 \\\n",
        "    --model_file last_0.pt \\\n",
        "    --target_domain Rural \\\n",
        "    --store drive\n",
        "\n",
        "!python3 sem_seg_dacs.py \\\n",
        "    --test \\\n",
        "    --model_name PIDNet_S \\\n",
        "    --version 3 \\\n",
        "    --model_file best_0.pt \\\n",
        "    --target_domain Rural \\\n",
        "    --store drive"
      ],
      "metadata": {
        "id": "1Mu03OH7ycrC"
      },
      "id": "1Mu03OH7ycrC",
      "execution_count": null,
      "outputs": []
    }
  ],
  "metadata": {
    "accelerator": "GPU",
    "colab": {
      "gpuType": "T4",
      "provenance": []
    },
    "kernelspec": {
      "display_name": "base",
      "language": "python",
      "name": "python3"
    },
    "language_info": {
      "codemirror_mode": {
        "name": "ipython",
        "version": 3
      },
      "file_extension": ".py",
      "mimetype": "text/x-python",
      "name": "python",
      "nbconvert_exporter": "python",
      "pygments_lexer": "ipython3",
      "version": "3.12.7"
    }
  },
  "nbformat": 4,
  "nbformat_minor": 5
}