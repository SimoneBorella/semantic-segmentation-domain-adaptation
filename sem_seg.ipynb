{
  "cells": [
    {
      "cell_type": "markdown",
      "id": "0K9H8Nk-N_Tf",
      "metadata": {
        "id": "0K9H8Nk-N_Tf"
      },
      "source": [
        "# Real-time Domain Adaptation in Semantic Segmentation"
      ]
    },
    {
      "cell_type": "markdown",
      "id": "f722511a",
      "metadata": {
        "id": "f722511a"
      },
      "source": [
        "## Mount drive"
      ]
    },
    {
      "cell_type": "code",
      "execution_count": null,
      "id": "vVcmrIe_TGGA",
      "metadata": {
        "id": "vVcmrIe_TGGA"
      },
      "outputs": [],
      "source": [
        "from google.colab import drive\n",
        "drive.mount('/content/drive')"
      ]
    },
    {
      "cell_type": "markdown",
      "id": "be24ecf1",
      "metadata": {
        "id": "be24ecf1"
      },
      "source": [
        "## Import code"
      ]
    },
    {
      "cell_type": "code",
      "execution_count": 16,
      "id": "GrQxrFD9QBIi",
      "metadata": {
        "id": "GrQxrFD9QBIi",
        "colab": {
          "base_uri": "https://localhost:8080/"
        },
        "outputId": "f6825d73-cd44-4406-8f2b-de5609d8d7e3"
      },
      "outputs": [
        {
          "output_type": "stream",
          "name": "stdout",
          "text": [
            "Cloning into 'semantic-segmentation-domain-adaptation'...\n",
            "remote: Enumerating objects: 977, done.\u001b[K\n",
            "remote: Counting objects: 100% (191/191), done.\u001b[K\n",
            "remote: Compressing objects: 100% (138/138), done.\u001b[K\n",
            "remote: Total 977 (delta 120), reused 109 (delta 53), pack-reused 786 (from 2)\u001b[K\n",
            "Receiving objects: 100% (977/977), 367.57 KiB | 9.93 MiB/s, done.\n",
            "Resolving deltas: 100% (615/615), done.\n",
            "rm: cannot remove 'sample_data': No such file or directory\n"
          ]
        }
      ],
      "source": [
        "!git clone https://github.com/SimoneBorella/semantic-segmentation-domain-adaptation.git\n",
        "\n",
        "!cp -r ./semantic-segmentation-domain-adaptation/datasets .\n",
        "!cp -r ./semantic-segmentation-domain-adaptation/models .\n",
        "!cp -r ./semantic-segmentation-domain-adaptation/criteria .\n",
        "!cp -r ./semantic-segmentation-domain-adaptation/utils .\n",
        "!cp ./semantic-segmentation-domain-adaptation/get_dataset.bash .\n",
        "!cp ./semantic-segmentation-domain-adaptation/get_weights_pretrained.bash .\n",
        "!cp ./semantic-segmentation-domain-adaptation/sem_seg.py .\n",
        "!cp ./semantic-segmentation-domain-adaptation/sem_seg_da_adv.py .\n",
        "!cp ./semantic-segmentation-domain-adaptation/sem_seg_dacs.py .\n",
        "\n",
        "!rm -r ./semantic-segmentation-domain-adaptation\n",
        "!rm -r sample_data"
      ]
    },
    {
      "cell_type": "markdown",
      "id": "d0e497ec",
      "metadata": {
        "id": "d0e497ec"
      },
      "source": [
        "## Packages installation"
      ]
    },
    {
      "cell_type": "code",
      "execution_count": null,
      "id": "5q3A_omGNpCf",
      "metadata": {
        "id": "5q3A_omGNpCf"
      },
      "outputs": [],
      "source": [
        "!pip3 install torch torchvision torchaudio gdown fvcore kornia"
      ]
    },
    {
      "cell_type": "markdown",
      "id": "0302d761",
      "metadata": {
        "id": "0302d761"
      },
      "source": [
        "## Download LoveDA dataset"
      ]
    },
    {
      "cell_type": "code",
      "execution_count": null,
      "id": "5a2f0959",
      "metadata": {
        "id": "5a2f0959"
      },
      "outputs": [],
      "source": [
        "!bash get_dataset.bash"
      ]
    },
    {
      "cell_type": "markdown",
      "id": "b39ac3ab",
      "metadata": {
        "id": "b39ac3ab"
      },
      "source": [
        "# Download weights pretrained"
      ]
    },
    {
      "cell_type": "code",
      "execution_count": null,
      "id": "ba683512",
      "metadata": {
        "id": "ba683512"
      },
      "outputs": [],
      "source": [
        "!bash get_weights_pretrained.bash"
      ]
    },
    {
      "cell_type": "markdown",
      "id": "065eb67f",
      "metadata": {
        "id": "065eb67f"
      },
      "source": [
        "## DeepLabV2_ResNet101"
      ]
    },
    {
      "cell_type": "markdown",
      "source": [
        "### Version 0"
      ],
      "metadata": {
        "id": "7nuYgig-CZrD"
      },
      "id": "7nuYgig-CZrD"
    },
    {
      "cell_type": "code",
      "execution_count": null,
      "id": "38b64585",
      "metadata": {
        "id": "38b64585"
      },
      "outputs": [],
      "source": [
        "# DeepLabV2_ResNet101_0\n",
        "\n",
        "# Train\n",
        "# !python3 sem_seg.py \\\n",
        "#     --train \\\n",
        "#     --model_name DeepLabV2_ResNet101 \\\n",
        "#     --version 0 \\\n",
        "#     --source_domain Rural \\\n",
        "#     --batch_size 6 \\\n",
        "#     --criterion CrossEntropyLoss \\\n",
        "#     --optimizer SGD \\\n",
        "#     --scheduler PolynomialLR \\\n",
        "#     --epochs 20 \\\n",
        "#     --store drive"
      ]
    },
    {
      "cell_type": "code",
      "source": [
        "# Test\n",
        "# !python3 sem_seg.py \\\n",
        "#     --test \\\n",
        "#     --model_name DeepLabV2_ResNet101 \\\n",
        "#     --version 0 \\\n",
        "#     --model_file last_0.pt \\\n",
        "#     --target_domain Rural \\\n",
        "#     --store drive\n",
        "\n",
        "# !python3 sem_seg.py \\\n",
        "#     --test \\\n",
        "#     --model_name DeepLabV2_ResNet101 \\\n",
        "#     --version 0 \\\n",
        "#     --model_file best_0.pt \\\n",
        "#     --target_domain Rural \\\n",
        "#     --store drive\n",
        "\n",
        "# !python3 sem_seg.py \\\n",
        "#     --test \\\n",
        "#     --model_name DeepLabV2_ResNet101 \\\n",
        "#     --version 0 \\\n",
        "#     --model_file last_0.pt \\\n",
        "#     --target_domain Urban \\\n",
        "#     --store drive\n",
        "\n",
        "# !python3 sem_seg.py \\\n",
        "#     --test \\\n",
        "#     --model_name DeepLabV2_ResNet101 \\\n",
        "#     --version 0 \\\n",
        "#     --model_file best_0.pt \\\n",
        "#     --target_domain Urban \\\n",
        "#     --store drive"
      ],
      "metadata": {
        "id": "_2B91EQ1peh3"
      },
      "id": "_2B91EQ1peh3",
      "execution_count": null,
      "outputs": []
    },
    {
      "cell_type": "markdown",
      "id": "u1oHe3-oPUWw",
      "metadata": {
        "id": "u1oHe3-oPUWw"
      },
      "source": [
        "## PIDNet"
      ]
    },
    {
      "cell_type": "markdown",
      "source": [
        "### Version 0"
      ],
      "metadata": {
        "id": "mJ1D-4inCc95"
      },
      "id": "mJ1D-4inCc95"
    },
    {
      "cell_type": "code",
      "execution_count": null,
      "id": "1781uEUIQsIL",
      "metadata": {
        "id": "1781uEUIQsIL"
      },
      "outputs": [],
      "source": [
        "# Train\n",
        "# !python3 sem_seg.py \\\n",
        "#     --train \\\n",
        "#     --model_name PIDNet_S \\\n",
        "#     --version 0 \\\n",
        "#     --source_domain Rural \\\n",
        "#     --batch_size 6 \\\n",
        "#     --criterion OhemCrossEntropyLoss \\\n",
        "#     --optimizer SGD \\\n",
        "#     --scheduler PolynomialLR \\\n",
        "#     --lr 0.01 \\\n",
        "#     --epochs 20 \\\n",
        "#     --store drive"
      ]
    },
    {
      "cell_type": "code",
      "source": [
        "# Test\n",
        "# !python3 sem_seg.py \\\n",
        "#     --test \\\n",
        "#     --model_name PIDNet_S \\\n",
        "#     --version 0 \\\n",
        "#     --model_file last_0.pt \\\n",
        "#     --target_domain Urban \\\n",
        "#     --store drive\n",
        "\n",
        "# !python3 sem_seg.py \\\n",
        "#     --test \\\n",
        "#     --model_name PIDNet_S \\\n",
        "#     --version 0 \\\n",
        "#     --model_file best_0.pt \\\n",
        "#     --target_domain Urban \\\n",
        "#     --store drive\n",
        "\n",
        "# !python3 sem_seg.py \\\n",
        "#     --test \\\n",
        "#     --model_name PIDNet_S \\\n",
        "#     --version 0 \\\n",
        "#     --model_file last_0.pt \\\n",
        "#     --target_domain Rural \\\n",
        "#     --store drive\n",
        "\n",
        "# !python3 sem_seg.py \\\n",
        "#     --test \\\n",
        "#     --model_name PIDNet_S \\\n",
        "#     --version 0 \\\n",
        "#     --model_file best_0.pt \\\n",
        "#     --target_domain Rural \\\n",
        "#     --store drive"
      ],
      "metadata": {
        "id": "YoW7heiovwH-"
      },
      "id": "YoW7heiovwH-",
      "execution_count": null,
      "outputs": []
    },
    {
      "cell_type": "markdown",
      "source": [
        "### Version 1"
      ],
      "metadata": {
        "id": "YXYwhR3wCerq"
      },
      "id": "YXYwhR3wCerq"
    },
    {
      "cell_type": "code",
      "source": [
        "# Train\n",
        "# !python3 sem_seg.py \\\n",
        "#     --train \\\n",
        "#     --model_name PIDNet_S \\\n",
        "#     --version 1 \\\n",
        "#     --source_domain Urban \\\n",
        "#     --batch_size 6 \\\n",
        "#     --criterion OhemCrossEntropyLoss \\\n",
        "#     --optimizer SGD \\\n",
        "#     --scheduler PolynomialLR \\\n",
        "#     --lr 0.01 \\\n",
        "#     --epochs 20 \\\n",
        "#     --store drive"
      ],
      "metadata": {
        "id": "cRB86IA033Fj"
      },
      "id": "cRB86IA033Fj",
      "execution_count": null,
      "outputs": []
    },
    {
      "cell_type": "code",
      "source": [
        "# Test\n",
        "# !python3 sem_seg.py \\\n",
        "#     --test \\\n",
        "#     --model_name PIDNet_S \\\n",
        "#     --version 1 \\\n",
        "#     --model_file last_0.pt \\\n",
        "#     --target_domain Urban \\\n",
        "#     --store drive\n",
        "\n",
        "# !python3 sem_seg.py \\\n",
        "#     --test \\\n",
        "#     --model_name PIDNet_S \\\n",
        "#     --version 1 \\\n",
        "#     --model_file best_0.pt \\\n",
        "#     --target_domain Urban \\\n",
        "#     --store drive\n",
        "\n",
        "# !python3 sem_seg.py \\\n",
        "#     --test \\\n",
        "#     --model_name PIDNet_S \\\n",
        "#     --version 1 \\\n",
        "#     --model_file last_0.pt \\\n",
        "#     --target_domain Rural \\\n",
        "#     --store drive\n",
        "\n",
        "# !python3 sem_seg.py \\\n",
        "#     --test \\\n",
        "#     --model_name PIDNet_S \\\n",
        "#     --version 1 \\\n",
        "#     --model_file best_0.pt \\\n",
        "#     --target_domain Rural \\\n",
        "#     --store drive"
      ],
      "metadata": {
        "id": "hd8vzW6L4CNX"
      },
      "id": "hd8vzW6L4CNX",
      "execution_count": null,
      "outputs": []
    },
    {
      "cell_type": "markdown",
      "source": [
        "### Version 2"
      ],
      "metadata": {
        "id": "L9Jw_5xfP7rl"
      },
      "id": "L9Jw_5xfP7rl"
    },
    {
      "cell_type": "code",
      "source": [
        "# Train\n",
        "# !python3 sem_seg.py \\\n",
        "#     --train \\\n",
        "#     --model_name PIDNet_S \\\n",
        "#     --version 2 \\\n",
        "#     --source_domain Rural \\\n",
        "#     --batch_size 6 \\\n",
        "#     --criterion OhemCrossEntropyLoss \\\n",
        "#     --optimizer SGD \\\n",
        "#     --scheduler PolynomialLR \\\n",
        "#     --lr 0.001 \\\n",
        "#     --epochs 20 \\\n",
        "#     --store drive"
      ],
      "metadata": {
        "id": "grG7HbW3P9m9"
      },
      "id": "grG7HbW3P9m9",
      "execution_count": null,
      "outputs": []
    },
    {
      "cell_type": "code",
      "source": [
        "# Test\n",
        "# !python3 sem_seg.py \\\n",
        "#     --test \\\n",
        "#     --model_name PIDNet_S \\\n",
        "#     --version 2 \\\n",
        "#     --model_file last_0.pt \\\n",
        "#     --target_domain Urban \\\n",
        "#     --store drive\n",
        "\n",
        "# !python3 sem_seg.py \\\n",
        "#     --test \\\n",
        "#     --model_name PIDNet_S \\\n",
        "#     --version 2 \\\n",
        "#     --model_file best_0.pt \\\n",
        "#     --target_domain Urban \\\n",
        "#     --store drive\n",
        "\n",
        "# !python3 sem_seg.py \\\n",
        "#     --test \\\n",
        "#     --model_name PIDNet_S \\\n",
        "#     --version 2 \\\n",
        "#     --model_file last_0.pt \\\n",
        "#     --target_domain Rural \\\n",
        "#     --store drive\n",
        "\n",
        "# !python3 sem_seg.py \\\n",
        "#     --test \\\n",
        "#     --model_name PIDNet_S \\\n",
        "#     --version 2 \\\n",
        "#     --model_file best_0.pt \\\n",
        "#     --target_domain Rural \\\n",
        "#     --store drive"
      ],
      "metadata": {
        "id": "3PmiChAUP-ci"
      },
      "id": "3PmiChAUP-ci",
      "execution_count": null,
      "outputs": []
    },
    {
      "cell_type": "markdown",
      "source": [
        "### Version 3"
      ],
      "metadata": {
        "id": "1znNDkpmLms8"
      },
      "id": "1znNDkpmLms8"
    },
    {
      "cell_type": "code",
      "source": [
        "# Train\n",
        "# !python3 sem_seg.py \\\n",
        "#     --train \\\n",
        "#     --model_name PIDNet_S \\\n",
        "#     --version 3 \\\n",
        "#     --source_domain Urban \\\n",
        "#     --batch_size 6 \\\n",
        "#     --criterion OhemCrossEntropyLoss \\\n",
        "#     --optimizer SGD \\\n",
        "#     --scheduler PolynomialLR \\\n",
        "#     --lr 0.001 \\\n",
        "#     --epochs 20 \\\n",
        "#     --store drive"
      ],
      "metadata": {
        "id": "P2XlPTekLops"
      },
      "id": "P2XlPTekLops",
      "execution_count": null,
      "outputs": []
    },
    {
      "cell_type": "code",
      "source": [
        "# Test\n",
        "# !python3 sem_seg.py \\\n",
        "#     --test \\\n",
        "#     --model_name PIDNet_S \\\n",
        "#     --version 3 \\\n",
        "#     --model_file last_0.pt \\\n",
        "#     --target_domain Urban \\\n",
        "#     --store drive\n",
        "\n",
        "# !python3 sem_seg.py \\\n",
        "#     --test \\\n",
        "#     --model_name PIDNet_S \\\n",
        "#     --version 3 \\\n",
        "#     --model_file best_0.pt \\\n",
        "#     --target_domain Urban \\\n",
        "#     --store drive\n",
        "\n",
        "# !python3 sem_seg.py \\\n",
        "#     --test \\\n",
        "#     --model_name PIDNet_S \\\n",
        "#     --version 3 \\\n",
        "#     --model_file last_0.pt \\\n",
        "#     --target_domain Rural \\\n",
        "#     --store drive\n",
        "\n",
        "# !python3 sem_seg.py \\\n",
        "#     --test \\\n",
        "#     --model_name PIDNet_S \\\n",
        "#     --version 3 \\\n",
        "#     --model_file best_0.pt \\\n",
        "#     --target_domain Rural \\\n",
        "#     --store drive"
      ],
      "metadata": {
        "id": "Cj2mRgD5_6E4"
      },
      "id": "Cj2mRgD5_6E4",
      "execution_count": null,
      "outputs": []
    },
    {
      "cell_type": "markdown",
      "source": [
        "### Version 4"
      ],
      "metadata": {
        "id": "Mfs8oz9pQ4d8"
      },
      "id": "Mfs8oz9pQ4d8"
    },
    {
      "cell_type": "code",
      "source": [
        "# Train\n",
        "# !python3 sem_seg.py \\\n",
        "#     --train \\\n",
        "#     --model_name PIDNet_S \\\n",
        "#     --version 4 \\\n",
        "#     --source_domain Urban \\\n",
        "#     --horizontal_flip_augmentation \\\n",
        "#     --shift_scale_rotate_augmentation \\\n",
        "#     --batch_size 6 \\\n",
        "#     --criterion OhemCrossEntropyLoss \\\n",
        "#     --optimizer SGD \\\n",
        "#     --scheduler PolynomialLR \\\n",
        "#     --lr 0.01 \\\n",
        "#     --epochs 20 \\\n",
        "#     --store drive"
      ],
      "metadata": {
        "id": "ZO4nUoQFQ6bO"
      },
      "id": "ZO4nUoQFQ6bO",
      "execution_count": null,
      "outputs": []
    },
    {
      "cell_type": "code",
      "source": [
        "# Test\n",
        "# !python3 sem_seg.py \\\n",
        "#     --test \\\n",
        "#     --model_name PIDNet_S \\\n",
        "#     --version 4 \\\n",
        "#     --model_file last_0.pt \\\n",
        "#     --target_domain Urban \\\n",
        "#     --store drive\n",
        "\n",
        "# !python3 sem_seg.py \\\n",
        "#     --test \\\n",
        "#     --model_name PIDNet_S \\\n",
        "#     --version 4 \\\n",
        "#     --model_file best_0.pt \\\n",
        "#     --target_domain Urban \\\n",
        "#     --store drive\n",
        "\n",
        "# !python3 sem_seg.py \\\n",
        "#     --test \\\n",
        "#     --model_name PIDNet_S \\\n",
        "#     --version 4 \\\n",
        "#     --model_file last_0.pt \\\n",
        "#     --target_domain Rural \\\n",
        "#     --store drive\n",
        "\n",
        "# !python3 sem_seg.py \\\n",
        "#     --test \\\n",
        "#     --model_name PIDNet_S \\\n",
        "#     --version 4 \\\n",
        "#     --model_file best_0.pt \\\n",
        "#     --target_domain Rural \\\n",
        "#     --store drive"
      ],
      "metadata": {
        "id": "shkIo1zlQ-5v"
      },
      "id": "shkIo1zlQ-5v",
      "execution_count": 11,
      "outputs": []
    },
    {
      "cell_type": "markdown",
      "source": [
        "### Version 5"
      ],
      "metadata": {
        "id": "5wSUEGPHRDTR"
      },
      "id": "5wSUEGPHRDTR"
    },
    {
      "cell_type": "code",
      "source": [
        "# Train\n",
        "!python3 sem_seg.py \\\n",
        "    --train \\\n",
        "    --model_name PIDNet_S \\\n",
        "    --version 5 \\\n",
        "    --source_domain Urban \\\n",
        "    --horizontal_flip_augmentation \\\n",
        "    --shift_scale_rotate_augmentation \\\n",
        "    --grid_distortion_augmentation \\\n",
        "    --batch_size 6 \\\n",
        "    --criterion OhemCrossEntropyLoss \\\n",
        "    --optimizer SGD \\\n",
        "    --scheduler PolynomialLR \\\n",
        "    --lr 0.01 \\\n",
        "    --epochs 20 \\\n",
        "    --store drive"
      ],
      "metadata": {
        "id": "jDj7Viy0RC_A",
        "outputId": "8c3d03b1-daeb-48c9-ef9b-8ff44f529167",
        "colab": {
          "base_uri": "https://localhost:8080/"
        }
      },
      "id": "jDj7Viy0RC_A",
      "execution_count": null,
      "outputs": [
        {
          "output_type": "stream",
          "name": "stdout",
          "text": [
            "/usr/local/lib/python3.11/dist-packages/albumentations/__init__.py:24: UserWarning: A new version of Albumentations is available: 2.0.0 (you have 1.4.20). Upgrade using: pip install -U albumentations. To disable automatic update checks, set the environment variable NO_ALBUMENTATIONS_UPDATE to 1.\n",
            "  check_for_updates()\n",
            "CUDA available\n",
            "Number of devices: 1\n",
            "Device 0:\n",
            "\tName: Tesla T4\n",
            "Device: cuda\n",
            "/content/models/pidnet/pidnet.py:188: FutureWarning: You are using `torch.load` with `weights_only=False` (the current default value), which uses the default pickle module implicitly. It is possible to construct malicious pickle data which will execute arbitrary code during unpickling (See https://github.com/pytorch/pytorch/blob/main/SECURITY.md#untrusted-models for more details). In a future release, the default value for `weights_only` will be flipped to `True`. This limits the functions that could be executed during unpickling. Arbitrary objects will no longer be allowed to be loaded via this mode unless they are explicitly allowlisted by the user via `torch.serialization.add_safe_globals`. We recommend you start setting `weights_only=True` for any use case where you don't have full control of the loaded file. Please open an issue on GitHub for any issues related to this experimental feature.\n",
            "  pretrained_state = torch.load(pretrain_model_path, map_location='cpu')['state_dict']\n",
            "Loaded 302 parameters.\n",
            "Model: PIDNet_S\n",
            "Device: cuda\n",
            "Cuda device name: Tesla T4\n",
            "Dataset source domain: Urban\n",
            "Data augmentation: True\n",
            "- HorizontalFlip(p=0.5)\n",
            "- ShiftScaleRotate(shift_limit=0.1, scale_limit=0.2, rotate_limit=15, p=0.5)\n",
            "- GridDistortion(num_steps=5, distort_limit=0.3, p=0.5)\n",
            "Batch size: 6\n",
            "\n",
            "Criterion: OhemCrossEntropyLoss\n",
            "\n",
            "Optimizer:\n",
            "SGD (\n",
            "    lr: 0.01\n",
            "    momentum: 0.9\n",
            "    weight_decay: 0.0005\n",
            ")\n",
            "\n",
            "Scheduler:\n",
            "PolynomialLR (\n",
            "    lr: 0.01\n",
            "    power: 0.9\n",
            ")\n",
            "\n",
            "Epoch 1/20:\n",
            "Progress: |----------|   1% \tTime: 00:00:12 s \tLearning rate: 0.01000 \tTrain loss: 13.9419 \tTrain miou: 0.0540 \n",
            "Progress: |----------|   1% \tTime: 00:00:13 s \tLearning rate: 0.01000 \tTrain loss: 12.9870 \tTrain miou: 0.0687 \n",
            "Progress: |----------|   2% \tTime: 00:00:14 s \tLearning rate: 0.01000 \tTrain loss: 12.3693 \tTrain miou: 0.0775 \n",
            "Progress: |----------|   2% \tTime: 00:00:15 s \tLearning rate: 0.01000 \tTrain loss: 11.8289 \tTrain miou: 0.0880 \n",
            "Progress: |----------|   3% \tTime: 00:00:16 s \tLearning rate: 0.01000 \tTrain loss: 11.5479 \tTrain miou: 0.0940 \n",
            "Progress: |----------|   3% \tTime: 00:00:16 s \tLearning rate: 0.01000 \tTrain loss: 11.1908 \tTrain miou: 0.0989 \n",
            "Progress: |----------|   4% \tTime: 00:00:17 s \tLearning rate: 0.01000 \tTrain loss: 10.8198 \tTrain miou: 0.1107 \n",
            "Progress: |----------|   4% \tTime: 00:00:18 s \tLearning rate: 0.01000 \tTrain loss: 10.4415 \tTrain miou: 0.1221 \n",
            "Progress: |----------|   5% \tTime: 00:00:19 s \tLearning rate: 0.01000 \tTrain loss: 10.0828 \tTrain miou: 0.1287 \n",
            "Progress: |----------|   5% \tTime: 00:00:19 s \tLearning rate: 0.01000 \tTrain loss: 10.0976 \tTrain miou: 0.1236 \n",
            "Progress: |----------|   6% \tTime: 00:00:20 s \tLearning rate: 0.01000 \tTrain loss: 9.9089 \tTrain miou: 0.1212 \n",
            "Progress: |----------|   6% \tTime: 00:00:21 s \tLearning rate: 0.01000 \tTrain loss: 9.6196 \tTrain miou: 0.1208 \n",
            "Progress: |----------|   7% \tTime: 00:00:21 s \tLearning rate: 0.01000 \tTrain loss: 9.5941 \tTrain miou: 0.1196 \n",
            "Progress: |----------|   7% \tTime: 00:00:22 s \tLearning rate: 0.01000 \tTrain loss: 9.3995 \tTrain miou: 0.1172 \n",
            "Progress: |----------|   8% \tTime: 00:00:23 s \tLearning rate: 0.01000 \tTrain loss: 9.2506 \tTrain miou: 0.1169 \n",
            "Progress: |----------|   8% \tTime: 00:00:24 s \tLearning rate: 0.01000 \tTrain loss: 9.2229 \tTrain miou: 0.1151 \n",
            "Progress: |----------|   9% \tTime: 00:00:24 s \tLearning rate: 0.01000 \tTrain loss: 9.0590 \tTrain miou: 0.1172 \n",
            "Progress: |----------|   9% \tTime: 00:00:25 s \tLearning rate: 0.01000 \tTrain loss: 8.7931 \tTrain miou: 0.1195 \n",
            "Progress: |----------|  10% \tTime: 00:00:26 s \tLearning rate: 0.01000 \tTrain loss: 8.6052 \tTrain miou: 0.1207 \n",
            "Progress: |█---------|  10% \tTime: 00:00:27 s \tLearning rate: 0.01000 \tTrain loss: 8.3857 \tTrain miou: 0.1210 \n",
            "Progress: |█---------|  11% \tTime: 00:00:28 s \tLearning rate: 0.01000 \tTrain loss: 8.1762 \tTrain miou: 0.1187 \n",
            "Progress: |█---------|  11% \tTime: 00:00:29 s \tLearning rate: 0.01000 \tTrain loss: 7.9845 \tTrain miou: 0.1183 \n",
            "Progress: |█---------|  12% \tTime: 00:00:30 s \tLearning rate: 0.01000 \tTrain loss: 7.8252 \tTrain miou: 0.1166 \n",
            "Progress: |█---------|  12% \tTime: 00:00:31 s \tLearning rate: 0.01000 \tTrain loss: 7.6814 \tTrain miou: 0.1157 \n",
            "Progress: |█---------|  13% \tTime: 00:00:31 s \tLearning rate: 0.01000 \tTrain loss: 7.5193 \tTrain miou: 0.1154 \n",
            "Progress: |█---------|  14% \tTime: 00:00:32 s \tLearning rate: 0.01000 \tTrain loss: 7.3992 \tTrain miou: 0.1139 \n",
            "Progress: |█---------|  14% \tTime: 00:00:33 s \tLearning rate: 0.01000 \tTrain loss: 7.2678 \tTrain miou: 0.1133 \n",
            "Progress: |█---------|  15% \tTime: 00:00:34 s \tLearning rate: 0.01000 \tTrain loss: 7.1471 \tTrain miou: 0.1123 \n",
            "Progress: |█---------|  15% \tTime: 00:00:34 s \tLearning rate: 0.01000 \tTrain loss: 7.0403 \tTrain miou: 0.1121 \n",
            "Progress: |█---------|  16% \tTime: 00:00:35 s \tLearning rate: 0.01000 \tTrain loss: 6.9234 \tTrain miou: 0.1106 \n",
            "Progress: |█---------|  16% \tTime: 00:00:36 s \tLearning rate: 0.01000 \tTrain loss: 6.8185 \tTrain miou: 0.1108 \n",
            "Progress: |█---------|  17% \tTime: 00:00:37 s \tLearning rate: 0.01000 \tTrain loss: 6.7131 \tTrain miou: 0.1118 \n",
            "Progress: |█---------|  17% \tTime: 00:00:37 s \tLearning rate: 0.01000 \tTrain loss: 6.5945 \tTrain miou: 0.1130 \n",
            "Progress: |█---------|  18% \tTime: 00:00:38 s \tLearning rate: 0.01000 \tTrain loss: 6.4999 \tTrain miou: 0.1131 \n",
            "Progress: |█---------|  18% \tTime: 00:00:39 s \tLearning rate: 0.01000 \tTrain loss: 6.4301 \tTrain miou: 0.1134 \n",
            "Progress: |█---------|  19% \tTime: 00:00:40 s \tLearning rate: 0.01000 \tTrain loss: 6.3472 \tTrain miou: 0.1140 \n",
            "Progress: |█---------|  19% \tTime: 00:00:40 s \tLearning rate: 0.01000 \tTrain loss: 6.2713 \tTrain miou: 0.1139 \n",
            "Progress: |█---------|  20% \tTime: 00:00:41 s \tLearning rate: 0.01000 \tTrain loss: 6.2051 \tTrain miou: 0.1140 \n",
            "Progress: |██--------|  20% \tTime: 00:00:42 s \tLearning rate: 0.01000 \tTrain loss: 6.1341 \tTrain miou: 0.1142 \n",
            "Progress: |██--------|  21% \tTime: 00:00:43 s \tLearning rate: 0.01000 \tTrain loss: 6.0586 \tTrain miou: 0.1141 \n",
            "Progress: |██--------|  21% \tTime: 00:00:44 s \tLearning rate: 0.01000 \tTrain loss: 6.0032 \tTrain miou: 0.1136 \n",
            "Progress: |██--------|  22% \tTime: 00:00:45 s \tLearning rate: 0.01000 \tTrain loss: 5.9339 \tTrain miou: 0.1135 \n",
            "Progress: |██--------|  22% \tTime: 00:00:46 s \tLearning rate: 0.01000 \tTrain loss: 5.8815 \tTrain miou: 0.1127 \n",
            "Progress: |██--------|  23% \tTime: 00:00:46 s \tLearning rate: 0.01000 \tTrain loss: 5.8501 \tTrain miou: 0.1128 \n",
            "Progress: |██--------|  23% \tTime: 00:00:47 s \tLearning rate: 0.01000 \tTrain loss: 5.8040 \tTrain miou: 0.1140 \n",
            "Progress: |██--------|  24% \tTime: 00:00:48 s \tLearning rate: 0.01000 \tTrain loss: 5.7465 \tTrain miou: 0.1153 \n",
            "Progress: |██--------|  24% \tTime: 00:00:49 s \tLearning rate: 0.01000 \tTrain loss: 5.6909 \tTrain miou: 0.1172 \n",
            "Progress: |██--------|  25% \tTime: 00:00:49 s \tLearning rate: 0.01000 \tTrain loss: 5.6417 \tTrain miou: 0.1188 \n",
            "Progress: |██--------|  26% \tTime: 00:00:50 s \tLearning rate: 0.01000 \tTrain loss: 5.6424 \tTrain miou: 0.1200 \n",
            "Progress: |██--------|  26% \tTime: 00:00:51 s \tLearning rate: 0.01000 \tTrain loss: 5.5913 \tTrain miou: 0.1201 \n",
            "Progress: |██--------|  27% \tTime: 00:00:52 s \tLearning rate: 0.01000 \tTrain loss: 5.5501 \tTrain miou: 0.1214 \n",
            "Progress: |██--------|  27% \tTime: 00:00:52 s \tLearning rate: 0.01000 \tTrain loss: 5.5073 \tTrain miou: 0.1214 \n",
            "Progress: |██--------|  28% \tTime: 00:00:53 s \tLearning rate: 0.01000 \tTrain loss: 5.4627 \tTrain miou: 0.1212 \n",
            "Progress: |██--------|  28% \tTime: 00:00:54 s \tLearning rate: 0.01000 \tTrain loss: 5.4200 \tTrain miou: 0.1216 \n",
            "Progress: |██--------|  29% \tTime: 00:00:55 s \tLearning rate: 0.01000 \tTrain loss: 5.3849 \tTrain miou: 0.1215 \n",
            "Progress: |██--------|  29% \tTime: 00:00:55 s \tLearning rate: 0.01000 \tTrain loss: 5.3404 \tTrain miou: 0.1222 \n",
            "Progress: |██--------|  30% \tTime: 00:00:56 s \tLearning rate: 0.01000 \tTrain loss: 5.3098 \tTrain miou: 0.1228 \n",
            "Progress: |███-------|  30% \tTime: 00:00:57 s \tLearning rate: 0.01000 \tTrain loss: 5.2635 \tTrain miou: 0.1227 \n",
            "Progress: |███-------|  31% \tTime: 00:00:58 s \tLearning rate: 0.01000 \tTrain loss: 5.2268 \tTrain miou: 0.1224 \n",
            "Progress: |███-------|  31% \tTime: 00:00:59 s \tLearning rate: 0.01000 \tTrain loss: 5.1940 \tTrain miou: 0.1221 \n",
            "Progress: |███-------|  32% \tTime: 00:01:00 s \tLearning rate: 0.01000 \tTrain loss: 5.1606 \tTrain miou: 0.1223 \n",
            "Progress: |███-------|  32% \tTime: 00:01:01 s \tLearning rate: 0.01000 \tTrain loss: 5.1264 \tTrain miou: 0.1222 \n",
            "Progress: |███-------|  33% \tTime: 00:01:02 s \tLearning rate: 0.01000 \tTrain loss: 5.0980 \tTrain miou: 0.1236 \n",
            "Progress: |███-------|  33% \tTime: 00:01:02 s \tLearning rate: 0.01000 \tTrain loss: 5.0708 \tTrain miou: 0.1239 \n",
            "Progress: |███-------|  34% \tTime: 00:01:03 s \tLearning rate: 0.01000 \tTrain loss: 5.0406 \tTrain miou: 0.1240 \n",
            "Progress: |███-------|  34% \tTime: 00:01:04 s \tLearning rate: 0.01000 \tTrain loss: 5.0037 \tTrain miou: 0.1253 \n"
          ]
        }
      ]
    },
    {
      "cell_type": "code",
      "source": [
        "\n",
        "\n",
        "\n"
      ],
      "metadata": {
        "id": "iQXuVpB6RnVy"
      },
      "id": "iQXuVpB6RnVy",
      "execution_count": 15,
      "outputs": []
    },
    {
      "cell_type": "code",
      "source": [
        "# Test\n",
        "!python3 sem_seg.py \\\n",
        "    --test \\\n",
        "    --model_name PIDNet_S \\\n",
        "    --version 5 \\\n",
        "    --model_file last_0.pt \\\n",
        "    --target_domain Urban \\\n",
        "    --store drive\n",
        "\n",
        "!python3 sem_seg.py \\\n",
        "    --test \\\n",
        "    --model_name PIDNet_S \\\n",
        "    --version 5 \\\n",
        "    --model_file best_0.pt \\\n",
        "    --target_domain Urban \\\n",
        "    --store drive\n",
        "\n",
        "!python3 sem_seg.py \\\n",
        "    --test \\\n",
        "    --model_name PIDNet_S \\\n",
        "    --version 5 \\\n",
        "    --model_file last_0.pt \\\n",
        "    --target_domain Rural \\\n",
        "    --store drive\n",
        "\n",
        "!python3 sem_seg.py \\\n",
        "    --test \\\n",
        "    --model_name PIDNet_S \\\n",
        "    --version 5 \\\n",
        "    --model_file best_0.pt \\\n",
        "    --target_domain Rural \\\n",
        "    --store drive"
      ],
      "metadata": {
        "id": "aXiEITm_RHFd"
      },
      "id": "aXiEITm_RHFd",
      "execution_count": null,
      "outputs": []
    }
  ],
  "metadata": {
    "accelerator": "GPU",
    "colab": {
      "gpuType": "T4",
      "provenance": []
    },
    "kernelspec": {
      "display_name": "base",
      "language": "python",
      "name": "python3"
    },
    "language_info": {
      "codemirror_mode": {
        "name": "ipython",
        "version": 3
      },
      "file_extension": ".py",
      "mimetype": "text/x-python",
      "name": "python",
      "nbconvert_exporter": "python",
      "pygments_lexer": "ipython3",
      "version": "3.12.7"
    }
  },
  "nbformat": 4,
  "nbformat_minor": 5
}