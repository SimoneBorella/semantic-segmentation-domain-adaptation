{
  "cells": [
    {
      "cell_type": "markdown",
      "id": "0K9H8Nk-N_Tf",
      "metadata": {
        "id": "0K9H8Nk-N_Tf"
      },
      "source": [
        "# Real-time Domain Adaptation in Semantic Segmentation"
      ]
    },
    {
      "cell_type": "markdown",
      "id": "f722511a",
      "metadata": {
        "id": "f722511a"
      },
      "source": [
        "## Mount drive"
      ]
    },
    {
      "cell_type": "code",
      "execution_count": null,
      "id": "vVcmrIe_TGGA",
      "metadata": {
        "id": "vVcmrIe_TGGA"
      },
      "outputs": [],
      "source": [
        "from google.colab import drive\n",
        "drive.mount('/content/drive')"
      ]
    },
    {
      "cell_type": "markdown",
      "id": "be24ecf1",
      "metadata": {
        "id": "be24ecf1"
      },
      "source": [
        "## Import code"
      ]
    },
    {
      "cell_type": "code",
      "execution_count": null,
      "id": "GrQxrFD9QBIi",
      "metadata": {
        "id": "GrQxrFD9QBIi"
      },
      "outputs": [],
      "source": [
        "!git clone https://github.com/SimoneBorella/semantic-segmentation-domain-adaptation.git\n",
        "\n",
        "!cp -r ./semantic-segmentation-domain-adaptation/datasets .\n",
        "!cp -r ./semantic-segmentation-domain-adaptation/models .\n",
        "!cp -r ./semantic-segmentation-domain-adaptation/criteria .\n",
        "!cp -r ./semantic-segmentation-domain-adaptation/utils .\n",
        "!cp ./semantic-segmentation-domain-adaptation/get_dataset.bash .\n",
        "!cp ./semantic-segmentation-domain-adaptation/get_weights_pretrained.bash .\n",
        "!cp ./semantic-segmentation-domain-adaptation/sem_seg.py .\n",
        "!cp ./semantic-segmentation-domain-adaptation/sem_seg_da_adv.py .\n",
        "!cp ./semantic-segmentation-domain-adaptation/sem_seg_dacs.py .\n",
        "\n",
        "!rm -r ./semantic-segmentation-domain-adaptation\n",
        "!rm -r sample_data"
      ]
    },
    {
      "cell_type": "markdown",
      "id": "d0e497ec",
      "metadata": {
        "id": "d0e497ec"
      },
      "source": [
        "## Packages installation"
      ]
    },
    {
      "cell_type": "code",
      "execution_count": null,
      "id": "5q3A_omGNpCf",
      "metadata": {
        "id": "5q3A_omGNpCf"
      },
      "outputs": [],
      "source": [
        "!pip3 install torch torchvision torchaudio gdown fvcore kornia"
      ]
    },
    {
      "cell_type": "markdown",
      "id": "0302d761",
      "metadata": {
        "id": "0302d761"
      },
      "source": [
        "## Download LoveDA dataset"
      ]
    },
    {
      "cell_type": "code",
      "execution_count": null,
      "id": "5a2f0959",
      "metadata": {
        "id": "5a2f0959"
      },
      "outputs": [],
      "source": [
        "!bash get_dataset.bash"
      ]
    },
    {
      "cell_type": "markdown",
      "id": "b39ac3ab",
      "metadata": {
        "id": "b39ac3ab"
      },
      "source": [
        "# Download weights pretrained"
      ]
    },
    {
      "cell_type": "code",
      "execution_count": null,
      "id": "ba683512",
      "metadata": {
        "id": "ba683512"
      },
      "outputs": [],
      "source": [
        "!bash get_weights_pretrained.bash"
      ]
    },
    {
      "cell_type": "markdown",
      "id": "065eb67f",
      "metadata": {
        "id": "065eb67f"
      },
      "source": [
        "## DeepLabV2_ResNet101"
      ]
    },
    {
      "cell_type": "markdown",
      "source": [
        "### Version 0"
      ],
      "metadata": {
        "id": "7nuYgig-CZrD"
      },
      "id": "7nuYgig-CZrD"
    },
    {
      "cell_type": "code",
      "execution_count": null,
      "id": "38b64585",
      "metadata": {
        "id": "38b64585"
      },
      "outputs": [],
      "source": [
        "# Train\n",
        "# !python3 sem_seg.py \\\n",
        "#     --train \\\n",
        "#     --model_name DeepLabV2_ResNet101 \\\n",
        "#     --version 0 \\\n",
        "#     --source_domain Rural \\\n",
        "#     --batch_size 6 \\\n",
        "#     --criterion CrossEntropyLoss \\\n",
        "#     --optimizer SGD \\\n",
        "#     --scheduler PolynomialLR \\\n",
        "#     --lr 0.001 \\\n",
        "#     --epochs 20 \\\n",
        "#     --store drive"
      ]
    },
    {
      "cell_type": "code",
      "source": [
        "# Test\n",
        "# !python3 sem_seg.py \\\n",
        "#     --test \\\n",
        "#     --model_name DeepLabV2_ResNet101 \\\n",
        "#     --version 0 \\\n",
        "#     --model_file last_0.pt \\\n",
        "#     --target_domain Rural \\\n",
        "#     --store drive\n",
        "\n",
        "# !python3 sem_seg.py \\\n",
        "#     --test \\\n",
        "#     --model_name DeepLabV2_ResNet101 \\\n",
        "#     --version 0 \\\n",
        "#     --model_file best_0.pt \\\n",
        "#     --target_domain Rural \\\n",
        "#     --store drive\n",
        "\n",
        "# !python3 sem_seg.py \\\n",
        "#     --test \\\n",
        "#     --model_name DeepLabV2_ResNet101 \\\n",
        "#     --version 0 \\\n",
        "#     --model_file last_0.pt \\\n",
        "#     --target_domain Urban \\\n",
        "#     --store drive\n",
        "\n",
        "# !python3 sem_seg.py \\\n",
        "#     --test \\\n",
        "#     --model_name DeepLabV2_ResNet101 \\\n",
        "#     --version 0 \\\n",
        "#     --model_file best_0.pt \\\n",
        "#     --target_domain Urban \\\n",
        "#     --store drive"
      ],
      "metadata": {
        "id": "_2B91EQ1peh3"
      },
      "id": "_2B91EQ1peh3",
      "execution_count": null,
      "outputs": []
    },
    {
      "cell_type": "markdown",
      "source": [
        "### Version 1"
      ],
      "metadata": {
        "id": "CmFVsxnQn-GS"
      },
      "id": "CmFVsxnQn-GS"
    },
    {
      "cell_type": "code",
      "source": [
        "# Train\n",
        "# !python3 sem_seg.py \\\n",
        "#     --train \\\n",
        "#     --model_name DeepLabV2_ResNet101 \\\n",
        "#     --version 1 \\\n",
        "#     --source_domain Urban \\\n",
        "#     --batch_size 6 \\\n",
        "#     --criterion CrossEntropyLoss \\\n",
        "#     --optimizer SGD \\\n",
        "#     --scheduler PolynomialLR \\\n",
        "#     --lr 0.001 \\\n",
        "#     --epochs 20 \\\n",
        "#     --store drive"
      ],
      "metadata": {
        "id": "79H1QUMnoACQ"
      },
      "id": "79H1QUMnoACQ",
      "execution_count": null,
      "outputs": []
    },
    {
      "cell_type": "code",
      "source": [
        "# Test\n",
        "# !python3 sem_seg.py \\\n",
        "#     --test \\\n",
        "#     --model_name DeepLabV2_ResNet101 \\\n",
        "#     --version 1 \\\n",
        "#     --model_file last_0.pt \\\n",
        "#     --target_domain Rural \\\n",
        "#     --store drive\n",
        "\n",
        "# !python3 sem_seg.py \\\n",
        "#     --test \\\n",
        "#     --model_name DeepLabV2_ResNet101 \\\n",
        "#     --version 1 \\\n",
        "#     --model_file best_0.pt \\\n",
        "#     --target_domain Rural \\\n",
        "#     --store drive\n",
        "\n",
        "# !python3 sem_seg.py \\\n",
        "#     --test \\\n",
        "#     --model_name DeepLabV2_ResNet101 \\\n",
        "#     --version 1 \\\n",
        "#     --model_file last_0.pt \\\n",
        "#     --target_domain Urban \\\n",
        "#     --store drive\n",
        "\n",
        "# !python3 sem_seg.py \\\n",
        "#     --test \\\n",
        "#     --model_name DeepLabV2_ResNet101 \\\n",
        "#     --version 1 \\\n",
        "#     --model_file best_0.pt \\\n",
        "#     --target_domain Urban \\\n",
        "#     --store drive"
      ],
      "metadata": {
        "id": "PE22jigUoG_1"
      },
      "id": "PE22jigUoG_1",
      "execution_count": null,
      "outputs": []
    },
    {
      "cell_type": "markdown",
      "id": "u1oHe3-oPUWw",
      "metadata": {
        "id": "u1oHe3-oPUWw"
      },
      "source": [
        "## PIDNet"
      ]
    },
    {
      "cell_type": "markdown",
      "source": [
        "### Version 0"
      ],
      "metadata": {
        "id": "mJ1D-4inCc95"
      },
      "id": "mJ1D-4inCc95"
    },
    {
      "cell_type": "code",
      "execution_count": null,
      "id": "1781uEUIQsIL",
      "metadata": {
        "id": "1781uEUIQsIL"
      },
      "outputs": [],
      "source": [
        "# Train\n",
        "# !python3 sem_seg.py \\\n",
        "#     --train \\\n",
        "#     --model_name PIDNet_S \\\n",
        "#     --version 0 \\\n",
        "#     --source_domain Rural \\\n",
        "#     --batch_size 6 \\\n",
        "#     --criterion OhemCrossEntropyLoss \\\n",
        "#     --optimizer SGD \\\n",
        "#     --scheduler PolynomialLR \\\n",
        "#     --lr 0.01 \\\n",
        "#     --epochs 20 \\\n",
        "#     --store drive"
      ]
    },
    {
      "cell_type": "code",
      "source": [
        "# Test\n",
        "# !python3 sem_seg.py \\\n",
        "#     --test \\\n",
        "#     --model_name PIDNet_S \\\n",
        "#     --version 0 \\\n",
        "#     --model_file last_0.pt \\\n",
        "#     --target_domain Urban \\\n",
        "#     --store drive\n",
        "\n",
        "# !python3 sem_seg.py \\\n",
        "#     --test \\\n",
        "#     --model_name PIDNet_S \\\n",
        "#     --version 0 \\\n",
        "#     --model_file best_0.pt \\\n",
        "#     --target_domain Urban \\\n",
        "#     --store drive\n",
        "\n",
        "# !python3 sem_seg.py \\\n",
        "#     --test \\\n",
        "#     --model_name PIDNet_S \\\n",
        "#     --version 0 \\\n",
        "#     --model_file last_0.pt \\\n",
        "#     --target_domain Rural \\\n",
        "#     --store drive\n",
        "\n",
        "# !python3 sem_seg.py \\\n",
        "#     --test \\\n",
        "#     --model_name PIDNet_S \\\n",
        "#     --version 0 \\\n",
        "#     --model_file best_0.pt \\\n",
        "#     --target_domain Rural \\\n",
        "#     --store drive"
      ],
      "metadata": {
        "id": "YoW7heiovwH-"
      },
      "id": "YoW7heiovwH-",
      "execution_count": null,
      "outputs": []
    },
    {
      "cell_type": "markdown",
      "source": [
        "### Version 1"
      ],
      "metadata": {
        "id": "YXYwhR3wCerq"
      },
      "id": "YXYwhR3wCerq"
    },
    {
      "cell_type": "code",
      "source": [
        "# Train\n",
        "# !python3 sem_seg.py \\\n",
        "#     --train \\\n",
        "#     --model_name PIDNet_S \\\n",
        "#     --version 1 \\\n",
        "#     --source_domain Urban \\\n",
        "#     --batch_size 6 \\\n",
        "#     --criterion OhemCrossEntropyLoss \\\n",
        "#     --optimizer SGD \\\n",
        "#     --scheduler PolynomialLR \\\n",
        "#     --lr 0.01 \\\n",
        "#     --epochs 20 \\\n",
        "#     --store drive"
      ],
      "metadata": {
        "id": "cRB86IA033Fj"
      },
      "id": "cRB86IA033Fj",
      "execution_count": null,
      "outputs": []
    },
    {
      "cell_type": "code",
      "source": [
        "# Test\n",
        "# !python3 sem_seg.py \\\n",
        "#     --test \\\n",
        "#     --model_name PIDNet_S \\\n",
        "#     --version 1 \\\n",
        "#     --model_file last_0.pt \\\n",
        "#     --target_domain Urban \\\n",
        "#     --store drive\n",
        "\n",
        "# !python3 sem_seg.py \\\n",
        "#     --test \\\n",
        "#     --model_name PIDNet_S \\\n",
        "#     --version 1 \\\n",
        "#     --model_file best_0.pt \\\n",
        "#     --target_domain Urban \\\n",
        "#     --store drive\n",
        "\n",
        "# !python3 sem_seg.py \\\n",
        "#     --test \\\n",
        "#     --model_name PIDNet_S \\\n",
        "#     --version 1 \\\n",
        "#     --model_file last_0.pt \\\n",
        "#     --target_domain Rural \\\n",
        "#     --store drive\n",
        "\n",
        "# !python3 sem_seg.py \\\n",
        "#     --test \\\n",
        "#     --model_name PIDNet_S \\\n",
        "#     --version 1 \\\n",
        "#     --model_file best_0.pt \\\n",
        "#     --target_domain Rural \\\n",
        "#     --store drive"
      ],
      "metadata": {
        "id": "hd8vzW6L4CNX"
      },
      "id": "hd8vzW6L4CNX",
      "execution_count": null,
      "outputs": []
    },
    {
      "cell_type": "markdown",
      "source": [
        "### Version 2"
      ],
      "metadata": {
        "id": "L9Jw_5xfP7rl"
      },
      "id": "L9Jw_5xfP7rl"
    },
    {
      "cell_type": "code",
      "source": [
        "# Train\n",
        "# !python3 sem_seg.py \\\n",
        "#     --train \\\n",
        "#     --model_name PIDNet_S \\\n",
        "#     --version 2 \\\n",
        "#     --source_domain Rural \\\n",
        "#     --batch_size 6 \\\n",
        "#     --criterion OhemCrossEntropyLoss \\\n",
        "#     --optimizer SGD \\\n",
        "#     --scheduler PolynomialLR \\\n",
        "#     --lr 0.001 \\\n",
        "#     --epochs 20 \\\n",
        "#     --store drive"
      ],
      "metadata": {
        "id": "grG7HbW3P9m9"
      },
      "id": "grG7HbW3P9m9",
      "execution_count": null,
      "outputs": []
    },
    {
      "cell_type": "code",
      "source": [
        "# Test\n",
        "# !python3 sem_seg.py \\\n",
        "#     --test \\\n",
        "#     --model_name PIDNet_S \\\n",
        "#     --version 2 \\\n",
        "#     --model_file last_0.pt \\\n",
        "#     --target_domain Urban \\\n",
        "#     --store drive\n",
        "\n",
        "# !python3 sem_seg.py \\\n",
        "#     --test \\\n",
        "#     --model_name PIDNet_S \\\n",
        "#     --version 2 \\\n",
        "#     --model_file best_0.pt \\\n",
        "#     --target_domain Urban \\\n",
        "#     --store drive\n",
        "\n",
        "# !python3 sem_seg.py \\\n",
        "#     --test \\\n",
        "#     --model_name PIDNet_S \\\n",
        "#     --version 2 \\\n",
        "#     --model_file last_0.pt \\\n",
        "#     --target_domain Rural \\\n",
        "#     --store drive\n",
        "\n",
        "# !python3 sem_seg.py \\\n",
        "#     --test \\\n",
        "#     --model_name PIDNet_S \\\n",
        "#     --version 2 \\\n",
        "#     --model_file best_0.pt \\\n",
        "#     --target_domain Rural \\\n",
        "#     --store drive"
      ],
      "metadata": {
        "id": "3PmiChAUP-ci"
      },
      "id": "3PmiChAUP-ci",
      "execution_count": null,
      "outputs": []
    },
    {
      "cell_type": "markdown",
      "source": [
        "### Version 3"
      ],
      "metadata": {
        "id": "1znNDkpmLms8"
      },
      "id": "1znNDkpmLms8"
    },
    {
      "cell_type": "code",
      "source": [
        "# Train\n",
        "# !python3 sem_seg.py \\\n",
        "#     --train \\\n",
        "#     --model_name PIDNet_S \\\n",
        "#     --version 3 \\\n",
        "#     --source_domain Urban \\\n",
        "#     --batch_size 6 \\\n",
        "#     --criterion OhemCrossEntropyLoss \\\n",
        "#     --optimizer SGD \\\n",
        "#     --scheduler PolynomialLR \\\n",
        "#     --lr 0.001 \\\n",
        "#     --epochs 20 \\\n",
        "#     --store drive"
      ],
      "metadata": {
        "id": "P2XlPTekLops"
      },
      "id": "P2XlPTekLops",
      "execution_count": null,
      "outputs": []
    },
    {
      "cell_type": "code",
      "source": [
        "# Test\n",
        "# !python3 sem_seg.py \\\n",
        "#     --test \\\n",
        "#     --model_name PIDNet_S \\\n",
        "#     --version 3 \\\n",
        "#     --model_file last_0.pt \\\n",
        "#     --target_domain Urban \\\n",
        "#     --store drive\n",
        "\n",
        "# !python3 sem_seg.py \\\n",
        "#     --test \\\n",
        "#     --model_name PIDNet_S \\\n",
        "#     --version 3 \\\n",
        "#     --model_file best_0.pt \\\n",
        "#     --target_domain Urban \\\n",
        "#     --store drive\n",
        "\n",
        "# !python3 sem_seg.py \\\n",
        "#     --test \\\n",
        "#     --model_name PIDNet_S \\\n",
        "#     --version 3 \\\n",
        "#     --model_file last_0.pt \\\n",
        "#     --target_domain Rural \\\n",
        "#     --store drive\n",
        "\n",
        "# !python3 sem_seg.py \\\n",
        "#     --test \\\n",
        "#     --model_name PIDNet_S \\\n",
        "#     --version 3 \\\n",
        "#     --model_file best_0.pt \\\n",
        "#     --target_domain Rural \\\n",
        "#     --store drive"
      ],
      "metadata": {
        "id": "Cj2mRgD5_6E4"
      },
      "id": "Cj2mRgD5_6E4",
      "execution_count": null,
      "outputs": []
    },
    {
      "cell_type": "markdown",
      "source": [
        "### Version 4"
      ],
      "metadata": {
        "id": "Mfs8oz9pQ4d8"
      },
      "id": "Mfs8oz9pQ4d8"
    },
    {
      "cell_type": "code",
      "source": [
        "# Train\n",
        "# !python3 sem_seg.py \\\n",
        "#     --train \\\n",
        "#     --model_name PIDNet_S \\\n",
        "#     --version 4 \\\n",
        "#     --source_domain Urban \\\n",
        "#     --horizontal_flip_augmentation \\\n",
        "#     --shift_scale_rotate_augmentation \\\n",
        "#     --batch_size 6 \\\n",
        "#     --criterion OhemCrossEntropyLoss \\\n",
        "#     --optimizer SGD \\\n",
        "#     --scheduler PolynomialLR \\\n",
        "#     --lr 0.001 \\\n",
        "#     --epochs 20 \\\n",
        "#     --store drive"
      ],
      "metadata": {
        "id": "ZO4nUoQFQ6bO"
      },
      "id": "ZO4nUoQFQ6bO",
      "execution_count": null,
      "outputs": []
    },
    {
      "cell_type": "code",
      "source": [
        "# Test\n",
        "# !python3 sem_seg.py \\\n",
        "#     --test \\\n",
        "#     --model_name PIDNet_S \\\n",
        "#     --version 4 \\\n",
        "#     --model_file last_0.pt \\\n",
        "#     --target_domain Urban \\\n",
        "#     --store drive\n",
        "\n",
        "# !python3 sem_seg.py \\\n",
        "#     --test \\\n",
        "#     --model_name PIDNet_S \\\n",
        "#     --version 4 \\\n",
        "#     --model_file best_0.pt \\\n",
        "#     --target_domain Urban \\\n",
        "#     --store drive\n",
        "\n",
        "# !python3 sem_seg.py \\\n",
        "#     --test \\\n",
        "#     --model_name PIDNet_S \\\n",
        "#     --version 4 \\\n",
        "#     --model_file last_0.pt \\\n",
        "#     --target_domain Rural \\\n",
        "#     --store drive\n",
        "\n",
        "# !python3 sem_seg.py \\\n",
        "#     --test \\\n",
        "#     --model_name PIDNet_S \\\n",
        "#     --version 4 \\\n",
        "#     --model_file best_0.pt \\\n",
        "#     --target_domain Rural \\\n",
        "#     --store drive"
      ],
      "metadata": {
        "id": "shkIo1zlQ-5v"
      },
      "id": "shkIo1zlQ-5v",
      "execution_count": null,
      "outputs": []
    },
    {
      "cell_type": "markdown",
      "source": [
        "### Version 5"
      ],
      "metadata": {
        "id": "5wSUEGPHRDTR"
      },
      "id": "5wSUEGPHRDTR"
    },
    {
      "cell_type": "code",
      "source": [
        "# Train\n",
        "# !python3 sem_seg.py \\\n",
        "#     --train \\\n",
        "#     --model_name PIDNet_S \\\n",
        "#     --version 5 \\\n",
        "#     --source_domain Urban \\\n",
        "#     --horizontal_flip_augmentation \\\n",
        "#     --shift_scale_rotate_augmentation \\\n",
        "#     --grid_distortion_augmentation \\\n",
        "#     --batch_size 6 \\\n",
        "#     --criterion OhemCrossEntropyLoss \\\n",
        "#     --optimizer SGD \\\n",
        "#     --scheduler PolynomialLR \\\n",
        "#     --lr 0.001 \\\n",
        "#     --epochs 20 \\\n",
        "#     --store drive"
      ],
      "metadata": {
        "id": "jDj7Viy0RC_A"
      },
      "id": "jDj7Viy0RC_A",
      "execution_count": null,
      "outputs": []
    },
    {
      "cell_type": "code",
      "source": [
        "# Test\n",
        "# !python3 sem_seg.py \\\n",
        "#     --test \\\n",
        "#     --model_name PIDNet_S \\\n",
        "#     --version 5 \\\n",
        "#     --model_file last_0.pt \\\n",
        "#     --target_domain Urban \\\n",
        "#     --store drive\n",
        "\n",
        "# !python3 sem_seg.py \\\n",
        "#     --test \\\n",
        "#     --model_name PIDNet_S \\\n",
        "#     --version 5 \\\n",
        "#     --model_file best_0.pt \\\n",
        "#     --target_domain Urban \\\n",
        "#     --store drive\n",
        "\n",
        "# !python3 sem_seg.py \\\n",
        "#     --test \\\n",
        "#     --model_name PIDNet_S \\\n",
        "#     --version 5 \\\n",
        "#     --model_file last_0.pt \\\n",
        "#     --target_domain Rural \\\n",
        "#     --store drive\n",
        "\n",
        "# !python3 sem_seg.py \\\n",
        "#     --test \\\n",
        "#     --model_name PIDNet_S \\\n",
        "#     --version 5 \\\n",
        "#     --model_file best_0.pt \\\n",
        "#     --target_domain Rural \\\n",
        "#     --store drive"
      ],
      "metadata": {
        "id": "aXiEITm_RHFd"
      },
      "id": "aXiEITm_RHFd",
      "execution_count": null,
      "outputs": []
    },
    {
      "cell_type": "markdown",
      "source": [
        "### Version 6"
      ],
      "metadata": {
        "id": "VNvoI0647uJx"
      },
      "id": "VNvoI0647uJx"
    },
    {
      "cell_type": "code",
      "source": [
        "# Train\n",
        "# !python3 sem_seg.py \\\n",
        "#     --train \\\n",
        "#     --model_name PIDNet_S \\\n",
        "#     --version 6 \\\n",
        "#     --source_domain Urban \\\n",
        "#     --horizontal_flip_augmentation \\\n",
        "#     --shift_scale_rotate_augmentation \\\n",
        "#     --random_crop_augmentation \\\n",
        "#     --batch_size 6 \\\n",
        "#     --criterion OhemCrossEntropyLoss \\\n",
        "#     --optimizer SGD \\\n",
        "#     --scheduler PolynomialLR \\\n",
        "#     --lr 0.001 \\\n",
        "#     --epochs 20 \\\n",
        "#     --store drive"
      ],
      "metadata": {
        "id": "6pokdWxV7wDc"
      },
      "id": "6pokdWxV7wDc",
      "execution_count": null,
      "outputs": []
    },
    {
      "cell_type": "code",
      "source": [
        "# Test\n",
        "# !python3 sem_seg.py \\\n",
        "#     --test \\\n",
        "#     --model_name PIDNet_S \\\n",
        "#     --version 6 \\\n",
        "#     --model_file last_0.pt \\\n",
        "#     --target_domain Urban \\\n",
        "#     --store drive\n",
        "\n",
        "# !python3 sem_seg.py \\\n",
        "#     --test \\\n",
        "#     --model_name PIDNet_S \\\n",
        "#     --version 6 \\\n",
        "#     --model_file best_0.pt \\\n",
        "#     --target_domain Urban \\\n",
        "#     --store drive\n",
        "\n",
        "# !python3 sem_seg.py \\\n",
        "#     --test \\\n",
        "#     --model_name PIDNet_S \\\n",
        "#     --version 6 \\\n",
        "#     --model_file last_0.pt \\\n",
        "#     --target_domain Rural \\\n",
        "#     --store drive\n",
        "\n",
        "# !python3 sem_seg.py \\\n",
        "#     --test \\\n",
        "#     --model_name PIDNet_S \\\n",
        "#     --version 6 \\\n",
        "#     --model_file best_0.pt \\\n",
        "#     --target_domain Rural \\\n",
        "#     --store drive"
      ],
      "metadata": {
        "id": "iQXuVpB6RnVy"
      },
      "id": "iQXuVpB6RnVy",
      "execution_count": null,
      "outputs": []
    },
    {
      "cell_type": "markdown",
      "source": [
        "### Version 7"
      ],
      "metadata": {
        "id": "AKC-Ag3TKmD-"
      },
      "id": "AKC-Ag3TKmD-"
    },
    {
      "cell_type": "code",
      "source": [
        "# Train\n",
        "# !python3 sem_seg.py \\\n",
        "#     --train \\\n",
        "#     --model_name PIDNet_S \\\n",
        "#     --version 7 \\\n",
        "#     --source_domain Urban \\\n",
        "#     --horizontal_flip_augmentation \\\n",
        "#     --shift_scale_rotate_augmentation \\\n",
        "#     --coarse_dropout_augmentation \\\n",
        "#     --batch_size 6 \\\n",
        "#     --criterion OhemCrossEntropyLoss \\\n",
        "#     --optimizer SGD \\\n",
        "#     --scheduler PolynomialLR \\\n",
        "#     --lr 0.001 \\\n",
        "#     --epochs 20 \\\n",
        "#     --store drive"
      ],
      "metadata": {
        "id": "OdxivdnvKory"
      },
      "id": "OdxivdnvKory",
      "execution_count": null,
      "outputs": []
    },
    {
      "cell_type": "code",
      "source": [
        "# Test\n",
        "# !python3 sem_seg.py \\\n",
        "#     --test \\\n",
        "#     --model_name PIDNet_S \\\n",
        "#     --version 7 \\\n",
        "#     --model_file last_0.pt \\\n",
        "#     --target_domain Urban \\\n",
        "#     --store drive\n",
        "\n",
        "# !python3 sem_seg.py \\\n",
        "#     --test \\\n",
        "#     --model_name PIDNet_S \\\n",
        "#     --version 7 \\\n",
        "#     --model_file best_0.pt \\\n",
        "#     --target_domain Urban \\\n",
        "#     --store drive\n",
        "\n",
        "# !python3 sem_seg.py \\\n",
        "#     --test \\\n",
        "#     --model_name PIDNet_S \\\n",
        "#     --version 7 \\\n",
        "#     --model_file last_0.pt \\\n",
        "#     --target_domain Rural \\\n",
        "#     --store drive\n",
        "\n",
        "# !python3 sem_seg.py \\\n",
        "#     --test \\\n",
        "#     --model_name PIDNet_S \\\n",
        "#     --version 7 \\\n",
        "#     --model_file best_0.pt \\\n",
        "#     --target_domain Rural \\\n",
        "#     --store drive"
      ],
      "metadata": {
        "id": "Gee8T9VcKqOr"
      },
      "id": "Gee8T9VcKqOr",
      "execution_count": null,
      "outputs": []
    },
    {
      "cell_type": "markdown",
      "source": [
        "### Version 8"
      ],
      "metadata": {
        "id": "5z4Yf_e7LHBm"
      },
      "id": "5z4Yf_e7LHBm"
    },
    {
      "cell_type": "code",
      "source": [
        "# Train\n",
        "# !python3 sem_seg.py \\\n",
        "#     --train \\\n",
        "#     --model_name PIDNet_S \\\n",
        "#     --version 8 \\\n",
        "#     --source_domain Urban \\\n",
        "#     --horizontal_flip_augmentation \\\n",
        "#     --random_crop_augmentation \\\n",
        "#     --coarse_dropout_augmentation \\\n",
        "#     --batch_size 6 \\\n",
        "#     --criterion OhemCrossEntropyLoss \\\n",
        "#     --optimizer SGD \\\n",
        "#     --scheduler PolynomialLR \\\n",
        "#     --lr 0.001 \\\n",
        "#     --epochs 20 \\\n",
        "#     --store drive"
      ],
      "metadata": {
        "id": "_U266rfpLHVv"
      },
      "id": "_U266rfpLHVv",
      "execution_count": null,
      "outputs": []
    },
    {
      "cell_type": "code",
      "source": [
        "# Test\n",
        "# !python3 sem_seg.py \\\n",
        "#     --test \\\n",
        "#     --model_name PIDNet_S \\\n",
        "#     --version 8 \\\n",
        "#     --model_file last_0.pt \\\n",
        "#     --target_domain Urban \\\n",
        "#     --store drive\n",
        "\n",
        "# !python3 sem_seg.py \\\n",
        "#     --test \\\n",
        "#     --model_name PIDNet_S \\\n",
        "#     --version 8 \\\n",
        "#     --model_file best_0.pt \\\n",
        "#     --target_domain Urban \\\n",
        "#     --store drive\n",
        "\n",
        "# !python3 sem_seg.py \\\n",
        "#     --test \\\n",
        "#     --model_name PIDNet_S \\\n",
        "#     --version 8 \\\n",
        "#     --model_file last_0.pt \\\n",
        "#     --target_domain Rural \\\n",
        "#     --store drive\n",
        "\n",
        "# !python3 sem_seg.py \\\n",
        "#     --test \\\n",
        "#     --model_name PIDNet_S \\\n",
        "#     --version 8 \\\n",
        "#     --model_file best_0.pt \\\n",
        "#     --target_domain Rural \\\n",
        "#     --store drive"
      ],
      "metadata": {
        "id": "adeO5RhlLGxJ"
      },
      "id": "adeO5RhlLGxJ",
      "execution_count": null,
      "outputs": []
    },
    {
      "cell_type": "markdown",
      "source": [
        "### Version 9"
      ],
      "metadata": {
        "id": "1herMXx32Xsy"
      },
      "id": "1herMXx32Xsy"
    },
    {
      "cell_type": "code",
      "source": [
        "# Train\n",
        "# !python3 sem_seg.py \\\n",
        "#     --train \\\n",
        "#     --model_name PIDNet_S \\\n",
        "#     --version 9 \\\n",
        "#     --source_domain Urban \\\n",
        "#     --horizontal_flip_augmentation \\\n",
        "#     --shift_scale_rotate_augmentation \\\n",
        "#     --random_crop_augmentation \\\n",
        "#     --color_jitter_augmentation \\\n",
        "#     --batch_size 6 \\\n",
        "#     --criterion OhemCrossEntropyLoss \\\n",
        "#     --optimizer SGD \\\n",
        "#     --scheduler PolynomialLR \\\n",
        "#     --lr 0.001 \\\n",
        "#     --epochs 20 \\\n",
        "#     --store drive"
      ],
      "metadata": {
        "id": "3Ver_pbF2YGD"
      },
      "id": "3Ver_pbF2YGD",
      "execution_count": null,
      "outputs": []
    },
    {
      "cell_type": "code",
      "source": [
        "# Test\n",
        "# !python3 sem_seg.py \\\n",
        "#     --test \\\n",
        "#     --model_name PIDNet_S \\\n",
        "#     --version 9 \\\n",
        "#     --model_file last_0.pt \\\n",
        "#     --target_domain Urban \\\n",
        "#     --store drive\n",
        "\n",
        "# !python3 sem_seg.py \\\n",
        "#     --test \\\n",
        "#     --model_name PIDNet_S \\\n",
        "#     --version 9 \\\n",
        "#     --model_file best_0.pt \\\n",
        "#     --target_domain Urban \\\n",
        "#     --store drive\n",
        "\n",
        "# !python3 sem_seg.py \\\n",
        "#     --test \\\n",
        "#     --model_name PIDNet_S \\\n",
        "#     --version 9 \\\n",
        "#     --model_file last_0.pt \\\n",
        "#     --target_domain Rural \\\n",
        "#     --store drive\n",
        "\n",
        "# !python3 sem_seg.py \\\n",
        "#     --test \\\n",
        "#     --model_name PIDNet_S \\\n",
        "#     --version 9 \\\n",
        "#     --model_file best_0.pt \\\n",
        "#     --target_domain Rural \\\n",
        "#     --store drive"
      ],
      "metadata": {
        "id": "eKK8UGDU2YWv"
      },
      "id": "eKK8UGDU2YWv",
      "execution_count": null,
      "outputs": []
    },
    {
      "cell_type": "markdown",
      "source": [
        "### Version 10"
      ],
      "metadata": {
        "id": "ovbkQSWE2Yv-"
      },
      "id": "ovbkQSWE2Yv-"
    },
    {
      "cell_type": "code",
      "source": [
        "# Train\n",
        "# !python3 sem_seg.py \\\n",
        "#     --train \\\n",
        "#     --model_name PIDNet_S \\\n",
        "#     --version 10 \\\n",
        "#     --source_domain Urban \\\n",
        "#     --horizontal_flip_augmentation \\\n",
        "#     --shift_scale_rotate_augmentation \\\n",
        "#     --random_crop_augmentation \\\n",
        "#     --gaussian_blur_augmentation \\\n",
        "#     --batch_size 6 \\\n",
        "#     --criterion OhemCrossEntropyLoss \\\n",
        "#     --optimizer SGD \\\n",
        "#     --scheduler PolynomialLR \\\n",
        "#     --lr 0.001 \\\n",
        "#     --epochs 20 \\\n",
        "#     --store drive"
      ],
      "metadata": {
        "id": "qAQDqgIK2ZDe"
      },
      "id": "qAQDqgIK2ZDe",
      "execution_count": null,
      "outputs": []
    },
    {
      "cell_type": "code",
      "source": [
        "# Test\n",
        "# !python3 sem_seg.py \\\n",
        "#     --test \\\n",
        "#     --model_name PIDNet_S \\\n",
        "#     --version 10 \\\n",
        "#     --model_file last_0.pt \\\n",
        "#     --target_domain Urban \\\n",
        "#     --store drive\n",
        "\n",
        "# !python3 sem_seg.py \\\n",
        "#     --test \\\n",
        "#     --model_name PIDNet_S \\\n",
        "#     --version 10 \\\n",
        "#     --model_file best_0.pt \\\n",
        "#     --target_domain Urban \\\n",
        "#     --store drive\n",
        "\n",
        "# !python3 sem_seg.py \\\n",
        "#     --test \\\n",
        "#     --model_name PIDNet_S \\\n",
        "#     --version 10 \\\n",
        "#     --model_file last_0.pt \\\n",
        "#     --target_domain Rural \\\n",
        "#     --store drive\n",
        "\n",
        "# !python3 sem_seg.py \\\n",
        "#     --test \\\n",
        "#     --model_name PIDNet_S \\\n",
        "#     --version 10 \\\n",
        "#     --model_file best_0.pt \\\n",
        "#     --target_domain Rural \\\n",
        "#     --store drive"
      ],
      "metadata": {
        "id": "znpavyL52ZQ1"
      },
      "id": "znpavyL52ZQ1",
      "execution_count": null,
      "outputs": []
    },
    {
      "cell_type": "markdown",
      "source": [
        "## PIDNet Adversarial"
      ],
      "metadata": {
        "id": "biNElpGjeVHv"
      },
      "id": "biNElpGjeVHv"
    },
    {
      "cell_type": "markdown",
      "source": [
        "### Version 0"
      ],
      "metadata": {
        "id": "irYLA7-0eZOX"
      },
      "id": "irYLA7-0eZOX"
    },
    {
      "cell_type": "code",
      "source": [
        "# Train\n",
        "# !python3 sem_seg_da_adv.py \\\n",
        "#     --train \\\n",
        "#     --mode single_level \\\n",
        "#     --model_name PIDNet_S \\\n",
        "#     --version 0 \\\n",
        "#     --batch_size 6 \\\n",
        "#     --lr 0.001 \\\n",
        "#     --lr_D 0.0005 \\\n",
        "#     --epochs 20 \\\n",
        "#     --store drive"
      ],
      "metadata": {
        "id": "b-LGktp3eYuE"
      },
      "id": "b-LGktp3eYuE",
      "execution_count": null,
      "outputs": []
    },
    {
      "cell_type": "code",
      "source": [
        "# Test\n",
        "# !python3 sem_seg_da_adv.py \\\n",
        "#     --test \\\n",
        "#     --model_name PIDNet_S \\\n",
        "#     --version 0 \\\n",
        "#     --model_file last_0.pt \\\n",
        "#     --target_domain Urban \\\n",
        "#     --store drive\n",
        "\n",
        "# !python3 sem_seg_da_adv.py \\\n",
        "#     --test \\\n",
        "#     --model_name PIDNet_S \\\n",
        "#     --version 0 \\\n",
        "#     --model_file best_0.pt \\\n",
        "#     --target_domain Urban \\\n",
        "#     --store drive\n",
        "\n",
        "# !python3 sem_seg_da_adv.py \\\n",
        "#     --test \\\n",
        "#     --model_name PIDNet_S \\\n",
        "#     --version 0 \\\n",
        "#     --model_file last_0.pt \\\n",
        "#     --target_domain Rural \\\n",
        "#     --store drive\n",
        "\n",
        "# !python3 sem_seg_da_adv.py \\\n",
        "#     --test \\\n",
        "#     --model_name PIDNet_S \\\n",
        "#     --version 0 \\\n",
        "#     --model_file best_0.pt \\\n",
        "#     --target_domain Rural \\\n",
        "#     --store drive"
      ],
      "metadata": {
        "id": "54g9BqqmeYjc"
      },
      "id": "54g9BqqmeYjc",
      "execution_count": null,
      "outputs": []
    },
    {
      "cell_type": "markdown",
      "source": [
        "### Version 1"
      ],
      "metadata": {
        "id": "adFb_pQpkTk4"
      },
      "id": "adFb_pQpkTk4"
    },
    {
      "cell_type": "code",
      "source": [
        "# Train\n",
        "# !python3 sem_seg_da_adv.py \\\n",
        "#     --train \\\n",
        "#     --mode single_level \\\n",
        "#     --model_name PIDNet_S \\\n",
        "#     --version 1 \\\n",
        "#     --horizontal_flip_augmentation \\\n",
        "#     --shift_scale_rotate_augmentation \\\n",
        "#     --random_crop_augmentation \\\n",
        "#     --batch_size 6 \\\n",
        "#     --lr 0.001 \\\n",
        "#     --lr_D 0.0005 \\\n",
        "#     --epochs 20 \\\n",
        "#     --store drive"
      ],
      "metadata": {
        "id": "efh2O5SrkV1p"
      },
      "id": "efh2O5SrkV1p",
      "execution_count": null,
      "outputs": []
    },
    {
      "cell_type": "code",
      "source": [
        "# Test\n",
        "# !python3 sem_seg_da_adv.py \\\n",
        "#     --test \\\n",
        "#     --model_name PIDNet_S \\\n",
        "#     --version 1 \\\n",
        "#     --model_file last_0.pt \\\n",
        "#     --target_domain Urban \\\n",
        "#     --store drive\n",
        "\n",
        "# !python3 sem_seg_da_adv.py \\\n",
        "#     --test \\\n",
        "#     --model_name PIDNet_S \\\n",
        "#     --version 1 \\\n",
        "#     --model_file best_0.pt \\\n",
        "#     --target_domain Urban \\\n",
        "#     --store drive\n",
        "\n",
        "# !python3 sem_seg_da_adv.py \\\n",
        "#     --test \\\n",
        "#     --model_name PIDNet_S \\\n",
        "#     --version 1 \\\n",
        "#     --model_file last_0.pt \\\n",
        "#     --target_domain Rural \\\n",
        "#     --store drive\n",
        "\n",
        "# !python3 sem_seg_da_adv.py \\\n",
        "#     --test \\\n",
        "#     --model_name PIDNet_S \\\n",
        "#     --version 1 \\\n",
        "#     --model_file best_0.pt \\\n",
        "#     --target_domain Rural \\\n",
        "#     --store drive"
      ],
      "metadata": {
        "id": "fSqZ_-Wplkjb"
      },
      "id": "fSqZ_-Wplkjb",
      "execution_count": null,
      "outputs": []
    },
    {
      "cell_type": "markdown",
      "source": [
        "### Version 2"
      ],
      "metadata": {
        "id": "YZb8hqpwkG_x"
      },
      "id": "YZb8hqpwkG_x"
    },
    {
      "cell_type": "code",
      "source": [
        "# Train\n",
        "# !python3 sem_seg_da_adv.py \\\n",
        "#     --train \\\n",
        "#     --mode multi_level \\\n",
        "#     --model_name PIDNet_S \\\n",
        "#     --version 2 \\\n",
        "#     --batch_size 6 \\\n",
        "#     --lr 0.001 \\\n",
        "#     --lr_D 0.0005 \\\n",
        "#     --epochs 20 \\\n",
        "#     --store drive"
      ],
      "metadata": {
        "id": "TcPXbZlokPmx"
      },
      "id": "TcPXbZlokPmx",
      "execution_count": null,
      "outputs": []
    },
    {
      "cell_type": "code",
      "source": [
        "# Test\n",
        "# !python3 sem_seg_da_adv.py \\\n",
        "#     --test \\\n",
        "#     --model_name PIDNet_S \\\n",
        "#     --version 2 \\\n",
        "#     --model_file last_0.pt \\\n",
        "#     --target_domain Urban \\\n",
        "#     --store drive\n",
        "\n",
        "# !python3 sem_seg_da_adv.py \\\n",
        "#     --test \\\n",
        "#     --model_name PIDNet_S \\\n",
        "#     --version 2 \\\n",
        "#     --model_file best_0.pt \\\n",
        "#     --target_domain Urban \\\n",
        "#     --store drive\n",
        "\n",
        "# !python3 sem_seg_da_adv.py \\\n",
        "#     --test \\\n",
        "#     --model_name PIDNet_S \\\n",
        "#     --version 2 \\\n",
        "#     --model_file last_0.pt \\\n",
        "#     --target_domain Rural \\\n",
        "#     --store drive\n",
        "\n",
        "# !python3 sem_seg_da_adv.py \\\n",
        "#     --test \\\n",
        "#     --model_name PIDNet_S \\\n",
        "#     --version 2 \\\n",
        "#     --model_file best_0.pt \\\n",
        "#     --target_domain Rural \\\n",
        "#     --store drive"
      ],
      "metadata": {
        "id": "jPxRgU0Pllon"
      },
      "id": "jPxRgU0Pllon",
      "execution_count": null,
      "outputs": []
    },
    {
      "cell_type": "markdown",
      "source": [
        "### Version 3"
      ],
      "metadata": {
        "id": "zYzocCgYkYXS"
      },
      "id": "zYzocCgYkYXS"
    },
    {
      "cell_type": "code",
      "source": [
        "# Train\n",
        "# !python3 sem_seg_da_adv.py \\\n",
        "#     --train \\\n",
        "#     --mode multi_level \\\n",
        "#     --model_name PIDNet_S \\\n",
        "#     --version 3 \\\n",
        "#     --horizontal_flip_augmentation \\\n",
        "#     --shift_scale_rotate_augmentation \\\n",
        "#     --random_crop_augmentation \\\n",
        "#     --batch_size 6 \\\n",
        "#     --lr 0.001 \\\n",
        "#     --lr_D 0.0005 \\\n",
        "#     --epochs 20 \\\n",
        "#     --store drive"
      ],
      "metadata": {
        "id": "Pc54O_ZzkbKp"
      },
      "id": "Pc54O_ZzkbKp",
      "execution_count": null,
      "outputs": []
    },
    {
      "cell_type": "code",
      "source": [
        "# Test\n",
        "# !python3 sem_seg_da_adv.py \\\n",
        "#     --test \\\n",
        "#     --model_name PIDNet_S \\\n",
        "#     --version 3 \\\n",
        "#     --model_file last_0.pt \\\n",
        "#     --target_domain Urban \\\n",
        "#     --store drive\n",
        "\n",
        "# !python3 sem_seg_da_adv.py \\\n",
        "#     --test \\\n",
        "#     --model_name PIDNet_S \\\n",
        "#     --version 3 \\\n",
        "#     --model_file best_0.pt \\\n",
        "#     --target_domain Urban \\\n",
        "#     --store drive\n",
        "\n",
        "# !python3 sem_seg_da_adv.py \\\n",
        "#     --test \\\n",
        "#     --model_name PIDNet_S \\\n",
        "#     --version 3 \\\n",
        "#     --model_file last_0.pt \\\n",
        "#     --target_domain Rural \\\n",
        "#     --store drive\n",
        "\n",
        "# !python3 sem_seg_da_adv.py \\\n",
        "#     --test \\\n",
        "#     --model_name PIDNet_S \\\n",
        "#     --version 3 \\\n",
        "#     --model_file best_0.pt \\\n",
        "#     --target_domain Rural \\\n",
        "#     --store drive"
      ],
      "metadata": {
        "id": "1vbBX9BYlnBE"
      },
      "id": "1vbBX9BYlnBE",
      "execution_count": null,
      "outputs": []
    },
    {
      "cell_type": "markdown",
      "source": [
        "## PIDNet DACS"
      ],
      "metadata": {
        "id": "cZyo34KeoLxQ"
      },
      "id": "cZyo34KeoLxQ"
    },
    {
      "cell_type": "markdown",
      "source": [
        "### Version 0"
      ],
      "metadata": {
        "id": "VzOOjl14paoW"
      },
      "id": "VzOOjl14paoW"
    },
    {
      "cell_type": "code",
      "source": [
        "# Train\n",
        "# !python3 sem_seg_dacs.py \\\n",
        "#     --train \\\n",
        "#     --resume \\\n",
        "#     --resume_epoch 4 \\\n",
        "#     --model_name PIDNet_S \\\n",
        "#     --version 0 \\\n",
        "#     --batch_size 6 \\\n",
        "#     --lr 0.001 \\\n",
        "#     --epochs 20 \\\n",
        "#     --store drive"
      ],
      "metadata": {
        "id": "EnednNDQoMKM"
      },
      "id": "EnednNDQoMKM",
      "execution_count": null,
      "outputs": []
    },
    {
      "cell_type": "code",
      "source": [
        "# Test\n",
        "# !python3 sem_seg_dacs.py \\\n",
        "#     --test \\\n",
        "#     --model_name PIDNet_S \\\n",
        "#     --version 0 \\\n",
        "#     --model_file last_0.pt \\\n",
        "#     --target_domain Urban \\\n",
        "#     --store drive\n",
        "\n",
        "# !python3 sem_seg_dacs.py \\\n",
        "#     --test \\\n",
        "#     --model_name PIDNet_S \\\n",
        "#     --version 0 \\\n",
        "#     --model_file best_0.pt \\\n",
        "#     --target_domain Urban \\\n",
        "#     --store drive\n",
        "\n",
        "# !python3 sem_seg_dacs.py \\\n",
        "#     --test \\\n",
        "#     --model_name PIDNet_S \\\n",
        "#     --version 0 \\\n",
        "#     --model_file last_0.pt \\\n",
        "#     --target_domain Rural \\\n",
        "#     --store drive\n",
        "\n",
        "# !python3 sem_seg_dacs.py \\\n",
        "#     --test \\\n",
        "#     --model_name PIDNet_S \\\n",
        "#     --version 0 \\\n",
        "#     --model_file best_0.pt \\\n",
        "#     --target_domain Rural \\\n",
        "#     --store drive"
      ],
      "metadata": {
        "id": "CeBe55ZNoLMS"
      },
      "id": "CeBe55ZNoLMS",
      "execution_count": null,
      "outputs": []
    },
    {
      "cell_type": "markdown",
      "source": [
        "### Version 1"
      ],
      "metadata": {
        "id": "oOx2LDbKAtwj"
      },
      "id": "oOx2LDbKAtwj"
    },
    {
      "cell_type": "code",
      "source": [
        "# Train\n",
        "# !python3 sem_seg_dacs.py \\\n",
        "#     --train \\\n",
        "#     --model_name PIDNet_S \\\n",
        "#     --version 1 \\\n",
        "#     --batch_size 6 \\\n",
        "#     --random_crop_augmentation \\\n",
        "#     --lr 0.001 \\\n",
        "#     --epochs 20 \\\n",
        "#     --store drive"
      ],
      "metadata": {
        "id": "hbooirsXAvsq"
      },
      "id": "hbooirsXAvsq",
      "execution_count": null,
      "outputs": []
    },
    {
      "cell_type": "code",
      "source": [
        "# Test\n",
        "# !python3 sem_seg_dacs.py \\\n",
        "#     --test \\\n",
        "#     --model_name PIDNet_S \\\n",
        "#     --version 1 \\\n",
        "#     --model_file last_0.pt \\\n",
        "#     --target_domain Urban \\\n",
        "#     --store drive\n",
        "\n",
        "# !python3 sem_seg_dacs.py \\\n",
        "#     --test \\\n",
        "#     --model_name PIDNet_S \\\n",
        "#     --version 1 \\\n",
        "#     --model_file best_0.pt \\\n",
        "#     --target_domain Urban \\\n",
        "#     --store drive\n",
        "\n",
        "# !python3 sem_seg_dacs.py \\\n",
        "#     --test \\\n",
        "#     --model_name PIDNet_S \\\n",
        "#     --version 1 \\\n",
        "#     --model_file last_0.pt \\\n",
        "#     --target_domain Rural \\\n",
        "#     --store drive\n",
        "\n",
        "# !python3 sem_seg_dacs.py \\\n",
        "#     --test \\\n",
        "#     --model_name PIDNet_S \\\n",
        "#     --version 1 \\\n",
        "#     --model_file best_0.pt \\\n",
        "#     --target_domain Rural \\\n",
        "#     --store drive"
      ],
      "metadata": {
        "id": "0SWJ1Y-YAvar"
      },
      "id": "0SWJ1Y-YAvar",
      "execution_count": null,
      "outputs": []
    },
    {
      "cell_type": "markdown",
      "source": [
        "### Version 2"
      ],
      "metadata": {
        "id": "yJAoqZbzpcdR"
      },
      "id": "yJAoqZbzpcdR"
    },
    {
      "cell_type": "code",
      "source": [
        "# Train\n",
        "# !python3 sem_seg_dacs.py \\\n",
        "#     --train \\\n",
        "#     --model_name PIDNet_S \\\n",
        "#     --version 2 \\\n",
        "#     --batch_size 6 \\\n",
        "#     --random_crop_augmentation \\\n",
        "#     --color_jitter_augmentation \\\n",
        "#     --gaussian_blur_augmentation \\\n",
        "#     --lr 0.001 \\\n",
        "#     --epochs 20 \\\n",
        "#     --store drive"
      ],
      "metadata": {
        "id": "D7WdvhK_peDX"
      },
      "id": "D7WdvhK_peDX",
      "execution_count": null,
      "outputs": []
    },
    {
      "cell_type": "code",
      "source": [
        "# Test\n",
        "# !python3 sem_seg_dacs.py \\\n",
        "#     --test \\\n",
        "#     --model_name PIDNet_S \\\n",
        "#     --version 2 \\\n",
        "#     --model_file last_0.pt \\\n",
        "#     --target_domain Urban \\\n",
        "#     --store drive\n",
        "\n",
        "# !python3 sem_seg_dacs.py \\\n",
        "#     --test \\\n",
        "#     --model_name PIDNet_S \\\n",
        "#     --version 2 \\\n",
        "#     --model_file best_0.pt \\\n",
        "#     --target_domain Urban \\\n",
        "#     --store drive\n",
        "\n",
        "# !python3 sem_seg_dacs.py \\\n",
        "#     --test \\\n",
        "#     --model_name PIDNet_S \\\n",
        "#     --version 2 \\\n",
        "#     --model_file last_0.pt \\\n",
        "#     --target_domain Rural \\\n",
        "#     --store drive\n",
        "\n",
        "# !python3 sem_seg_dacs.py \\\n",
        "#     --test \\\n",
        "#     --model_name PIDNet_S \\\n",
        "#     --version 2 \\\n",
        "#     --model_file best_0.pt \\\n",
        "#     --target_domain Rural \\\n",
        "#     --store drive"
      ],
      "metadata": {
        "id": "uWl5DSfUpjpD"
      },
      "id": "uWl5DSfUpjpD",
      "execution_count": null,
      "outputs": []
    },
    {
      "cell_type": "markdown",
      "source": [
        "### Version 3"
      ],
      "metadata": {
        "id": "08psIDuOw7Ns"
      },
      "id": "08psIDuOw7Ns"
    },
    {
      "cell_type": "code",
      "source": [
        "# Train\n",
        "!python3 sem_seg_dacs.py \\\n",
        "    --train \\\n",
        "    --model_name PIDNet_S \\\n",
        "    --version 3 \\\n",
        "    --batch_size 6 \\\n",
        "    --random_crop_augmentation \\\n",
        "    --horizontal_flip_augmentation \\\n",
        "    --shift_scale_rotate_augmentation \\\n",
        "    --lr 0.001 \\\n",
        "    --epochs 20 \\\n",
        "    --store drive"
      ],
      "metadata": {
        "colab": {
          "base_uri": "https://localhost:8080/"
        },
        "id": "YVqoA7JldBwI",
        "outputId": "bac2addc-ab2b-4cfe-972c-4f0b3b57f968"
      },
      "id": "YVqoA7JldBwI",
      "execution_count": null,
      "outputs": [
        {
          "output_type": "stream",
          "name": "stdout",
          "text": [
            "/usr/local/lib/python3.11/dist-packages/albumentations/__init__.py:24: UserWarning: A new version of Albumentations is available: 2.0.0 (you have 1.4.20). Upgrade using: pip install -U albumentations. To disable automatic update checks, set the environment variable NO_ALBUMENTATIONS_UPDATE to 1.\n",
            "  check_for_updates()\n",
            "CUDA available\n",
            "Number of devices: 1\n",
            "Device 0:\n",
            "\tName: Tesla T4\n",
            "Device: cuda\n",
            "/content/sem_seg_dacs.py:429: UserWarning: Argument 'fill' is not valid and will be ignored.\n",
            "  transform_list.append(ShiftScaleRotate(shift_limit=0.1, scale_limit=0.25, rotate_limit=15, fill=(0, 0, 0), fill_mask=255, p=0.5))\n",
            "/content/sem_seg_dacs.py:429: UserWarning: Argument 'fill_mask' is not valid and will be ignored.\n",
            "  transform_list.append(ShiftScaleRotate(shift_limit=0.1, scale_limit=0.25, rotate_limit=15, fill=(0, 0, 0), fill_mask=255, p=0.5))\n",
            "/content/models/pidnet/pidnet.py:188: FutureWarning: You are using `torch.load` with `weights_only=False` (the current default value), which uses the default pickle module implicitly. It is possible to construct malicious pickle data which will execute arbitrary code during unpickling (See https://github.com/pytorch/pytorch/blob/main/SECURITY.md#untrusted-models for more details). In a future release, the default value for `weights_only` will be flipped to `True`. This limits the functions that could be executed during unpickling. Arbitrary objects will no longer be allowed to be loaded via this mode unless they are explicitly allowlisted by the user via `torch.serialization.add_safe_globals`. We recommend you start setting `weights_only=True` for any use case where you don't have full control of the loaded file. Please open an issue on GitHub for any issues related to this experimental feature.\n",
            "  pretrained_state = torch.load(pretrain_model_path, map_location='cpu')['state_dict']\n",
            "Loaded 302 parameters.\n",
            "Model: PIDNet_S DACS\n",
            "Device: cuda\n",
            "Cuda device name: Tesla T4\n",
            "Dataset source domain: Urban\n",
            "Dataset target domain: Rural\n",
            "Data augmentation: True\n",
            "- HorizontalFlip(p=0.5)\n",
            "- ShiftScaleRotate(shift_limit=0.1, scale_limit=0.25, rotate_limit=15, fill=(0, 0, 0), fill_mask=255, p=0.5)\n",
            "- RandomCrop(width=512, height=512, p=1.0)\n",
            "Batch size: 6\n",
            "\n",
            "Criterion: CrossEntropyLoss\n",
            "\n",
            "Optimizer:\n",
            "SGD (\n",
            "    lr: 0.001\n",
            "    momentum: 0.9\n",
            "    weight_decay: 0.0005\n",
            ")\n",
            "\n",
            "Scheduler:\n",
            "PolynomialLR (\n",
            "    lr: 0.001\n",
            "    power: 0.9\n",
            ")\n",
            "\n",
            "Epoch 1/20:\n",
            "Progress: |----------|   1% \tTime: 00:00:07 s \tLearning rate: 0.00100 \tTrain loss: 18.5904 \tTrain loss labeled: 9.8846 \tTrain loss unlabeled: 8.7058 \tTrain miou: 0.0799 \n",
            "Progress: |----------|   1% \tTime: 00:00:08 s \tLearning rate: 0.00100 \tTrain loss: 19.1646 \tTrain loss labeled: 10.0717 \tTrain loss unlabeled: 9.0930 \tTrain miou: 0.0667 \n",
            "Progress: |----------|   2% \tTime: 00:00:09 s \tLearning rate: 0.00100 \tTrain loss: 18.5980 \tTrain loss labeled: 10.1249 \tTrain loss unlabeled: 8.4731 \tTrain miou: 0.0589 \n",
            "Progress: |----------|   2% \tTime: 00:00:11 s \tLearning rate: 0.00100 \tTrain loss: 17.7879 \tTrain loss labeled: 9.9044 \tTrain loss unlabeled: 7.8835 \tTrain miou: 0.0601 \n",
            "Progress: |----------|   3% \tTime: 00:00:12 s \tLearning rate: 0.00100 \tTrain loss: 17.1605 \tTrain loss labeled: 9.6311 \tTrain loss unlabeled: 7.5294 \tTrain miou: 0.0634 \n",
            "Progress: |----------|   3% \tTime: 00:00:13 s \tLearning rate: 0.00100 \tTrain loss: 17.0529 \tTrain loss labeled: 9.6232 \tTrain loss unlabeled: 7.4297 \tTrain miou: 0.0655 \n",
            "Progress: |----------|   4% \tTime: 00:00:14 s \tLearning rate: 0.00100 \tTrain loss: 16.5833 \tTrain loss labeled: 9.5212 \tTrain loss unlabeled: 7.0621 \tTrain miou: 0.0658 \n",
            "Progress: |----------|   4% \tTime: 00:00:15 s \tLearning rate: 0.00100 \tTrain loss: 15.9238 \tTrain loss labeled: 9.1069 \tTrain loss unlabeled: 6.8169 \tTrain miou: 0.0706 \n",
            "Progress: |----------|   5% \tTime: 00:00:16 s \tLearning rate: 0.00100 \tTrain loss: 15.7654 \tTrain loss labeled: 9.0055 \tTrain loss unlabeled: 6.7599 \tTrain miou: 0.0751 \n",
            "Progress: |----------|   5% \tTime: 00:00:17 s \tLearning rate: 0.00100 \tTrain loss: 15.6231 \tTrain loss labeled: 8.9260 \tTrain loss unlabeled: 6.6971 \tTrain miou: 0.0771 \n",
            "Progress: |----------|   6% \tTime: 00:00:18 s \tLearning rate: 0.00100 \tTrain loss: 15.2494 \tTrain loss labeled: 8.7277 \tTrain loss unlabeled: 6.5217 \tTrain miou: 0.0804 \n",
            "Progress: |----------|   6% \tTime: 00:00:19 s \tLearning rate: 0.00100 \tTrain loss: 15.1987 \tTrain loss labeled: 8.6820 \tTrain loss unlabeled: 6.5168 \tTrain miou: 0.0812 \n",
            "Progress: |----------|   7% \tTime: 00:00:19 s \tLearning rate: 0.00100 \tTrain loss: 14.9186 \tTrain loss labeled: 8.5253 \tTrain loss unlabeled: 6.3933 \tTrain miou: 0.0843 \n",
            "Progress: |----------|   7% \tTime: 00:00:20 s \tLearning rate: 0.00100 \tTrain loss: 14.7731 \tTrain loss labeled: 8.5259 \tTrain loss unlabeled: 6.2473 \tTrain miou: 0.0841 \n",
            "Progress: |----------|   8% \tTime: 00:00:21 s \tLearning rate: 0.00100 \tTrain loss: 14.5575 \tTrain loss labeled: 8.3911 \tTrain loss unlabeled: 6.1664 \tTrain miou: 0.0860 \n",
            "Progress: |----------|   8% \tTime: 00:00:22 s \tLearning rate: 0.00100 \tTrain loss: 14.4183 \tTrain loss labeled: 8.3731 \tTrain loss unlabeled: 6.0452 \tTrain miou: 0.0871 \n",
            "Progress: |----------|   9% \tTime: 00:00:23 s \tLearning rate: 0.00100 \tTrain loss: 14.0671 \tTrain loss labeled: 8.1538 \tTrain loss unlabeled: 5.9132 \tTrain miou: 0.0960 \n",
            "Progress: |----------|   9% \tTime: 00:00:25 s \tLearning rate: 0.00100 \tTrain loss: 13.7929 \tTrain loss labeled: 7.9610 \tTrain loss unlabeled: 5.8319 \tTrain miou: 0.0980 \n",
            "Progress: |----------|  10% \tTime: 00:00:26 s \tLearning rate: 0.00100 \tTrain loss: 13.6769 \tTrain loss labeled: 7.9108 \tTrain loss unlabeled: 5.7661 \tTrain miou: 0.0981 \n",
            "Progress: |█---------|  10% \tTime: 00:00:27 s \tLearning rate: 0.00100 \tTrain loss: 13.4113 \tTrain loss labeled: 7.7507 \tTrain loss unlabeled: 5.6607 \tTrain miou: 0.0980 \n",
            "Progress: |█---------|  11% \tTime: 00:00:29 s \tLearning rate: 0.00100 \tTrain loss: 13.3129 \tTrain loss labeled: 7.7217 \tTrain loss unlabeled: 5.5912 \tTrain miou: 0.0983 \n",
            "Progress: |█---------|  11% \tTime: 00:00:29 s \tLearning rate: 0.00100 \tTrain loss: 13.1670 \tTrain loss labeled: 7.6560 \tTrain loss unlabeled: 5.5110 \tTrain miou: 0.0989 \n",
            "Progress: |█---------|  12% \tTime: 00:00:30 s \tLearning rate: 0.00100 \tTrain loss: 13.0480 \tTrain loss labeled: 7.5625 \tTrain loss unlabeled: 5.4855 \tTrain miou: 0.0995 \n",
            "Progress: |█---------|  12% \tTime: 00:00:31 s \tLearning rate: 0.00100 \tTrain loss: 12.9369 \tTrain loss labeled: 7.4734 \tTrain loss unlabeled: 5.4635 \tTrain miou: 0.1033 \n",
            "Progress: |█---------|  13% \tTime: 00:00:32 s \tLearning rate: 0.00100 \tTrain loss: 12.7386 \tTrain loss labeled: 7.3452 \tTrain loss unlabeled: 5.3935 \tTrain miou: 0.1026 \n",
            "Progress: |█---------|  14% \tTime: 00:00:33 s \tLearning rate: 0.00100 \tTrain loss: 12.6274 \tTrain loss labeled: 7.2783 \tTrain loss unlabeled: 5.3490 \tTrain miou: 0.1032 \n",
            "Progress: |█---------|  14% \tTime: 00:00:33 s \tLearning rate: 0.00100 \tTrain loss: 12.4270 \tTrain loss labeled: 7.1536 \tTrain loss unlabeled: 5.2735 \tTrain miou: 0.1038 \n",
            "Progress: |█---------|  15% \tTime: 00:00:34 s \tLearning rate: 0.00100 \tTrain loss: 12.3134 \tTrain loss labeled: 7.0994 \tTrain loss unlabeled: 5.2139 \tTrain miou: 0.1041 \n",
            "Progress: |█---------|  15% \tTime: 00:00:35 s \tLearning rate: 0.00100 \tTrain loss: 12.1388 \tTrain loss labeled: 6.9974 \tTrain loss unlabeled: 5.1414 \tTrain miou: 0.1041 \n",
            "Progress: |█---------|  16% \tTime: 00:00:36 s \tLearning rate: 0.00100 \tTrain loss: 12.0224 \tTrain loss labeled: 6.9272 \tTrain loss unlabeled: 5.0952 \tTrain miou: 0.1043 \n",
            "Progress: |█---------|  16% \tTime: 00:00:37 s \tLearning rate: 0.00100 \tTrain loss: 11.9363 \tTrain loss labeled: 6.8791 \tTrain loss unlabeled: 5.0572 \tTrain miou: 0.1067 \n",
            "Progress: |█---------|  17% \tTime: 00:00:38 s \tLearning rate: 0.00100 \tTrain loss: 11.8496 \tTrain loss labeled: 6.8451 \tTrain loss unlabeled: 5.0045 \tTrain miou: 0.1065 \n",
            "Progress: |█---------|  17% \tTime: 00:00:39 s \tLearning rate: 0.00100 \tTrain loss: 11.8098 \tTrain loss labeled: 6.8247 \tTrain loss unlabeled: 4.9851 \tTrain miou: 0.1070 \n",
            "Progress: |█---------|  18% \tTime: 00:00:40 s \tLearning rate: 0.00100 \tTrain loss: 11.7567 \tTrain loss labeled: 6.7969 \tTrain loss unlabeled: 4.9598 \tTrain miou: 0.1069 \n",
            "Progress: |█---------|  18% \tTime: 00:00:41 s \tLearning rate: 0.00100 \tTrain loss: 11.6675 \tTrain loss labeled: 6.7386 \tTrain loss unlabeled: 4.9288 \tTrain miou: 0.1075 \n",
            "Progress: |█---------|  19% \tTime: 00:00:43 s \tLearning rate: 0.00100 \tTrain loss: 11.5753 \tTrain loss labeled: 6.6784 \tTrain loss unlabeled: 4.8968 \tTrain miou: 0.1083 \n",
            "Progress: |█---------|  19% \tTime: 00:00:44 s \tLearning rate: 0.00100 \tTrain loss: 11.4778 \tTrain loss labeled: 6.6199 \tTrain loss unlabeled: 4.8579 \tTrain miou: 0.1086 \n",
            "Progress: |█---------|  20% \tTime: 00:00:45 s \tLearning rate: 0.00100 \tTrain loss: 11.4929 \tTrain loss labeled: 6.6292 \tTrain loss unlabeled: 4.8637 \tTrain miou: 0.1101 \n",
            "Progress: |██--------|  20% \tTime: 00:00:46 s \tLearning rate: 0.00100 \tTrain loss: 11.4415 \tTrain loss labeled: 6.5957 \tTrain loss unlabeled: 4.8458 \tTrain miou: 0.1103 \n",
            "Progress: |██--------|  21% \tTime: 00:00:47 s \tLearning rate: 0.00100 \tTrain loss: 11.3575 \tTrain loss labeled: 6.5461 \tTrain loss unlabeled: 4.8114 \tTrain miou: 0.1126 \n",
            "Progress: |██--------|  21% \tTime: 00:00:47 s \tLearning rate: 0.00100 \tTrain loss: 11.2491 \tTrain loss labeled: 6.4828 \tTrain loss unlabeled: 4.7663 \tTrain miou: 0.1129 \n",
            "Progress: |██--------|  22% \tTime: 00:00:48 s \tLearning rate: 0.00100 \tTrain loss: 11.1344 \tTrain loss labeled: 6.4146 \tTrain loss unlabeled: 4.7199 \tTrain miou: 0.1135 \n",
            "Progress: |██--------|  22% \tTime: 00:00:49 s \tLearning rate: 0.00100 \tTrain loss: 11.0461 \tTrain loss labeled: 6.3715 \tTrain loss unlabeled: 4.6746 \tTrain miou: 0.1140 \n",
            "Progress: |██--------|  23% \tTime: 00:00:50 s \tLearning rate: 0.00100 \tTrain loss: 10.9477 \tTrain loss labeled: 6.3170 \tTrain loss unlabeled: 4.6307 \tTrain miou: 0.1140 \n",
            "Progress: |██--------|  23% \tTime: 00:00:51 s \tLearning rate: 0.00100 \tTrain loss: 10.8699 \tTrain loss labeled: 6.2780 \tTrain loss unlabeled: 4.5918 \tTrain miou: 0.1138 \n",
            "Progress: |██--------|  24% \tTime: 00:00:52 s \tLearning rate: 0.00100 \tTrain loss: 10.8026 \tTrain loss labeled: 6.2442 \tTrain loss unlabeled: 4.5584 \tTrain miou: 0.1138 \n",
            "Progress: |██--------|  24% \tTime: 00:00:53 s \tLearning rate: 0.00100 \tTrain loss: 10.7139 \tTrain loss labeled: 6.1920 \tTrain loss unlabeled: 4.5219 \tTrain miou: 0.1134 \n",
            "Progress: |██--------|  25% \tTime: 00:00:54 s \tLearning rate: 0.00100 \tTrain loss: 10.6283 \tTrain loss labeled: 6.1480 \tTrain loss unlabeled: 4.4803 \tTrain miou: 0.1145 \n",
            "Progress: |██--------|  26% \tTime: 00:00:55 s \tLearning rate: 0.00100 \tTrain loss: 10.5402 \tTrain loss labeled: 6.0908 \tTrain loss unlabeled: 4.4494 \tTrain miou: 0.1147 \n",
            "Progress: |██--------|  26% \tTime: 00:00:56 s \tLearning rate: 0.00100 \tTrain loss: 10.4721 \tTrain loss labeled: 6.0564 \tTrain loss unlabeled: 4.4158 \tTrain miou: 0.1150 \n"
          ]
        }
      ]
    },
    {
      "cell_type": "code",
      "source": [
        "# Test\n",
        "!python3 sem_seg_dacs.py \\\n",
        "    --test \\\n",
        "    --model_name PIDNet_S \\\n",
        "    --version 3 \\\n",
        "    --model_file last_0.pt \\\n",
        "    --target_domain Urban \\\n",
        "    --store drive\n",
        "\n",
        "!python3 sem_seg_dacs.py \\\n",
        "    --test \\\n",
        "    --model_name PIDNet_S \\\n",
        "    --version 3 \\\n",
        "    --model_file best_0.pt \\\n",
        "    --target_domain Urban \\\n",
        "    --store drive\n",
        "\n",
        "!python3 sem_seg_dacs.py \\\n",
        "    --test \\\n",
        "    --model_name PIDNet_S \\\n",
        "    --version 3 \\\n",
        "    --model_file last_0.pt \\\n",
        "    --target_domain Rural \\\n",
        "    --store drive\n",
        "\n",
        "!python3 sem_seg_dacs.py \\\n",
        "    --test \\\n",
        "    --model_name PIDNet_S \\\n",
        "    --version 3 \\\n",
        "    --model_file best_0.pt \\\n",
        "    --target_domain Rural \\\n",
        "    --store drive"
      ],
      "metadata": {
        "id": "wpE6wPDgxROE"
      },
      "id": "wpE6wPDgxROE",
      "execution_count": null,
      "outputs": []
    }
  ],
  "metadata": {
    "accelerator": "GPU",
    "colab": {
      "gpuType": "T4",
      "provenance": []
    },
    "kernelspec": {
      "display_name": "Python 3",
      "name": "python3"
    },
    "language_info": {
      "codemirror_mode": {
        "name": "ipython",
        "version": 3
      },
      "file_extension": ".py",
      "mimetype": "text/x-python",
      "name": "python",
      "nbconvert_exporter": "python",
      "pygments_lexer": "ipython3",
      "version": "3.12.7"
    }
  },
  "nbformat": 4,
  "nbformat_minor": 5
}