{
  "cells": [
    {
      "cell_type": "markdown",
      "id": "0K9H8Nk-N_Tf",
      "metadata": {
        "id": "0K9H8Nk-N_Tf"
      },
      "source": [
        "# Real-time Domain Adaptation in Semantic Segmentation"
      ]
    },
    {
      "cell_type": "markdown",
      "id": "f722511a",
      "metadata": {
        "id": "f722511a"
      },
      "source": [
        "## Mount drive"
      ]
    },
    {
      "cell_type": "code",
      "execution_count": null,
      "id": "vVcmrIe_TGGA",
      "metadata": {
        "id": "vVcmrIe_TGGA"
      },
      "outputs": [],
      "source": [
        "from google.colab import drive\n",
        "drive.mount('/content/drive')"
      ]
    },
    {
      "cell_type": "markdown",
      "id": "be24ecf1",
      "metadata": {
        "id": "be24ecf1"
      },
      "source": [
        "## Import code"
      ]
    },
    {
      "cell_type": "code",
      "execution_count": null,
      "id": "GrQxrFD9QBIi",
      "metadata": {
        "id": "GrQxrFD9QBIi"
      },
      "outputs": [],
      "source": [
        "!git clone https://github.com/SimoneBorella/semantic-segmentation-domain-adaptation.git\n",
        "\n",
        "!cp -r ./semantic-segmentation-domain-adaptation/datasets .\n",
        "!cp -r ./semantic-segmentation-domain-adaptation/models .\n",
        "!cp -r ./semantic-segmentation-domain-adaptation/criteria .\n",
        "!cp -r ./semantic-segmentation-domain-adaptation/utils .\n",
        "!cp ./semantic-segmentation-domain-adaptation/get_dataset.bash .\n",
        "!cp ./semantic-segmentation-domain-adaptation/get_weights_pretrained.bash .\n",
        "!cp ./semantic-segmentation-domain-adaptation/sem_seg.py .\n",
        "!cp ./semantic-segmentation-domain-adaptation/sem_seg_da_adv.py .\n",
        "!cp ./semantic-segmentation-domain-adaptation/sem_seg_dacs.py .\n",
        "\n",
        "!rm -r ./semantic-segmentation-domain-adaptation\n",
        "!rm -r sample_data"
      ]
    },
    {
      "cell_type": "markdown",
      "id": "d0e497ec",
      "metadata": {
        "id": "d0e497ec"
      },
      "source": [
        "## Packages installation"
      ]
    },
    {
      "cell_type": "code",
      "execution_count": null,
      "id": "5q3A_omGNpCf",
      "metadata": {
        "id": "5q3A_omGNpCf"
      },
      "outputs": [],
      "source": [
        "!pip3 install torch torchvision torchaudio gdown fvcore kornia"
      ]
    },
    {
      "cell_type": "markdown",
      "id": "0302d761",
      "metadata": {
        "id": "0302d761"
      },
      "source": [
        "## Download LoveDA dataset"
      ]
    },
    {
      "cell_type": "code",
      "execution_count": null,
      "id": "5a2f0959",
      "metadata": {
        "id": "5a2f0959"
      },
      "outputs": [],
      "source": [
        "!bash get_dataset.bash"
      ]
    },
    {
      "cell_type": "markdown",
      "id": "b39ac3ab",
      "metadata": {
        "id": "b39ac3ab"
      },
      "source": [
        "# Download weights pretrained"
      ]
    },
    {
      "cell_type": "code",
      "execution_count": null,
      "id": "ba683512",
      "metadata": {
        "id": "ba683512"
      },
      "outputs": [],
      "source": [
        "!bash get_weights_pretrained.bash"
      ]
    },
    {
      "cell_type": "markdown",
      "id": "065eb67f",
      "metadata": {
        "id": "065eb67f"
      },
      "source": [
        "## DeepLabV2_ResNet101"
      ]
    },
    {
      "cell_type": "markdown",
      "id": "7nuYgig-CZrD",
      "metadata": {
        "id": "7nuYgig-CZrD"
      },
      "source": [
        "### Version 0"
      ]
    },
    {
      "cell_type": "code",
      "execution_count": null,
      "id": "38b64585",
      "metadata": {
        "id": "38b64585"
      },
      "outputs": [],
      "source": [
        "# DeepLabV2_ResNet101_0\n",
        "\n",
        "# Train\n",
        "# !python3 sem_seg.py \\\n",
        "#     --train \\\n",
        "#     --model_name DeepLabV2_ResNet101 \\\n",
        "#     --version 0 \\\n",
        "#     --source_domain Rural \\\n",
        "#     --batch_size 6 \\\n",
        "#     --criterion CrossEntropyLoss \\\n",
        "#     --optimizer SGD \\\n",
        "#     --scheduler PolynomialLR \\\n",
        "#     --epochs 20 \\\n",
        "#     --store drive"
      ]
    },
    {
      "cell_type": "code",
      "execution_count": null,
      "id": "_2B91EQ1peh3",
      "metadata": {
        "id": "_2B91EQ1peh3"
      },
      "outputs": [],
      "source": [
        "# Test\n",
        "# !python3 sem_seg.py \\\n",
        "#     --test \\\n",
        "#     --model_name DeepLabV2_ResNet101 \\\n",
        "#     --version 0 \\\n",
        "#     --model_file last_0.pt \\\n",
        "#     --target_domain Rural \\\n",
        "#     --store drive\n",
        "\n",
        "# !python3 sem_seg.py \\\n",
        "#     --test \\\n",
        "#     --model_name DeepLabV2_ResNet101 \\\n",
        "#     --version 0 \\\n",
        "#     --model_file best_0.pt \\\n",
        "#     --target_domain Rural \\\n",
        "#     --store drive\n",
        "\n",
        "# !python3 sem_seg.py \\\n",
        "#     --test \\\n",
        "#     --model_name DeepLabV2_ResNet101 \\\n",
        "#     --version 0 \\\n",
        "#     --model_file last_0.pt \\\n",
        "#     --target_domain Urban \\\n",
        "#     --store drive\n",
        "\n",
        "# !python3 sem_seg.py \\\n",
        "#     --test \\\n",
        "#     --model_name DeepLabV2_ResNet101 \\\n",
        "#     --version 0 \\\n",
        "#     --model_file best_0.pt \\\n",
        "#     --target_domain Urban \\\n",
        "#     --store drive"
      ]
    },
    {
      "cell_type": "markdown",
      "id": "u1oHe3-oPUWw",
      "metadata": {
        "id": "u1oHe3-oPUWw"
      },
      "source": [
        "## PIDNet"
      ]
    },
    {
      "cell_type": "markdown",
      "id": "mJ1D-4inCc95",
      "metadata": {
        "id": "mJ1D-4inCc95"
      },
      "source": [
        "### Version 0"
      ]
    },
    {
      "cell_type": "code",
      "execution_count": null,
      "id": "1781uEUIQsIL",
      "metadata": {
        "id": "1781uEUIQsIL"
      },
      "outputs": [],
      "source": [
        "# Train\n",
        "# !python3 sem_seg.py \\\n",
        "#     --train \\\n",
        "#     --model_name PIDNet_S \\\n",
        "#     --version 0 \\\n",
        "#     --source_domain Rural \\\n",
        "#     --batch_size 6 \\\n",
        "#     --criterion OhemCrossEntropyLoss \\\n",
        "#     --optimizer SGD \\\n",
        "#     --scheduler PolynomialLR \\\n",
        "#     --lr 0.01 \\\n",
        "#     --epochs 20 \\\n",
        "#     --patience 10 \\\n",
        "#     --store drive"
      ]
    },
    {
      "cell_type": "code",
      "execution_count": null,
      "id": "YoW7heiovwH-",
      "metadata": {
        "id": "YoW7heiovwH-"
      },
      "outputs": [],
      "source": [
        "# Test\n",
        "# !python3 sem_seg.py \\\n",
        "#     --test \\\n",
        "#     --model_name PIDNet_S \\\n",
        "#     --version 0 \\\n",
        "#     --model_file last_0.pt \\\n",
        "#     --target_domain Urban \\\n",
        "#     --store drive\n",
        "\n",
        "# !python3 sem_seg.py \\\n",
        "#     --test \\\n",
        "#     --model_name PIDNet_S \\\n",
        "#     --version 0 \\\n",
        "#     --model_file best_0.pt \\\n",
        "#     --target_domain Urban \\\n",
        "#     --store drive\n",
        "\n",
        "# !python3 sem_seg.py \\\n",
        "#     --test \\\n",
        "#     --model_name PIDNet_S \\\n",
        "#     --version 0 \\\n",
        "#     --model_file last_0.pt \\\n",
        "#     --target_domain Rural \\\n",
        "#     --store drive\n",
        "\n",
        "# !python3 sem_seg.py \\\n",
        "#     --test \\\n",
        "#     --model_name PIDNet_S \\\n",
        "#     --version 0 \\\n",
        "#     --model_file best_0.pt \\\n",
        "#     --target_domain Rural \\\n",
        "#     --store drive"
      ]
    },
    {
      "cell_type": "markdown",
      "id": "YXYwhR3wCerq",
      "metadata": {
        "id": "YXYwhR3wCerq"
      },
      "source": [
        "### Version 1"
      ]
    },
    {
      "cell_type": "code",
      "execution_count": null,
      "id": "cRB86IA033Fj",
      "metadata": {
        "colab": {
          "base_uri": "https://localhost:8080/"
        },
        "id": "cRB86IA033Fj",
        "outputId": "8998c972-14e0-465b-8560-7e5687be4e3d"
      },
      "outputs": [],
      "source": [
        "# Train\n",
        "!python3 sem_seg.py \\\n",
        "    --train \\\n",
        "    --model_name PIDNet_S \\\n",
        "    --version 1 \\\n",
        "    --source_domain Urban \\\n",
        "    --batch_size 6 \\\n",
        "    --criterion OhemCrossEntropyLoss \\\n",
        "    --optimizer SGD \\\n",
        "    --scheduler PolynomialLR \\\n",
        "    --lr 0.01 \\\n",
        "    --epochs 20 \\\n",
        "    --patience 10 \\\n",
        "    --store drive"
      ]
    },
    {
      "cell_type": "code",
      "execution_count": null,
      "id": "hd8vzW6L4CNX",
      "metadata": {
        "id": "hd8vzW6L4CNX"
      },
      "outputs": [],
      "source": [
        "# Test\n",
        "!python3 sem_seg.py \\\n",
        "    --test \\\n",
        "    --model_name PIDNet_S \\\n",
        "    --version 0 \\\n",
        "    --model_file last_0.pt \\\n",
        "    --target_domain Urban \\\n",
        "    --store drive\n",
        "\n",
        "!python3 sem_seg.py \\\n",
        "    --test \\\n",
        "    --model_name PIDNet_S \\\n",
        "    --version 0 \\\n",
        "    --model_file best_0.pt \\\n",
        "    --target_domain Urban \\\n",
        "    --store drive\n",
        "\n",
        "!python3 sem_seg.py \\\n",
        "    --test \\\n",
        "    --model_name PIDNet_S \\\n",
        "    --version 0 \\\n",
        "    --model_file last_0.pt \\\n",
        "    --target_domain Rural \\\n",
        "    --store drive\n",
        "\n",
        "!python3 sem_seg.py \\\n",
        "    --test \\\n",
        "    --model_name PIDNet_S \\\n",
        "    --version 0 \\\n",
        "    --model_file best_0.pt \\\n",
        "    --target_domain Rural \\\n",
        "    --store drive"
      ]
    }
  ],
  "metadata": {
    "accelerator": "GPU",
    "colab": {
      "gpuType": "T4",
      "provenance": []
    },
    "kernelspec": {
      "display_name": "base",
      "language": "python",
      "name": "python3"
    },
    "language_info": {
      "codemirror_mode": {
        "name": "ipython",
        "version": 3
      },
      "file_extension": ".py",
      "mimetype": "text/x-python",
      "name": "python",
      "nbconvert_exporter": "python",
      "pygments_lexer": "ipython3",
      "version": "3.12.7"
    }
  },
  "nbformat": 4,
  "nbformat_minor": 5
}
