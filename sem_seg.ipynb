{
  "cells": [
    {
      "cell_type": "markdown",
      "id": "0K9H8Nk-N_Tf",
      "metadata": {
        "id": "0K9H8Nk-N_Tf"
      },
      "source": [
        "# Real-time Domain Adaptation in Semantic Segmentation"
      ]
    },
    {
      "cell_type": "markdown",
      "id": "f722511a",
      "metadata": {
        "id": "f722511a"
      },
      "source": [
        "## Mount drive"
      ]
    },
    {
      "cell_type": "code",
      "execution_count": null,
      "id": "vVcmrIe_TGGA",
      "metadata": {
        "id": "vVcmrIe_TGGA"
      },
      "outputs": [],
      "source": [
        "from google.colab import drive\n",
        "drive.mount('/content/drive')"
      ]
    },
    {
      "cell_type": "markdown",
      "id": "be24ecf1",
      "metadata": {
        "id": "be24ecf1"
      },
      "source": [
        "## Import code"
      ]
    },
    {
      "cell_type": "code",
      "execution_count": null,
      "id": "GrQxrFD9QBIi",
      "metadata": {
        "id": "GrQxrFD9QBIi"
      },
      "outputs": [],
      "source": [
        "!git clone https://github.com/SimoneBorella/semantic-segmentation-domain-adaptation.git\n",
        "\n",
        "!cp -r ./semantic-segmentation-domain-adaptation/datasets .\n",
        "!cp -r ./semantic-segmentation-domain-adaptation/models .\n",
        "!cp -r ./semantic-segmentation-domain-adaptation/criteria .\n",
        "!cp -r ./semantic-segmentation-domain-adaptation/utils .\n",
        "!cp ./semantic-segmentation-domain-adaptation/get_dataset.bash .\n",
        "!cp ./semantic-segmentation-domain-adaptation/get_weights_pretrained.bash .\n",
        "!cp ./semantic-segmentation-domain-adaptation/sem_seg.py .\n",
        "!cp ./semantic-segmentation-domain-adaptation/sem_seg_da_adv.py .\n",
        "!cp ./semantic-segmentation-domain-adaptation/sem_seg_dacs.py .\n",
        "!cp ./semantic-segmentation-domain-adaptation/sem_seg_dacs_gcw_ldq.py .\n",
        "\n",
        "!rm -r ./semantic-segmentation-domain-adaptation\n",
        "!rm -r sample_data"
      ]
    },
    {
      "cell_type": "markdown",
      "id": "d0e497ec",
      "metadata": {
        "id": "d0e497ec"
      },
      "source": [
        "## Packages installation"
      ]
    },
    {
      "cell_type": "code",
      "execution_count": null,
      "id": "5q3A_omGNpCf",
      "metadata": {
        "id": "5q3A_omGNpCf"
      },
      "outputs": [],
      "source": [
        "!pip3 install torch torchvision torchaudio gdown fvcore kornia"
      ]
    },
    {
      "cell_type": "markdown",
      "id": "0302d761",
      "metadata": {
        "id": "0302d761"
      },
      "source": [
        "## Download LoveDA dataset"
      ]
    },
    {
      "cell_type": "code",
      "execution_count": null,
      "id": "5a2f0959",
      "metadata": {
        "id": "5a2f0959"
      },
      "outputs": [],
      "source": [
        "!bash get_dataset.bash"
      ]
    },
    {
      "cell_type": "markdown",
      "id": "b39ac3ab",
      "metadata": {
        "id": "b39ac3ab"
      },
      "source": [
        "# Download weights pretrained"
      ]
    },
    {
      "cell_type": "code",
      "execution_count": null,
      "id": "ba683512",
      "metadata": {
        "id": "ba683512"
      },
      "outputs": [],
      "source": [
        "!bash get_weights_pretrained.bash"
      ]
    },
    {
      "cell_type": "markdown",
      "id": "065eb67f",
      "metadata": {
        "id": "065eb67f"
      },
      "source": [
        "## DeepLabV2_ResNet101"
      ]
    },
    {
      "cell_type": "markdown",
      "id": "7nuYgig-CZrD",
      "metadata": {
        "id": "7nuYgig-CZrD"
      },
      "source": [
        "### Version 0"
      ]
    },
    {
      "cell_type": "code",
      "execution_count": null,
      "id": "38b64585",
      "metadata": {
        "id": "38b64585"
      },
      "outputs": [],
      "source": [
        "# Train\n",
        "# !python3 sem_seg.py \\\n",
        "#     --train \\\n",
        "#     --model_name DeepLabV2_ResNet101 \\\n",
        "#     --version 0 \\\n",
        "#     --source_domain Rural \\\n",
        "#     --batch_size 6 \\\n",
        "#     --criterion CrossEntropyLoss \\\n",
        "#     --optimizer SGD \\\n",
        "#     --scheduler PolynomialLR \\\n",
        "#     --lr 0.001 \\\n",
        "#     --epochs 20 \\\n",
        "#     --store drive"
      ]
    },
    {
      "cell_type": "code",
      "execution_count": null,
      "id": "_2B91EQ1peh3",
      "metadata": {
        "id": "_2B91EQ1peh3"
      },
      "outputs": [],
      "source": [
        "# Test\n",
        "# !python3 sem_seg.py \\\n",
        "#     --test \\\n",
        "#     --model_name DeepLabV2_ResNet101 \\\n",
        "#     --version 0 \\\n",
        "#     --model_file last_0.pt \\\n",
        "#     --target_domain Rural \\\n",
        "#     --store drive\n",
        "\n",
        "# !python3 sem_seg.py \\\n",
        "#     --test \\\n",
        "#     --model_name DeepLabV2_ResNet101 \\\n",
        "#     --version 0 \\\n",
        "#     --model_file best_0.pt \\\n",
        "#     --target_domain Rural \\\n",
        "#     --store drive\n",
        "\n",
        "# !python3 sem_seg.py \\\n",
        "#     --test \\\n",
        "#     --model_name DeepLabV2_ResNet101 \\\n",
        "#     --version 0 \\\n",
        "#     --model_file last_0.pt \\\n",
        "#     --target_domain Urban \\\n",
        "#     --store drive\n",
        "\n",
        "# !python3 sem_seg.py \\\n",
        "#     --test \\\n",
        "#     --model_name DeepLabV2_ResNet101 \\\n",
        "#     --version 0 \\\n",
        "#     --model_file best_0.pt \\\n",
        "#     --target_domain Urban \\\n",
        "#     --store drive"
      ]
    },
    {
      "cell_type": "markdown",
      "id": "CmFVsxnQn-GS",
      "metadata": {
        "id": "CmFVsxnQn-GS"
      },
      "source": [
        "### Version 1"
      ]
    },
    {
      "cell_type": "code",
      "execution_count": null,
      "id": "79H1QUMnoACQ",
      "metadata": {
        "id": "79H1QUMnoACQ"
      },
      "outputs": [],
      "source": [
        "# Train\n",
        "# !python3 sem_seg.py \\\n",
        "#     --train \\\n",
        "#     --model_name DeepLabV2_ResNet101 \\\n",
        "#     --version 1 \\\n",
        "#     --source_domain Urban \\\n",
        "#     --batch_size 6 \\\n",
        "#     --criterion CrossEntropyLoss \\\n",
        "#     --optimizer SGD \\\n",
        "#     --scheduler PolynomialLR \\\n",
        "#     --lr 0.001 \\\n",
        "#     --epochs 20 \\\n",
        "#     --store drive"
      ]
    },
    {
      "cell_type": "code",
      "execution_count": null,
      "id": "PE22jigUoG_1",
      "metadata": {
        "id": "PE22jigUoG_1"
      },
      "outputs": [],
      "source": [
        "# Test\n",
        "# !python3 sem_seg.py \\\n",
        "#     --test \\\n",
        "#     --model_name DeepLabV2_ResNet101 \\\n",
        "#     --version 1 \\\n",
        "#     --model_file last_0.pt \\\n",
        "#     --target_domain Rural \\\n",
        "#     --store drive\n",
        "\n",
        "# !python3 sem_seg.py \\\n",
        "#     --test \\\n",
        "#     --model_name DeepLabV2_ResNet101 \\\n",
        "#     --version 1 \\\n",
        "#     --model_file best_0.pt \\\n",
        "#     --target_domain Rural \\\n",
        "#     --store drive\n",
        "\n",
        "# !python3 sem_seg.py \\\n",
        "#     --test \\\n",
        "#     --model_name DeepLabV2_ResNet101 \\\n",
        "#     --version 1 \\\n",
        "#     --model_file last_0.pt \\\n",
        "#     --target_domain Urban \\\n",
        "#     --store drive\n",
        "\n",
        "# !python3 sem_seg.py \\\n",
        "#     --test \\\n",
        "#     --model_name DeepLabV2_ResNet101 \\\n",
        "#     --version 1 \\\n",
        "#     --model_file best_0.pt \\\n",
        "#     --target_domain Urban \\\n",
        "#     --store drive"
      ]
    },
    {
      "cell_type": "markdown",
      "id": "u1oHe3-oPUWw",
      "metadata": {
        "id": "u1oHe3-oPUWw"
      },
      "source": [
        "## PIDNet"
      ]
    },
    {
      "cell_type": "markdown",
      "id": "mJ1D-4inCc95",
      "metadata": {
        "id": "mJ1D-4inCc95"
      },
      "source": [
        "### Version 0"
      ]
    },
    {
      "cell_type": "code",
      "execution_count": null,
      "id": "1781uEUIQsIL",
      "metadata": {
        "id": "1781uEUIQsIL"
      },
      "outputs": [],
      "source": [
        "# Train\n",
        "# !python3 sem_seg.py \\\n",
        "#     --train \\\n",
        "#     --model_name PIDNet_S \\\n",
        "#     --version 0 \\\n",
        "#     --source_domain Rural \\\n",
        "#     --batch_size 6 \\\n",
        "#     --criterion OhemCrossEntropyLoss \\\n",
        "#     --optimizer SGD \\\n",
        "#     --scheduler PolynomialLR \\\n",
        "#     --lr 0.01 \\\n",
        "#     --epochs 20 \\\n",
        "#     --store drive"
      ]
    },
    {
      "cell_type": "code",
      "execution_count": null,
      "id": "YoW7heiovwH-",
      "metadata": {
        "id": "YoW7heiovwH-"
      },
      "outputs": [],
      "source": [
        "# Test\n",
        "# !python3 sem_seg.py \\\n",
        "#     --test \\\n",
        "#     --model_name PIDNet_S \\\n",
        "#     --version 0 \\\n",
        "#     --model_file last_0.pt \\\n",
        "#     --target_domain Urban \\\n",
        "#     --store drive\n",
        "\n",
        "# !python3 sem_seg.py \\\n",
        "#     --test \\\n",
        "#     --model_name PIDNet_S \\\n",
        "#     --version 0 \\\n",
        "#     --model_file best_0.pt \\\n",
        "#     --target_domain Urban \\\n",
        "#     --store drive\n",
        "\n",
        "# !python3 sem_seg.py \\\n",
        "#     --test \\\n",
        "#     --model_name PIDNet_S \\\n",
        "#     --version 0 \\\n",
        "#     --model_file last_0.pt \\\n",
        "#     --target_domain Rural \\\n",
        "#     --store drive\n",
        "\n",
        "# !python3 sem_seg.py \\\n",
        "#     --test \\\n",
        "#     --model_name PIDNet_S \\\n",
        "#     --version 0 \\\n",
        "#     --model_file best_0.pt \\\n",
        "#     --target_domain Rural \\\n",
        "#     --store drive"
      ]
    },
    {
      "cell_type": "markdown",
      "id": "YXYwhR3wCerq",
      "metadata": {
        "id": "YXYwhR3wCerq"
      },
      "source": [
        "### Version 1"
      ]
    },
    {
      "cell_type": "code",
      "execution_count": null,
      "id": "cRB86IA033Fj",
      "metadata": {
        "id": "cRB86IA033Fj"
      },
      "outputs": [],
      "source": [
        "# Train\n",
        "# !python3 sem_seg.py \\\n",
        "#     --train \\\n",
        "#     --model_name PIDNet_S \\\n",
        "#     --version 1 \\\n",
        "#     --source_domain Urban \\\n",
        "#     --batch_size 6 \\\n",
        "#     --criterion OhemCrossEntropyLoss \\\n",
        "#     --optimizer SGD \\\n",
        "#     --scheduler PolynomialLR \\\n",
        "#     --lr 0.01 \\\n",
        "#     --epochs 20 \\\n",
        "#     --store drive"
      ]
    },
    {
      "cell_type": "code",
      "execution_count": null,
      "id": "hd8vzW6L4CNX",
      "metadata": {
        "id": "hd8vzW6L4CNX"
      },
      "outputs": [],
      "source": [
        "# Test\n",
        "# !python3 sem_seg.py \\\n",
        "#     --test \\\n",
        "#     --model_name PIDNet_S \\\n",
        "#     --version 1 \\\n",
        "#     --model_file last_0.pt \\\n",
        "#     --target_domain Urban \\\n",
        "#     --store drive\n",
        "\n",
        "# !python3 sem_seg.py \\\n",
        "#     --test \\\n",
        "#     --model_name PIDNet_S \\\n",
        "#     --version 1 \\\n",
        "#     --model_file best_0.pt \\\n",
        "#     --target_domain Urban \\\n",
        "#     --store drive\n",
        "\n",
        "# !python3 sem_seg.py \\\n",
        "#     --test \\\n",
        "#     --model_name PIDNet_S \\\n",
        "#     --version 1 \\\n",
        "#     --model_file last_0.pt \\\n",
        "#     --target_domain Rural \\\n",
        "#     --store drive\n",
        "\n",
        "# !python3 sem_seg.py \\\n",
        "#     --test \\\n",
        "#     --model_name PIDNet_S \\\n",
        "#     --version 1 \\\n",
        "#     --model_file best_0.pt \\\n",
        "#     --target_domain Rural \\\n",
        "#     --store drive"
      ]
    },
    {
      "cell_type": "markdown",
      "id": "L9Jw_5xfP7rl",
      "metadata": {
        "id": "L9Jw_5xfP7rl"
      },
      "source": [
        "### Version 2"
      ]
    },
    {
      "cell_type": "code",
      "execution_count": null,
      "id": "grG7HbW3P9m9",
      "metadata": {
        "id": "grG7HbW3P9m9"
      },
      "outputs": [],
      "source": [
        "# Train\n",
        "# !python3 sem_seg.py \\\n",
        "#     --train \\\n",
        "#     --model_name PIDNet_S \\\n",
        "#     --version 2 \\\n",
        "#     --source_domain Rural \\\n",
        "#     --batch_size 6 \\\n",
        "#     --criterion OhemCrossEntropyLoss \\\n",
        "#     --optimizer SGD \\\n",
        "#     --scheduler PolynomialLR \\\n",
        "#     --lr 0.001 \\\n",
        "#     --epochs 20 \\\n",
        "#     --store drive"
      ]
    },
    {
      "cell_type": "code",
      "execution_count": null,
      "id": "3PmiChAUP-ci",
      "metadata": {
        "id": "3PmiChAUP-ci"
      },
      "outputs": [],
      "source": [
        "# Test\n",
        "# !python3 sem_seg.py \\\n",
        "#     --test \\\n",
        "#     --model_name PIDNet_S \\\n",
        "#     --version 2 \\\n",
        "#     --model_file last_0.pt \\\n",
        "#     --target_domain Urban \\\n",
        "#     --store drive\n",
        "\n",
        "# !python3 sem_seg.py \\\n",
        "#     --test \\\n",
        "#     --model_name PIDNet_S \\\n",
        "#     --version 2 \\\n",
        "#     --model_file best_0.pt \\\n",
        "#     --target_domain Urban \\\n",
        "#     --store drive\n",
        "\n",
        "# !python3 sem_seg.py \\\n",
        "#     --test \\\n",
        "#     --model_name PIDNet_S \\\n",
        "#     --version 2 \\\n",
        "#     --model_file last_0.pt \\\n",
        "#     --target_domain Rural \\\n",
        "#     --store drive\n",
        "\n",
        "# !python3 sem_seg.py \\\n",
        "#     --test \\\n",
        "#     --model_name PIDNet_S \\\n",
        "#     --version 2 \\\n",
        "#     --model_file best_0.pt \\\n",
        "#     --target_domain Rural \\\n",
        "#     --store drive"
      ]
    },
    {
      "cell_type": "markdown",
      "id": "1znNDkpmLms8",
      "metadata": {
        "id": "1znNDkpmLms8"
      },
      "source": [
        "### Version 3"
      ]
    },
    {
      "cell_type": "code",
      "execution_count": null,
      "id": "P2XlPTekLops",
      "metadata": {
        "id": "P2XlPTekLops"
      },
      "outputs": [],
      "source": [
        "# Train\n",
        "# !python3 sem_seg.py \\\n",
        "#     --train \\\n",
        "#     --model_name PIDNet_S \\\n",
        "#     --version 3 \\\n",
        "#     --source_domain Urban \\\n",
        "#     --batch_size 6 \\\n",
        "#     --criterion OhemCrossEntropyLoss \\\n",
        "#     --optimizer SGD \\\n",
        "#     --scheduler PolynomialLR \\\n",
        "#     --lr 0.001 \\\n",
        "#     --epochs 20 \\\n",
        "#     --store drive"
      ]
    },
    {
      "cell_type": "code",
      "execution_count": null,
      "id": "Cj2mRgD5_6E4",
      "metadata": {
        "id": "Cj2mRgD5_6E4"
      },
      "outputs": [],
      "source": [
        "# Test\n",
        "# !python3 sem_seg.py \\\n",
        "#     --test \\\n",
        "#     --model_name PIDNet_S \\\n",
        "#     --version 3 \\\n",
        "#     --model_file last_0.pt \\\n",
        "#     --target_domain Urban \\\n",
        "#     --store drive\n",
        "\n",
        "# !python3 sem_seg.py \\\n",
        "#     --test \\\n",
        "#     --model_name PIDNet_S \\\n",
        "#     --version 3 \\\n",
        "#     --model_file best_0.pt \\\n",
        "#     --target_domain Urban \\\n",
        "#     --store drive\n",
        "\n",
        "# !python3 sem_seg.py \\\n",
        "#     --test \\\n",
        "#     --model_name PIDNet_S \\\n",
        "#     --version 3 \\\n",
        "#     --model_file last_0.pt \\\n",
        "#     --target_domain Rural \\\n",
        "#     --store drive\n",
        "\n",
        "# !python3 sem_seg.py \\\n",
        "#     --test \\\n",
        "#     --model_name PIDNet_S \\\n",
        "#     --version 3 \\\n",
        "#     --model_file best_0.pt \\\n",
        "#     --target_domain Rural \\\n",
        "#     --store drive"
      ]
    },
    {
      "cell_type": "markdown",
      "id": "Mfs8oz9pQ4d8",
      "metadata": {
        "id": "Mfs8oz9pQ4d8"
      },
      "source": [
        "### Version 4"
      ]
    },
    {
      "cell_type": "code",
      "execution_count": null,
      "id": "ZO4nUoQFQ6bO",
      "metadata": {
        "id": "ZO4nUoQFQ6bO"
      },
      "outputs": [],
      "source": [
        "# Train\n",
        "# !python3 sem_seg.py \\\n",
        "#     --train \\\n",
        "#     --model_name PIDNet_S \\\n",
        "#     --version 4 \\\n",
        "#     --source_domain Urban \\\n",
        "#     --horizontal_flip_augmentation \\\n",
        "#     --shift_scale_rotate_augmentation \\\n",
        "#     --batch_size 6 \\\n",
        "#     --criterion OhemCrossEntropyLoss \\\n",
        "#     --optimizer SGD \\\n",
        "#     --scheduler PolynomialLR \\\n",
        "#     --lr 0.001 \\\n",
        "#     --epochs 20 \\\n",
        "#     --store drive"
      ]
    },
    {
      "cell_type": "code",
      "execution_count": null,
      "id": "shkIo1zlQ-5v",
      "metadata": {
        "id": "shkIo1zlQ-5v"
      },
      "outputs": [],
      "source": [
        "# Test\n",
        "# !python3 sem_seg.py \\\n",
        "#     --test \\\n",
        "#     --model_name PIDNet_S \\\n",
        "#     --version 4 \\\n",
        "#     --model_file last_0.pt \\\n",
        "#     --target_domain Urban \\\n",
        "#     --store drive\n",
        "\n",
        "# !python3 sem_seg.py \\\n",
        "#     --test \\\n",
        "#     --model_name PIDNet_S \\\n",
        "#     --version 4 \\\n",
        "#     --model_file best_0.pt \\\n",
        "#     --target_domain Urban \\\n",
        "#     --store drive\n",
        "\n",
        "# !python3 sem_seg.py \\\n",
        "#     --test \\\n",
        "#     --model_name PIDNet_S \\\n",
        "#     --version 4 \\\n",
        "#     --model_file last_0.pt \\\n",
        "#     --target_domain Rural \\\n",
        "#     --store drive\n",
        "\n",
        "# !python3 sem_seg.py \\\n",
        "#     --test \\\n",
        "#     --model_name PIDNet_S \\\n",
        "#     --version 4 \\\n",
        "#     --model_file best_0.pt \\\n",
        "#     --target_domain Rural \\\n",
        "#     --store drive"
      ]
    },
    {
      "cell_type": "markdown",
      "id": "5wSUEGPHRDTR",
      "metadata": {
        "id": "5wSUEGPHRDTR"
      },
      "source": [
        "### Version 5"
      ]
    },
    {
      "cell_type": "code",
      "execution_count": null,
      "id": "jDj7Viy0RC_A",
      "metadata": {
        "id": "jDj7Viy0RC_A"
      },
      "outputs": [],
      "source": [
        "# Train\n",
        "# !python3 sem_seg.py \\\n",
        "#     --train \\\n",
        "#     --model_name PIDNet_S \\\n",
        "#     --version 5 \\\n",
        "#     --source_domain Urban \\\n",
        "#     --horizontal_flip_augmentation \\\n",
        "#     --shift_scale_rotate_augmentation \\\n",
        "#     --grid_distortion_augmentation \\\n",
        "#     --batch_size 6 \\\n",
        "#     --criterion OhemCrossEntropyLoss \\\n",
        "#     --optimizer SGD \\\n",
        "#     --scheduler PolynomialLR \\\n",
        "#     --lr 0.001 \\\n",
        "#     --epochs 20 \\\n",
        "#     --store drive"
      ]
    },
    {
      "cell_type": "code",
      "execution_count": null,
      "id": "aXiEITm_RHFd",
      "metadata": {
        "id": "aXiEITm_RHFd"
      },
      "outputs": [],
      "source": [
        "# Test\n",
        "# !python3 sem_seg.py \\\n",
        "#     --test \\\n",
        "#     --model_name PIDNet_S \\\n",
        "#     --version 5 \\\n",
        "#     --model_file last_0.pt \\\n",
        "#     --target_domain Urban \\\n",
        "#     --store drive\n",
        "\n",
        "# !python3 sem_seg.py \\\n",
        "#     --test \\\n",
        "#     --model_name PIDNet_S \\\n",
        "#     --version 5 \\\n",
        "#     --model_file best_0.pt \\\n",
        "#     --target_domain Urban \\\n",
        "#     --store drive\n",
        "\n",
        "# !python3 sem_seg.py \\\n",
        "#     --test \\\n",
        "#     --model_name PIDNet_S \\\n",
        "#     --version 5 \\\n",
        "#     --model_file last_0.pt \\\n",
        "#     --target_domain Rural \\\n",
        "#     --store drive\n",
        "\n",
        "# !python3 sem_seg.py \\\n",
        "#     --test \\\n",
        "#     --model_name PIDNet_S \\\n",
        "#     --version 5 \\\n",
        "#     --model_file best_0.pt \\\n",
        "#     --target_domain Rural \\\n",
        "#     --store drive"
      ]
    },
    {
      "cell_type": "markdown",
      "id": "VNvoI0647uJx",
      "metadata": {
        "id": "VNvoI0647uJx"
      },
      "source": [
        "### Version 6"
      ]
    },
    {
      "cell_type": "code",
      "execution_count": null,
      "id": "6pokdWxV7wDc",
      "metadata": {
        "id": "6pokdWxV7wDc"
      },
      "outputs": [],
      "source": [
        "# Train\n",
        "# !python3 sem_seg.py \\\n",
        "#     --train \\\n",
        "#     --model_name PIDNet_S \\\n",
        "#     --version 6 \\\n",
        "#     --source_domain Urban \\\n",
        "#     --horizontal_flip_augmentation \\\n",
        "#     --shift_scale_rotate_augmentation \\\n",
        "#     --random_crop_augmentation \\\n",
        "#     --batch_size 6 \\\n",
        "#     --criterion OhemCrossEntropyLoss \\\n",
        "#     --optimizer SGD \\\n",
        "#     --scheduler PolynomialLR \\\n",
        "#     --lr 0.001 \\\n",
        "#     --epochs 20 \\\n",
        "#     --store drive"
      ]
    },
    {
      "cell_type": "code",
      "execution_count": null,
      "id": "iQXuVpB6RnVy",
      "metadata": {
        "id": "iQXuVpB6RnVy"
      },
      "outputs": [],
      "source": [
        "# Test\n",
        "# !python3 sem_seg.py \\\n",
        "#     --test \\\n",
        "#     --model_name PIDNet_S \\\n",
        "#     --version 6 \\\n",
        "#     --model_file last_0.pt \\\n",
        "#     --target_domain Urban \\\n",
        "#     --store drive\n",
        "\n",
        "# !python3 sem_seg.py \\\n",
        "#     --test \\\n",
        "#     --model_name PIDNet_S \\\n",
        "#     --version 6 \\\n",
        "#     --model_file best_0.pt \\\n",
        "#     --target_domain Urban \\\n",
        "#     --store drive\n",
        "\n",
        "# !python3 sem_seg.py \\\n",
        "#     --test \\\n",
        "#     --model_name PIDNet_S \\\n",
        "#     --version 6 \\\n",
        "#     --model_file last_0.pt \\\n",
        "#     --target_domain Rural \\\n",
        "#     --store drive\n",
        "\n",
        "# !python3 sem_seg.py \\\n",
        "#     --test \\\n",
        "#     --model_name PIDNet_S \\\n",
        "#     --version 6 \\\n",
        "#     --model_file best_0.pt \\\n",
        "#     --target_domain Rural \\\n",
        "#     --store drive"
      ]
    },
    {
      "cell_type": "markdown",
      "id": "AKC-Ag3TKmD-",
      "metadata": {
        "id": "AKC-Ag3TKmD-"
      },
      "source": [
        "### Version 7"
      ]
    },
    {
      "cell_type": "code",
      "execution_count": null,
      "id": "OdxivdnvKory",
      "metadata": {
        "id": "OdxivdnvKory"
      },
      "outputs": [],
      "source": [
        "# Train\n",
        "# !python3 sem_seg.py \\\n",
        "#     --train \\\n",
        "#     --model_name PIDNet_S \\\n",
        "#     --version 7 \\\n",
        "#     --source_domain Urban \\\n",
        "#     --horizontal_flip_augmentation \\\n",
        "#     --shift_scale_rotate_augmentation \\\n",
        "#     --coarse_dropout_augmentation \\\n",
        "#     --batch_size 6 \\\n",
        "#     --criterion OhemCrossEntropyLoss \\\n",
        "#     --optimizer SGD \\\n",
        "#     --scheduler PolynomialLR \\\n",
        "#     --lr 0.001 \\\n",
        "#     --epochs 20 \\\n",
        "#     --store drive"
      ]
    },
    {
      "cell_type": "code",
      "execution_count": null,
      "id": "Gee8T9VcKqOr",
      "metadata": {
        "id": "Gee8T9VcKqOr"
      },
      "outputs": [],
      "source": [
        "# Test\n",
        "# !python3 sem_seg.py \\\n",
        "#     --test \\\n",
        "#     --model_name PIDNet_S \\\n",
        "#     --version 7 \\\n",
        "#     --model_file last_0.pt \\\n",
        "#     --target_domain Urban \\\n",
        "#     --store drive\n",
        "\n",
        "# !python3 sem_seg.py \\\n",
        "#     --test \\\n",
        "#     --model_name PIDNet_S \\\n",
        "#     --version 7 \\\n",
        "#     --model_file best_0.pt \\\n",
        "#     --target_domain Urban \\\n",
        "#     --store drive\n",
        "\n",
        "# !python3 sem_seg.py \\\n",
        "#     --test \\\n",
        "#     --model_name PIDNet_S \\\n",
        "#     --version 7 \\\n",
        "#     --model_file last_0.pt \\\n",
        "#     --target_domain Rural \\\n",
        "#     --store drive\n",
        "\n",
        "# !python3 sem_seg.py \\\n",
        "#     --test \\\n",
        "#     --model_name PIDNet_S \\\n",
        "#     --version 7 \\\n",
        "#     --model_file best_0.pt \\\n",
        "#     --target_domain Rural \\\n",
        "#     --store drive"
      ]
    },
    {
      "cell_type": "markdown",
      "id": "5z4Yf_e7LHBm",
      "metadata": {
        "id": "5z4Yf_e7LHBm"
      },
      "source": [
        "### Version 8"
      ]
    },
    {
      "cell_type": "code",
      "execution_count": null,
      "id": "_U266rfpLHVv",
      "metadata": {
        "id": "_U266rfpLHVv"
      },
      "outputs": [],
      "source": [
        "# Train\n",
        "# !python3 sem_seg.py \\\n",
        "#     --train \\\n",
        "#     --model_name PIDNet_S \\\n",
        "#     --version 8 \\\n",
        "#     --source_domain Urban \\\n",
        "#     --horizontal_flip_augmentation \\\n",
        "#     --random_crop_augmentation \\\n",
        "#     --coarse_dropout_augmentation \\\n",
        "#     --batch_size 6 \\\n",
        "#     --criterion OhemCrossEntropyLoss \\\n",
        "#     --optimizer SGD \\\n",
        "#     --scheduler PolynomialLR \\\n",
        "#     --lr 0.001 \\\n",
        "#     --epochs 20 \\\n",
        "#     --store drive"
      ]
    },
    {
      "cell_type": "code",
      "execution_count": null,
      "id": "adeO5RhlLGxJ",
      "metadata": {
        "id": "adeO5RhlLGxJ"
      },
      "outputs": [],
      "source": [
        "# Test\n",
        "# !python3 sem_seg.py \\\n",
        "#     --test \\\n",
        "#     --model_name PIDNet_S \\\n",
        "#     --version 8 \\\n",
        "#     --model_file last_0.pt \\\n",
        "#     --target_domain Urban \\\n",
        "#     --store drive\n",
        "\n",
        "# !python3 sem_seg.py \\\n",
        "#     --test \\\n",
        "#     --model_name PIDNet_S \\\n",
        "#     --version 8 \\\n",
        "#     --model_file best_0.pt \\\n",
        "#     --target_domain Urban \\\n",
        "#     --store drive\n",
        "\n",
        "# !python3 sem_seg.py \\\n",
        "#     --test \\\n",
        "#     --model_name PIDNet_S \\\n",
        "#     --version 8 \\\n",
        "#     --model_file last_0.pt \\\n",
        "#     --target_domain Rural \\\n",
        "#     --store drive\n",
        "\n",
        "# !python3 sem_seg.py \\\n",
        "#     --test \\\n",
        "#     --model_name PIDNet_S \\\n",
        "#     --version 8 \\\n",
        "#     --model_file best_0.pt \\\n",
        "#     --target_domain Rural \\\n",
        "#     --store drive"
      ]
    },
    {
      "cell_type": "markdown",
      "id": "1herMXx32Xsy",
      "metadata": {
        "id": "1herMXx32Xsy"
      },
      "source": [
        "### Version 9"
      ]
    },
    {
      "cell_type": "code",
      "execution_count": null,
      "id": "3Ver_pbF2YGD",
      "metadata": {
        "id": "3Ver_pbF2YGD"
      },
      "outputs": [],
      "source": [
        "# Train\n",
        "# !python3 sem_seg.py \\\n",
        "#     --train \\\n",
        "#     --model_name PIDNet_S \\\n",
        "#     --version 9 \\\n",
        "#     --source_domain Urban \\\n",
        "#     --horizontal_flip_augmentation \\\n",
        "#     --shift_scale_rotate_augmentation \\\n",
        "#     --random_crop_augmentation \\\n",
        "#     --color_jitter_augmentation \\\n",
        "#     --batch_size 6 \\\n",
        "#     --criterion OhemCrossEntropyLoss \\\n",
        "#     --optimizer SGD \\\n",
        "#     --scheduler PolynomialLR \\\n",
        "#     --lr 0.001 \\\n",
        "#     --epochs 20 \\\n",
        "#     --store drive"
      ]
    },
    {
      "cell_type": "code",
      "execution_count": null,
      "id": "eKK8UGDU2YWv",
      "metadata": {
        "id": "eKK8UGDU2YWv"
      },
      "outputs": [],
      "source": [
        "# Test\n",
        "# !python3 sem_seg.py \\\n",
        "#     --test \\\n",
        "#     --model_name PIDNet_S \\\n",
        "#     --version 9 \\\n",
        "#     --model_file last_0.pt \\\n",
        "#     --target_domain Urban \\\n",
        "#     --store drive\n",
        "\n",
        "# !python3 sem_seg.py \\\n",
        "#     --test \\\n",
        "#     --model_name PIDNet_S \\\n",
        "#     --version 9 \\\n",
        "#     --model_file best_0.pt \\\n",
        "#     --target_domain Urban \\\n",
        "#     --store drive\n",
        "\n",
        "# !python3 sem_seg.py \\\n",
        "#     --test \\\n",
        "#     --model_name PIDNet_S \\\n",
        "#     --version 9 \\\n",
        "#     --model_file last_0.pt \\\n",
        "#     --target_domain Rural \\\n",
        "#     --store drive\n",
        "\n",
        "# !python3 sem_seg.py \\\n",
        "#     --test \\\n",
        "#     --model_name PIDNet_S \\\n",
        "#     --version 9 \\\n",
        "#     --model_file best_0.pt \\\n",
        "#     --target_domain Rural \\\n",
        "#     --store drive"
      ]
    },
    {
      "cell_type": "markdown",
      "id": "ovbkQSWE2Yv-",
      "metadata": {
        "id": "ovbkQSWE2Yv-"
      },
      "source": [
        "### Version 10"
      ]
    },
    {
      "cell_type": "code",
      "execution_count": null,
      "id": "qAQDqgIK2ZDe",
      "metadata": {
        "id": "qAQDqgIK2ZDe"
      },
      "outputs": [],
      "source": [
        "# Train\n",
        "# !python3 sem_seg.py \\\n",
        "#     --train \\\n",
        "#     --model_name PIDNet_S \\\n",
        "#     --version 10 \\\n",
        "#     --source_domain Urban \\\n",
        "#     --horizontal_flip_augmentation \\\n",
        "#     --shift_scale_rotate_augmentation \\\n",
        "#     --random_crop_augmentation \\\n",
        "#     --gaussian_blur_augmentation \\\n",
        "#     --batch_size 6 \\\n",
        "#     --criterion OhemCrossEntropyLoss \\\n",
        "#     --optimizer SGD \\\n",
        "#     --scheduler PolynomialLR \\\n",
        "#     --lr 0.001 \\\n",
        "#     --epochs 20 \\\n",
        "#     --store drive"
      ]
    },
    {
      "cell_type": "code",
      "execution_count": null,
      "id": "znpavyL52ZQ1",
      "metadata": {
        "id": "znpavyL52ZQ1"
      },
      "outputs": [],
      "source": [
        "# Test\n",
        "# !python3 sem_seg.py \\\n",
        "#     --test \\\n",
        "#     --model_name PIDNet_S \\\n",
        "#     --version 10 \\\n",
        "#     --model_file last_0.pt \\\n",
        "#     --target_domain Urban \\\n",
        "#     --store drive\n",
        "\n",
        "# !python3 sem_seg.py \\\n",
        "#     --test \\\n",
        "#     --model_name PIDNet_S \\\n",
        "#     --version 10 \\\n",
        "#     --model_file best_0.pt \\\n",
        "#     --target_domain Urban \\\n",
        "#     --store drive\n",
        "\n",
        "# !python3 sem_seg.py \\\n",
        "#     --test \\\n",
        "#     --model_name PIDNet_S \\\n",
        "#     --version 10 \\\n",
        "#     --model_file last_0.pt \\\n",
        "#     --target_domain Rural \\\n",
        "#     --store drive\n",
        "\n",
        "# !python3 sem_seg.py \\\n",
        "#     --test \\\n",
        "#     --model_name PIDNet_S \\\n",
        "#     --version 10 \\\n",
        "#     --model_file best_0.pt \\\n",
        "#     --target_domain Rural \\\n",
        "#     --store drive"
      ]
    },
    {
      "cell_type": "markdown",
      "id": "biNElpGjeVHv",
      "metadata": {
        "id": "biNElpGjeVHv"
      },
      "source": [
        "## PIDNet Adversarial"
      ]
    },
    {
      "cell_type": "markdown",
      "id": "irYLA7-0eZOX",
      "metadata": {
        "id": "irYLA7-0eZOX"
      },
      "source": [
        "### Version 0"
      ]
    },
    {
      "cell_type": "code",
      "execution_count": null,
      "id": "b-LGktp3eYuE",
      "metadata": {
        "id": "b-LGktp3eYuE"
      },
      "outputs": [],
      "source": [
        "# Train\n",
        "# !python3 sem_seg_da_adv.py \\\n",
        "#     --train \\\n",
        "#     --mode single_level \\\n",
        "#     --model_name PIDNet_S \\\n",
        "#     --version 0 \\\n",
        "#     --batch_size 6 \\\n",
        "#     --lr 0.001 \\\n",
        "#     --lr_D 0.0005 \\\n",
        "#     --epochs 20 \\\n",
        "#     --store drive"
      ]
    },
    {
      "cell_type": "code",
      "execution_count": null,
      "id": "54g9BqqmeYjc",
      "metadata": {
        "id": "54g9BqqmeYjc"
      },
      "outputs": [],
      "source": [
        "# Test\n",
        "# !python3 sem_seg_da_adv.py \\\n",
        "#     --test \\\n",
        "#     --model_name PIDNet_S \\\n",
        "#     --version 0 \\\n",
        "#     --model_file last_0.pt \\\n",
        "#     --target_domain Urban \\\n",
        "#     --store drive\n",
        "\n",
        "# !python3 sem_seg_da_adv.py \\\n",
        "#     --test \\\n",
        "#     --model_name PIDNet_S \\\n",
        "#     --version 0 \\\n",
        "#     --model_file best_0.pt \\\n",
        "#     --target_domain Urban \\\n",
        "#     --store drive\n",
        "\n",
        "# !python3 sem_seg_da_adv.py \\\n",
        "#     --test \\\n",
        "#     --model_name PIDNet_S \\\n",
        "#     --version 0 \\\n",
        "#     --model_file last_0.pt \\\n",
        "#     --target_domain Rural \\\n",
        "#     --store drive\n",
        "\n",
        "# !python3 sem_seg_da_adv.py \\\n",
        "#     --test \\\n",
        "#     --model_name PIDNet_S \\\n",
        "#     --version 0 \\\n",
        "#     --model_file best_0.pt \\\n",
        "#     --target_domain Rural \\\n",
        "#     --store drive"
      ]
    },
    {
      "cell_type": "markdown",
      "id": "adFb_pQpkTk4",
      "metadata": {
        "id": "adFb_pQpkTk4"
      },
      "source": [
        "### Version 1"
      ]
    },
    {
      "cell_type": "code",
      "execution_count": null,
      "id": "efh2O5SrkV1p",
      "metadata": {
        "id": "efh2O5SrkV1p"
      },
      "outputs": [],
      "source": [
        "# Train\n",
        "# !python3 sem_seg_da_adv.py \\\n",
        "#     --train \\\n",
        "#     --mode single_level \\\n",
        "#     --model_name PIDNet_S \\\n",
        "#     --version 1 \\\n",
        "#     --horizontal_flip_augmentation \\\n",
        "#     --shift_scale_rotate_augmentation \\\n",
        "#     --random_crop_augmentation \\\n",
        "#     --batch_size 6 \\\n",
        "#     --lr 0.001 \\\n",
        "#     --lr_D 0.0005 \\\n",
        "#     --epochs 20 \\\n",
        "#     --store drive"
      ]
    },
    {
      "cell_type": "code",
      "execution_count": null,
      "id": "fSqZ_-Wplkjb",
      "metadata": {
        "id": "fSqZ_-Wplkjb"
      },
      "outputs": [],
      "source": [
        "# Test\n",
        "# !python3 sem_seg_da_adv.py \\\n",
        "#     --test \\\n",
        "#     --model_name PIDNet_S \\\n",
        "#     --version 1 \\\n",
        "#     --model_file last_0.pt \\\n",
        "#     --target_domain Urban \\\n",
        "#     --store drive\n",
        "\n",
        "# !python3 sem_seg_da_adv.py \\\n",
        "#     --test \\\n",
        "#     --model_name PIDNet_S \\\n",
        "#     --version 1 \\\n",
        "#     --model_file best_0.pt \\\n",
        "#     --target_domain Urban \\\n",
        "#     --store drive\n",
        "\n",
        "# !python3 sem_seg_da_adv.py \\\n",
        "#     --test \\\n",
        "#     --model_name PIDNet_S \\\n",
        "#     --version 1 \\\n",
        "#     --model_file last_0.pt \\\n",
        "#     --target_domain Rural \\\n",
        "#     --store drive\n",
        "\n",
        "# !python3 sem_seg_da_adv.py \\\n",
        "#     --test \\\n",
        "#     --model_name PIDNet_S \\\n",
        "#     --version 1 \\\n",
        "#     --model_file best_0.pt \\\n",
        "#     --target_domain Rural \\\n",
        "#     --store drive"
      ]
    },
    {
      "cell_type": "markdown",
      "id": "YZb8hqpwkG_x",
      "metadata": {
        "id": "YZb8hqpwkG_x"
      },
      "source": [
        "### Version 2"
      ]
    },
    {
      "cell_type": "code",
      "execution_count": null,
      "id": "TcPXbZlokPmx",
      "metadata": {
        "id": "TcPXbZlokPmx"
      },
      "outputs": [],
      "source": [
        "# Train\n",
        "# !python3 sem_seg_da_adv.py \\\n",
        "#     --train \\\n",
        "#     --mode multi_level \\\n",
        "#     --model_name PIDNet_S \\\n",
        "#     --version 2 \\\n",
        "#     --batch_size 6 \\\n",
        "#     --lr 0.001 \\\n",
        "#     --lr_D 0.0005 \\\n",
        "#     --epochs 20 \\\n",
        "#     --store drive"
      ]
    },
    {
      "cell_type": "code",
      "execution_count": null,
      "id": "jPxRgU0Pllon",
      "metadata": {
        "id": "jPxRgU0Pllon"
      },
      "outputs": [],
      "source": [
        "# Test\n",
        "# !python3 sem_seg_da_adv.py \\\n",
        "#     --test \\\n",
        "#     --model_name PIDNet_S \\\n",
        "#     --version 2 \\\n",
        "#     --model_file last_0.pt \\\n",
        "#     --target_domain Urban \\\n",
        "#     --store drive\n",
        "\n",
        "# !python3 sem_seg_da_adv.py \\\n",
        "#     --test \\\n",
        "#     --model_name PIDNet_S \\\n",
        "#     --version 2 \\\n",
        "#     --model_file best_0.pt \\\n",
        "#     --target_domain Urban \\\n",
        "#     --store drive\n",
        "\n",
        "# !python3 sem_seg_da_adv.py \\\n",
        "#     --test \\\n",
        "#     --model_name PIDNet_S \\\n",
        "#     --version 2 \\\n",
        "#     --model_file last_0.pt \\\n",
        "#     --target_domain Rural \\\n",
        "#     --store drive\n",
        "\n",
        "# !python3 sem_seg_da_adv.py \\\n",
        "#     --test \\\n",
        "#     --model_name PIDNet_S \\\n",
        "#     --version 2 \\\n",
        "#     --model_file best_0.pt \\\n",
        "#     --target_domain Rural \\\n",
        "#     --store drive"
      ]
    },
    {
      "cell_type": "markdown",
      "id": "zYzocCgYkYXS",
      "metadata": {
        "id": "zYzocCgYkYXS"
      },
      "source": [
        "### Version 3"
      ]
    },
    {
      "cell_type": "code",
      "execution_count": null,
      "id": "Pc54O_ZzkbKp",
      "metadata": {
        "id": "Pc54O_ZzkbKp"
      },
      "outputs": [],
      "source": [
        "# Train\n",
        "# !python3 sem_seg_da_adv.py \\\n",
        "#     --train \\\n",
        "#     --mode multi_level \\\n",
        "#     --model_name PIDNet_S \\\n",
        "#     --version 3 \\\n",
        "#     --horizontal_flip_augmentation \\\n",
        "#     --shift_scale_rotate_augmentation \\\n",
        "#     --random_crop_augmentation \\\n",
        "#     --batch_size 6 \\\n",
        "#     --lr 0.001 \\\n",
        "#     --lr_D 0.0005 \\\n",
        "#     --epochs 20 \\\n",
        "#     --store drive"
      ]
    },
    {
      "cell_type": "code",
      "execution_count": null,
      "id": "1vbBX9BYlnBE",
      "metadata": {
        "id": "1vbBX9BYlnBE"
      },
      "outputs": [],
      "source": [
        "# Test\n",
        "# !python3 sem_seg_da_adv.py \\\n",
        "#     --test \\\n",
        "#     --model_name PIDNet_S \\\n",
        "#     --version 3 \\\n",
        "#     --model_file last_0.pt \\\n",
        "#     --target_domain Urban \\\n",
        "#     --store drive\n",
        "\n",
        "# !python3 sem_seg_da_adv.py \\\n",
        "#     --test \\\n",
        "#     --model_name PIDNet_S \\\n",
        "#     --version 3 \\\n",
        "#     --model_file best_0.pt \\\n",
        "#     --target_domain Urban \\\n",
        "#     --store drive\n",
        "\n",
        "# !python3 sem_seg_da_adv.py \\\n",
        "#     --test \\\n",
        "#     --model_name PIDNet_S \\\n",
        "#     --version 3 \\\n",
        "#     --model_file last_0.pt \\\n",
        "#     --target_domain Rural \\\n",
        "#     --store drive\n",
        "\n",
        "# !python3 sem_seg_da_adv.py \\\n",
        "#     --test \\\n",
        "#     --model_name PIDNet_S \\\n",
        "#     --version 3 \\\n",
        "#     --model_file best_0.pt \\\n",
        "#     --target_domain Rural \\\n",
        "#     --store drive"
      ]
    },
    {
      "cell_type": "markdown",
      "id": "cZyo34KeoLxQ",
      "metadata": {
        "id": "cZyo34KeoLxQ"
      },
      "source": [
        "## PIDNet DACS"
      ]
    },
    {
      "cell_type": "markdown",
      "id": "VzOOjl14paoW",
      "metadata": {
        "id": "VzOOjl14paoW"
      },
      "source": [
        "### Version 0"
      ]
    },
    {
      "cell_type": "code",
      "execution_count": null,
      "id": "EnednNDQoMKM",
      "metadata": {
        "id": "EnednNDQoMKM"
      },
      "outputs": [],
      "source": [
        "# Train\n",
        "# !python3 sem_seg_dacs.py \\\n",
        "#     --train \\\n",
        "#     --resume \\\n",
        "#     --resume_epoch 4 \\\n",
        "#     --model_name PIDNet_S \\\n",
        "#     --version 0 \\\n",
        "#     --batch_size 6 \\\n",
        "#     --lr 0.001 \\\n",
        "#     --epochs 20 \\\n",
        "#     --store drive"
      ]
    },
    {
      "cell_type": "code",
      "execution_count": null,
      "id": "CeBe55ZNoLMS",
      "metadata": {
        "id": "CeBe55ZNoLMS"
      },
      "outputs": [],
      "source": [
        "# Test\n",
        "# !python3 sem_seg_dacs.py \\\n",
        "#     --test \\\n",
        "#     --model_name PIDNet_S \\\n",
        "#     --version 0 \\\n",
        "#     --model_file last_0.pt \\\n",
        "#     --target_domain Urban \\\n",
        "#     --store drive\n",
        "\n",
        "# !python3 sem_seg_dacs.py \\\n",
        "#     --test \\\n",
        "#     --model_name PIDNet_S \\\n",
        "#     --version 0 \\\n",
        "#     --model_file best_0.pt \\\n",
        "#     --target_domain Urban \\\n",
        "#     --store drive\n",
        "\n",
        "# !python3 sem_seg_dacs.py \\\n",
        "#     --test \\\n",
        "#     --model_name PIDNet_S \\\n",
        "#     --version 0 \\\n",
        "#     --model_file last_0.pt \\\n",
        "#     --target_domain Rural \\\n",
        "#     --store drive\n",
        "\n",
        "# !python3 sem_seg_dacs.py \\\n",
        "#     --test \\\n",
        "#     --model_name PIDNet_S \\\n",
        "#     --version 0 \\\n",
        "#     --model_file best_0.pt \\\n",
        "#     --target_domain Rural \\\n",
        "#     --store drive"
      ]
    },
    {
      "cell_type": "markdown",
      "id": "oOx2LDbKAtwj",
      "metadata": {
        "id": "oOx2LDbKAtwj"
      },
      "source": [
        "### Version 1"
      ]
    },
    {
      "cell_type": "code",
      "execution_count": null,
      "id": "hbooirsXAvsq",
      "metadata": {
        "id": "hbooirsXAvsq"
      },
      "outputs": [],
      "source": [
        "# Train\n",
        "# !python3 sem_seg_dacs.py \\\n",
        "#     --train \\\n",
        "#     --model_name PIDNet_S \\\n",
        "#     --version 1 \\\n",
        "#     --batch_size 6 \\\n",
        "#     --random_crop_augmentation \\\n",
        "#     --lr 0.001 \\\n",
        "#     --epochs 20 \\\n",
        "#     --store drive"
      ]
    },
    {
      "cell_type": "code",
      "execution_count": null,
      "id": "0SWJ1Y-YAvar",
      "metadata": {
        "id": "0SWJ1Y-YAvar"
      },
      "outputs": [],
      "source": [
        "# Test\n",
        "# !python3 sem_seg_dacs.py \\\n",
        "#     --test \\\n",
        "#     --model_name PIDNet_S \\\n",
        "#     --version 1 \\\n",
        "#     --model_file last_0.pt \\\n",
        "#     --target_domain Urban \\\n",
        "#     --store drive\n",
        "\n",
        "# !python3 sem_seg_dacs.py \\\n",
        "#     --test \\\n",
        "#     --model_name PIDNet_S \\\n",
        "#     --version 1 \\\n",
        "#     --model_file best_0.pt \\\n",
        "#     --target_domain Urban \\\n",
        "#     --store drive\n",
        "\n",
        "# !python3 sem_seg_dacs.py \\\n",
        "#     --test \\\n",
        "#     --model_name PIDNet_S \\\n",
        "#     --version 1 \\\n",
        "#     --model_file last_0.pt \\\n",
        "#     --target_domain Rural \\\n",
        "#     --store drive\n",
        "\n",
        "# !python3 sem_seg_dacs.py \\\n",
        "#     --test \\\n",
        "#     --model_name PIDNet_S \\\n",
        "#     --version 1 \\\n",
        "#     --model_file best_0.pt \\\n",
        "#     --target_domain Rural \\\n",
        "#     --store drive"
      ]
    },
    {
      "cell_type": "markdown",
      "id": "yJAoqZbzpcdR",
      "metadata": {
        "id": "yJAoqZbzpcdR"
      },
      "source": [
        "### Version 2"
      ]
    },
    {
      "cell_type": "code",
      "execution_count": null,
      "id": "D7WdvhK_peDX",
      "metadata": {
        "id": "D7WdvhK_peDX"
      },
      "outputs": [],
      "source": [
        "# Train\n",
        "# !python3 sem_seg_dacs.py \\\n",
        "#     --train \\\n",
        "#     --model_name PIDNet_S \\\n",
        "#     --version 2 \\\n",
        "#     --batch_size 6 \\\n",
        "#     --augment_mixed \\\n",
        "#     --random_crop_augmentation \\\n",
        "#     --color_jitter_augmentation \\\n",
        "#     --gaussian_blur_augmentation \\\n",
        "#     --lr 0.001 \\\n",
        "#     --epochs 20 \\\n",
        "#     --store drive"
      ]
    },
    {
      "cell_type": "code",
      "execution_count": null,
      "id": "uWl5DSfUpjpD",
      "metadata": {
        "id": "uWl5DSfUpjpD"
      },
      "outputs": [],
      "source": [
        "# Test\n",
        "# !python3 sem_seg_dacs.py \\\n",
        "#     --test \\\n",
        "#     --model_name PIDNet_S \\\n",
        "#     --version 2 \\\n",
        "#     --model_file last_0.pt \\\n",
        "#     --target_domain Urban \\\n",
        "#     --store drive\n",
        "\n",
        "# !python3 sem_seg_dacs.py \\\n",
        "#     --test \\\n",
        "#     --model_name PIDNet_S \\\n",
        "#     --version 2 \\\n",
        "#     --model_file best_0.pt \\\n",
        "#     --target_domain Urban \\\n",
        "#     --store drive\n",
        "\n",
        "# !python3 sem_seg_dacs.py \\\n",
        "#     --test \\\n",
        "#     --model_name PIDNet_S \\\n",
        "#     --version 2 \\\n",
        "#     --model_file last_0.pt \\\n",
        "#     --target_domain Rural \\\n",
        "#     --store drive\n",
        "\n",
        "# !python3 sem_seg_dacs.py \\\n",
        "#     --test \\\n",
        "#     --model_name PIDNet_S \\\n",
        "#     --version 2 \\\n",
        "#     --model_file best_0.pt \\\n",
        "#     --target_domain Rural \\\n",
        "#     --store drive"
      ]
    },
    {
      "cell_type": "markdown",
      "id": "08psIDuOw7Ns",
      "metadata": {
        "id": "08psIDuOw7Ns"
      },
      "source": [
        "### Version 3"
      ]
    },
    {
      "cell_type": "code",
      "execution_count": null,
      "id": "YVqoA7JldBwI",
      "metadata": {
        "id": "YVqoA7JldBwI"
      },
      "outputs": [],
      "source": [
        "# Train\n",
        "# !python3 sem_seg_dacs.py \\\n",
        "#     --train \\\n",
        "#     --model_name PIDNet_S \\\n",
        "#     --version 3 \\\n",
        "#     --batch_size 6 \\\n",
        "#     --augment_mixed \\\n",
        "#     --random_crop_augmentation \\\n",
        "#     --horizontal_flip_augmentation \\\n",
        "#     --shift_scale_rotate_augmentation \\\n",
        "#     --lr 0.001 \\\n",
        "#     --epochs 20 \\\n",
        "#     --store drive"
      ]
    },
    {
      "cell_type": "code",
      "execution_count": null,
      "id": "wpE6wPDgxROE",
      "metadata": {
        "id": "wpE6wPDgxROE"
      },
      "outputs": [],
      "source": [
        "# Test\n",
        "# !python3 sem_seg_dacs.py \\\n",
        "#     --test \\\n",
        "#     --model_name PIDNet_S \\\n",
        "#     --version 3 \\\n",
        "#     --model_file last_0.pt \\\n",
        "#     --target_domain Urban \\\n",
        "#     --store drive\n",
        "\n",
        "# !python3 sem_seg_dacs.py \\\n",
        "#     --test \\\n",
        "#     --model_name PIDNet_S \\\n",
        "#     --version 3 \\\n",
        "#     --model_file best_0.pt \\\n",
        "#     --target_domain Urban \\\n",
        "#     --store drive\n",
        "\n",
        "# !python3 sem_seg_dacs.py \\\n",
        "#     --test \\\n",
        "#     --model_name PIDNet_S \\\n",
        "#     --version 3 \\\n",
        "#     --model_file last_0.pt \\\n",
        "#     --target_domain Rural \\\n",
        "#     --store drive\n",
        "\n",
        "# !python3 sem_seg_dacs.py \\\n",
        "#     --test \\\n",
        "#     --model_name PIDNet_S \\\n",
        "#     --version 3 \\\n",
        "#     --model_file best_0.pt \\\n",
        "#     --target_domain Rural \\\n",
        "#     --store drive"
      ]
    },
    {
      "cell_type": "markdown",
      "id": "ddc863bc",
      "metadata": {
        "id": "ddc863bc"
      },
      "source": [
        "### Version 4"
      ]
    },
    {
      "cell_type": "code",
      "execution_count": null,
      "id": "2b22447a",
      "metadata": {
        "id": "2b22447a"
      },
      "outputs": [],
      "source": [
        "# Train\n",
        "# !python3 sem_seg_dacs.py \\\n",
        "#     --train \\\n",
        "#     --model_name PIDNet_S \\\n",
        "#     --version 4 \\\n",
        "#     --batch_size 6 \\\n",
        "#     --augment_source \\\n",
        "#     --augment_mixed \\\n",
        "#     --random_crop_augmentation \\\n",
        "#     --color_jitter_augmentation \\\n",
        "#     --gaussian_blur_augmentation \\\n",
        "#     --lr 0.001 \\\n",
        "#     --epochs 20 \\\n",
        "#     --store drive"
      ]
    },
    {
      "cell_type": "code",
      "execution_count": null,
      "id": "70405b38",
      "metadata": {
        "id": "70405b38"
      },
      "outputs": [],
      "source": [
        "# Test\n",
        "# !python3 sem_seg_dacs.py \\\n",
        "#     --test \\\n",
        "#     --model_name PIDNet_S \\\n",
        "#     --version 4 \\\n",
        "#     --model_file last_0.pt \\\n",
        "#     --target_domain Urban \\\n",
        "#     --store drive\n",
        "\n",
        "# !python3 sem_seg_dacs.py \\\n",
        "#     --test \\\n",
        "#     --model_name PIDNet_S \\\n",
        "#     --version 4 \\\n",
        "#     --model_file best_0.pt \\\n",
        "#     --target_domain Urban \\\n",
        "#     --store drive\n",
        "\n",
        "# !python3 sem_seg_dacs.py \\\n",
        "#     --test \\\n",
        "#     --model_name PIDNet_S \\\n",
        "#     --version 4 \\\n",
        "#     --model_file last_0.pt \\\n",
        "#     --target_domain Rural \\\n",
        "#     --store drive\n",
        "\n",
        "# !python3 sem_seg_dacs.py \\\n",
        "#     --test \\\n",
        "#     --model_name PIDNet_S \\\n",
        "#     --version 4 \\\n",
        "#     --model_file best_0.pt \\\n",
        "#     --target_domain Rural \\\n",
        "#     --store drive"
      ]
    },
    {
      "cell_type": "markdown",
      "id": "4f9e1c0c",
      "metadata": {
        "id": "4f9e1c0c"
      },
      "source": [
        "### Version 5"
      ]
    },
    {
      "cell_type": "code",
      "execution_count": null,
      "id": "c7a10017",
      "metadata": {
        "id": "c7a10017"
      },
      "outputs": [],
      "source": [
        "# Train\n",
        "# !python3 sem_seg_dacs.py \\\n",
        "#     --train \\\n",
        "#     --model_name PIDNet_S \\\n",
        "#     --version 5 \\\n",
        "#     --batch_size 6 \\\n",
        "#     --augment_source \\\n",
        "#     --augment_mixed \\\n",
        "#     --random_crop_augmentation \\\n",
        "#     --horizontal_flip_augmentation \\\n",
        "#     --shift_scale_rotate_augmentation \\\n",
        "#     --lr 0.001 \\\n",
        "#     --epochs 20 \\\n",
        "#     --store drive"
      ]
    },
    {
      "cell_type": "code",
      "execution_count": null,
      "id": "6029cd1b",
      "metadata": {
        "id": "6029cd1b"
      },
      "outputs": [],
      "source": [
        "# Test\n",
        "# !python3 sem_seg_dacs.py \\\n",
        "#     --test \\\n",
        "#     --model_name PIDNet_S \\\n",
        "#     --version 5 \\\n",
        "#     --model_file last_0.pt \\\n",
        "#     --target_domain Urban \\\n",
        "#     --store drive\n",
        "\n",
        "# !python3 sem_seg_dacs.py \\\n",
        "#     --test \\\n",
        "#     --model_name PIDNet_S \\\n",
        "#     --version 5 \\\n",
        "#     --model_file best_0.pt \\\n",
        "#     --target_domain Urban \\\n",
        "#     --store drive\n",
        "\n",
        "# !python3 sem_seg_dacs.py \\\n",
        "#     --test \\\n",
        "#     --model_name PIDNet_S \\\n",
        "#     --version 5 \\\n",
        "#     --model_file last_0.pt \\\n",
        "#     --target_domain Rural \\\n",
        "#     --store drive\n",
        "\n",
        "# !python3 sem_seg_dacs.py \\\n",
        "#     --test \\\n",
        "#     --model_name PIDNet_S \\\n",
        "#     --version 5 \\\n",
        "#     --model_file best_0.pt \\\n",
        "#     --target_domain Rural \\\n",
        "#     --store drive"
      ]
    },
    {
      "cell_type": "markdown",
      "id": "d7b49803",
      "metadata": {
        "id": "d7b49803"
      },
      "source": [
        "### Version X"
      ]
    },
    {
      "cell_type": "code",
      "execution_count": null,
      "id": "09715c62",
      "metadata": {
        "id": "09715c62"
      },
      "outputs": [],
      "source": [
        "# Train\n",
        "# !python3 sem_seg_dacs.py \\\n",
        "#     --train \\\n",
        "#     --model_name PIDNet_S \\\n",
        "#     --version X \\\n",
        "#     --batch_size 6 \\\n",
        "#     --augment_mixed \\\n",
        "#     --random_crop_augmentation \\\n",
        "#     --horizontal_flip_augmentation \\\n",
        "#     --shift_scale_rotate_augmentation \\\n",
        "#     --lr 0.0001 \\\n",
        "#     --epochs 200 \\\n",
        "#     --store drive"
      ]
    },
    {
      "cell_type": "code",
      "execution_count": null,
      "id": "7743fdf0",
      "metadata": {
        "id": "7743fdf0"
      },
      "outputs": [],
      "source": [
        "# Test\n",
        "# !python3 sem_seg_dacs.py \\\n",
        "#     --test \\\n",
        "#     --model_name PIDNet_S \\\n",
        "#     --version X \\\n",
        "#     --model_file last_0.pt \\\n",
        "#     --target_domain Urban \\\n",
        "#     --store drive\n",
        "\n",
        "# !python3 sem_seg_dacs.py \\\n",
        "#     --test \\\n",
        "#     --model_name PIDNet_S \\\n",
        "#     --version X \\\n",
        "#     --model_file best_0.pt \\\n",
        "#     --target_domain Urban \\\n",
        "#     --store drive\n",
        "\n",
        "# !python3 sem_seg_dacs.py \\\n",
        "#     --test \\\n",
        "#     --model_name PIDNet_S \\\n",
        "#     --version X \\\n",
        "#     --model_file last_0.pt \\\n",
        "#     --target_domain Rural \\\n",
        "#     --store drive\n",
        "\n",
        "# !python3 sem_seg_dacs.py \\\n",
        "#     --test \\\n",
        "#     --model_name PIDNet_S \\\n",
        "#     --version X \\\n",
        "#     --model_file best_0.pt \\\n",
        "#     --target_domain Rural \\\n",
        "#     --store drive"
      ]
    },
    {
      "cell_type": "markdown",
      "id": "c8aa59b8",
      "metadata": {
        "id": "c8aa59b8"
      },
      "source": [
        "## PIDNet DACS GCW LDQ"
      ]
    },
    {
      "cell_type": "markdown",
      "id": "d4f4140a",
      "metadata": {
        "id": "d4f4140a"
      },
      "source": [
        "### Version 0"
      ]
    },
    {
      "cell_type": "code",
      "execution_count": null,
      "id": "77ec5f63",
      "metadata": {
        "id": "77ec5f63"
      },
      "outputs": [],
      "source": [
        "# Train\n",
        "# !python3 sem_seg_dacs_gcw_ldq.py \\\n",
        "#     --train \\\n",
        "#     --gcw \\\n",
        "#     --model_name PIDNet_S \\\n",
        "#     --version 0 \\\n",
        "#     --batch_size 6 \\\n",
        "#     --random_crop_augmentation \\\n",
        "#     --lr 0.001 \\\n",
        "#     --epochs 20 \\\n",
        "#     --store drive"
      ]
    },
    {
      "cell_type": "code",
      "execution_count": null,
      "id": "1f5acd42",
      "metadata": {
        "id": "1f5acd42"
      },
      "outputs": [],
      "source": [
        "# Test\n",
        "# !python3 sem_seg_dacs_gcw_ldq.py \\\n",
        "#     --test \\\n",
        "#     --model_name PIDNet_S \\\n",
        "#     --version 0 \\\n",
        "#     --model_file last_0.pt \\\n",
        "#     --target_domain Urban \\\n",
        "#     --store drive\n",
        "\n",
        "# !python3 sem_seg_dacs_gcw_ldq.py \\\n",
        "#     --test \\\n",
        "#     --model_name PIDNet_S \\\n",
        "#     --version 0 \\\n",
        "#     --model_file best_0.pt \\\n",
        "#     --target_domain Urban \\\n",
        "#     --store drive\n",
        "\n",
        "# !python3 sem_seg_dacs_gcw_ldq.py \\\n",
        "#     --test \\\n",
        "#     --model_name PIDNet_S \\\n",
        "#     --version 0 \\\n",
        "#     --model_file last_0.pt \\\n",
        "#     --target_domain Rural \\\n",
        "#     --store drive\n",
        "\n",
        "# !python3 sem_seg_dacs_gcw_ldq.py \\\n",
        "#     --test \\\n",
        "#     --model_name PIDNet_S \\\n",
        "#     --version 0 \\\n",
        "#     --model_file best_0.pt \\\n",
        "#     --target_domain Rural \\\n",
        "#     --store drive"
      ]
    },
    {
      "cell_type": "markdown",
      "id": "b5d8c756",
      "metadata": {
        "id": "b5d8c756"
      },
      "source": [
        "### Version 1"
      ]
    },
    {
      "cell_type": "code",
      "execution_count": null,
      "id": "ebda5ac4",
      "metadata": {
        "id": "ebda5ac4"
      },
      "outputs": [],
      "source": [
        "# Train\n",
        "# !python3 sem_seg_dacs_gcw_ldq.py \\\n",
        "#     --train \\\n",
        "#     --ldq \\\n",
        "#     --model_name PIDNet_S \\\n",
        "#     --version 1 \\\n",
        "#     --batch_size 6 \\\n",
        "#     --random_crop_augmentation \\\n",
        "#     --lr 0.001 \\\n",
        "#     --epochs 20 \\\n",
        "#     --store drive"
      ]
    },
    {
      "cell_type": "code",
      "execution_count": null,
      "id": "f4761929",
      "metadata": {
        "id": "f4761929"
      },
      "outputs": [],
      "source": [
        "# Test\n",
        "# !python3 sem_seg_dacs_gcw_ldq.py \\\n",
        "#     --test \\\n",
        "#     --model_name PIDNet_S \\\n",
        "#     --version 1 \\\n",
        "#     --model_file last_0.pt \\\n",
        "#     --target_domain Urban \\\n",
        "#     --store drive\n",
        "\n",
        "# !python3 sem_seg_dacs_gcw_ldq.py \\\n",
        "#     --test \\\n",
        "#     --model_name PIDNet_S \\\n",
        "#     --version 1 \\\n",
        "#     --model_file best_0.pt \\\n",
        "#     --target_domain Urban \\\n",
        "#     --store drive\n",
        "\n",
        "# !python3 sem_seg_dacs_gcw_ldq.py \\\n",
        "#     --test \\\n",
        "#     --model_name PIDNet_S \\\n",
        "#     --version 1 \\\n",
        "#     --model_file last_0.pt \\\n",
        "#     --target_domain Rural \\\n",
        "#     --store drive\n",
        "\n",
        "# !python3 sem_seg_dacs_gcw_ldq.py \\\n",
        "#     --test \\\n",
        "#     --model_name PIDNet_S \\\n",
        "#     --version 1 \\\n",
        "#     --model_file best_0.pt \\\n",
        "#     --target_domain Rural \\\n",
        "#     --store drive"
      ]
    },
    {
      "cell_type": "markdown",
      "id": "eccda843",
      "metadata": {
        "id": "eccda843"
      },
      "source": [
        "### Version 2"
      ]
    },
    {
      "cell_type": "code",
      "execution_count": null,
      "id": "89159a73",
      "metadata": {
        "id": "89159a73"
      },
      "outputs": [],
      "source": [
        "# Train\n",
        "# !python3 sem_seg_dacs_gcw_ldq.py \\\n",
        "#     --train \\\n",
        "#     --gcw \\\n",
        "#     --ldq \\\n",
        "#     --model_name PIDNet_S \\\n",
        "#     --version 2 \\\n",
        "#     --batch_size 6 \\\n",
        "#     --random_crop_augmentation \\\n",
        "#     --lr 0.001 \\\n",
        "#     --epochs 20 \\\n",
        "#     --store drive"
      ]
    },
    {
      "cell_type": "code",
      "execution_count": null,
      "id": "2ad6760f",
      "metadata": {
        "id": "2ad6760f"
      },
      "outputs": [],
      "source": [
        "# Test\n",
        "# !python3 sem_seg_dacs_gcw_ldq.py \\\n",
        "#     --test \\\n",
        "#     --model_name PIDNet_S \\\n",
        "#     --version 2 \\\n",
        "#     --model_file last_0.pt \\\n",
        "#     --target_domain Urban \\\n",
        "#     --store drive\n",
        "\n",
        "# !python3 sem_seg_dacs_gcw_ldq.py \\\n",
        "#     --test \\\n",
        "#     --model_name PIDNet_S \\\n",
        "#     --version 2 \\\n",
        "#     --model_file best_0.pt \\\n",
        "#     --target_domain Urban \\\n",
        "#     --store drive\n",
        "\n",
        "# !python3 sem_seg_dacs_gcw_ldq.py \\\n",
        "#     --test \\\n",
        "#     --model_name PIDNet_S \\\n",
        "#     --version 2 \\\n",
        "#     --model_file last_0.pt \\\n",
        "#     --target_domain Rural \\\n",
        "#     --store drive\n",
        "\n",
        "# !python3 sem_seg_dacs_gcw_ldq.py \\\n",
        "#     --test \\\n",
        "#     --model_name PIDNet_S \\\n",
        "#     --version 2 \\\n",
        "#     --model_file best_0.pt \\\n",
        "#     --target_domain Rural \\\n",
        "#     --store drive"
      ]
    },
    {
      "cell_type": "markdown",
      "id": "431c4709",
      "metadata": {
        "id": "431c4709"
      },
      "source": [
        "### Version 3"
      ]
    },
    {
      "cell_type": "code",
      "execution_count": null,
      "id": "0c4e3ee8",
      "metadata": {
        "id": "0c4e3ee8"
      },
      "outputs": [],
      "source": [
        "# Train\n",
        "# !python3 sem_seg_dacs_gcw_ldq.py \\\n",
        "#     --train \\\n",
        "#     --gcw \\\n",
        "#     --model_name PIDNet_S \\\n",
        "#     --version 3 \\\n",
        "#     --batch_size 6 \\\n",
        "#     --augment_mixed \\\n",
        "#     --random_crop_augmentation \\\n",
        "#     --horizontal_flip_augmentation \\\n",
        "#     --shift_scale_rotate_augmentation \\\n",
        "#     --lr 0.001 \\\n",
        "#     --epochs 20 \\\n",
        "#     --store drive"
      ]
    },
    {
      "cell_type": "code",
      "execution_count": null,
      "id": "128446a5",
      "metadata": {
        "id": "128446a5"
      },
      "outputs": [],
      "source": [
        "# Test\n",
        "# !python3 sem_seg_dacs_gcw_ldq.py \\\n",
        "#     --test \\\n",
        "#     --model_name PIDNet_S \\\n",
        "#     --version 3 \\\n",
        "#     --model_file last_0.pt \\\n",
        "#     --target_domain Urban \\\n",
        "#     --store drive\n",
        "\n",
        "# !python3 sem_seg_dacs_gcw_ldq.py \\\n",
        "#     --test \\\n",
        "#     --model_name PIDNet_S \\\n",
        "#     --version 3 \\\n",
        "#     --model_file best_0.pt \\\n",
        "#     --target_domain Urban \\\n",
        "#     --store drive\n",
        "\n",
        "# !python3 sem_seg_dacs_gcw_ldq.py \\\n",
        "#     --test \\\n",
        "#     --model_name PIDNet_S \\\n",
        "#     --version 3 \\\n",
        "#     --model_file last_0.pt \\\n",
        "#     --target_domain Rural \\\n",
        "#     --store drive\n",
        "\n",
        "# !python3 sem_seg_dacs_gcw_ldq.py \\\n",
        "#     --test \\\n",
        "#     --model_name PIDNet_S \\\n",
        "#     --version 3 \\\n",
        "#     --model_file best_0.pt \\\n",
        "#     --target_domain Rural \\\n",
        "#     --store drive"
      ]
    },
    {
      "cell_type": "markdown",
      "id": "a65431e1",
      "metadata": {
        "id": "a65431e1"
      },
      "source": [
        "### Version 4"
      ]
    },
    {
      "cell_type": "code",
      "execution_count": null,
      "id": "42238c1f",
      "metadata": {
        "id": "42238c1f"
      },
      "outputs": [],
      "source": [
        "# Train\n",
        "# !python3 sem_seg_dacs_gcw_ldq.py \\\n",
        "#     --train \\\n",
        "#     --ldq \\\n",
        "#     --model_name PIDNet_S \\\n",
        "#     --version 4 \\\n",
        "#     --batch_size 6 \\\n",
        "#     --augment_mixed \\\n",
        "#     --random_crop_augmentation \\\n",
        "#     --horizontal_flip_augmentation \\\n",
        "#     --shift_scale_rotate_augmentation \\\n",
        "#     --lr 0.001 \\\n",
        "#     --epochs 20 \\\n",
        "#     --store drive"
      ]
    },
    {
      "cell_type": "code",
      "execution_count": null,
      "id": "f4bf7015",
      "metadata": {
        "id": "f4bf7015"
      },
      "outputs": [],
      "source": [
        "# Test\n",
        "# !python3 sem_seg_dacs_gcw_ldq.py \\\n",
        "#     --test \\\n",
        "#     --model_name PIDNet_S \\\n",
        "#     --version 4 \\\n",
        "#     --model_file last_0.pt \\\n",
        "#     --target_domain Urban \\\n",
        "#     --store drive\n",
        "\n",
        "# !python3 sem_seg_dacs_gcw_ldq.py \\\n",
        "#     --test \\\n",
        "#     --model_name PIDNet_S \\\n",
        "#     --version 4 \\\n",
        "#     --model_file best_0.pt \\\n",
        "#     --target_domain Urban \\\n",
        "#     --store drive\n",
        "\n",
        "# !python3 sem_seg_dacs_gcw_ldq.py \\\n",
        "#     --test \\\n",
        "#     --model_name PIDNet_S \\\n",
        "#     --version 4 \\\n",
        "#     --model_file last_0.pt \\\n",
        "#     --target_domain Rural \\\n",
        "#     --store drive\n",
        "\n",
        "# !python3 sem_seg_dacs_gcw_ldq.py \\\n",
        "#     --test \\\n",
        "#     --model_name PIDNet_S \\\n",
        "#     --version 4 \\\n",
        "#     --model_file best_0.pt \\\n",
        "#     --target_domain Rural \\\n",
        "#     --store drive"
      ]
    },
    {
      "cell_type": "markdown",
      "id": "f6fa569b",
      "metadata": {
        "id": "f6fa569b"
      },
      "source": [
        "### Version 5"
      ]
    },
    {
      "cell_type": "code",
      "execution_count": null,
      "id": "73d5355c",
      "metadata": {
        "id": "73d5355c"
      },
      "outputs": [],
      "source": [
        "# Train\n",
        "# !python3 sem_seg_dacs_gcw_ldq.py \\\n",
        "#     --train \\\n",
        "#     --gcw \\\n",
        "#     --ldq \\\n",
        "#     --model_name PIDNet_S \\\n",
        "#     --version 5 \\\n",
        "#     --batch_size 6 \\\n",
        "#     --augment_mixed \\\n",
        "#     --random_crop_augmentation \\\n",
        "#     --horizontal_flip_augmentation \\\n",
        "#     --shift_scale_rotate_augmentation \\\n",
        "#     --lr 0.001 \\\n",
        "#     --epochs 20 \\\n",
        "#     --store drive"
      ]
    },
    {
      "cell_type": "code",
      "execution_count": null,
      "id": "9ae2e988",
      "metadata": {
        "id": "9ae2e988"
      },
      "outputs": [],
      "source": [
        "# Test\n",
        "# !python3 sem_seg_dacs_gcw_ldq.py \\\n",
        "#     --test \\\n",
        "#     --model_name PIDNet_S \\\n",
        "#     --version 5 \\\n",
        "#     --model_file last_0.pt \\\n",
        "#     --target_domain Urban \\\n",
        "#     --store drive\n",
        "\n",
        "# !python3 sem_seg_dacs_gcw_ldq.py \\\n",
        "#     --test \\\n",
        "#     --model_name PIDNet_S \\\n",
        "#     --version 5 \\\n",
        "#     --model_file best_0.pt \\\n",
        "#     --target_domain Urban \\\n",
        "#     --store drive\n",
        "\n",
        "# !python3 sem_seg_dacs_gcw_ldq.py \\\n",
        "#     --test \\\n",
        "#     --model_name PIDNet_S \\\n",
        "#     --version 5 \\\n",
        "#     --model_file last_0.pt \\\n",
        "#     --target_domain Rural \\\n",
        "#     --store drive\n",
        "\n",
        "# !python3 sem_seg_dacs_gcw_ldq.py \\\n",
        "#     --test \\\n",
        "#     --model_name PIDNet_S \\\n",
        "#     --version 5 \\\n",
        "#     --model_file best_0.pt \\\n",
        "#     --target_domain Rural \\\n",
        "#     --store drive"
      ]
    },
    {
      "cell_type": "markdown",
      "id": "06499520",
      "metadata": {
        "id": "06499520"
      },
      "source": [
        "### Version X"
      ]
    },
    {
      "cell_type": "code",
      "execution_count": null,
      "id": "237ef991",
      "metadata": {
        "id": "237ef991"
      },
      "outputs": [],
      "source": [
        "# Train\n",
        "# !python3 sem_seg_dacs_gcw_ldq.py \\\n",
        "#     --train \\\n",
        "#     --resume \\\n",
        "#     --resume_epoch 151 \\\n",
        "#     --gcw \\\n",
        "#     --ldq \\\n",
        "#     --model_name PIDNet_S \\\n",
        "#     --version X \\\n",
        "#     --batch_size 6 \\\n",
        "#     --augment_mixed \\\n",
        "#     --random_crop_augmentation \\\n",
        "#     --horizontal_flip_augmentation \\\n",
        "#     --shift_scale_rotate_augmentation \\\n",
        "#     --lr 0.0001 \\\n",
        "#     --epochs 200 \\\n",
        "#     --store drive"
      ]
    },
    {
      "cell_type": "code",
      "execution_count": null,
      "id": "9a5ef413",
      "metadata": {
        "id": "9a5ef413"
      },
      "outputs": [],
      "source": [
        "# Test\n",
        "# !python3 sem_seg_dacs_gcw_ldq.py \\\n",
        "#     --test \\\n",
        "#     --model_name PIDNet_S \\\n",
        "#     --version X \\\n",
        "#     --model_file last_0.pt \\\n",
        "#     --target_domain Urban \\\n",
        "#     --store drive\n",
        "\n",
        "# !python3 sem_seg_dacs_gcw_ldq.py \\\n",
        "#     --test \\\n",
        "#     --model_name PIDNet_S \\\n",
        "#     --version X \\\n",
        "#     --model_file best_0.pt \\\n",
        "#     --target_domain Urban \\\n",
        "#     --store drive\n",
        "\n",
        "# !python3 sem_seg_dacs_gcw_ldq.py \\\n",
        "#     --test \\\n",
        "#     --model_name PIDNet_S \\\n",
        "#     --version X \\\n",
        "#     --model_file last_0.pt \\\n",
        "#     --target_domain Rural \\\n",
        "#     --store drive\n",
        "\n",
        "# !python3 sem_seg_dacs_gcw_ldq.py \\\n",
        "#     --test \\\n",
        "#     --model_name PIDNet_S \\\n",
        "#     --version X \\\n",
        "#     --model_file best_0.pt \\\n",
        "#     --target_domain Rural \\\n",
        "#     --store drive"
      ]
    },
    {
      "cell_type": "markdown",
      "source": [
        "### PIDNet_M experiments"
      ],
      "metadata": {
        "id": "BnA38rS_KMMc"
      },
      "id": "BnA38rS_KMMc"
    },
    {
      "cell_type": "code",
      "source": [
        "# Train\n",
        "!python3 sem_seg.py \\\n",
        "    --train \\\n",
        "    --model_name PIDNet_M \\\n",
        "    --version Y \\\n",
        "    --source_domain Urban \\\n",
        "    --batch_size 6 \\\n",
        "    --criterion OhemCrossEntropyLoss \\\n",
        "    --optimizer SGD \\\n",
        "    --scheduler PolynomialLR \\\n",
        "    --lr 0.001 \\\n",
        "    --epochs 30 \\\n",
        "    --store drive"
      ],
      "metadata": {
        "id": "1ftVXlywKVOt",
        "outputId": "dc05f627-1ca6-4d10-f97e-d8f2a75c87cc",
        "colab": {
          "base_uri": "https://localhost:8080/"
        }
      },
      "id": "1ftVXlywKVOt",
      "execution_count": null,
      "outputs": [
        {
          "output_type": "stream",
          "name": "stdout",
          "text": [
            "/usr/local/lib/python3.11/dist-packages/albumentations/__init__.py:24: UserWarning: A new version of Albumentations is available: 2.0.1 (you have 1.4.20). Upgrade using: pip install -U albumentations. To disable automatic update checks, set the environment variable NO_ALBUMENTATIONS_UPDATE to 1.\n",
            "  check_for_updates()\n",
            "CUDA available\n",
            "Number of devices: 1\n",
            "Device 0:\n",
            "\tName: Tesla T4\n",
            "Device: cuda\n",
            "/content/models/pidnet/pidnet.py:201: FutureWarning: You are using `torch.load` with `weights_only=False` (the current default value), which uses the default pickle module implicitly. It is possible to construct malicious pickle data which will execute arbitrary code during unpickling (See https://github.com/pytorch/pytorch/blob/main/SECURITY.md#untrusted-models for more details). In a future release, the default value for `weights_only` will be flipped to `True`. This limits the functions that could be executed during unpickling. Arbitrary objects will no longer be allowed to be loaded via this mode unless they are explicitly allowlisted by the user via `torch.serialization.add_safe_globals`. We recommend you start setting `weights_only=True` for any use case where you don't have full control of the loaded file. Please open an issue on GitHub for any issues related to this experimental feature.\n",
            "  pretrained_state = torch.load(pretrain_model_path, map_location='cpu')['state_dict']\n",
            "Loaded 302 parameters.\n",
            "Model: PIDNet_M\n",
            "Device: cuda\n",
            "Cuda device name: Tesla T4\n",
            "Dataset source domain: Urban\n",
            "Data augmentation: False\n",
            "Batch size: 6\n",
            "\n",
            "Criterion: OhemCrossEntropyLoss\n",
            "\n",
            "Optimizer:\n",
            "SGD (\n",
            "    lr: 0.001\n",
            "    momentum: 0.9\n",
            "    weight_decay: 0.0005\n",
            ")\n",
            "\n",
            "Scheduler:\n",
            "PolynomialLR (\n",
            "    lr: 0.001\n",
            "    power: 0.9\n",
            ")\n",
            "\n",
            "Epoch 1/30:\n",
            "Progress: |----------|   1% \tTime: 00:00:24 s \tLearning rate: 0.00100 \tTrain loss: 15.6487 \tTrain miou: 0.0372 \n",
            "Progress: |----------|   1% \tTime: 00:00:25 s \tLearning rate: 0.00100 \tTrain loss: 14.7627 \tTrain miou: 0.0425 \n",
            "Progress: |----------|   2% \tTime: 00:00:26 s \tLearning rate: 0.00100 \tTrain loss: 14.6493 \tTrain miou: 0.0423 \n",
            "Progress: |----------|   2% \tTime: 00:00:27 s \tLearning rate: 0.00100 \tTrain loss: 14.5494 \tTrain miou: 0.0440 \n",
            "Progress: |----------|   3% \tTime: 00:00:28 s \tLearning rate: 0.00100 \tTrain loss: 14.3438 \tTrain miou: 0.0477 \n",
            "Progress: |----------|   3% \tTime: 00:00:29 s \tLearning rate: 0.00100 \tTrain loss: 13.8813 \tTrain miou: 0.0547 \n",
            "Progress: |----------|   4% \tTime: 00:00:31 s \tLearning rate: 0.00100 \tTrain loss: 13.8147 \tTrain miou: 0.0564 \n",
            "Progress: |----------|   4% \tTime: 00:00:32 s \tLearning rate: 0.00100 \tTrain loss: 13.4314 \tTrain miou: 0.0622 \n",
            "Progress: |----------|   5% \tTime: 00:00:33 s \tLearning rate: 0.00100 \tTrain loss: 13.0484 \tTrain miou: 0.0648 \n",
            "Progress: |----------|   5% \tTime: 00:00:34 s \tLearning rate: 0.00100 \tTrain loss: 12.7455 \tTrain miou: 0.0676 \n",
            "Progress: |----------|   6% \tTime: 00:00:35 s \tLearning rate: 0.00100 \tTrain loss: 12.2856 \tTrain miou: 0.0736 \n",
            "Progress: |----------|   6% \tTime: 00:00:36 s \tLearning rate: 0.00100 \tTrain loss: 11.9331 \tTrain miou: 0.0768 \n",
            "Progress: |----------|   7% \tTime: 00:00:37 s \tLearning rate: 0.00100 \tTrain loss: 11.6117 \tTrain miou: 0.0823 \n",
            "Progress: |----------|   7% \tTime: 00:00:39 s \tLearning rate: 0.00100 \tTrain loss: 11.2689 \tTrain miou: 0.0861 \n",
            "Progress: |----------|   8% \tTime: 00:00:40 s \tLearning rate: 0.00100 \tTrain loss: 11.0640 \tTrain miou: 0.0895 \n",
            "Progress: |----------|   8% \tTime: 00:00:41 s \tLearning rate: 0.00100 \tTrain loss: 10.7859 \tTrain miou: 0.0936 \n",
            "Progress: |----------|   9% \tTime: 00:00:42 s \tLearning rate: 0.00100 \tTrain loss: 10.6423 \tTrain miou: 0.0954 \n",
            "Progress: |----------|   9% \tTime: 00:00:43 s \tLearning rate: 0.00100 \tTrain loss: 10.6119 \tTrain miou: 0.0992 \n",
            "Progress: |----------|  10% \tTime: 00:00:44 s \tLearning rate: 0.00100 \tTrain loss: 10.4182 \tTrain miou: 0.1015 \n",
            "Progress: |█---------|  10% \tTime: 00:00:46 s \tLearning rate: 0.00100 \tTrain loss: 10.2915 \tTrain miou: 0.1024 \n",
            "Progress: |█---------|  11% \tTime: 00:00:47 s \tLearning rate: 0.00100 \tTrain loss: 10.1480 \tTrain miou: 0.1030 \n",
            "Progress: |█---------|  11% \tTime: 00:00:48 s \tLearning rate: 0.00100 \tTrain loss: 9.9727 \tTrain miou: 0.1072 \n",
            "Progress: |█---------|  12% \tTime: 00:00:49 s \tLearning rate: 0.00100 \tTrain loss: 9.8171 \tTrain miou: 0.1108 \n",
            "Progress: |█---------|  12% \tTime: 00:00:50 s \tLearning rate: 0.00100 \tTrain loss: 9.6196 \tTrain miou: 0.1154 \n",
            "Progress: |█---------|  13% \tTime: 00:00:51 s \tLearning rate: 0.00100 \tTrain loss: 9.5834 \tTrain miou: 0.1173 \n",
            "Progress: |█---------|  14% \tTime: 00:00:53 s \tLearning rate: 0.00100 \tTrain loss: 9.4100 \tTrain miou: 0.1191 \n",
            "Progress: |█---------|  14% \tTime: 00:00:54 s \tLearning rate: 0.00100 \tTrain loss: 9.2312 \tTrain miou: 0.1196 \n",
            "Progress: |█---------|  15% \tTime: 00:00:55 s \tLearning rate: 0.00100 \tTrain loss: 9.0930 \tTrain miou: 0.1223 \n",
            "Progress: |█---------|  15% \tTime: 00:00:56 s \tLearning rate: 0.00100 \tTrain loss: 8.9495 \tTrain miou: 0.1228 \n",
            "Progress: |█---------|  16% \tTime: 00:00:57 s \tLearning rate: 0.00100 \tTrain loss: 8.8441 \tTrain miou: 0.1241 \n",
            "Progress: |█---------|  16% \tTime: 00:00:58 s \tLearning rate: 0.00100 \tTrain loss: 8.7349 \tTrain miou: 0.1283 \n",
            "Progress: |█---------|  17% \tTime: 00:01:00 s \tLearning rate: 0.00100 \tTrain loss: 8.5930 \tTrain miou: 0.1331 \n",
            "Progress: |█---------|  17% \tTime: 00:01:01 s \tLearning rate: 0.00100 \tTrain loss: 8.5010 \tTrain miou: 0.1368 \n",
            "Progress: |█---------|  18% \tTime: 00:01:02 s \tLearning rate: 0.00100 \tTrain loss: 8.3875 \tTrain miou: 0.1380 \n",
            "Progress: |█---------|  18% \tTime: 00:01:03 s \tLearning rate: 0.00100 \tTrain loss: 8.3455 \tTrain miou: 0.1386 \n",
            "Progress: |█---------|  19% \tTime: 00:01:05 s \tLearning rate: 0.00100 \tTrain loss: 8.2314 \tTrain miou: 0.1405 \n",
            "Progress: |█---------|  19% \tTime: 00:01:06 s \tLearning rate: 0.00100 \tTrain loss: 8.1368 \tTrain miou: 0.1430 \n",
            "Progress: |█---------|  20% \tTime: 00:01:07 s \tLearning rate: 0.00100 \tTrain loss: 8.0404 \tTrain miou: 0.1443 \n",
            "Progress: |██--------|  20% \tTime: 00:01:08 s \tLearning rate: 0.00100 \tTrain loss: 7.9942 \tTrain miou: 0.1461 \n",
            "Progress: |██--------|  21% \tTime: 00:01:09 s \tLearning rate: 0.00100 \tTrain loss: 7.8933 \tTrain miou: 0.1467 \n",
            "Progress: |██--------|  21% \tTime: 00:01:10 s \tLearning rate: 0.00100 \tTrain loss: 7.7882 \tTrain miou: 0.1500 \n",
            "Progress: |██--------|  22% \tTime: 00:01:11 s \tLearning rate: 0.00100 \tTrain loss: 7.6969 \tTrain miou: 0.1511 \n",
            "Progress: |██--------|  22% \tTime: 00:01:13 s \tLearning rate: 0.00100 \tTrain loss: 7.6144 \tTrain miou: 0.1521 \n",
            "Progress: |██--------|  23% \tTime: 00:01:14 s \tLearning rate: 0.00100 \tTrain loss: 7.5294 \tTrain miou: 0.1536 \n",
            "Progress: |██--------|  23% \tTime: 00:01:15 s \tLearning rate: 0.00100 \tTrain loss: 7.4483 \tTrain miou: 0.1543 \n",
            "Progress: |██--------|  24% \tTime: 00:01:17 s \tLearning rate: 0.00100 \tTrain loss: 7.3707 \tTrain miou: 0.1544 \n",
            "Progress: |██--------|  24% \tTime: 00:01:18 s \tLearning rate: 0.00100 \tTrain loss: 7.3157 \tTrain miou: 0.1564 \n",
            "Progress: |██--------|  25% \tTime: 00:01:19 s \tLearning rate: 0.00100 \tTrain loss: 7.2356 \tTrain miou: 0.1603 \n",
            "Progress: |██--------|  26% \tTime: 00:01:20 s \tLearning rate: 0.00100 \tTrain loss: 7.1558 \tTrain miou: 0.1612 \n",
            "Progress: |██--------|  26% \tTime: 00:01:21 s \tLearning rate: 0.00100 \tTrain loss: 7.0789 \tTrain miou: 0.1633 \n",
            "Progress: |██--------|  27% \tTime: 00:01:23 s \tLearning rate: 0.00100 \tTrain loss: 7.0238 \tTrain miou: 0.1643 \n",
            "Progress: |██--------|  27% \tTime: 00:01:24 s \tLearning rate: 0.00100 \tTrain loss: 6.9705 \tTrain miou: 0.1673 \n",
            "Progress: |██--------|  28% \tTime: 00:01:25 s \tLearning rate: 0.00100 \tTrain loss: 6.9034 \tTrain miou: 0.1685 \n",
            "Progress: |██--------|  28% \tTime: 00:01:26 s \tLearning rate: 0.00100 \tTrain loss: 6.8398 \tTrain miou: 0.1706 \n",
            "Progress: |██--------|  29% \tTime: 00:01:27 s \tLearning rate: 0.00100 \tTrain loss: 6.7861 \tTrain miou: 0.1739 \n",
            "Progress: |██--------|  29% \tTime: 00:01:29 s \tLearning rate: 0.00100 \tTrain loss: 6.7381 \tTrain miou: 0.1733 \n",
            "Progress: |██--------|  30% \tTime: 00:01:30 s \tLearning rate: 0.00100 \tTrain loss: 6.7084 \tTrain miou: 0.1745 \n",
            "Progress: |███-------|  30% \tTime: 00:01:31 s \tLearning rate: 0.00100 \tTrain loss: 6.6696 \tTrain miou: 0.1761 \n",
            "Progress: |███-------|  31% \tTime: 00:01:33 s \tLearning rate: 0.00100 \tTrain loss: 6.6078 \tTrain miou: 0.1776 \n",
            "Progress: |███-------|  31% \tTime: 00:01:34 s \tLearning rate: 0.00100 \tTrain loss: 6.5521 \tTrain miou: 0.1789 \n",
            "Progress: |███-------|  32% \tTime: 00:01:35 s \tLearning rate: 0.00100 \tTrain loss: 6.4961 \tTrain miou: 0.1797 \n",
            "Progress: |███-------|  32% \tTime: 00:01:36 s \tLearning rate: 0.00100 \tTrain loss: 6.4489 \tTrain miou: 0.1824 \n",
            "Progress: |███-------|  33% \tTime: 00:01:37 s \tLearning rate: 0.00100 \tTrain loss: 6.4165 \tTrain miou: 0.1830 \n",
            "Progress: |███-------|  33% \tTime: 00:01:39 s \tLearning rate: 0.00100 \tTrain loss: 6.3830 \tTrain miou: 0.1842 \n",
            "Progress: |███-------|  34% \tTime: 00:01:40 s \tLearning rate: 0.00100 \tTrain loss: 6.3447 \tTrain miou: 0.1857 \n",
            "Progress: |███-------|  34% \tTime: 00:01:41 s \tLearning rate: 0.00100 \tTrain loss: 6.2993 \tTrain miou: 0.1861 \n",
            "Progress: |███-------|  35% \tTime: 00:01:42 s \tLearning rate: 0.00100 \tTrain loss: 6.2471 \tTrain miou: 0.1863 \n",
            "Progress: |███-------|  35% \tTime: 00:01:44 s \tLearning rate: 0.00100 \tTrain loss: 6.2208 \tTrain miou: 0.1868 \n",
            "Progress: |███-------|  36% \tTime: 00:01:45 s \tLearning rate: 0.00100 \tTrain loss: 6.1740 \tTrain miou: 0.1872 \n",
            "Progress: |███-------|  36% \tTime: 00:01:46 s \tLearning rate: 0.00100 \tTrain loss: 6.1371 \tTrain miou: 0.1886 \n",
            "Progress: |███-------|  37% \tTime: 00:01:47 s \tLearning rate: 0.00100 \tTrain loss: 6.0905 \tTrain miou: 0.1892 \n",
            "Progress: |███-------|  38% \tTime: 00:01:49 s \tLearning rate: 0.00100 \tTrain loss: 6.0526 \tTrain miou: 0.1896 \n",
            "Progress: |███-------|  38% \tTime: 00:01:50 s \tLearning rate: 0.00100 \tTrain loss: 6.0128 \tTrain miou: 0.1901 \n",
            "Progress: |███-------|  39% \tTime: 00:01:51 s \tLearning rate: 0.00100 \tTrain loss: 5.9809 \tTrain miou: 0.1902 \n",
            "Progress: |███-------|  39% \tTime: 00:01:52 s \tLearning rate: 0.00100 \tTrain loss: 5.9446 \tTrain miou: 0.1916 \n",
            "Progress: |███-------|  40% \tTime: 00:01:53 s \tLearning rate: 0.00100 \tTrain loss: 5.9052 \tTrain miou: 0.1916 \n",
            "Progress: |████------|  40% \tTime: 00:01:55 s \tLearning rate: 0.00100 \tTrain loss: 5.8790 \tTrain miou: 0.1911 \n",
            "Progress: |████------|  41% \tTime: 00:01:56 s \tLearning rate: 0.00100 \tTrain loss: 5.8511 \tTrain miou: 0.1920 \n",
            "Progress: |████------|  41% \tTime: 00:01:57 s \tLearning rate: 0.00100 \tTrain loss: 5.8127 \tTrain miou: 0.1926 \n",
            "Progress: |████------|  42% \tTime: 00:01:58 s \tLearning rate: 0.00100 \tTrain loss: 5.7828 \tTrain miou: 0.1930 \n",
            "Progress: |████------|  42% \tTime: 00:02:00 s \tLearning rate: 0.00100 \tTrain loss: 5.7500 \tTrain miou: 0.1937 \n",
            "Progress: |████------|  43% \tTime: 00:02:01 s \tLearning rate: 0.00100 \tTrain loss: 5.7186 \tTrain miou: 0.1945 \n",
            "Progress: |████------|  43% \tTime: 00:02:02 s \tLearning rate: 0.00100 \tTrain loss: 5.6947 \tTrain miou: 0.1945 \n",
            "Progress: |████------|  44% \tTime: 00:02:03 s \tLearning rate: 0.00100 \tTrain loss: 5.6560 \tTrain miou: 0.1942 \n",
            "Progress: |████------|  44% \tTime: 00:02:05 s \tLearning rate: 0.00100 \tTrain loss: 5.6260 \tTrain miou: 0.1954 \n",
            "Progress: |████------|  45% \tTime: 00:02:06 s \tLearning rate: 0.00100 \tTrain loss: 5.6102 \tTrain miou: 0.1954 \n",
            "Progress: |████------|  45% \tTime: 00:02:07 s \tLearning rate: 0.00100 \tTrain loss: 5.5816 \tTrain miou: 0.1970 \n",
            "Progress: |████------|  46% \tTime: 00:02:08 s \tLearning rate: 0.00100 \tTrain loss: 5.5559 \tTrain miou: 0.1970 \n",
            "Progress: |████------|  46% \tTime: 00:02:09 s \tLearning rate: 0.00100 \tTrain loss: 5.5284 \tTrain miou: 0.1976 \n",
            "Progress: |████------|  47% \tTime: 00:02:11 s \tLearning rate: 0.00100 \tTrain loss: 5.5071 \tTrain miou: 0.1980 \n",
            "Progress: |████------|  47% \tTime: 00:02:12 s \tLearning rate: 0.00100 \tTrain loss: 5.4789 \tTrain miou: 0.2000 \n",
            "Progress: |████------|  48% \tTime: 00:02:13 s \tLearning rate: 0.00100 \tTrain loss: 5.4526 \tTrain miou: 0.2005 \n",
            "Progress: |████------|  48% \tTime: 00:02:14 s \tLearning rate: 0.00100 \tTrain loss: 5.4237 \tTrain miou: 0.2020 \n",
            "Progress: |████------|  49% \tTime: 00:02:16 s \tLearning rate: 0.00100 \tTrain loss: 5.3977 \tTrain miou: 0.2025 \n",
            "Progress: |████------|  49% \tTime: 00:02:17 s \tLearning rate: 0.00100 \tTrain loss: 5.3797 \tTrain miou: 0.2029 \n",
            "Progress: |█████-----|  50% \tTime: 00:02:18 s \tLearning rate: 0.00100 \tTrain loss: 5.3527 \tTrain miou: 0.2030 \n",
            "Progress: |█████-----|  51% \tTime: 00:02:19 s \tLearning rate: 0.00100 \tTrain loss: 5.3287 \tTrain miou: 0.2036 \n",
            "Progress: |█████-----|  51% \tTime: 00:02:21 s \tLearning rate: 0.00100 \tTrain loss: 5.3048 \tTrain miou: 0.2043 \n",
            "Progress: |█████-----|  52% \tTime: 00:02:22 s \tLearning rate: 0.00100 \tTrain loss: 5.2830 \tTrain miou: 0.2054 \n",
            "Progress: |█████-----|  52% \tTime: 00:02:23 s \tLearning rate: 0.00100 \tTrain loss: 5.2577 \tTrain miou: 0.2058 \n",
            "Progress: |█████-----|  53% \tTime: 00:02:24 s \tLearning rate: 0.00100 \tTrain loss: 5.2304 \tTrain miou: 0.2065 \n",
            "Progress: |█████-----|  53% \tTime: 00:02:25 s \tLearning rate: 0.00100 \tTrain loss: 5.2088 \tTrain miou: 0.2070 \n",
            "Progress: |█████-----|  54% \tTime: 00:02:27 s \tLearning rate: 0.00100 \tTrain loss: 5.1876 \tTrain miou: 0.2082 \n",
            "Progress: |█████-----|  54% \tTime: 00:02:28 s \tLearning rate: 0.00100 \tTrain loss: 5.1627 \tTrain miou: 0.2089 \n",
            "Progress: |█████-----|  55% \tTime: 00:02:29 s \tLearning rate: 0.00100 \tTrain loss: 5.1429 \tTrain miou: 0.2099 \n",
            "Progress: |█████-----|  55% \tTime: 00:02:31 s \tLearning rate: 0.00100 \tTrain loss: 5.1281 \tTrain miou: 0.2099 \n",
            "Progress: |█████-----|  56% \tTime: 00:02:32 s \tLearning rate: 0.00100 \tTrain loss: 5.1035 \tTrain miou: 0.2111 \n",
            "Progress: |█████-----|  56% \tTime: 00:02:33 s \tLearning rate: 0.00100 \tTrain loss: 5.0805 \tTrain miou: 0.2116 \n",
            "Progress: |█████-----|  57% \tTime: 00:02:34 s \tLearning rate: 0.00100 \tTrain loss: 5.0637 \tTrain miou: 0.2120 \n",
            "Progress: |█████-----|  57% \tTime: 00:02:35 s \tLearning rate: 0.00100 \tTrain loss: 5.0445 \tTrain miou: 0.2122 \n",
            "Progress: |█████-----|  58% \tTime: 00:02:37 s \tLearning rate: 0.00100 \tTrain loss: 5.0254 \tTrain miou: 0.2130 \n",
            "Progress: |█████-----|  58% \tTime: 00:02:38 s \tLearning rate: 0.00100 \tTrain loss: 5.0044 \tTrain miou: 0.2136 \n",
            "Progress: |█████-----|  59% \tTime: 00:02:39 s \tLearning rate: 0.00100 \tTrain loss: 4.9845 \tTrain miou: 0.2134 \n",
            "Progress: |█████-----|  59% \tTime: 00:02:40 s \tLearning rate: 0.00100 \tTrain loss: 4.9668 \tTrain miou: 0.2135 \n",
            "Progress: |█████-----|  60% \tTime: 00:02:41 s \tLearning rate: 0.00100 \tTrain loss: 4.9490 \tTrain miou: 0.2143 \n",
            "Progress: |██████----|  60% \tTime: 00:02:43 s \tLearning rate: 0.00100 \tTrain loss: 4.9263 \tTrain miou: 0.2147 \n",
            "Progress: |██████----|  61% \tTime: 00:02:44 s \tLearning rate: 0.00100 \tTrain loss: 4.9085 \tTrain miou: 0.2149 \n",
            "Progress: |██████----|  61% \tTime: 00:02:45 s \tLearning rate: 0.00100 \tTrain loss: 4.8972 \tTrain miou: 0.2155 \n",
            "Progress: |██████----|  62% \tTime: 00:02:46 s \tLearning rate: 0.00100 \tTrain loss: 4.8809 \tTrain miou: 0.2156 \n",
            "Progress: |██████----|  62% \tTime: 00:02:47 s \tLearning rate: 0.00100 \tTrain loss: 4.8639 \tTrain miou: 0.2171 \n",
            "Progress: |██████----|  63% \tTime: 00:02:49 s \tLearning rate: 0.00100 \tTrain loss: 4.8473 \tTrain miou: 0.2178 \n",
            "Progress: |██████----|  64% \tTime: 00:02:50 s \tLearning rate: 0.00100 \tTrain loss: 4.8260 \tTrain miou: 0.2201 \n",
            "Progress: |██████----|  64% \tTime: 00:02:51 s \tLearning rate: 0.00100 \tTrain loss: 4.8084 \tTrain miou: 0.2209 \n",
            "Progress: |██████----|  65% \tTime: 00:02:52 s \tLearning rate: 0.00100 \tTrain loss: 4.7917 \tTrain miou: 0.2223 \n",
            "Progress: |██████----|  65% \tTime: 00:02:53 s \tLearning rate: 0.00100 \tTrain loss: 4.7733 \tTrain miou: 0.2225 \n",
            "Progress: |██████----|  66% \tTime: 00:02:55 s \tLearning rate: 0.00100 \tTrain loss: 4.7595 \tTrain miou: 0.2233 \n",
            "Progress: |██████----|  66% \tTime: 00:02:56 s \tLearning rate: 0.00100 \tTrain loss: 4.7440 \tTrain miou: 0.2234 \n",
            "Progress: |██████----|  67% \tTime: 00:02:57 s \tLearning rate: 0.00100 \tTrain loss: 4.7290 \tTrain miou: 0.2234 \n",
            "Progress: |██████----|  67% \tTime: 00:02:58 s \tLearning rate: 0.00100 \tTrain loss: 4.7101 \tTrain miou: 0.2255 \n",
            "Progress: |██████----|  68% \tTime: 00:03:00 s \tLearning rate: 0.00100 \tTrain loss: 4.7035 \tTrain miou: 0.2261 \n",
            "Progress: |██████----|  68% \tTime: 00:03:01 s \tLearning rate: 0.00100 \tTrain loss: 4.6919 \tTrain miou: 0.2260 \n",
            "Progress: |██████----|  69% \tTime: 00:03:02 s \tLearning rate: 0.00100 \tTrain loss: 4.6817 \tTrain miou: 0.2262 \n",
            "Progress: |██████----|  69% \tTime: 00:03:03 s \tLearning rate: 0.00100 \tTrain loss: 4.6695 \tTrain miou: 0.2265 \n",
            "Progress: |██████----|  70% \tTime: 00:03:05 s \tLearning rate: 0.00100 \tTrain loss: 4.6530 \tTrain miou: 0.2277 \n",
            "Progress: |███████---|  70% \tTime: 00:03:06 s \tLearning rate: 0.00100 \tTrain loss: 4.6376 \tTrain miou: 0.2278 \n",
            "Progress: |███████---|  71% \tTime: 00:03:07 s \tLearning rate: 0.00100 \tTrain loss: 4.6241 \tTrain miou: 0.2279 \n",
            "Progress: |███████---|  71% \tTime: 00:03:08 s \tLearning rate: 0.00100 \tTrain loss: 4.6156 \tTrain miou: 0.2286 \n",
            "Progress: |███████---|  72% \tTime: 00:03:09 s \tLearning rate: 0.00100 \tTrain loss: 4.6002 \tTrain miou: 0.2290 \n",
            "Progress: |███████---|  72% \tTime: 00:03:11 s \tLearning rate: 0.00100 \tTrain loss: 4.5921 \tTrain miou: 0.2298 \n",
            "Progress: |███████---|  73% \tTime: 00:03:12 s \tLearning rate: 0.00100 \tTrain loss: 4.5802 \tTrain miou: 0.2297 \n",
            "Progress: |███████---|  73% \tTime: 00:03:13 s \tLearning rate: 0.00100 \tTrain loss: 4.5652 \tTrain miou: 0.2300 \n",
            "Progress: |███████---|  74% \tTime: 00:03:15 s \tLearning rate: 0.00100 \tTrain loss: 4.5505 \tTrain miou: 0.2303 \n",
            "Progress: |███████---|  74% \tTime: 00:03:16 s \tLearning rate: 0.00100 \tTrain loss: 4.5396 \tTrain miou: 0.2315 \n",
            "Progress: |███████---|  75% \tTime: 00:03:17 s \tLearning rate: 0.00100 \tTrain loss: 4.5314 \tTrain miou: 0.2317 \n",
            "Progress: |███████---|  76% \tTime: 00:03:18 s \tLearning rate: 0.00100 \tTrain loss: 4.5251 \tTrain miou: 0.2319 \n",
            "Progress: |███████---|  76% \tTime: 00:03:20 s \tLearning rate: 0.00100 \tTrain loss: 4.5113 \tTrain miou: 0.2326 \n",
            "Progress: |███████---|  77% \tTime: 00:03:21 s \tLearning rate: 0.00100 \tTrain loss: 4.5007 \tTrain miou: 0.2330 \n",
            "Progress: |███████---|  77% \tTime: 00:03:22 s \tLearning rate: 0.00100 \tTrain loss: 4.4900 \tTrain miou: 0.2339 \n",
            "Progress: |███████---|  78% \tTime: 00:03:23 s \tLearning rate: 0.00100 \tTrain loss: 4.4790 \tTrain miou: 0.2347 \n",
            "Progress: |███████---|  78% \tTime: 00:03:24 s \tLearning rate: 0.00100 \tTrain loss: 4.4700 \tTrain miou: 0.2350 \n",
            "Progress: |███████---|  79% \tTime: 00:03:26 s \tLearning rate: 0.00100 \tTrain loss: 4.4597 \tTrain miou: 0.2360 \n",
            "Progress: |███████---|  79% \tTime: 00:03:27 s \tLearning rate: 0.00100 \tTrain loss: 4.4479 \tTrain miou: 0.2369 \n",
            "Progress: |███████---|  80% \tTime: 00:03:28 s \tLearning rate: 0.00100 \tTrain loss: 4.4363 \tTrain miou: 0.2373 \n",
            "Progress: |████████--|  80% \tTime: 00:03:29 s \tLearning rate: 0.00100 \tTrain loss: 4.4276 \tTrain miou: 0.2374 \n",
            "Progress: |████████--|  81% \tTime: 00:03:31 s \tLearning rate: 0.00100 \tTrain loss: 4.4141 \tTrain miou: 0.2379 \n",
            "Progress: |████████--|  81% \tTime: 00:03:32 s \tLearning rate: 0.00100 \tTrain loss: 4.4007 \tTrain miou: 0.2378 \n",
            "Progress: |████████--|  82% \tTime: 00:03:33 s \tLearning rate: 0.00100 \tTrain loss: 4.3907 \tTrain miou: 0.2387 \n",
            "Progress: |████████--|  82% \tTime: 00:03:34 s \tLearning rate: 0.00100 \tTrain loss: 4.3809 \tTrain miou: 0.2391 \n",
            "Progress: |████████--|  83% \tTime: 00:03:35 s \tLearning rate: 0.00100 \tTrain loss: 4.3712 \tTrain miou: 0.2394 \n",
            "Progress: |████████--|  83% \tTime: 00:03:37 s \tLearning rate: 0.00100 \tTrain loss: 4.3625 \tTrain miou: 0.2394 \n",
            "Progress: |████████--|  84% \tTime: 00:03:38 s \tLearning rate: 0.00100 \tTrain loss: 4.3528 \tTrain miou: 0.2397 \n",
            "Progress: |████████--|  84% \tTime: 00:03:39 s \tLearning rate: 0.00100 \tTrain loss: 4.3427 \tTrain miou: 0.2406 \n",
            "Progress: |████████--|  85% \tTime: 00:03:40 s \tLearning rate: 0.00100 \tTrain loss: 4.3322 \tTrain miou: 0.2405 \n",
            "Progress: |████████--|  85% \tTime: 00:03:42 s \tLearning rate: 0.00100 \tTrain loss: 4.3213 \tTrain miou: 0.2412 \n",
            "Progress: |████████--|  86% \tTime: 00:03:43 s \tLearning rate: 0.00100 \tTrain loss: 4.3127 \tTrain miou: 0.2424 \n",
            "Progress: |████████--|  86% \tTime: 00:03:44 s \tLearning rate: 0.00100 \tTrain loss: 4.3028 \tTrain miou: 0.2426 \n",
            "Progress: |████████--|  87% \tTime: 00:03:45 s \tLearning rate: 0.00100 \tTrain loss: 4.2928 \tTrain miou: 0.2430 \n",
            "Progress: |████████--|  88% \tTime: 00:03:47 s \tLearning rate: 0.00100 \tTrain loss: 4.2840 \tTrain miou: 0.2428 \n",
            "Progress: |████████--|  88% \tTime: 00:03:48 s \tLearning rate: 0.00100 \tTrain loss: 4.2737 \tTrain miou: 0.2433 \n",
            "Progress: |████████--|  89% \tTime: 00:03:49 s \tLearning rate: 0.00100 \tTrain loss: 4.2641 \tTrain miou: 0.2438 \n",
            "Progress: |████████--|  89% \tTime: 00:03:50 s \tLearning rate: 0.00100 \tTrain loss: 4.2533 \tTrain miou: 0.2445 \n",
            "Progress: |████████--|  90% \tTime: 00:03:51 s \tLearning rate: 0.00100 \tTrain loss: 4.2437 \tTrain miou: 0.2447 \n",
            "Progress: |█████████-|  90% \tTime: 00:03:53 s \tLearning rate: 0.00100 \tTrain loss: 4.2336 \tTrain miou: 0.2453 \n",
            "Progress: |█████████-|  91% \tTime: 00:03:54 s \tLearning rate: 0.00100 \tTrain loss: 4.2270 \tTrain miou: 0.2460 \n",
            "Progress: |█████████-|  91% \tTime: 00:03:55 s \tLearning rate: 0.00100 \tTrain loss: 4.2156 \tTrain miou: 0.2460 \n",
            "Progress: |█████████-|  92% \tTime: 00:03:56 s \tLearning rate: 0.00100 \tTrain loss: 4.2080 \tTrain miou: 0.2459 \n",
            "Progress: |█████████-|  92% \tTime: 00:03:58 s \tLearning rate: 0.00100 \tTrain loss: 4.2024 \tTrain miou: 0.2466 \n",
            "Progress: |█████████-|  93% \tTime: 00:03:59 s \tLearning rate: 0.00100 \tTrain loss: 4.1931 \tTrain miou: 0.2468 \n",
            "Progress: |█████████-|  93% \tTime: 00:04:00 s \tLearning rate: 0.00100 \tTrain loss: 4.1851 \tTrain miou: 0.2473 \n",
            "Progress: |█████████-|  94% \tTime: 00:04:01 s \tLearning rate: 0.00100 \tTrain loss: 4.1746 \tTrain miou: 0.2482 \n",
            "Progress: |█████████-|  94% \tTime: 00:04:03 s \tLearning rate: 0.00100 \tTrain loss: 4.1671 \tTrain miou: 0.2490 \n",
            "Progress: |█████████-|  95% \tTime: 00:04:04 s \tLearning rate: 0.00100 \tTrain loss: 4.1601 \tTrain miou: 0.2491 \n",
            "Progress: |█████████-|  95% \tTime: 00:04:05 s \tLearning rate: 0.00100 \tTrain loss: 4.1532 \tTrain miou: 0.2496 \n",
            "Progress: |█████████-|  96% \tTime: 00:04:06 s \tLearning rate: 0.00100 \tTrain loss: 4.1460 \tTrain miou: 0.2497 \n",
            "Progress: |█████████-|  96% \tTime: 00:04:07 s \tLearning rate: 0.00100 \tTrain loss: 4.1373 \tTrain miou: 0.2501 \n",
            "Progress: |█████████-|  97% \tTime: 00:04:09 s \tLearning rate: 0.00100 \tTrain loss: 4.1279 \tTrain miou: 0.2500 \n",
            "Progress: |█████████-|  97% \tTime: 00:04:10 s \tLearning rate: 0.00100 \tTrain loss: 4.1202 \tTrain miou: 0.2499 \n",
            "Progress: |█████████-|  98% \tTime: 00:04:11 s \tLearning rate: 0.00100 \tTrain loss: 4.1112 \tTrain miou: 0.2503 \n",
            "Progress: |█████████-|  98% \tTime: 00:04:12 s \tLearning rate: 0.00100 \tTrain loss: 4.1020 \tTrain miou: 0.2508 \n",
            "Progress: |█████████-|  99% \tTime: 00:04:13 s \tLearning rate: 0.00100 \tTrain loss: 4.0933 \tTrain miou: 0.2513 \n",
            "Progress: |█████████-|  99% \tTime: 00:04:15 s \tLearning rate: 0.00100 \tTrain loss: 4.0856 \tTrain miou: 0.2514 \n",
            "Progress: |██████████|  100% \tTime: 00:04:16 s \tLearning rate: 0.00100 \tTrain loss: 4.0785 \tTrain miou: 0.2520 \n",
            "\n",
            "\n",
            "Validation:\n",
            "Progress: |----------|   1% \tTime: 00:00:01 s \tVal loss: 3.9457 \tVal miou: 0.3221 \n",
            "Progress: |----------|   2% \tTime: 00:00:02 s \tVal loss: 4.1089 \tVal miou: 0.2736 \n",
            "Progress: |----------|   3% \tTime: 00:00:02 s \tVal loss: 3.7747 \tVal miou: 0.3021 \n",
            "Progress: |----------|   4% \tTime: 00:00:03 s \tVal loss: 3.4570 \tVal miou: 0.3242 \n",
            "Progress: |----------|   4% \tTime: 00:00:03 s \tVal loss: 3.7696 \tVal miou: 0.3051 \n",
            "Progress: |----------|   5% \tTime: 00:00:04 s \tVal loss: 3.8658 \tVal miou: 0.3051 \n",
            "Progress: |----------|   6% \tTime: 00:00:05 s \tVal loss: 3.9211 \tVal miou: 0.2988 \n",
            "Progress: |----------|   7% \tTime: 00:00:05 s \tVal loss: 3.8239 \tVal miou: 0.3119 \n",
            "Progress: |----------|   8% \tTime: 00:00:06 s \tVal loss: 3.9333 \tVal miou: 0.3066 \n",
            "Progress: |----------|   9% \tTime: 00:00:06 s \tVal loss: 3.9645 \tVal miou: 0.3100 \n",
            "Progress: |----------|  10% \tTime: 00:00:07 s \tVal loss: 3.9801 \tVal miou: 0.3014 \n",
            "Progress: |█---------|  11% \tTime: 00:00:08 s \tVal loss: 3.9650 \tVal miou: 0.2989 \n",
            "Progress: |█---------|  12% \tTime: 00:00:08 s \tVal loss: 3.9852 \tVal miou: 0.3003 \n",
            "Progress: |█---------|  12% \tTime: 00:00:09 s \tVal loss: 3.9992 \tVal miou: 0.3030 \n",
            "Progress: |█---------|  13% \tTime: 00:00:10 s \tVal loss: 3.9770 \tVal miou: 0.3060 \n",
            "Progress: |█---------|  14% \tTime: 00:00:11 s \tVal loss: 3.9710 \tVal miou: 0.3031 \n",
            "Progress: |█---------|  15% \tTime: 00:00:12 s \tVal loss: 3.9535 \tVal miou: 0.3072 \n",
            "Progress: |█---------|  16% \tTime: 00:00:13 s \tVal loss: 3.9364 \tVal miou: 0.3105 \n",
            "Progress: |█---------|  17% \tTime: 00:00:14 s \tVal loss: 3.8673 \tVal miou: 0.3122 \n",
            "Progress: |█---------|  18% \tTime: 00:00:14 s \tVal loss: 3.9504 \tVal miou: 0.3083 \n",
            "Progress: |█---------|  19% \tTime: 00:00:15 s \tVal loss: 4.0420 \tVal miou: 0.3078 \n",
            "Progress: |█---------|  19% \tTime: 00:00:15 s \tVal loss: 4.0648 \tVal miou: 0.3065 \n",
            "Progress: |██--------|  20% \tTime: 00:00:16 s \tVal loss: 4.0772 \tVal miou: 0.3077 \n",
            "Progress: |██--------|  21% \tTime: 00:00:17 s \tVal loss: 4.0756 \tVal miou: 0.3060 \n",
            "Progress: |██--------|  22% \tTime: 00:00:17 s \tVal loss: 4.0838 \tVal miou: 0.3012 \n",
            "Progress: |██--------|  23% \tTime: 00:00:18 s \tVal loss: 4.0838 \tVal miou: 0.3004 \n",
            "Progress: |██--------|  24% \tTime: 00:00:18 s \tVal loss: 4.0847 \tVal miou: 0.3013 \n",
            "Progress: |██--------|  25% \tTime: 00:00:19 s \tVal loss: 4.1366 \tVal miou: 0.3000 \n",
            "Progress: |██--------|  26% \tTime: 00:00:19 s \tVal loss: 4.1830 \tVal miou: 0.2949 \n",
            "Progress: |██--------|  27% \tTime: 00:00:20 s \tVal loss: 4.1981 \tVal miou: 0.2930 \n",
            "Progress: |██--------|  27% \tTime: 00:00:21 s \tVal loss: 4.1691 \tVal miou: 0.2915 \n",
            "Progress: |██--------|  28% \tTime: 00:00:21 s \tVal loss: 4.1548 \tVal miou: 0.2931 \n",
            "Progress: |██--------|  29% \tTime: 00:00:22 s \tVal loss: 4.1706 \tVal miou: 0.2918 \n",
            "Progress: |███-------|  30% \tTime: 00:00:22 s \tVal loss: 4.1505 \tVal miou: 0.2932 \n",
            "Progress: |███-------|  31% \tTime: 00:00:23 s \tVal loss: 4.1657 \tVal miou: 0.2929 \n",
            "Progress: |███-------|  32% \tTime: 00:00:24 s \tVal loss: 4.1716 \tVal miou: 0.2939 \n",
            "Progress: |███-------|  33% \tTime: 00:00:24 s \tVal loss: 4.1745 \tVal miou: 0.2924 \n",
            "Progress: |███-------|  34% \tTime: 00:00:25 s \tVal loss: 4.1833 \tVal miou: 0.2927 \n",
            "Progress: |███-------|  35% \tTime: 00:00:26 s \tVal loss: 4.1602 \tVal miou: 0.2946 \n",
            "Progress: |███-------|  35% \tTime: 00:00:27 s \tVal loss: 4.1914 \tVal miou: 0.2925 \n",
            "Progress: |███-------|  36% \tTime: 00:00:28 s \tVal loss: 4.2264 \tVal miou: 0.2905 \n",
            "Progress: |███-------|  37% \tTime: 00:00:28 s \tVal loss: 4.2405 \tVal miou: 0.2905 \n",
            "Progress: |███-------|  38% \tTime: 00:00:29 s \tVal loss: 4.2575 \tVal miou: 0.2910 \n",
            "Progress: |███-------|  39% \tTime: 00:00:30 s \tVal loss: 4.2740 \tVal miou: 0.2887 \n",
            "Progress: |███-------|  40% \tTime: 00:00:30 s \tVal loss: 4.2648 \tVal miou: 0.2888 \n",
            "Progress: |████------|  41% \tTime: 00:00:31 s \tVal loss: 4.3044 \tVal miou: 0.2881 \n",
            "Progress: |████------|  42% \tTime: 00:00:31 s \tVal loss: 4.3442 \tVal miou: 0.2856 \n",
            "Progress: |████------|  42% \tTime: 00:00:32 s \tVal loss: 4.3014 \tVal miou: 0.2891 \n",
            "Progress: |████------|  43% \tTime: 00:00:32 s \tVal loss: 4.2846 \tVal miou: 0.2905 \n",
            "Progress: |████------|  44% \tTime: 00:00:33 s \tVal loss: 4.2801 \tVal miou: 0.2897 \n",
            "Progress: |████------|  45% \tTime: 00:00:34 s \tVal loss: 4.2922 \tVal miou: 0.2884 \n",
            "Progress: |████------|  46% \tTime: 00:00:34 s \tVal loss: 4.3147 \tVal miou: 0.2888 \n",
            "Progress: |████------|  47% \tTime: 00:00:35 s \tVal loss: 4.3042 \tVal miou: 0.2904 \n",
            "Progress: |████------|  48% \tTime: 00:00:35 s \tVal loss: 4.2823 \tVal miou: 0.2911 \n",
            "Progress: |████------|  49% \tTime: 00:00:36 s \tVal loss: 4.2940 \tVal miou: 0.2905 \n",
            "Progress: |████------|  50% \tTime: 00:00:37 s \tVal loss: 4.2839 \tVal miou: 0.2899 \n",
            "Progress: |█████-----|  50% \tTime: 00:00:37 s \tVal loss: 4.2928 \tVal miou: 0.2890 \n",
            "Progress: |█████-----|  51% \tTime: 00:00:38 s \tVal loss: 4.2883 \tVal miou: 0.2881 \n",
            "Progress: |█████-----|  52% \tTime: 00:00:38 s \tVal loss: 4.2784 \tVal miou: 0.2892 \n",
            "Progress: |█████-----|  53% \tTime: 00:00:39 s \tVal loss: 4.2815 \tVal miou: 0.2883 \n",
            "Progress: |█████-----|  54% \tTime: 00:00:40 s \tVal loss: 4.2848 \tVal miou: 0.2875 \n",
            "Progress: |█████-----|  55% \tTime: 00:00:41 s \tVal loss: 4.2771 \tVal miou: 0.2887 \n",
            "Progress: |█████-----|  56% \tTime: 00:00:42 s \tVal loss: 4.2784 \tVal miou: 0.2893 \n",
            "Progress: |█████-----|  57% \tTime: 00:00:42 s \tVal loss: 4.2922 \tVal miou: 0.2887 \n",
            "Progress: |█████-----|  58% \tTime: 00:00:43 s \tVal loss: 4.2953 \tVal miou: 0.2888 \n",
            "Progress: |█████-----|  58% \tTime: 00:00:44 s \tVal loss: 4.2795 \tVal miou: 0.2888 \n",
            "Progress: |█████-----|  59% \tTime: 00:00:45 s \tVal loss: 4.2987 \tVal miou: 0.2876 \n",
            "Progress: |██████----|  60% \tTime: 00:00:45 s \tVal loss: 4.3102 \tVal miou: 0.2866 \n",
            "Progress: |██████----|  61% \tTime: 00:00:46 s \tVal loss: 4.2980 \tVal miou: 0.2872 \n",
            "Progress: |██████----|  62% \tTime: 00:00:47 s \tVal loss: 4.2838 \tVal miou: 0.2885 \n",
            "Progress: |██████----|  63% \tTime: 00:00:47 s \tVal loss: 4.2793 \tVal miou: 0.2880 \n",
            "Progress: |██████----|  64% \tTime: 00:00:48 s \tVal loss: 4.2836 \tVal miou: 0.2882 \n",
            "Progress: |██████----|  65% \tTime: 00:00:48 s \tVal loss: 4.2675 \tVal miou: 0.2888 \n",
            "Progress: |██████----|  65% \tTime: 00:00:49 s \tVal loss: 4.2720 \tVal miou: 0.2888 \n",
            "Progress: |██████----|  66% \tTime: 00:00:49 s \tVal loss: 4.2623 \tVal miou: 0.2897 \n",
            "Progress: |██████----|  67% \tTime: 00:00:50 s \tVal loss: 4.2492 \tVal miou: 0.2907 \n",
            "Progress: |██████----|  68% \tTime: 00:00:50 s \tVal loss: 4.2457 \tVal miou: 0.2916 \n",
            "Progress: |██████----|  69% \tTime: 00:00:51 s \tVal loss: 4.2304 \tVal miou: 0.2927 \n",
            "Progress: |██████----|  70% \tTime: 00:00:52 s \tVal loss: 4.2240 \tVal miou: 0.2928 \n",
            "Progress: |███████---|  71% \tTime: 00:00:52 s \tVal loss: 4.2315 \tVal miou: 0.2924 \n",
            "Progress: |███████---|  72% \tTime: 00:00:53 s \tVal loss: 4.2331 \tVal miou: 0.2918 \n",
            "Progress: |███████---|  73% \tTime: 00:00:54 s \tVal loss: 4.2297 \tVal miou: 0.2914 \n",
            "Progress: |███████---|  73% \tTime: 00:00:54 s \tVal loss: 4.2493 \tVal miou: 0.2905 \n",
            "Progress: |███████---|  74% \tTime: 00:00:55 s \tVal loss: 4.2466 \tVal miou: 0.2921 \n",
            "Progress: |███████---|  75% \tTime: 00:00:56 s \tVal loss: 4.2479 \tVal miou: 0.2924 \n",
            "Progress: |███████---|  76% \tTime: 00:00:57 s \tVal loss: 4.2541 \tVal miou: 0.2923 \n",
            "Progress: |███████---|  77% \tTime: 00:00:58 s \tVal loss: 4.2550 \tVal miou: 0.2923 \n",
            "Progress: |███████---|  78% \tTime: 00:00:59 s \tVal loss: 4.2573 \tVal miou: 0.2923 \n",
            "Progress: |███████---|  79% \tTime: 00:00:59 s \tVal loss: 4.2531 \tVal miou: 0.2921 \n",
            "Progress: |███████---|  80% \tTime: 00:01:00 s \tVal loss: 4.2542 \tVal miou: 0.2927 \n",
            "Progress: |████████--|  81% \tTime: 00:01:00 s \tVal loss: 4.2470 \tVal miou: 0.2937 \n",
            "Progress: |████████--|  81% \tTime: 00:01:01 s \tVal loss: 4.2539 \tVal miou: 0.2932 \n",
            "Progress: |████████--|  82% \tTime: 00:01:02 s \tVal loss: 4.2565 \tVal miou: 0.2934 \n",
            "Progress: |████████--|  83% \tTime: 00:01:02 s \tVal loss: 4.2666 \tVal miou: 0.2930 \n",
            "Progress: |████████--|  84% \tTime: 00:01:03 s \tVal loss: 4.2546 \tVal miou: 0.2936 \n",
            "Progress: |████████--|  85% \tTime: 00:01:03 s \tVal loss: 4.2512 \tVal miou: 0.2930 \n",
            "Progress: |████████--|  86% \tTime: 00:01:04 s \tVal loss: 4.2477 \tVal miou: 0.2933 \n",
            "Progress: |████████--|  87% \tTime: 00:01:05 s \tVal loss: 4.2416 \tVal miou: 0.2942 \n",
            "Progress: |████████--|  88% \tTime: 00:01:05 s \tVal loss: 4.2426 \tVal miou: 0.2941 \n",
            "Progress: |████████--|  88% \tTime: 00:01:06 s \tVal loss: 4.2390 \tVal miou: 0.2940 \n",
            "Progress: |████████--|  89% \tTime: 00:01:06 s \tVal loss: 4.2537 \tVal miou: 0.2938 \n",
            "Progress: |█████████-|  90% \tTime: 00:01:07 s \tVal loss: 4.2524 \tVal miou: 0.2939 \n",
            "Progress: |█████████-|  91% \tTime: 00:01:08 s \tVal loss: 4.2454 \tVal miou: 0.2949 \n"
          ]
        }
      ]
    },
    {
      "cell_type": "code",
      "source": [
        "# Test\n",
        "!python3 sem_seg.py \\\n",
        "    --test \\\n",
        "    --model_name PIDNet_S \\\n",
        "    --version Y \\\n",
        "    --model_file last_0.pt \\\n",
        "    --target_domain Urban \\\n",
        "    --store drive\n",
        "\n",
        "!python3 sem_seg.py \\\n",
        "    --test \\\n",
        "    --model_name PIDNet_S \\\n",
        "    --version Y \\\n",
        "    --model_file best_0.pt \\\n",
        "    --target_domain Urban \\\n",
        "    --store drive\n",
        "\n",
        "!python3 sem_seg.py \\\n",
        "    --test \\\n",
        "    --model_name PIDNet_S \\\n",
        "    --version Y \\\n",
        "    --model_file last_0.pt \\\n",
        "    --target_domain Rural \\\n",
        "    --store drive\n",
        "\n",
        "!python3 sem_seg.py \\\n",
        "    --test \\\n",
        "    --model_name PIDNet_S \\\n",
        "    --version Y \\\n",
        "    --model_file best_0.pt \\\n",
        "    --target_domain Rural \\\n",
        "    --store drive"
      ],
      "metadata": {
        "id": "u5xumipQMISC"
      },
      "id": "u5xumipQMISC",
      "execution_count": null,
      "outputs": []
    },
    {
      "cell_type": "code",
      "source": [
        "# Train\n",
        "!python3 sem_seg_dacs.py \\\n",
        "    --train \\\n",
        "    --model_name PIDNet_M \\\n",
        "    --version Y \\\n",
        "    --batch_size 6 \\\n",
        "    --augment_mixed \\\n",
        "    --random_crop_augmentation \\\n",
        "    --horizontal_flip_augmentation \\\n",
        "    --shift_scale_rotate_augmentation \\\n",
        "    --lr 0.001 \\\n",
        "    --epochs 30 \\\n",
        "    --store drive"
      ],
      "metadata": {
        "id": "p0_duXRCKRT7"
      },
      "id": "p0_duXRCKRT7",
      "execution_count": null,
      "outputs": []
    },
    {
      "cell_type": "code",
      "source": [
        "# Test\n",
        "!python3 sem_seg_dacs.py \\\n",
        "    --test \\\n",
        "    --model_name PIDNet_M \\\n",
        "    --version Y \\\n",
        "    --model_file last_0.pt \\\n",
        "    --target_domain Urban \\\n",
        "    --store drive\n",
        "\n",
        "!python3 sem_seg_dacs.py \\\n",
        "    --test \\\n",
        "    --model_name PIDNet_M \\\n",
        "    --version Y \\\n",
        "    --model_file best_0.pt \\\n",
        "    --target_domain Urban \\\n",
        "    --store drive\n",
        "\n",
        "!python3 sem_seg_dacs.py \\\n",
        "    --test \\\n",
        "    --model_name PIDNet_M \\\n",
        "    --version Y \\\n",
        "    --model_file last_0.pt \\\n",
        "    --target_domain Rural \\\n",
        "    --store drive\n",
        "\n",
        "!python3 sem_seg_dacs.py \\\n",
        "    --test \\\n",
        "    --model_name PIDNet_M \\\n",
        "    --version Y \\\n",
        "    --model_file best_0.pt \\\n",
        "    --target_domain Rural \\\n",
        "    --store drive"
      ],
      "metadata": {
        "id": "cVWm5h-kMtxl"
      },
      "id": "cVWm5h-kMtxl",
      "execution_count": null,
      "outputs": []
    },
    {
      "cell_type": "code",
      "source": [
        "# Train\n",
        "!python3 sem_seg_dacs_gcw_ldq.py \\\n",
        "    --train \\\n",
        "    --gcw \\\n",
        "    --ldq \\\n",
        "    --model_name PIDNet_M \\\n",
        "    --version Y \\\n",
        "    --batch_size 6 \\\n",
        "    --augment_mixed \\\n",
        "    --random_crop_augmentation \\\n",
        "    --horizontal_flip_augmentation \\\n",
        "    --shift_scale_rotate_augmentation \\\n",
        "    --lr 0.001 \\\n",
        "    --epochs 30 \\\n",
        "    --store drive"
      ],
      "metadata": {
        "id": "78HA1MPMMWmr"
      },
      "id": "78HA1MPMMWmr",
      "execution_count": null,
      "outputs": []
    },
    {
      "cell_type": "code",
      "source": [
        "# Test\n",
        "!python3 sem_seg_dacs_gcw_ldq.py \\\n",
        "    --test \\\n",
        "    --model_name PIDNet_M \\\n",
        "    --version Y \\\n",
        "    --model_file last_0.pt \\\n",
        "    --target_domain Urban \\\n",
        "    --store drive\n",
        "\n",
        "!python3 sem_seg_dacs_gcw_ldq.py \\\n",
        "    --test \\\n",
        "    --model_name PIDNet_M \\\n",
        "    --version Y \\\n",
        "    --model_file best_0.pt \\\n",
        "    --target_domain Urban \\\n",
        "    --store drive\n",
        "\n",
        "!python3 sem_seg_dacs_gcw_ldq.py \\\n",
        "    --test \\\n",
        "    --model_name PIDNet_M \\\n",
        "    --version Y \\\n",
        "    --model_file last_0.pt \\\n",
        "    --target_domain Rural \\\n",
        "    --store drive\n",
        "\n",
        "!python3 sem_seg_dacs_gcw_ldq.py \\\n",
        "    --test \\\n",
        "    --model_name PIDNet_M \\\n",
        "    --version Y \\\n",
        "    --model_file best_0.pt \\\n",
        "    --target_domain Rural \\\n",
        "    --store drive"
      ],
      "metadata": {
        "id": "y-LUjHBwMjvc"
      },
      "id": "y-LUjHBwMjvc",
      "execution_count": null,
      "outputs": []
    }
  ],
  "metadata": {
    "accelerator": "GPU",
    "colab": {
      "gpuType": "T4",
      "provenance": []
    },
    "kernelspec": {
      "display_name": "Python 3",
      "name": "python3"
    },
    "language_info": {
      "codemirror_mode": {
        "name": "ipython",
        "version": 3
      },
      "file_extension": ".py",
      "mimetype": "text/x-python",
      "name": "python",
      "nbconvert_exporter": "python",
      "pygments_lexer": "ipython3",
      "version": "3.12.7"
    }
  },
  "nbformat": 4,
  "nbformat_minor": 5
}